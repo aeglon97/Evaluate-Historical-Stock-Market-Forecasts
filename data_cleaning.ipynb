{
 "cells": [
  {
   "cell_type": "markdown",
   "metadata": {},
   "source": [
    "# S&P 2019 Data Wrangling\n",
    "\n",
    "**by Marc Angelo Acebedo**\n",
    "\n",
    "## Table of Contents\n",
    "- [Introduction](#introduction)\n",
    "- [Data Wrangling](#wrangling)\n",
    "    - [Gather](#gather)\n",
    "    - [Assess](#assess)\n",
    "    - [Clean](#clean)\n",
    "    - [Store](#store)"
   ]
  },
  {
   "cell_type": "markdown",
   "metadata": {},
   "source": [
    "## I) Introduction <a id = \"introduction\">\n",
    "\n",
    "**Broad question:** How do price forecasts for each firm in the S&P 2019 Index compare to their corresponding actual prices?\n",
    "\n",
    "**Approach:** Analyze difference in means between average forecast EPS and average actual EPS for each firm.\n",
    "\n",
    "I will be analyzing quarterly price returns within the past 20 years for the firms present in the S&P 500 2019 Index.\n",
    "\n",
    "> At first, I wanted to analyze the forecasted vs. actual price earnings of the S&P in its entirety for the past 20 years. However, considering that firms continuously enter and leave stock indices every year, there would be varying levels of inconsistencies and marginal errors when comparing annual S&P returns alone. To combat this problem, I have isolated these two approaches:\n",
    "- Analyze the historical earnings of *only* the firms present in the S&P 2019 Index\n",
    "- Keep track of all firms that were present in the S&P for the past 20 years. Keep track of how many times each firm appeared in the Index and for those with the least count, analyze them individually on how they differ from the firms that stayed for longer.\n",
    "\n",
    "[TK] HEre is a breakdown of my final clean CSV's features, TK.csv.\n",
    "\n",
    "## II) Data Wrangling <a id=\"wrangling\"></a>\n",
    "\n",
    "To gather the data depicted under the `./data` folder, I used Bloomberg Excel functions.\n",
    "\n",
    "### A) Gather <a id = \"gather\"></a>\n",
    "> **APPROACH 1:** Focus on the firms that appear in the 2019 S&P Index and analyze their forecasted vs. actual price earnings for the last 20 years.\n",
    "\n",
    "To ensure consistency in analysis among multiple firms, I divide both the forecasted and actual price earning dates by *calendar period* instead of fiscal period. This is because fiscal period differs by firm whereas calendar period is consistent by dates. \n",
    "\n",
    "#### Through the Bloomberg Excel functions, I gathered four datasets with different purposes:\n",
    "\n",
    "- historical forecasted EPS\n",
    "- historical actual EPS\n",
    "- historical actual EOD price\n",
    "- historical forecasted EPS relying on terms\n",
    "\n",
    "---\n",
    "Before delving into the data, let's define what above terms:\n",
    "\n",
    "**EPS**\n",
    "\n",
    "> EPS stands for ***Estimated Price Earnings.*** The formal definition of EPS given by Investopedia is this:\n",
    "\n",
    "Earnings per share is the portion of a company's profit that is allocated to each outstanding share of a common stock, serving as an indicator of the company's financial health.\n",
    "\n",
    "In other words, the EPS is a portion of the company's **net income** after all of their dividends are paid off. Dividends are profits that are paid out to shareholders of the company. EPS is one of the most useful and valuable financial measurements because they ***determine a stock's worth.*** The higher the stock, the more the company can pay out dividends to its shareholders, and the more net profit they are determined to generate.\n",
    "\n",
    "$$ EPS = \\frac{Net Income - Preferred Dividends}{Weighted Average Common Shares Outstanding}\\$$\n",
    "\n",
    "**EOD**\n",
    "\n",
    "> EOD stands for the ***End of Day*** price. For any given day, the EOD marks the ***price at which the stock was valued*** at the end of the day's trading period."
   ]
  },
  {
   "cell_type": "code",
   "execution_count": 1,
   "metadata": {},
   "outputs": [],
   "source": [
    "PATH = './data/'\n",
    "PATH_CLEAN = './data/clean/'\n",
    "PATH_CLEAN_AVGS = './data/clean/averages/'\n",
    "PATH_CLEAN_AVGS_SUB = './data/clean/averages/components/'\n",
    "\n",
    "import pandas as pd\n",
    "import numpy as np\n",
    "import matplotlib.pyplot as plt\n",
    "import seaborn as sb\n",
    "\n",
    "from functools import reduce"
   ]
  },
  {
   "cell_type": "markdown",
   "metadata": {},
   "source": [
    "### Import Data <a id = \"import\"></a>\n",
    "\n",
    "### Let's summarize the contents of the following DataFrames as we import them.\n",
    "> All DataFrames consist of the 505 firms found in the 2019 S&P Index with EPS and EOD data encompassing 20 years: from January 1999 until the December 2019.\n",
    "\n",
    "**Historic forecasted EPS**\n",
    "> According to Investopedia, consensus estimates is normally an average or median of all the forecasts from individual analysts tracking a particular stock. In this case, the consensus estimate is for ***EPS for each firm present in the index as of 2019.*** Forecasted EPS is calculated by ***quarterly earnings,*** usually by each firm's fiscal period. Estimates of quarterly earnings are published at the beginning of each quarterly period."
   ]
  },
  {
   "cell_type": "code",
   "execution_count": 2,
   "metadata": {},
   "outputs": [],
   "source": [
    "#historic forecasted EPS \n",
    "eps_fc = pd.read_csv(PATH + 'sp-eps-fc.csv')"
   ]
  },
  {
   "cell_type": "code",
   "execution_count": 3,
   "metadata": {},
   "outputs": [
    {
     "data": {
      "text/html": [
       "<div>\n",
       "<style scoped>\n",
       "    .dataframe tbody tr th:only-of-type {\n",
       "        vertical-align: middle;\n",
       "    }\n",
       "\n",
       "    .dataframe tbody tr th {\n",
       "        vertical-align: top;\n",
       "    }\n",
       "\n",
       "    .dataframe thead th {\n",
       "        text-align: right;\n",
       "    }\n",
       "</style>\n",
       "<table border=\"1\" class=\"dataframe\">\n",
       "  <thead>\n",
       "    <tr style=\"text-align: right;\">\n",
       "      <th></th>\n",
       "      <th>Term Forecasted</th>\n",
       "      <th>A UN Equity</th>\n",
       "      <th>AAL UW Equity</th>\n",
       "      <th>AAP UN Equity</th>\n",
       "      <th>AAPL UW Equity</th>\n",
       "      <th>ABBV UN Equity</th>\n",
       "      <th>ABC UN Equity</th>\n",
       "      <th>ABMD UW Equity</th>\n",
       "      <th>ABT UN Equity</th>\n",
       "      <th>ACN UN Equity</th>\n",
       "      <th>...</th>\n",
       "      <th>XEL UW Equity</th>\n",
       "      <th>XLNX UW Equity</th>\n",
       "      <th>XOM UN Equity</th>\n",
       "      <th>XRAY UW Equity</th>\n",
       "      <th>XRX UN Equity</th>\n",
       "      <th>XYL UN Equity</th>\n",
       "      <th>YUM UN Equity</th>\n",
       "      <th>ZBH UN Equity</th>\n",
       "      <th>ZION UW Equity</th>\n",
       "      <th>ZTS UN Equity</th>\n",
       "    </tr>\n",
       "  </thead>\n",
       "  <tbody>\n",
       "    <tr>\n",
       "      <th>0</th>\n",
       "      <td>1999Q1</td>\n",
       "      <td>NaN</td>\n",
       "      <td>NaN</td>\n",
       "      <td>NaN</td>\n",
       "      <td>0.025</td>\n",
       "      <td>NaN</td>\n",
       "      <td>NaN</td>\n",
       "      <td>-0.10</td>\n",
       "      <td>0.423</td>\n",
       "      <td>NaN</td>\n",
       "      <td>...</td>\n",
       "      <td>0.456</td>\n",
       "      <td>0.090</td>\n",
       "      <td>0.239</td>\n",
       "      <td>0.123</td>\n",
       "      <td>NaN</td>\n",
       "      <td>NaN</td>\n",
       "      <td>0.123</td>\n",
       "      <td>NaN</td>\n",
       "      <td>0.622</td>\n",
       "      <td>NaN</td>\n",
       "    </tr>\n",
       "    <tr>\n",
       "      <th>1</th>\n",
       "      <td>1999Q2</td>\n",
       "      <td>NaN</td>\n",
       "      <td>NaN</td>\n",
       "      <td>NaN</td>\n",
       "      <td>0.020</td>\n",
       "      <td>NaN</td>\n",
       "      <td>NaN</td>\n",
       "      <td>-0.13</td>\n",
       "      <td>0.420</td>\n",
       "      <td>NaN</td>\n",
       "      <td>...</td>\n",
       "      <td>0.213</td>\n",
       "      <td>0.090</td>\n",
       "      <td>0.264</td>\n",
       "      <td>0.135</td>\n",
       "      <td>NaN</td>\n",
       "      <td>NaN</td>\n",
       "      <td>0.150</td>\n",
       "      <td>NaN</td>\n",
       "      <td>0.661</td>\n",
       "      <td>NaN</td>\n",
       "    </tr>\n",
       "    <tr>\n",
       "      <th>2</th>\n",
       "      <td>1999Q3</td>\n",
       "      <td>NaN</td>\n",
       "      <td>NaN</td>\n",
       "      <td>NaN</td>\n",
       "      <td>0.023</td>\n",
       "      <td>NaN</td>\n",
       "      <td>NaN</td>\n",
       "      <td>-0.11</td>\n",
       "      <td>0.381</td>\n",
       "      <td>NaN</td>\n",
       "      <td>...</td>\n",
       "      <td>0.767</td>\n",
       "      <td>0.099</td>\n",
       "      <td>0.300</td>\n",
       "      <td>0.129</td>\n",
       "      <td>NaN</td>\n",
       "      <td>NaN</td>\n",
       "      <td>0.171</td>\n",
       "      <td>NaN</td>\n",
       "      <td>0.693</td>\n",
       "      <td>NaN</td>\n",
       "    </tr>\n",
       "    <tr>\n",
       "      <th>3</th>\n",
       "      <td>1999Q4</td>\n",
       "      <td>NaN</td>\n",
       "      <td>NaN</td>\n",
       "      <td>NaN</td>\n",
       "      <td>0.016</td>\n",
       "      <td>NaN</td>\n",
       "      <td>NaN</td>\n",
       "      <td>NaN</td>\n",
       "      <td>0.432</td>\n",
       "      <td>NaN</td>\n",
       "      <td>...</td>\n",
       "      <td>0.432</td>\n",
       "      <td>0.124</td>\n",
       "      <td>0.386</td>\n",
       "      <td>0.178</td>\n",
       "      <td>NaN</td>\n",
       "      <td>NaN</td>\n",
       "      <td>0.164</td>\n",
       "      <td>NaN</td>\n",
       "      <td>0.667</td>\n",
       "      <td>NaN</td>\n",
       "    </tr>\n",
       "    <tr>\n",
       "      <th>4</th>\n",
       "      <td>00Q1</td>\n",
       "      <td>NaN</td>\n",
       "      <td>NaN</td>\n",
       "      <td>NaN</td>\n",
       "      <td>0.032</td>\n",
       "      <td>NaN</td>\n",
       "      <td>NaN</td>\n",
       "      <td>NaN</td>\n",
       "      <td>0.441</td>\n",
       "      <td>NaN</td>\n",
       "      <td>...</td>\n",
       "      <td>0.283</td>\n",
       "      <td>0.143</td>\n",
       "      <td>0.436</td>\n",
       "      <td>0.138</td>\n",
       "      <td>NaN</td>\n",
       "      <td>NaN</td>\n",
       "      <td>0.138</td>\n",
       "      <td>NaN</td>\n",
       "      <td>0.668</td>\n",
       "      <td>NaN</td>\n",
       "    </tr>\n",
       "  </tbody>\n",
       "</table>\n",
       "<p>5 rows × 506 columns</p>\n",
       "</div>"
      ],
      "text/plain": [
       "  Term Forecasted  A UN Equity  AAL UW Equity  AAP UN Equity  AAPL UW Equity  \\\n",
       "0          1999Q1          NaN            NaN            NaN           0.025   \n",
       "1          1999Q2          NaN            NaN            NaN           0.020   \n",
       "2          1999Q3          NaN            NaN            NaN           0.023   \n",
       "3          1999Q4          NaN            NaN            NaN           0.016   \n",
       "4            00Q1          NaN            NaN            NaN           0.032   \n",
       "\n",
       "   ABBV UN Equity  ABC UN Equity  ABMD UW Equity  ABT UN Equity  \\\n",
       "0             NaN            NaN           -0.10          0.423   \n",
       "1             NaN            NaN           -0.13          0.420   \n",
       "2             NaN            NaN           -0.11          0.381   \n",
       "3             NaN            NaN             NaN          0.432   \n",
       "4             NaN            NaN             NaN          0.441   \n",
       "\n",
       "   ACN UN Equity  ...  XEL UW Equity  XLNX UW Equity  XOM UN Equity  \\\n",
       "0            NaN  ...          0.456           0.090          0.239   \n",
       "1            NaN  ...          0.213           0.090          0.264   \n",
       "2            NaN  ...          0.767           0.099          0.300   \n",
       "3            NaN  ...          0.432           0.124          0.386   \n",
       "4            NaN  ...          0.283           0.143          0.436   \n",
       "\n",
       "   XRAY UW Equity  XRX UN Equity  XYL UN Equity  YUM UN Equity  ZBH UN Equity  \\\n",
       "0           0.123            NaN            NaN          0.123            NaN   \n",
       "1           0.135            NaN            NaN          0.150            NaN   \n",
       "2           0.129            NaN            NaN          0.171            NaN   \n",
       "3           0.178            NaN            NaN          0.164            NaN   \n",
       "4           0.138            NaN            NaN          0.138            NaN   \n",
       "\n",
       "   ZION UW Equity  ZTS UN Equity  \n",
       "0           0.622            NaN  \n",
       "1           0.661            NaN  \n",
       "2           0.693            NaN  \n",
       "3           0.667            NaN  \n",
       "4           0.668            NaN  \n",
       "\n",
       "[5 rows x 506 columns]"
      ]
     },
     "execution_count": 3,
     "metadata": {},
     "output_type": "execute_result"
    }
   ],
   "source": [
    "eps_fc.head()"
   ]
  },
  {
   "cell_type": "markdown",
   "metadata": {},
   "source": [
    "**Historic actual EPS**\n",
    "> Unlike forecasted EPS, actual EPS are the real numbers denoting Earnings-per-Share for a singular firm. Historic actual EPS will be compared to forecasted EPS to draw correlations and comparisons."
   ]
  },
  {
   "cell_type": "code",
   "execution_count": 4,
   "metadata": {},
   "outputs": [],
   "source": [
    "#historic actual EPS\n",
    "eps_act = pd.read_csv(PATH + 'sp-eps-act.csv')"
   ]
  },
  {
   "cell_type": "code",
   "execution_count": 5,
   "metadata": {},
   "outputs": [
    {
     "data": {
      "text/html": [
       "<div>\n",
       "<style scoped>\n",
       "    .dataframe tbody tr th:only-of-type {\n",
       "        vertical-align: middle;\n",
       "    }\n",
       "\n",
       "    .dataframe tbody tr th {\n",
       "        vertical-align: top;\n",
       "    }\n",
       "\n",
       "    .dataframe thead th {\n",
       "        text-align: right;\n",
       "    }\n",
       "</style>\n",
       "<table border=\"1\" class=\"dataframe\">\n",
       "  <thead>\n",
       "    <tr style=\"text-align: right;\">\n",
       "      <th></th>\n",
       "      <th>Quarter</th>\n",
       "      <th>Year</th>\n",
       "      <th>A UN Equity</th>\n",
       "      <th>AAL UW Equity</th>\n",
       "      <th>AAP UN Equity</th>\n",
       "      <th>AAPL UW Equity</th>\n",
       "      <th>ABBV UN Equity</th>\n",
       "      <th>ABC UN Equity</th>\n",
       "      <th>ABMD UW Equity</th>\n",
       "      <th>ABT UN Equity</th>\n",
       "      <th>...</th>\n",
       "      <th>XEL UW Equity</th>\n",
       "      <th>XLNX UW Equity</th>\n",
       "      <th>XOM UN Equity</th>\n",
       "      <th>XRAY UW Equity</th>\n",
       "      <th>XRX UN Equity</th>\n",
       "      <th>XYL UN Equity</th>\n",
       "      <th>YUM UN Equity</th>\n",
       "      <th>ZBH UN Equity</th>\n",
       "      <th>ZION UW Equity</th>\n",
       "      <th>ZTS UN Equity</th>\n",
       "    </tr>\n",
       "  </thead>\n",
       "  <tbody>\n",
       "    <tr>\n",
       "      <th>0</th>\n",
       "      <td>Q1</td>\n",
       "      <td>1999</td>\n",
       "      <td>0.16</td>\n",
       "      <td>0.99</td>\n",
       "      <td>NaN</td>\n",
       "      <td>0.040000</td>\n",
       "      <td>NaN</td>\n",
       "      <td>0.0925</td>\n",
       "      <td>-0.030</td>\n",
       "      <td>0.44</td>\n",
       "      <td>...</td>\n",
       "      <td>0.34</td>\n",
       "      <td>0.0000</td>\n",
       "      <td>0.210</td>\n",
       "      <td>0.123333</td>\n",
       "      <td>1.64</td>\n",
       "      <td>NaN</td>\n",
       "      <td>0.1725</td>\n",
       "      <td>NaN</td>\n",
       "      <td>0.56</td>\n",
       "      <td>NaN</td>\n",
       "    </tr>\n",
       "    <tr>\n",
       "      <th>1</th>\n",
       "      <td>Q2</td>\n",
       "      <td>1999</td>\n",
       "      <td>0.35</td>\n",
       "      <td>1.76</td>\n",
       "      <td>NaN</td>\n",
       "      <td>0.035357</td>\n",
       "      <td>NaN</td>\n",
       "      <td>0.1000</td>\n",
       "      <td>-0.145</td>\n",
       "      <td>0.42</td>\n",
       "      <td>...</td>\n",
       "      <td>0.06</td>\n",
       "      <td>0.0975</td>\n",
       "      <td>0.285</td>\n",
       "      <td>0.133333</td>\n",
       "      <td>2.28</td>\n",
       "      <td>NaN</td>\n",
       "      <td>0.2900</td>\n",
       "      <td>NaN</td>\n",
       "      <td>0.60</td>\n",
       "      <td>NaN</td>\n",
       "    </tr>\n",
       "    <tr>\n",
       "      <th>2</th>\n",
       "      <td>Q3</td>\n",
       "      <td>1999</td>\n",
       "      <td>0.30</td>\n",
       "      <td>1.86</td>\n",
       "      <td>NaN</td>\n",
       "      <td>0.050357</td>\n",
       "      <td>NaN</td>\n",
       "      <td>0.1075</td>\n",
       "      <td>-0.135</td>\n",
       "      <td>0.30</td>\n",
       "      <td>...</td>\n",
       "      <td>0.63</td>\n",
       "      <td>0.0325</td>\n",
       "      <td>0.315</td>\n",
       "      <td>0.130000</td>\n",
       "      <td>1.96</td>\n",
       "      <td>NaN</td>\n",
       "      <td>0.3200</td>\n",
       "      <td>NaN</td>\n",
       "      <td>0.64</td>\n",
       "      <td>NaN</td>\n",
       "    </tr>\n",
       "    <tr>\n",
       "      <th>3</th>\n",
       "      <td>Q4</td>\n",
       "      <td>1999</td>\n",
       "      <td>0.32</td>\n",
       "      <td>1.89</td>\n",
       "      <td>NaN</td>\n",
       "      <td>0.024643</td>\n",
       "      <td>NaN</td>\n",
       "      <td>0.0375</td>\n",
       "      <td>-0.080</td>\n",
       "      <td>0.43</td>\n",
       "      <td>...</td>\n",
       "      <td>0.43</td>\n",
       "      <td>0.1300</td>\n",
       "      <td>0.600</td>\n",
       "      <td>0.180000</td>\n",
       "      <td>1.72</td>\n",
       "      <td>NaN</td>\n",
       "      <td>0.2375</td>\n",
       "      <td>NaN</td>\n",
       "      <td>0.49</td>\n",
       "      <td>NaN</td>\n",
       "    </tr>\n",
       "    <tr>\n",
       "      <th>4</th>\n",
       "      <td>Q1</td>\n",
       "      <td>2000</td>\n",
       "      <td>0.29</td>\n",
       "      <td>0.89</td>\n",
       "      <td>NaN</td>\n",
       "      <td>0.040585</td>\n",
       "      <td>NaN</td>\n",
       "      <td>0.1050</td>\n",
       "      <td>-0.045</td>\n",
       "      <td>0.45</td>\n",
       "      <td>...</td>\n",
       "      <td>0.45</td>\n",
       "      <td>0.1650</td>\n",
       "      <td>0.500</td>\n",
       "      <td>0.140000</td>\n",
       "      <td>-1.48</td>\n",
       "      <td>NaN</td>\n",
       "      <td>0.2025</td>\n",
       "      <td>NaN</td>\n",
       "      <td>-0.33</td>\n",
       "      <td>NaN</td>\n",
       "    </tr>\n",
       "  </tbody>\n",
       "</table>\n",
       "<p>5 rows × 507 columns</p>\n",
       "</div>"
      ],
      "text/plain": [
       "  Quarter  Year  A UN Equity  AAL UW Equity  AAP UN Equity  AAPL UW Equity  \\\n",
       "0      Q1  1999         0.16           0.99            NaN        0.040000   \n",
       "1      Q2  1999         0.35           1.76            NaN        0.035357   \n",
       "2      Q3  1999         0.30           1.86            NaN        0.050357   \n",
       "3      Q4  1999         0.32           1.89            NaN        0.024643   \n",
       "4      Q1  2000         0.29           0.89            NaN        0.040585   \n",
       "\n",
       "   ABBV UN Equity  ABC UN Equity  ABMD UW Equity  ABT UN Equity  ...  \\\n",
       "0             NaN         0.0925          -0.030           0.44  ...   \n",
       "1             NaN         0.1000          -0.145           0.42  ...   \n",
       "2             NaN         0.1075          -0.135           0.30  ...   \n",
       "3             NaN         0.0375          -0.080           0.43  ...   \n",
       "4             NaN         0.1050          -0.045           0.45  ...   \n",
       "\n",
       "   XEL UW Equity  XLNX UW Equity  XOM UN Equity  XRAY UW Equity  \\\n",
       "0           0.34          0.0000          0.210        0.123333   \n",
       "1           0.06          0.0975          0.285        0.133333   \n",
       "2           0.63          0.0325          0.315        0.130000   \n",
       "3           0.43          0.1300          0.600        0.180000   \n",
       "4           0.45          0.1650          0.500        0.140000   \n",
       "\n",
       "   XRX UN Equity  XYL UN Equity  YUM UN Equity  ZBH UN Equity  ZION UW Equity  \\\n",
       "0           1.64            NaN         0.1725            NaN            0.56   \n",
       "1           2.28            NaN         0.2900            NaN            0.60   \n",
       "2           1.96            NaN         0.3200            NaN            0.64   \n",
       "3           1.72            NaN         0.2375            NaN            0.49   \n",
       "4          -1.48            NaN         0.2025            NaN           -0.33   \n",
       "\n",
       "   ZTS UN Equity  \n",
       "0            NaN  \n",
       "1            NaN  \n",
       "2            NaN  \n",
       "3            NaN  \n",
       "4            NaN  \n",
       "\n",
       "[5 rows x 507 columns]"
      ]
     },
     "execution_count": 5,
     "metadata": {},
     "output_type": "execute_result"
    }
   ],
   "source": [
    "eps_act.head()"
   ]
  },
  {
   "cell_type": "markdown",
   "metadata": {},
   "source": [
    "**Historic actual EOD**\n",
    "> Though this is not directly related to EPS data, EOD would be an interesting measure to use when generating intriguing visualizations and analyses. Who knows what visuals and conclusions I would arrive to with this measure. "
   ]
  },
  {
   "cell_type": "code",
   "execution_count": 6,
   "metadata": {},
   "outputs": [],
   "source": [
    "#historic actual EOD\n",
    "eod_act = pd.read_csv(PATH + 'sp-eod-act.csv')"
   ]
  },
  {
   "cell_type": "code",
   "execution_count": 7,
   "metadata": {},
   "outputs": [
    {
     "data": {
      "text/html": [
       "<div>\n",
       "<style scoped>\n",
       "    .dataframe tbody tr th:only-of-type {\n",
       "        vertical-align: middle;\n",
       "    }\n",
       "\n",
       "    .dataframe tbody tr th {\n",
       "        vertical-align: top;\n",
       "    }\n",
       "\n",
       "    .dataframe thead th {\n",
       "        text-align: right;\n",
       "    }\n",
       "</style>\n",
       "<table border=\"1\" class=\"dataframe\">\n",
       "  <thead>\n",
       "    <tr style=\"text-align: right;\">\n",
       "      <th></th>\n",
       "      <th>date</th>\n",
       "      <th>A UN Equity</th>\n",
       "      <th>AAL UW Equity</th>\n",
       "      <th>AAP UN Equity</th>\n",
       "      <th>AAPL UW Equity</th>\n",
       "      <th>ABBV UN Equity</th>\n",
       "      <th>ABC UN Equity</th>\n",
       "      <th>ABMD UW Equity</th>\n",
       "      <th>ABT UN Equity</th>\n",
       "      <th>ACN UN Equity</th>\n",
       "      <th>...</th>\n",
       "      <th>XEL UW Equity</th>\n",
       "      <th>XLNX UW Equity</th>\n",
       "      <th>XOM UN Equity</th>\n",
       "      <th>XRAY UW Equity</th>\n",
       "      <th>XRX UN Equity</th>\n",
       "      <th>XYL UN Equity</th>\n",
       "      <th>YUM UN Equity</th>\n",
       "      <th>ZBH UN Equity</th>\n",
       "      <th>ZION UW Equity</th>\n",
       "      <th>ZTS UN Equity</th>\n",
       "    </tr>\n",
       "  </thead>\n",
       "  <tbody>\n",
       "    <tr>\n",
       "      <th>0</th>\n",
       "      <td>3/31/1999</td>\n",
       "      <td>NaN</td>\n",
       "      <td>NaN</td>\n",
       "      <td>NaN</td>\n",
       "      <td>1.2835</td>\n",
       "      <td>NaN</td>\n",
       "      <td>8.2934</td>\n",
       "      <td>6.250</td>\n",
       "      <td>20.9504</td>\n",
       "      <td>NaN</td>\n",
       "      <td>...</td>\n",
       "      <td>NaN</td>\n",
       "      <td>20.2813</td>\n",
       "      <td>35.2813</td>\n",
       "      <td>7.7500</td>\n",
       "      <td>140.6214</td>\n",
       "      <td>NaN</td>\n",
       "      <td>12.6284</td>\n",
       "      <td>NaN</td>\n",
       "      <td>66.5000</td>\n",
       "      <td>NaN</td>\n",
       "    </tr>\n",
       "    <tr>\n",
       "      <th>1</th>\n",
       "      <td>6/30/1999</td>\n",
       "      <td>NaN</td>\n",
       "      <td>NaN</td>\n",
       "      <td>NaN</td>\n",
       "      <td>1.6540</td>\n",
       "      <td>NaN</td>\n",
       "      <td>6.1859</td>\n",
       "      <td>6.875</td>\n",
       "      <td>20.3630</td>\n",
       "      <td>NaN</td>\n",
       "      <td>...</td>\n",
       "      <td>NaN</td>\n",
       "      <td>28.6250</td>\n",
       "      <td>38.5625</td>\n",
       "      <td>9.6250</td>\n",
       "      <td>155.6057</td>\n",
       "      <td>NaN</td>\n",
       "      <td>9.7297</td>\n",
       "      <td>NaN</td>\n",
       "      <td>63.5000</td>\n",
       "      <td>NaN</td>\n",
       "    </tr>\n",
       "    <tr>\n",
       "      <th>2</th>\n",
       "      <td>9/30/1999</td>\n",
       "      <td>NaN</td>\n",
       "      <td>NaN</td>\n",
       "      <td>NaN</td>\n",
       "      <td>2.2612</td>\n",
       "      <td>NaN</td>\n",
       "      <td>5.7462</td>\n",
       "      <td>7.750</td>\n",
       "      <td>16.4471</td>\n",
       "      <td>NaN</td>\n",
       "      <td>...</td>\n",
       "      <td>NaN</td>\n",
       "      <td>32.7656</td>\n",
       "      <td>37.9688</td>\n",
       "      <td>7.5833</td>\n",
       "      <td>110.4883</td>\n",
       "      <td>NaN</td>\n",
       "      <td>7.3591</td>\n",
       "      <td>NaN</td>\n",
       "      <td>55.1250</td>\n",
       "      <td>NaN</td>\n",
       "    </tr>\n",
       "    <tr>\n",
       "      <th>3</th>\n",
       "      <td>12/31/1999</td>\n",
       "      <td>52.0909</td>\n",
       "      <td>NaN</td>\n",
       "      <td>NaN</td>\n",
       "      <td>3.6719</td>\n",
       "      <td>NaN</td>\n",
       "      <td>3.6843</td>\n",
       "      <td>18.375</td>\n",
       "      <td>16.2513</td>\n",
       "      <td>NaN</td>\n",
       "      <td>...</td>\n",
       "      <td>NaN</td>\n",
       "      <td>45.4688</td>\n",
       "      <td>40.2813</td>\n",
       "      <td>7.8750</td>\n",
       "      <td>59.7723</td>\n",
       "      <td>NaN</td>\n",
       "      <td>6.9434</td>\n",
       "      <td>NaN</td>\n",
       "      <td>59.1875</td>\n",
       "      <td>NaN</td>\n",
       "    </tr>\n",
       "    <tr>\n",
       "      <th>4</th>\n",
       "      <td>3/31/2000</td>\n",
       "      <td>70.0721</td>\n",
       "      <td>NaN</td>\n",
       "      <td>NaN</td>\n",
       "      <td>4.8504</td>\n",
       "      <td>NaN</td>\n",
       "      <td>3.6388</td>\n",
       "      <td>20.250</td>\n",
       "      <td>15.7478</td>\n",
       "      <td>NaN</td>\n",
       "      <td>...</td>\n",
       "      <td>NaN</td>\n",
       "      <td>82.8125</td>\n",
       "      <td>38.9063</td>\n",
       "      <td>9.4583</td>\n",
       "      <td>68.4994</td>\n",
       "      <td>NaN</td>\n",
       "      <td>5.5839</td>\n",
       "      <td>NaN</td>\n",
       "      <td>41.6250</td>\n",
       "      <td>NaN</td>\n",
       "    </tr>\n",
       "  </tbody>\n",
       "</table>\n",
       "<p>5 rows × 506 columns</p>\n",
       "</div>"
      ],
      "text/plain": [
       "         date  A UN Equity  AAL UW Equity  AAP UN Equity  AAPL UW Equity  \\\n",
       "0   3/31/1999          NaN            NaN            NaN          1.2835   \n",
       "1   6/30/1999          NaN            NaN            NaN          1.6540   \n",
       "2   9/30/1999          NaN            NaN            NaN          2.2612   \n",
       "3  12/31/1999      52.0909            NaN            NaN          3.6719   \n",
       "4   3/31/2000      70.0721            NaN            NaN          4.8504   \n",
       "\n",
       "   ABBV UN Equity  ABC UN Equity  ABMD UW Equity  ABT UN Equity  \\\n",
       "0             NaN         8.2934           6.250        20.9504   \n",
       "1             NaN         6.1859           6.875        20.3630   \n",
       "2             NaN         5.7462           7.750        16.4471   \n",
       "3             NaN         3.6843          18.375        16.2513   \n",
       "4             NaN         3.6388          20.250        15.7478   \n",
       "\n",
       "   ACN UN Equity  ...  XEL UW Equity  XLNX UW Equity  XOM UN Equity  \\\n",
       "0            NaN  ...            NaN         20.2813        35.2813   \n",
       "1            NaN  ...            NaN         28.6250        38.5625   \n",
       "2            NaN  ...            NaN         32.7656        37.9688   \n",
       "3            NaN  ...            NaN         45.4688        40.2813   \n",
       "4            NaN  ...            NaN         82.8125        38.9063   \n",
       "\n",
       "   XRAY UW Equity  XRX UN Equity  XYL UN Equity  YUM UN Equity  ZBH UN Equity  \\\n",
       "0          7.7500       140.6214            NaN        12.6284            NaN   \n",
       "1          9.6250       155.6057            NaN         9.7297            NaN   \n",
       "2          7.5833       110.4883            NaN         7.3591            NaN   \n",
       "3          7.8750        59.7723            NaN         6.9434            NaN   \n",
       "4          9.4583        68.4994            NaN         5.5839            NaN   \n",
       "\n",
       "   ZION UW Equity  ZTS UN Equity  \n",
       "0         66.5000            NaN  \n",
       "1         63.5000            NaN  \n",
       "2         55.1250            NaN  \n",
       "3         59.1875            NaN  \n",
       "4         41.6250            NaN  \n",
       "\n",
       "[5 rows x 506 columns]"
      ]
     },
     "execution_count": 7,
     "metadata": {},
     "output_type": "execute_result"
    }
   ],
   "source": [
    "eod_act.head()"
   ]
  },
  {
   "cell_type": "markdown",
   "metadata": {},
   "source": [
    "**Historic forecasted EPS 3 months prior**\n",
    "> Instead of using forecast data collected at the beginning of the fiscal period, this feature contains EPS data projected 3 months before the current fiscal period. This is an interesting metric to see how differently forecasters make their predictions at different times."
   ]
  },
  {
   "cell_type": "code",
   "execution_count": 8,
   "metadata": {},
   "outputs": [],
   "source": [
    "#historic forecasted EPS 3-months prior\n",
    "eps_fc_terms = pd.read_csv(PATH + 'sp-eps-fc-terms.csv')"
   ]
  },
  {
   "cell_type": "code",
   "execution_count": 9,
   "metadata": {},
   "outputs": [
    {
     "data": {
      "text/html": [
       "<div>\n",
       "<style scoped>\n",
       "    .dataframe tbody tr th:only-of-type {\n",
       "        vertical-align: middle;\n",
       "    }\n",
       "\n",
       "    .dataframe tbody tr th {\n",
       "        vertical-align: top;\n",
       "    }\n",
       "\n",
       "    .dataframe thead th {\n",
       "        text-align: right;\n",
       "    }\n",
       "</style>\n",
       "<table border=\"1\" class=\"dataframe\">\n",
       "  <thead>\n",
       "    <tr style=\"text-align: right;\">\n",
       "      <th></th>\n",
       "      <th>Forecast Made</th>\n",
       "      <th>Term Forecasted</th>\n",
       "      <th>A UN Equity</th>\n",
       "      <th>AAL UW Equity</th>\n",
       "      <th>AAP UN Equity</th>\n",
       "      <th>AAPL UW Equity</th>\n",
       "      <th>ABBV UN Equity</th>\n",
       "      <th>ABC UN Equity</th>\n",
       "      <th>ABMD UW Equity</th>\n",
       "      <th>ABT UN Equity</th>\n",
       "      <th>...</th>\n",
       "      <th>XEL UW Equity</th>\n",
       "      <th>XLNX UW Equity</th>\n",
       "      <th>XOM UN Equity</th>\n",
       "      <th>XRAY UW Equity</th>\n",
       "      <th>XRX UN Equity</th>\n",
       "      <th>XYL UN Equity</th>\n",
       "      <th>YUM UN Equity</th>\n",
       "      <th>ZBH UN Equity</th>\n",
       "      <th>ZION UW Equity</th>\n",
       "      <th>ZTS UN Equity</th>\n",
       "    </tr>\n",
       "  </thead>\n",
       "  <tbody>\n",
       "    <tr>\n",
       "      <th>0</th>\n",
       "      <td>10/1/1999</td>\n",
       "      <td>00Q1</td>\n",
       "      <td>NaN</td>\n",
       "      <td>NaN</td>\n",
       "      <td>NaN</td>\n",
       "      <td>0.030</td>\n",
       "      <td>NaN</td>\n",
       "      <td>NaN</td>\n",
       "      <td>NaN</td>\n",
       "      <td>0.466</td>\n",
       "      <td>...</td>\n",
       "      <td>NaN</td>\n",
       "      <td>0.143</td>\n",
       "      <td>0.398</td>\n",
       "      <td>0.140</td>\n",
       "      <td>NaN</td>\n",
       "      <td>NaN</td>\n",
       "      <td>0.144</td>\n",
       "      <td>NaN</td>\n",
       "      <td>0.777</td>\n",
       "      <td>NaN</td>\n",
       "    </tr>\n",
       "    <tr>\n",
       "      <th>1</th>\n",
       "      <td>1/1/2000</td>\n",
       "      <td>00Q2</td>\n",
       "      <td>NaN</td>\n",
       "      <td>NaN</td>\n",
       "      <td>NaN</td>\n",
       "      <td>0.026</td>\n",
       "      <td>NaN</td>\n",
       "      <td>NaN</td>\n",
       "      <td>NaN</td>\n",
       "      <td>0.437</td>\n",
       "      <td>...</td>\n",
       "      <td>NaN</td>\n",
       "      <td>0.168</td>\n",
       "      <td>0.378</td>\n",
       "      <td>0.153</td>\n",
       "      <td>NaN</td>\n",
       "      <td>NaN</td>\n",
       "      <td>0.184</td>\n",
       "      <td>NaN</td>\n",
       "      <td>0.790</td>\n",
       "      <td>NaN</td>\n",
       "    </tr>\n",
       "    <tr>\n",
       "      <th>2</th>\n",
       "      <td>4/1/2000</td>\n",
       "      <td>00Q3</td>\n",
       "      <td>NaN</td>\n",
       "      <td>NaN</td>\n",
       "      <td>NaN</td>\n",
       "      <td>0.029</td>\n",
       "      <td>NaN</td>\n",
       "      <td>NaN</td>\n",
       "      <td>NaN</td>\n",
       "      <td>0.414</td>\n",
       "      <td>...</td>\n",
       "      <td>0.84</td>\n",
       "      <td>0.189</td>\n",
       "      <td>0.425</td>\n",
       "      <td>0.149</td>\n",
       "      <td>NaN</td>\n",
       "      <td>NaN</td>\n",
       "      <td>0.218</td>\n",
       "      <td>NaN</td>\n",
       "      <td>0.803</td>\n",
       "      <td>NaN</td>\n",
       "    </tr>\n",
       "    <tr>\n",
       "      <th>3</th>\n",
       "      <td>7/1/2000</td>\n",
       "      <td>00Q4</td>\n",
       "      <td>NaN</td>\n",
       "      <td>NaN</td>\n",
       "      <td>NaN</td>\n",
       "      <td>0.032</td>\n",
       "      <td>NaN</td>\n",
       "      <td>NaN</td>\n",
       "      <td>-0.18</td>\n",
       "      <td>0.477</td>\n",
       "      <td>...</td>\n",
       "      <td>0.53</td>\n",
       "      <td>0.211</td>\n",
       "      <td>0.487</td>\n",
       "      <td>0.200</td>\n",
       "      <td>NaN</td>\n",
       "      <td>NaN</td>\n",
       "      <td>0.244</td>\n",
       "      <td>NaN</td>\n",
       "      <td>0.777</td>\n",
       "      <td>NaN</td>\n",
       "    </tr>\n",
       "    <tr>\n",
       "      <th>4</th>\n",
       "      <td>9/1/2000</td>\n",
       "      <td>01Q1</td>\n",
       "      <td>NaN</td>\n",
       "      <td>NaN</td>\n",
       "      <td>NaN</td>\n",
       "      <td>0.041</td>\n",
       "      <td>NaN</td>\n",
       "      <td>NaN</td>\n",
       "      <td>-0.09</td>\n",
       "      <td>0.495</td>\n",
       "      <td>...</td>\n",
       "      <td>0.40</td>\n",
       "      <td>0.259</td>\n",
       "      <td>0.475</td>\n",
       "      <td>0.158</td>\n",
       "      <td>NaN</td>\n",
       "      <td>NaN</td>\n",
       "      <td>0.178</td>\n",
       "      <td>NaN</td>\n",
       "      <td>0.750</td>\n",
       "      <td>NaN</td>\n",
       "    </tr>\n",
       "  </tbody>\n",
       "</table>\n",
       "<p>5 rows × 507 columns</p>\n",
       "</div>"
      ],
      "text/plain": [
       "  Forecast Made Term Forecasted  A UN Equity  AAL UW Equity  AAP UN Equity  \\\n",
       "0     10/1/1999            00Q1          NaN            NaN            NaN   \n",
       "1      1/1/2000            00Q2          NaN            NaN            NaN   \n",
       "2      4/1/2000            00Q3          NaN            NaN            NaN   \n",
       "3      7/1/2000            00Q4          NaN            NaN            NaN   \n",
       "4      9/1/2000            01Q1          NaN            NaN            NaN   \n",
       "\n",
       "   AAPL UW Equity  ABBV UN Equity  ABC UN Equity  ABMD UW Equity  \\\n",
       "0           0.030             NaN            NaN             NaN   \n",
       "1           0.026             NaN            NaN             NaN   \n",
       "2           0.029             NaN            NaN             NaN   \n",
       "3           0.032             NaN            NaN           -0.18   \n",
       "4           0.041             NaN            NaN           -0.09   \n",
       "\n",
       "   ABT UN Equity  ...  XEL UW Equity  XLNX UW Equity  XOM UN Equity  \\\n",
       "0          0.466  ...            NaN           0.143          0.398   \n",
       "1          0.437  ...            NaN           0.168          0.378   \n",
       "2          0.414  ...           0.84           0.189          0.425   \n",
       "3          0.477  ...           0.53           0.211          0.487   \n",
       "4          0.495  ...           0.40           0.259          0.475   \n",
       "\n",
       "   XRAY UW Equity  XRX UN Equity  XYL UN Equity  YUM UN Equity  ZBH UN Equity  \\\n",
       "0           0.140            NaN            NaN          0.144            NaN   \n",
       "1           0.153            NaN            NaN          0.184            NaN   \n",
       "2           0.149            NaN            NaN          0.218            NaN   \n",
       "3           0.200            NaN            NaN          0.244            NaN   \n",
       "4           0.158            NaN            NaN          0.178            NaN   \n",
       "\n",
       "   ZION UW Equity  ZTS UN Equity  \n",
       "0           0.777            NaN  \n",
       "1           0.790            NaN  \n",
       "2           0.803            NaN  \n",
       "3           0.777            NaN  \n",
       "4           0.750            NaN  \n",
       "\n",
       "[5 rows x 507 columns]"
      ]
     },
     "execution_count": 9,
     "metadata": {},
     "output_type": "execute_result"
    }
   ],
   "source": [
    "eps_fc_terms.head()"
   ]
  },
  {
   "cell_type": "markdown",
   "metadata": {},
   "source": [
    "### B) Assess <a id = \"assess\"></a>\n",
    "\n",
    "> The following DataFrames contain data for each firm across various dates. To account for all firm averages, my goal is to generate a CSV file where each row contains the firm average, with the features as columns."
   ]
  },
  {
   "cell_type": "code",
   "execution_count": 10,
   "metadata": {},
   "outputs": [],
   "source": [
    "dict_dfs = {'eps_fcast' : eps_fc,\n",
    "           'eps_actual' : eps_act,\n",
    "           'eod_actual' : eod_act,\n",
    "           'eps_fcast_terms' : eps_fc_terms}"
   ]
  },
  {
   "cell_type": "markdown",
   "metadata": {},
   "source": [
    "### Check Missing Data"
   ]
  },
  {
   "cell_type": "code",
   "execution_count": 11,
   "metadata": {},
   "outputs": [
    {
     "name": "stdout",
     "output_type": "stream",
     "text": [
      "eps_fcast (84, 506)\n",
      "eps_actual (84, 507)\n",
      "eod_actual (84, 506)\n",
      "eps_fcast_terms (80, 507)\n"
     ]
    }
   ],
   "source": [
    "for key, df in dict_dfs.items():\n",
    "    print(key, df.shape)"
   ]
  },
  {
   "cell_type": "markdown",
   "metadata": {},
   "source": [
    "***We need to make sure the number of firms in each DataFrame is consistent.***\n",
    "\n",
    "---\n",
    "\n",
    "**Observation 1:** for `eps_fcast`, there are 505 firms encompassing 84 quarterly fiscal periods since 1999.\n",
    "\n",
    "> There are 506 columns: 1 column being `Term Forecast`, the rest firm names.\n",
    "\n",
    "**Observation 2:** for `eps_actual`, there are 505 firms encompassing 84 quarterly fiscal periods since 1999.\n",
    "\n",
    "> There are 507 columns: 2 columns being `Quarter` and `Year`, the rest firm names.\n",
    "\n",
    "**Observation 3:** for `eod_actual`, there are 505 firms encompassing 84 quarterly calendar periods since 1999.\n",
    "\n",
    "> There are 506 columns: 1 column being `date`, the rest firm names.\n",
    "\n",
    "**Observation 4:** for `eps_fcast_terms`, there are 505 firms encompassing 80 quarterly calendar periods since 1999.\n",
    "\n",
    "> There are 507 columns: 2 columns being `Forecast Made` and `Term Forecasted`, the rest firm names.\n",
    " \n",
    "Since there are only 80 quarterly calendar periods, that ***implies an entire year is missing.***\n",
    "\n",
    "**Observation 5:** For `eps_fcast`, `eps_actual`, and `eod_actual`, since there are 4 quarters in a year, 84 quarterly forecast periods equate to 21 years. This is correct since we are analyzing the years from 1999 until the end of 2019.\n",
    "\n",
    "### Most importantly, the number of firms across all DataFrames is consistent.\n",
    "\n",
    "----\n",
    "\n",
    "***Check which year is missing from `eps_fcast_terms`***.\n",
    "\n",
    "> Each **Term Forecasted** entry under `eps_fcast_terms` records the year with 2 digits, so Quarter 1 of the year 2000 becomes 00Q1.\n",
    "- isolate the first 2 characters to get the year\n",
    "- join a '20' in front of the string so 00 becomes 2000\n",
    "- list the number of unique values."
   ]
  },
  {
   "cell_type": "code",
   "execution_count": 12,
   "metadata": {},
   "outputs": [
    {
     "data": {
      "text/plain": [
       "['2000',\n",
       " '2001',\n",
       " '2002',\n",
       " '2003',\n",
       " '2004',\n",
       " '2005',\n",
       " '2006',\n",
       " '2007',\n",
       " '2008',\n",
       " '2009',\n",
       " '2010',\n",
       " '2011',\n",
       " '2012',\n",
       " '2013',\n",
       " '2014',\n",
       " '2015',\n",
       " '2016',\n",
       " '2017',\n",
       " '2018',\n",
       " '2019']"
      ]
     },
     "execution_count": 12,
     "metadata": {},
     "output_type": "execute_result"
    }
   ],
   "source": [
    "#iterate over all years in eps_fcast_terms, append '20' in front of string\n",
    "list(map(lambda x: '20' + x, eps_fc_terms['Term Forecasted'].str[:2].unique()))"
   ]
  },
  {
   "cell_type": "markdown",
   "metadata": {},
   "source": [
    "**Observation**: The year 1999 is missing from `eps_fc_terms`. This makes sense because the start of the forecasting period would be in the last quarter of 1999, which is October. \n",
    "\n",
    "---\n",
    "\n",
    "### Check Nulls"
   ]
  },
  {
   "cell_type": "code",
   "execution_count": 13,
   "metadata": {},
   "outputs": [
    {
     "name": "stdout",
     "output_type": "stream",
     "text": [
      "# NaN in eps_fcast: 7055\n",
      "# NaN in eps_actual: 5021\n",
      "# NaN in eod_actual: 6921\n",
      "# NaN in eps_fcast_terms: 7080\n"
     ]
    }
   ],
   "source": [
    "for key, df in dict_dfs.items():\n",
    "    #display (row, column) per DataFrame\n",
    "    print('# NaN in {}: {}'.format(key, df.isna().sum().sum()))"
   ]
  },
  {
   "cell_type": "markdown",
   "metadata": {},
   "source": [
    "**Observation:** All four DataSets contain null values.\n",
    "> In order to combat this, we'll have to look at both the **number of rows** and **number of columns** with missing data, separately. This way, we can isolate which firms and/or time periods contain complete or incomplete data."
   ]
  },
  {
   "cell_type": "code",
   "execution_count": 14,
   "metadata": {},
   "outputs": [
    {
     "name": "stdout",
     "output_type": "stream",
     "text": [
      "eps_fcast has 82 time periods containing missing data, out of 84 total rows.\n",
      "eps_actual has 84 time periods containing missing data, out of 84 total rows.\n",
      "eod_actual has 83 time periods containing missing data, out of 84 total rows.\n",
      "eps_fcast_terms has 80 time periods containing missing data, out of 80 total rows.\n"
     ]
    }
   ],
   "source": [
    "#check rows for missing data\n",
    "for key, df in dict_dfs.items():\n",
    "    num_rows_missing = df.isna().sum().max()\n",
    "    print('{} has {} time periods containing missing data, out of {} total rows.'.format(key, num_rows_missing, df.shape[0]))"
   ]
  },
  {
   "cell_type": "code",
   "execution_count": 15,
   "metadata": {},
   "outputs": [
    {
     "data": {
      "text/plain": [
       "254"
      ]
     },
     "execution_count": 15,
     "metadata": {},
     "output_type": "execute_result"
    }
   ],
   "source": [
    "len(eps_fc.columns[eps_fc.isnull().any()])"
   ]
  },
  {
   "cell_type": "code",
   "execution_count": 16,
   "metadata": {},
   "outputs": [
    {
     "name": "stdout",
     "output_type": "stream",
     "text": [
      "eps_fcast has 254 firms containing missing data, out of 506 total columns.\n",
      "eps_actual has 432 firms containing missing data, out of 507 total columns.\n",
      "eod_actual has 505 firms containing missing data, out of 506 total columns.\n",
      "eps_fcast_terms has 340 firms containing missing data, out of 507 total columns.\n"
     ]
    }
   ],
   "source": [
    "#check columns for missing data\n",
    "for key, df in dict_dfs.items():\n",
    "    cols_missing = df.columns[df.isnull().any()]\n",
    "    num_cols_missing = len(cols_missing)\n",
    "    print('{} has {} firms containing missing data, out of {} total columns.'\n",
    "         .format(key, num_cols_missing, df.shape[1]))"
   ]
  },
  {
   "cell_type": "markdown",
   "metadata": {},
   "source": [
    "**Observation 1:** The only two datasets with incomplete data for all time periods are **actual EPS** and **forecasted EPS 3 months prior.**\n",
    "\n",
    "> To address this problem, it'd be helpful to isolate the time period ranges for the datasets with incomplete data by row, **forecasted EPS** and **actual EOD price.**\n",
    "\n",
    "**Observation 2:** For all datasets, all firms contain incomplete data across all time periods.\n",
    "> This is expected, as analyzing financial history spanning over 20 years will naturally be rife with missing and inaccurate data. The ***good news is that `eps_fcast`, `eps_actual`, and `eps_fcast_terms` are the most complete, while `eod_actual` contains the most amount of missing data.***\n",
    "\n",
    "\n",
    "**Moving forward, we need to make sure that these inconsistencies won't clash with our analysis.**\n",
    "> **My approach:** instead of looking at rows and columns ***with*** missing data, we'll be looking at rows and columns that ***are all missing data.***\n",
    "\n",
    "I figured that if there is some missing data here and there scattered throughout the matrix, then that should not skew our analysis too much.\n",
    "\n",
    "However, if there a significant amount of rows/columns that are entirely empty, then we ***might have to get ready to drop some dates and firms from our data overall.***"
   ]
  },
  {
   "cell_type": "code",
   "execution_count": 17,
   "metadata": {},
   "outputs": [
    {
     "name": "stdout",
     "output_type": "stream",
     "text": [
      "eps_fcast \n",
      " False    84\n",
      "dtype: int64 \n",
      "----\n",
      "eps_actual \n",
      " False    84\n",
      "dtype: int64 \n",
      "----\n",
      "eod_actual \n",
      " False    84\n",
      "dtype: int64 \n",
      "----\n",
      "eps_fcast_terms \n",
      " False    80\n",
      "dtype: int64 \n",
      "----\n"
     ]
    }
   ],
   "source": [
    "#check for empty rows, return False if row contains at least one non-null value, True if all are null\n",
    "for key, df in dict_dfs.items():\n",
    "    cols_check = df.columns\n",
    "    num_empty_rows = (df[cols_check].isnull().apply(lambda x: all(x), axis = 1)).value_counts()\n",
    "    print(key, '\\n', num_empty_rows, '\\n----')"
   ]
  },
  {
   "cell_type": "markdown",
   "metadata": {},
   "source": [
    "**Observation:** All datasets do not contain empty rows.\n",
    "> This is good news, since we can rely on the firms' averages per row instead of having to drop or limit time periods."
   ]
  },
  {
   "cell_type": "code",
   "execution_count": 18,
   "metadata": {},
   "outputs": [
    {
     "name": "stdout",
     "output_type": "stream",
     "text": [
      "eps_fcast \n",
      " False    506\n",
      "dtype: int64\n",
      "eps_actual \n",
      " False    506\n",
      "True       1\n",
      "dtype: int64\n",
      "eod_actual \n",
      " False    506\n",
      "dtype: int64\n",
      "eps_fcast_terms \n",
      " False    506\n",
      "True       1\n",
      "dtype: int64\n"
     ]
    }
   ],
   "source": [
    "#check for empty columns, return False if column contains at least one non-null value, True if all are null\n",
    "for key, df in dict_dfs.items():\n",
    "    cols_check = df.columns\n",
    "    num_empty_cols = df[cols_check].isnull().apply(lambda x: all(x), axis = 0).value_counts()\n",
    "    print(key, '\\n', num_empty_cols)"
   ]
  },
  {
   "cell_type": "markdown",
   "metadata": {},
   "source": [
    "**Observation:** `eps_actual` and `eps_fcast_terms` are the only datasets that have an empty column.\n",
    "> Let's isolate and look at the singular empty column for both DataFrames."
   ]
  },
  {
   "cell_type": "code",
   "execution_count": 19,
   "metadata": {},
   "outputs": [],
   "source": [
    "#create function to return an array of column names containing empty data\n",
    "def comb_cols(df):\n",
    "    empty_cols = []\n",
    "    for column in df:\n",
    "        if df[column].isnull().all():\n",
    "            empty_cols.append(column)\n",
    "            \n",
    "    return empty_cols"
   ]
  },
  {
   "cell_type": "code",
   "execution_count": 20,
   "metadata": {},
   "outputs": [
    {
     "name": "stdout",
     "output_type": "stream",
     "text": [
      "In eps_act, the firm ['AMCR UN Equity'] has no data.\n",
      "In eps_fc_terms, the firm ['AMCR UN Equity'] has no data.\n"
     ]
    }
   ],
   "source": [
    "#comb datasets for empty columns\n",
    "print('In eps_act, the firm {} has no data.'.format(comb_cols(eps_act)))\n",
    "print('In eps_fc_terms, the firm {} has no data.'.format(comb_cols(eps_fc_terms)))"
   ]
  },
  {
   "cell_type": "markdown",
   "metadata": {},
   "source": [
    "**Observation:** The same firm in both datasets is empty of data.\n",
    "> Though this is an annoying error to deal with, it still is to our advantage that both datasets ***share one firm*** in common for missing data. This way, we don't have to worry about dropping two entire firms.\n",
    "\n",
    "---"
   ]
  },
  {
   "cell_type": "markdown",
   "metadata": {},
   "source": [
    "### Check Duplicate Data"
   ]
  },
  {
   "cell_type": "code",
   "execution_count": 21,
   "metadata": {},
   "outputs": [
    {
     "name": "stdout",
     "output_type": "stream",
     "text": [
      "eps_fcast 0\n",
      "eps_actual 0\n",
      "eod_actual 0\n",
      "eps_fcast_terms 0\n"
     ]
    }
   ],
   "source": [
    "#check for duplicate data across all rows and columns\n",
    "for key, df in dict_dfs.items():\n",
    "    print(key, df.duplicated().sum())"
   ]
  },
  {
   "cell_type": "markdown",
   "metadata": {},
   "source": [
    "**Observation:** For all datasets, there are ***no duplicate data.*** This is good news!\n",
    "\n",
    "**Next, I will check for duplicated firm names.** Although the presence of duplicated firm names will inherently imply duplicated data, sometimes data gets dispersed in weird, unexpected ways, especially when dealing with large datasets."
   ]
  },
  {
   "cell_type": "code",
   "execution_count": 22,
   "metadata": {},
   "outputs": [
    {
     "name": "stdout",
     "output_type": "stream",
     "text": [
      "eps_fcast 0\n",
      "eps_actual 0\n",
      "eod_actual 0\n",
      "eps_fcast_terms 0\n"
     ]
    }
   ],
   "source": [
    "#check for duplicated firm names\n",
    "for key, df in dict_dfs.items():\n",
    "    print(key, df.columns.duplicated().sum())"
   ]
  },
  {
   "cell_type": "markdown",
   "metadata": {},
   "source": [
    "**Observation:** For all datasets, there are ***no duplicate firm names.*** This is also good news.\n",
    "\n",
    "### There is no need to dedupe our data during the cleaning stage.\n",
    "\n",
    "---\n",
    "\n",
    "### Check Data Types\n",
    "\n",
    "> Make sure all numerical data types are consistent.\n",
    "- EPS and EOD values must all be **floats**\n",
    "- Dates should all be **objects** (for now)\n",
    "\n",
    "- `eps_fc` contains ***1 date field,***, so we should expect ***1 object type.***\n",
    "- `eps_act` contains ***2 date fields,*** so we should expect ***2 object types.***\n",
    "- `eod_act` contains ***1 date field,*** so we should expect ***1 object type.***\n",
    "- `eps_fc_terms` contains ***2 date fields,*** so we should expect ***2 object types.***\n",
    "\n",
    "> And everything else should be a ***float*** type.\n",
    "\n",
    "**Examine each dataset's overall data types per column.**"
   ]
  },
  {
   "cell_type": "code",
   "execution_count": 23,
   "metadata": {},
   "outputs": [
    {
     "name": "stdout",
     "output_type": "stream",
     "text": [
      "eps_fcast \n",
      " float64    505\n",
      "object       1\n",
      "dtype: int64 \n",
      "--------\n",
      "eps_actual \n",
      " float64    499\n",
      "object       7\n",
      "int64        1\n",
      "dtype: int64 \n",
      "--------\n",
      "eod_actual \n",
      " float64    505\n",
      "object       1\n",
      "dtype: int64 \n",
      "--------\n",
      "eps_fcast_terms \n",
      " float64    505\n",
      "object       2\n",
      "dtype: int64 \n",
      "--------\n"
     ]
    }
   ],
   "source": [
    "for key, df in dict_dfs.items():\n",
    "    print(key,'\\n', df.dtypes.value_counts(), '\\n--------')"
   ]
  },
  {
   "cell_type": "markdown",
   "metadata": {},
   "source": [
    "**Observation 1:** `eps_fc`, `eod_act`, and `eps_fc_terms` are all consistent with the expected number of object types.\n",
    "\n",
    "> But we'll still have to double check these facts later.\n",
    "\n",
    "**Observation 2:** `eps_act` contains 5 more object columns than expected.\n",
    "\n",
    "---\n",
    "\n",
    "***Isolate 'Object' Columns under `eps_act`***"
   ]
  },
  {
   "cell_type": "code",
   "execution_count": 24,
   "metadata": {},
   "outputs": [
    {
     "data": {
      "text/html": [
       "<div>\n",
       "<style scoped>\n",
       "    .dataframe tbody tr th:only-of-type {\n",
       "        vertical-align: middle;\n",
       "    }\n",
       "\n",
       "    .dataframe tbody tr th {\n",
       "        vertical-align: top;\n",
       "    }\n",
       "\n",
       "    .dataframe thead th {\n",
       "        text-align: right;\n",
       "    }\n",
       "</style>\n",
       "<table border=\"1\" class=\"dataframe\">\n",
       "  <thead>\n",
       "    <tr style=\"text-align: right;\">\n",
       "      <th></th>\n",
       "      <th>Quarter</th>\n",
       "      <th>BRK/B UN Equity</th>\n",
       "      <th>FOX UW Equity</th>\n",
       "      <th>GOOG UW Equity</th>\n",
       "      <th>HCP UN Equity</th>\n",
       "      <th>SYMC UW Equity</th>\n",
       "      <th>UA UN Equity</th>\n",
       "    </tr>\n",
       "  </thead>\n",
       "  <tbody>\n",
       "    <tr>\n",
       "      <th>0</th>\n",
       "      <td>Q1</td>\n",
       "      <td>#N/A Field Not Applicable</td>\n",
       "      <td>#N/A Field Not Applicable</td>\n",
       "      <td>#N/A Field Not Applicable</td>\n",
       "      <td>#N/A Field Not Applicable</td>\n",
       "      <td>#N/A Field Not Applicable</td>\n",
       "      <td>#N/A Field Not Applicable</td>\n",
       "    </tr>\n",
       "    <tr>\n",
       "      <th>1</th>\n",
       "      <td>Q2</td>\n",
       "      <td>#N/A Field Not Applicable</td>\n",
       "      <td>#N/A Field Not Applicable</td>\n",
       "      <td>#N/A Field Not Applicable</td>\n",
       "      <td>#N/A Field Not Applicable</td>\n",
       "      <td>#N/A Field Not Applicable</td>\n",
       "      <td>#N/A Field Not Applicable</td>\n",
       "    </tr>\n",
       "    <tr>\n",
       "      <th>2</th>\n",
       "      <td>Q3</td>\n",
       "      <td>#N/A Field Not Applicable</td>\n",
       "      <td>#N/A Field Not Applicable</td>\n",
       "      <td>#N/A Field Not Applicable</td>\n",
       "      <td>#N/A Field Not Applicable</td>\n",
       "      <td>#N/A Field Not Applicable</td>\n",
       "      <td>#N/A Field Not Applicable</td>\n",
       "    </tr>\n",
       "    <tr>\n",
       "      <th>3</th>\n",
       "      <td>Q4</td>\n",
       "      <td>#N/A Field Not Applicable</td>\n",
       "      <td>#N/A Field Not Applicable</td>\n",
       "      <td>#N/A Field Not Applicable</td>\n",
       "      <td>#N/A Field Not Applicable</td>\n",
       "      <td>#N/A Field Not Applicable</td>\n",
       "      <td>#N/A Field Not Applicable</td>\n",
       "    </tr>\n",
       "    <tr>\n",
       "      <th>4</th>\n",
       "      <td>Q1</td>\n",
       "      <td>#N/A Field Not Applicable</td>\n",
       "      <td>#N/A Field Not Applicable</td>\n",
       "      <td>#N/A Field Not Applicable</td>\n",
       "      <td>#N/A Field Not Applicable</td>\n",
       "      <td>#N/A Field Not Applicable</td>\n",
       "      <td>#N/A Field Not Applicable</td>\n",
       "    </tr>\n",
       "  </tbody>\n",
       "</table>\n",
       "</div>"
      ],
      "text/plain": [
       "  Quarter            BRK/B UN Equity              FOX UW Equity  \\\n",
       "0      Q1  #N/A Field Not Applicable  #N/A Field Not Applicable   \n",
       "1      Q2  #N/A Field Not Applicable  #N/A Field Not Applicable   \n",
       "2      Q3  #N/A Field Not Applicable  #N/A Field Not Applicable   \n",
       "3      Q4  #N/A Field Not Applicable  #N/A Field Not Applicable   \n",
       "4      Q1  #N/A Field Not Applicable  #N/A Field Not Applicable   \n",
       "\n",
       "              GOOG UW Equity              HCP UN Equity  \\\n",
       "0  #N/A Field Not Applicable  #N/A Field Not Applicable   \n",
       "1  #N/A Field Not Applicable  #N/A Field Not Applicable   \n",
       "2  #N/A Field Not Applicable  #N/A Field Not Applicable   \n",
       "3  #N/A Field Not Applicable  #N/A Field Not Applicable   \n",
       "4  #N/A Field Not Applicable  #N/A Field Not Applicable   \n",
       "\n",
       "              SYMC UW Equity               UA UN Equity  \n",
       "0  #N/A Field Not Applicable  #N/A Field Not Applicable  \n",
       "1  #N/A Field Not Applicable  #N/A Field Not Applicable  \n",
       "2  #N/A Field Not Applicable  #N/A Field Not Applicable  \n",
       "3  #N/A Field Not Applicable  #N/A Field Not Applicable  \n",
       "4  #N/A Field Not Applicable  #N/A Field Not Applicable  "
      ]
     },
     "execution_count": 24,
     "metadata": {},
     "output_type": "execute_result"
    }
   ],
   "source": [
    "eps_act.select_dtypes(include = 'object').head()"
   ]
  },
  {
   "cell_type": "markdown",
   "metadata": {},
   "source": [
    "**Observation:** These firms are all 'Object' types because there is no recorded data under them.\n",
    "> This is actually missing data. From `eps_act`, there are 6 firms that are empty of data.\n",
    "\n",
    "### This was a tricky situation to spot, but I caught it in the end. There actually is missing data after all, but we missed those 5 entire firms during the \"Check Missing Data\" stage, because they were recorded as objects. This means that Pandas wrongly recognized these 5 firms as \"complete.\""
   ]
  },
  {
   "cell_type": "markdown",
   "metadata": {},
   "source": [
    "### Quality\n",
    "\n",
    "**Missing Data**\n",
    "> **In the end, I decided not to drop any rows or columns with missing data. For the sake of data preservation, I kept all missing data recorded as NaN.**\n",
    "\n",
    "-  `eps_fc_terms` is missing the year 1999.\n",
    "- `eps_act` and `eps_fc_act` have one firm with empty data: 'AMCR UN Equity'\n",
    "- `eps_act` contains 7 empty firms: BRK/B UN Equity, FOX UW Equity, GOOG UW Equity, HCP UN Equity, SYMC UW Equity, UA UN Equity\n",
    "--- \n",
    "- Unnormalized date formats among all DataFrames.\n",
    "- Firm names across all DataFrames are capitalized and contain white space.\n",
    "- Erroneous data type for `eps_act` Object columns.\n",
    "- Erroneous data type for **date** under `eod_act`\n",
    "- Erroneous data type for **forecast_made** under `eps_fc_terms`\n",
    "- Erroneous data types for **term_forecast** under `eps_act`, `eps_fc`, and `eps_fc_terms` to DateTime quarter index\n",
    "- No recorded quarterly data for `eod_act`\n",
    "---\n",
    "- Firm names not referenced by **firm_id**\n",
    "- No recorded 20-year for each dataset.\n",
    "- No recorded yearly averages for each dataset\n",
    "- No recorded quarterly averages for each dataset.\n",
    "---\n",
    "- Features datasets \n",
    "\n",
    "### Tidiness\n",
    "- Firm 20-year, yearly, and quarterly averages contained in different DataFrames.\n",
    "- Features data is unnormalized.\n",
    "\n",
    "\n",
    "### C) CLEAN <a id=\"clean\"></a>"
   ]
  },
  {
   "cell_type": "code",
   "execution_count": 63,
   "metadata": {},
   "outputs": [],
   "source": [
    "eps_fc_clean = eps_fc.copy()\n",
    "eps_act_clean = eps_act.copy()\n",
    "eod_act_clean = eod_act.copy()\n",
    "eps_fc_terms_clean = eps_fc_terms.copy()"
   ]
  },
  {
   "cell_type": "code",
   "execution_count": 64,
   "metadata": {},
   "outputs": [],
   "source": [
    "#create dictionary of all clean dfs for iteration\n",
    "dict_clean = {'eps_fc_clean' : eps_fc_clean,\n",
    "             'eps_act_clean' : eps_act_clean,\n",
    "             'eod_act_clean' : eod_act_clean,\n",
    "             'eps_fc_terms_clean' : eps_fc_terms_clean}"
   ]
  },
  {
   "cell_type": "markdown",
   "metadata": {},
   "source": [
    "### Code\n",
    "> **ISSUE 1:**  Unnormalized date formats among all DataFrames.\n",
    "\n",
    "**Define:** \n",
    "- Conjoin `eps_act_clean` dates from 2 columns into 1 to match `eps_fc_clean` format.\n",
    "> The format we want is YYYYQN. For example, Quarter 1 in 2005 will be 2005Q1.\n",
    "\n",
    "- Rename both fiscal periods under `eps_act_clean` and `eps_fc_clean` to **term_forecast.**\n",
    "\n",
    "- For both fiscal periods under `eps_fc_terms_clean`, add an underscore.\n",
    "- Under `eps_fc_terms_clean`, format **term_forecasted** to YYYYQN."
   ]
  },
  {
   "cell_type": "code",
   "execution_count": 65,
   "metadata": {},
   "outputs": [],
   "source": [
    "#create new column, combine year and quarter into 1 string\n",
    "eps_act_clean['term_forecast'] = eps_act_clean['Year'].map(str) + eps_act_clean['Quarter']"
   ]
  },
  {
   "cell_type": "code",
   "execution_count": 66,
   "metadata": {},
   "outputs": [],
   "source": [
    "#drop 'Year' and 'Quarter'\n",
    "eps_act_clean.drop(['Year', 'Quarter'], axis = 1, inplace = True)"
   ]
  },
  {
   "cell_type": "code",
   "execution_count": 67,
   "metadata": {},
   "outputs": [],
   "source": [
    "#designate new column as first column\n",
    "reorder_cols = eps_act_clean.columns.tolist()\n",
    "reorder_cols.insert(0, reorder_cols.pop(reorder_cols.index('term_forecast')))\n",
    "\n",
    "eps_act_clean = eps_act_clean.reindex(columns = reorder_cols)"
   ]
  },
  {
   "cell_type": "code",
   "execution_count": 68,
   "metadata": {},
   "outputs": [],
   "source": [
    "#rename eps_fc_clean fiscal period to term_forecast\n",
    "eps_fc_clean.rename(index = str, columns = {'Term Forecasted' : 'term_forecast'}, inplace = True)\n",
    "\n",
    "#reassign to dictionary\n",
    "dict_clean['eps_act_clean'] = eps_act_clean"
   ]
  },
  {
   "cell_type": "code",
   "execution_count": 69,
   "metadata": {},
   "outputs": [
    {
     "name": "stderr",
     "output_type": "stream",
     "text": [
      "D:\\Anaconda3\\lib\\site-packages\\pandas\\core\\generic.py:5096: SettingWithCopyWarning: \n",
      "A value is trying to be set on a copy of a slice from a DataFrame.\n",
      "Try using .loc[row_indexer,col_indexer] = value instead\n",
      "\n",
      "See the caveats in the documentation: http://pandas.pydata.org/pandas-docs/stable/indexing.html#indexing-view-versus-copy\n",
      "  self[name] = value\n"
     ]
    }
   ],
   "source": [
    "eps_fc_clean[4:].term_forecast = '20' + eps_fc_clean[4:].term_forecast.astype(str)"
   ]
  },
  {
   "cell_type": "code",
   "execution_count": 70,
   "metadata": {},
   "outputs": [],
   "source": [
    "#add an underscore for both date periods under eps_fc_terms_clean\n",
    "eps_fc_terms_clean.rename(index = str, columns = {'Forecast Made' : 'forecast_made',\n",
    "                                                 'Term Forecasted' : 'term_forecast'},\n",
    "                         inplace = True)"
   ]
  },
  {
   "cell_type": "code",
   "execution_count": 71,
   "metadata": {},
   "outputs": [],
   "source": [
    "#under term_forecaste, add a '20' before each string\n",
    "eps_fc_terms_clean.term_forecast = '20' + eps_fc_terms_clean.term_forecast.astype(str)"
   ]
  },
  {
   "cell_type": "markdown",
   "metadata": {},
   "source": [
    "### Test"
   ]
  },
  {
   "cell_type": "code",
   "execution_count": 72,
   "metadata": {},
   "outputs": [
    {
     "data": {
      "text/html": [
       "<div>\n",
       "<style scoped>\n",
       "    .dataframe tbody tr th:only-of-type {\n",
       "        vertical-align: middle;\n",
       "    }\n",
       "\n",
       "    .dataframe tbody tr th {\n",
       "        vertical-align: top;\n",
       "    }\n",
       "\n",
       "    .dataframe thead th {\n",
       "        text-align: right;\n",
       "    }\n",
       "</style>\n",
       "<table border=\"1\" class=\"dataframe\">\n",
       "  <thead>\n",
       "    <tr style=\"text-align: right;\">\n",
       "      <th></th>\n",
       "      <th>term_forecast</th>\n",
       "      <th>A UN Equity</th>\n",
       "      <th>AAL UW Equity</th>\n",
       "      <th>AAP UN Equity</th>\n",
       "      <th>AAPL UW Equity</th>\n",
       "      <th>ABBV UN Equity</th>\n",
       "      <th>ABC UN Equity</th>\n",
       "      <th>ABMD UW Equity</th>\n",
       "      <th>ABT UN Equity</th>\n",
       "      <th>ACN UN Equity</th>\n",
       "      <th>...</th>\n",
       "      <th>XEL UW Equity</th>\n",
       "      <th>XLNX UW Equity</th>\n",
       "      <th>XOM UN Equity</th>\n",
       "      <th>XRAY UW Equity</th>\n",
       "      <th>XRX UN Equity</th>\n",
       "      <th>XYL UN Equity</th>\n",
       "      <th>YUM UN Equity</th>\n",
       "      <th>ZBH UN Equity</th>\n",
       "      <th>ZION UW Equity</th>\n",
       "      <th>ZTS UN Equity</th>\n",
       "    </tr>\n",
       "  </thead>\n",
       "  <tbody>\n",
       "    <tr>\n",
       "      <th>4</th>\n",
       "      <td>2000Q1</td>\n",
       "      <td>NaN</td>\n",
       "      <td>NaN</td>\n",
       "      <td>NaN</td>\n",
       "      <td>0.032</td>\n",
       "      <td>NaN</td>\n",
       "      <td>NaN</td>\n",
       "      <td>NaN</td>\n",
       "      <td>0.441</td>\n",
       "      <td>NaN</td>\n",
       "      <td>...</td>\n",
       "      <td>0.283</td>\n",
       "      <td>0.143</td>\n",
       "      <td>0.436</td>\n",
       "      <td>0.138</td>\n",
       "      <td>NaN</td>\n",
       "      <td>NaN</td>\n",
       "      <td>0.138</td>\n",
       "      <td>NaN</td>\n",
       "      <td>0.668</td>\n",
       "      <td>NaN</td>\n",
       "    </tr>\n",
       "    <tr>\n",
       "      <th>15</th>\n",
       "      <td>2002Q4</td>\n",
       "      <td>NaN</td>\n",
       "      <td>NaN</td>\n",
       "      <td>0.140</td>\n",
       "      <td>0.002</td>\n",
       "      <td>NaN</td>\n",
       "      <td>NaN</td>\n",
       "      <td>-0.312</td>\n",
       "      <td>0.558</td>\n",
       "      <td>0.160</td>\n",
       "      <td>...</td>\n",
       "      <td>0.331</td>\n",
       "      <td>0.087</td>\n",
       "      <td>0.493</td>\n",
       "      <td>0.258</td>\n",
       "      <td>NaN</td>\n",
       "      <td>NaN</td>\n",
       "      <td>0.273</td>\n",
       "      <td>0.338</td>\n",
       "      <td>0.944</td>\n",
       "      <td>NaN</td>\n",
       "    </tr>\n",
       "    <tr>\n",
       "      <th>80</th>\n",
       "      <td>2019Q1</td>\n",
       "      <td>0.731</td>\n",
       "      <td>0.506</td>\n",
       "      <td>2.371</td>\n",
       "      <td>4.167</td>\n",
       "      <td>2.059</td>\n",
       "      <td>1.521</td>\n",
       "      <td>0.878</td>\n",
       "      <td>0.613</td>\n",
       "      <td>1.855</td>\n",
       "      <td>...</td>\n",
       "      <td>0.615</td>\n",
       "      <td>0.800</td>\n",
       "      <td>0.716</td>\n",
       "      <td>0.386</td>\n",
       "      <td>0.8</td>\n",
       "      <td>0.564</td>\n",
       "      <td>0.813</td>\n",
       "      <td>1.863</td>\n",
       "      <td>1.048</td>\n",
       "      <td>0.788</td>\n",
       "    </tr>\n",
       "  </tbody>\n",
       "</table>\n",
       "<p>3 rows × 506 columns</p>\n",
       "</div>"
      ],
      "text/plain": [
       "   term_forecast  A UN Equity  AAL UW Equity  AAP UN Equity  AAPL UW Equity  \\\n",
       "4         2000Q1          NaN            NaN            NaN           0.032   \n",
       "15        2002Q4          NaN            NaN          0.140           0.002   \n",
       "80        2019Q1        0.731          0.506          2.371           4.167   \n",
       "\n",
       "    ABBV UN Equity  ABC UN Equity  ABMD UW Equity  ABT UN Equity  \\\n",
       "4              NaN            NaN             NaN          0.441   \n",
       "15             NaN            NaN          -0.312          0.558   \n",
       "80           2.059          1.521           0.878          0.613   \n",
       "\n",
       "    ACN UN Equity  ...  XEL UW Equity  XLNX UW Equity  XOM UN Equity  \\\n",
       "4             NaN  ...          0.283           0.143          0.436   \n",
       "15          0.160  ...          0.331           0.087          0.493   \n",
       "80          1.855  ...          0.615           0.800          0.716   \n",
       "\n",
       "    XRAY UW Equity  XRX UN Equity  XYL UN Equity  YUM UN Equity  \\\n",
       "4            0.138            NaN            NaN          0.138   \n",
       "15           0.258            NaN            NaN          0.273   \n",
       "80           0.386            0.8          0.564          0.813   \n",
       "\n",
       "    ZBH UN Equity  ZION UW Equity  ZTS UN Equity  \n",
       "4             NaN           0.668            NaN  \n",
       "15          0.338           0.944            NaN  \n",
       "80          1.863           1.048          0.788  \n",
       "\n",
       "[3 rows x 506 columns]"
      ]
     },
     "execution_count": 72,
     "metadata": {},
     "output_type": "execute_result"
    }
   ],
   "source": [
    "#give overview of both DataFrames\n",
    "eps_fc_clean.sample(3)"
   ]
  },
  {
   "cell_type": "code",
   "execution_count": 73,
   "metadata": {},
   "outputs": [
    {
     "data": {
      "text/html": [
       "<div>\n",
       "<style scoped>\n",
       "    .dataframe tbody tr th:only-of-type {\n",
       "        vertical-align: middle;\n",
       "    }\n",
       "\n",
       "    .dataframe tbody tr th {\n",
       "        vertical-align: top;\n",
       "    }\n",
       "\n",
       "    .dataframe thead th {\n",
       "        text-align: right;\n",
       "    }\n",
       "</style>\n",
       "<table border=\"1\" class=\"dataframe\">\n",
       "  <thead>\n",
       "    <tr style=\"text-align: right;\">\n",
       "      <th></th>\n",
       "      <th>term_forecast</th>\n",
       "      <th>A UN Equity</th>\n",
       "      <th>AAL UW Equity</th>\n",
       "      <th>AAP UN Equity</th>\n",
       "      <th>AAPL UW Equity</th>\n",
       "      <th>ABBV UN Equity</th>\n",
       "      <th>ABC UN Equity</th>\n",
       "      <th>ABMD UW Equity</th>\n",
       "      <th>ABT UN Equity</th>\n",
       "      <th>ACN UN Equity</th>\n",
       "      <th>...</th>\n",
       "      <th>XEL UW Equity</th>\n",
       "      <th>XLNX UW Equity</th>\n",
       "      <th>XOM UN Equity</th>\n",
       "      <th>XRAY UW Equity</th>\n",
       "      <th>XRX UN Equity</th>\n",
       "      <th>XYL UN Equity</th>\n",
       "      <th>YUM UN Equity</th>\n",
       "      <th>ZBH UN Equity</th>\n",
       "      <th>ZION UW Equity</th>\n",
       "      <th>ZTS UN Equity</th>\n",
       "    </tr>\n",
       "  </thead>\n",
       "  <tbody>\n",
       "    <tr>\n",
       "      <th>53</th>\n",
       "      <td>2012Q2</td>\n",
       "      <td>0.73</td>\n",
       "      <td>-0.72</td>\n",
       "      <td>1.36</td>\n",
       "      <td>1.778571</td>\n",
       "      <td>0.8</td>\n",
       "      <td>0.820</td>\n",
       "      <td>0.02</td>\n",
       "      <td>1.09</td>\n",
       "      <td>1.00</td>\n",
       "      <td>...</td>\n",
       "      <td>0.38</td>\n",
       "      <td>0.48</td>\n",
       "      <td>3.41</td>\n",
       "      <td>0.57</td>\n",
       "      <td>0.92</td>\n",
       "      <td>0.48</td>\n",
       "      <td>0.71</td>\n",
       "      <td>1.22</td>\n",
       "      <td>0.30</td>\n",
       "      <td>0.35</td>\n",
       "    </tr>\n",
       "    <tr>\n",
       "      <th>43</th>\n",
       "      <td>2009Q4</td>\n",
       "      <td>0.07</td>\n",
       "      <td>-1.03</td>\n",
       "      <td>0.37</td>\n",
       "      <td>0.402857</td>\n",
       "      <td>NaN</td>\n",
       "      <td>0.440</td>\n",
       "      <td>-0.23</td>\n",
       "      <td>0.98</td>\n",
       "      <td>0.41</td>\n",
       "      <td>...</td>\n",
       "      <td>0.37</td>\n",
       "      <td>0.28</td>\n",
       "      <td>1.27</td>\n",
       "      <td>0.51</td>\n",
       "      <td>0.84</td>\n",
       "      <td>NaN</td>\n",
       "      <td>0.46</td>\n",
       "      <td>0.74</td>\n",
       "      <td>-1.26</td>\n",
       "      <td>NaN</td>\n",
       "    </tr>\n",
       "    <tr>\n",
       "      <th>17</th>\n",
       "      <td>2003Q2</td>\n",
       "      <td>-0.31</td>\n",
       "      <td>-0.47</td>\n",
       "      <td>0.40</td>\n",
       "      <td>0.002857</td>\n",
       "      <td>NaN</td>\n",
       "      <td>0.265</td>\n",
       "      <td>-0.25</td>\n",
       "      <td>0.16</td>\n",
       "      <td>0.25</td>\n",
       "      <td>...</td>\n",
       "      <td>-0.71</td>\n",
       "      <td>0.11</td>\n",
       "      <td>0.63</td>\n",
       "      <td>0.28</td>\n",
       "      <td>0.40</td>\n",
       "      <td>NaN</td>\n",
       "      <td>0.21</td>\n",
       "      <td>0.45</td>\n",
       "      <td>1.03</td>\n",
       "      <td>NaN</td>\n",
       "    </tr>\n",
       "  </tbody>\n",
       "</table>\n",
       "<p>3 rows × 506 columns</p>\n",
       "</div>"
      ],
      "text/plain": [
       "   term_forecast  A UN Equity  AAL UW Equity  AAP UN Equity  AAPL UW Equity  \\\n",
       "53        2012Q2         0.73          -0.72           1.36        1.778571   \n",
       "43        2009Q4         0.07          -1.03           0.37        0.402857   \n",
       "17        2003Q2        -0.31          -0.47           0.40        0.002857   \n",
       "\n",
       "    ABBV UN Equity  ABC UN Equity  ABMD UW Equity  ABT UN Equity  \\\n",
       "53             0.8          0.820            0.02           1.09   \n",
       "43             NaN          0.440           -0.23           0.98   \n",
       "17             NaN          0.265           -0.25           0.16   \n",
       "\n",
       "    ACN UN Equity  ...  XEL UW Equity  XLNX UW Equity  XOM UN Equity  \\\n",
       "53           1.00  ...           0.38            0.48           3.41   \n",
       "43           0.41  ...           0.37            0.28           1.27   \n",
       "17           0.25  ...          -0.71            0.11           0.63   \n",
       "\n",
       "    XRAY UW Equity  XRX UN Equity  XYL UN Equity  YUM UN Equity  \\\n",
       "53            0.57           0.92           0.48           0.71   \n",
       "43            0.51           0.84            NaN           0.46   \n",
       "17            0.28           0.40            NaN           0.21   \n",
       "\n",
       "    ZBH UN Equity  ZION UW Equity  ZTS UN Equity  \n",
       "53           1.22            0.30           0.35  \n",
       "43           0.74           -1.26            NaN  \n",
       "17           0.45            1.03            NaN  \n",
       "\n",
       "[3 rows x 506 columns]"
      ]
     },
     "execution_count": 73,
     "metadata": {},
     "output_type": "execute_result"
    }
   ],
   "source": [
    "eps_act_clean.sample(3)"
   ]
  },
  {
   "cell_type": "code",
   "execution_count": 74,
   "metadata": {},
   "outputs": [
    {
     "data": {
      "text/plain": [
       "True    84\n",
       "Name: term_forecast, dtype: int64"
      ]
     },
     "execution_count": 74,
     "metadata": {},
     "output_type": "execute_result"
    }
   ],
   "source": [
    "#check consistent format between both `term_forecast` fields\n",
    "forecasts = pd.concat([eps_fc_clean.term_forecast, eps_act_clean.term_forecast])\n",
    "\n",
    "#count number of instances where unique term_forecast values are the same\n",
    "(forecasts.value_counts().sort_index() == 2).value_counts()"
   ]
  },
  {
   "cell_type": "code",
   "execution_count": 75,
   "metadata": {},
   "outputs": [
    {
     "name": "stdout",
     "output_type": "stream",
     "text": [
      "Index(['term_forecast', 'A UN Equity'], dtype='object')\n",
      "Index(['term_forecast', 'A UN Equity'], dtype='object')\n",
      "Index(['date', 'A UN Equity'], dtype='object')\n",
      "Index(['forecast_made', 'term_forecast'], dtype='object')\n"
     ]
    }
   ],
   "source": [
    "#check that dates are the first columns\n",
    "for key, df in dict_clean.items():\n",
    "    print(df.columns[:2])"
   ]
  },
  {
   "cell_type": "markdown",
   "metadata": {},
   "source": [
    "## The **term_forecast** fields under `eps_fc_clean`, `eps_act_clean`, and `eps_fc_terms_clean` are all normalized to YYYQN format. This means `eod_act_clean` is the only one with a different date formatting rule.\n",
    "\n",
    "### Code\n",
    "> **ISSUE 2:** Firm names across all DataFrames are capitalized and contain white space.\n",
    "\n",
    "**Define:** Iterate across all DataFrames. Get rid of everything from the first whitespace character onward. Lowercase column names."
   ]
  },
  {
   "cell_type": "code",
   "execution_count": 76,
   "metadata": {},
   "outputs": [],
   "source": [
    "#lowercase names\n",
    "for key, df in dict_clean.items():\n",
    "    lower_cols = [x.lower() for x in df.columns]\n",
    "    df.columns = lower_cols"
   ]
  },
  {
   "cell_type": "code",
   "execution_count": 77,
   "metadata": {},
   "outputs": [],
   "source": [
    "#get rid of white space\n",
    "for key, df in dict_clean.items():\n",
    "    stock_symbols = [x.split(' ', 1)[0] for x in df.columns]\n",
    "    df.columns = stock_symbols"
   ]
  },
  {
   "cell_type": "markdown",
   "metadata": {},
   "source": [
    "### Test"
   ]
  },
  {
   "cell_type": "code",
   "execution_count": 78,
   "metadata": {},
   "outputs": [],
   "source": [
    "#check that all firm names are consistent, should return 505 firm results\n",
    "all_ticks = []\n",
    "for key, df in dict_clean.items():\n",
    "    firm_ticks = np.array(df.columns.values)\n",
    "    all_ticks.append(firm_ticks)\n",
    "    \n",
    "#flatten array\n",
    "all_ticks = np.hstack(all_ticks)\n",
    "\n",
    "#assign tick names to Pandas Series\n",
    "all_ticks = pd.Series(all_ticks)"
   ]
  },
  {
   "cell_type": "code",
   "execution_count": 79,
   "metadata": {},
   "outputs": [
    {
     "data": {
      "text/plain": [
       "forecast_made    1\n",
       "date             1\n",
       "term_forecast    3\n",
       "tif              4\n",
       "fdx              4\n",
       "dtype: int64"
      ]
     },
     "execution_count": 79,
     "metadata": {},
     "output_type": "execute_result"
    }
   ],
   "source": [
    "#look at lowest 3 value counts, SHOULD BE DATE PERIODS\n",
    "all_ticks.value_counts().sort_values()[:5]"
   ]
  },
  {
   "cell_type": "code",
   "execution_count": 80,
   "metadata": {},
   "outputs": [
    {
     "data": {
      "text/plain": [
       "aig    4\n",
       "whr    4\n",
       "maa    4\n",
       "clx    4\n",
       "dov    4\n",
       "dtype: int64"
      ]
     },
     "execution_count": 80,
     "metadata": {},
     "output_type": "execute_result"
    }
   ],
   "source": [
    "#look at highest value counts, should be FOUR (because there are 4 dataframes all with firm names)\n",
    "all_ticks.value_counts().sort_values(ascending = False)[:5]"
   ]
  },
  {
   "cell_type": "code",
   "execution_count": 81,
   "metadata": {},
   "outputs": [
    {
     "data": {
      "text/plain": [
       "False"
      ]
     },
     "execution_count": 81,
     "metadata": {},
     "output_type": "execute_result"
    }
   ],
   "source": [
    "#check for any upper case instance among columns\n",
    "all_ticks.str.isupper().any()"
   ]
  },
  {
   "cell_type": "code",
   "execution_count": 82,
   "metadata": {},
   "outputs": [
    {
     "data": {
      "text/plain": [
       "False"
      ]
     },
     "execution_count": 82,
     "metadata": {},
     "output_type": "execute_result"
    }
   ],
   "source": [
    "#check for any white space\n",
    "all_ticks.str.contains(' ').any()"
   ]
  },
  {
   "cell_type": "markdown",
   "metadata": {},
   "source": [
    "### Code\n",
    "> **ISSUE 3:** Erroneous data type for `eps_act` Object columns.\n",
    "\n",
    "**Define:**\n",
    "\n",
    "- Convert '#N/A Field Not Applicable' strings into 'NaN'\n",
    "- Convert the 6 `eps_act_clean` Object columns into NaN type."
   ]
  },
  {
   "cell_type": "code",
   "execution_count": 83,
   "metadata": {},
   "outputs": [],
   "source": [
    "#isolate 6 firm names recorded as 'object'\n",
    "obj_ticks = eps_act_clean.select_dtypes(include = 'object').columns.values\n",
    "\n",
    "#exclude 'term_forecast'\n",
    "obj_ticks = obj_ticks[1:]"
   ]
  },
  {
   "cell_type": "code",
   "execution_count": 84,
   "metadata": {},
   "outputs": [],
   "source": [
    "#convert to NaN\n",
    "str_replace = '#N/A Field Not Applicable'\n",
    "eps_act_clean[obj_ticks] = eps_act_clean[obj_ticks].replace(str_replace, np.nan)"
   ]
  },
  {
   "cell_type": "markdown",
   "metadata": {},
   "source": [
    "### Test"
   ]
  },
  {
   "cell_type": "code",
   "execution_count": 85,
   "metadata": {},
   "outputs": [
    {
     "name": "stdout",
     "output_type": "stream",
     "text": [
      "<class 'pandas.core.frame.DataFrame'>\n",
      "RangeIndex: 84 entries, 0 to 83\n",
      "Columns: 506 entries, term_forecast to zts\n",
      "dtypes: float64(505), object(1)\n",
      "memory usage: 332.1+ KB\n"
     ]
    }
   ],
   "source": [
    "eps_act_clean.info()"
   ]
  },
  {
   "cell_type": "code",
   "execution_count": 86,
   "metadata": {},
   "outputs": [
    {
     "data": {
      "text/plain": [
       "['term_forecast']"
      ]
     },
     "execution_count": 86,
     "metadata": {},
     "output_type": "execute_result"
    }
   ],
   "source": [
    "#make sure 'term_forecast' is the only object-type column\n",
    "eps_act_clean.select_dtypes(include = 'object').columns.values.tolist()"
   ]
  },
  {
   "cell_type": "markdown",
   "metadata": {},
   "source": [
    "### Code\n",
    "\n",
    "> **ISSUE 4:**  Erroneous data type for **date** under `eod_act`\n",
    "\n",
    "**Define:** Convert column `date` to DateTime object."
   ]
  },
  {
   "cell_type": "code",
   "execution_count": 87,
   "metadata": {},
   "outputs": [],
   "source": [
    "eod_act_clean.date = pd.to_datetime(eod_act_clean.date, infer_datetime_format=True)"
   ]
  },
  {
   "cell_type": "markdown",
   "metadata": {},
   "source": [
    "### Test"
   ]
  },
  {
   "cell_type": "code",
   "execution_count": 88,
   "metadata": {},
   "outputs": [
    {
     "data": {
      "text/html": [
       "<div>\n",
       "<style scoped>\n",
       "    .dataframe tbody tr th:only-of-type {\n",
       "        vertical-align: middle;\n",
       "    }\n",
       "\n",
       "    .dataframe tbody tr th {\n",
       "        vertical-align: top;\n",
       "    }\n",
       "\n",
       "    .dataframe thead th {\n",
       "        text-align: right;\n",
       "    }\n",
       "</style>\n",
       "<table border=\"1\" class=\"dataframe\">\n",
       "  <thead>\n",
       "    <tr style=\"text-align: right;\">\n",
       "      <th></th>\n",
       "      <th>date</th>\n",
       "      <th>a</th>\n",
       "      <th>aal</th>\n",
       "      <th>aap</th>\n",
       "      <th>aapl</th>\n",
       "      <th>abbv</th>\n",
       "      <th>abc</th>\n",
       "      <th>abmd</th>\n",
       "      <th>abt</th>\n",
       "      <th>acn</th>\n",
       "      <th>...</th>\n",
       "      <th>xel</th>\n",
       "      <th>xlnx</th>\n",
       "      <th>xom</th>\n",
       "      <th>xray</th>\n",
       "      <th>xrx</th>\n",
       "      <th>xyl</th>\n",
       "      <th>yum</th>\n",
       "      <th>zbh</th>\n",
       "      <th>zion</th>\n",
       "      <th>zts</th>\n",
       "    </tr>\n",
       "  </thead>\n",
       "  <tbody>\n",
       "    <tr>\n",
       "      <th>21</th>\n",
       "      <td>2004-06-30</td>\n",
       "      <td>19.7280</td>\n",
       "      <td>NaN</td>\n",
       "      <td>29.453</td>\n",
       "      <td>2.3243</td>\n",
       "      <td>NaN</td>\n",
       "      <td>14.5017</td>\n",
       "      <td>12.58</td>\n",
       "      <td>19.5026</td>\n",
       "      <td>27.48</td>\n",
       "      <td>...</td>\n",
       "      <td>NaN</td>\n",
       "      <td>33.31</td>\n",
       "      <td>44.41</td>\n",
       "      <td>26.050</td>\n",
       "      <td>38.2016</td>\n",
       "      <td>NaN</td>\n",
       "      <td>13.3816</td>\n",
       "      <td>88.20</td>\n",
       "      <td>61.45</td>\n",
       "      <td>NaN</td>\n",
       "    </tr>\n",
       "    <tr>\n",
       "      <th>20</th>\n",
       "      <td>2004-03-31</td>\n",
       "      <td>21.3114</td>\n",
       "      <td>NaN</td>\n",
       "      <td>27.113</td>\n",
       "      <td>1.9321</td>\n",
       "      <td>NaN</td>\n",
       "      <td>13.2645</td>\n",
       "      <td>8.10</td>\n",
       "      <td>18.3939</td>\n",
       "      <td>24.80</td>\n",
       "      <td>...</td>\n",
       "      <td>NaN</td>\n",
       "      <td>38.00</td>\n",
       "      <td>41.59</td>\n",
       "      <td>22.165</td>\n",
       "      <td>38.3860</td>\n",
       "      <td>NaN</td>\n",
       "      <td>13.6584</td>\n",
       "      <td>73.78</td>\n",
       "      <td>57.20</td>\n",
       "      <td>NaN</td>\n",
       "    </tr>\n",
       "  </tbody>\n",
       "</table>\n",
       "<p>2 rows × 506 columns</p>\n",
       "</div>"
      ],
      "text/plain": [
       "         date        a  aal     aap    aapl  abbv      abc   abmd      abt  \\\n",
       "21 2004-06-30  19.7280  NaN  29.453  2.3243   NaN  14.5017  12.58  19.5026   \n",
       "20 2004-03-31  21.3114  NaN  27.113  1.9321   NaN  13.2645   8.10  18.3939   \n",
       "\n",
       "      acn  ...  xel   xlnx    xom    xray      xrx  xyl      yum    zbh  \\\n",
       "21  27.48  ...  NaN  33.31  44.41  26.050  38.2016  NaN  13.3816  88.20   \n",
       "20  24.80  ...  NaN  38.00  41.59  22.165  38.3860  NaN  13.6584  73.78   \n",
       "\n",
       "     zion  zts  \n",
       "21  61.45  NaN  \n",
       "20  57.20  NaN  \n",
       "\n",
       "[2 rows x 506 columns]"
      ]
     },
     "execution_count": 88,
     "metadata": {},
     "output_type": "execute_result"
    }
   ],
   "source": [
    "eod_act_clean.sample(2)"
   ]
  },
  {
   "cell_type": "code",
   "execution_count": 89,
   "metadata": {},
   "outputs": [
    {
     "name": "stdout",
     "output_type": "stream",
     "text": [
      "<class 'pandas.core.frame.DataFrame'>\n",
      "RangeIndex: 84 entries, 0 to 83\n",
      "Columns: 506 entries, date to zts\n",
      "dtypes: datetime64[ns](1), float64(505)\n",
      "memory usage: 332.1 KB\n"
     ]
    }
   ],
   "source": [
    "#confirm datetime64 present\n",
    "eod_act_clean.info()"
   ]
  },
  {
   "cell_type": "markdown",
   "metadata": {},
   "source": [
    "### Code\n",
    "> **ISSUE 5:** Erroneous data type for **forecast_made** under `eps_fc_terms`.\n",
    "\n",
    "**Define:**\n",
    "\n",
    "- Convert column **forecast_made** to DateTime object."
   ]
  },
  {
   "cell_type": "code",
   "execution_count": 90,
   "metadata": {},
   "outputs": [],
   "source": [
    "eps_fc_terms_clean.forecast_made = pd.to_datetime(eps_fc_terms_clean.forecast_made, infer_datetime_format=True)"
   ]
  },
  {
   "cell_type": "markdown",
   "metadata": {},
   "source": [
    "### Test"
   ]
  },
  {
   "cell_type": "code",
   "execution_count": 91,
   "metadata": {},
   "outputs": [
    {
     "name": "stdout",
     "output_type": "stream",
     "text": [
      "<class 'pandas.core.frame.DataFrame'>\n",
      "Index: 80 entries, 0 to 79\n",
      "Columns: 507 entries, forecast_made to zts\n",
      "dtypes: datetime64[ns](1), float64(505), object(1)\n",
      "memory usage: 317.5+ KB\n"
     ]
    }
   ],
   "source": [
    "#confirm presence of datetime64 object\n",
    "eps_fc_terms_clean.info()"
   ]
  },
  {
   "cell_type": "code",
   "execution_count": 92,
   "metadata": {},
   "outputs": [
    {
     "data": {
      "text/html": [
       "<div>\n",
       "<style scoped>\n",
       "    .dataframe tbody tr th:only-of-type {\n",
       "        vertical-align: middle;\n",
       "    }\n",
       "\n",
       "    .dataframe tbody tr th {\n",
       "        vertical-align: top;\n",
       "    }\n",
       "\n",
       "    .dataframe thead th {\n",
       "        text-align: right;\n",
       "    }\n",
       "</style>\n",
       "<table border=\"1\" class=\"dataframe\">\n",
       "  <thead>\n",
       "    <tr style=\"text-align: right;\">\n",
       "      <th></th>\n",
       "      <th>forecast_made</th>\n",
       "      <th>term_forecast</th>\n",
       "      <th>a</th>\n",
       "      <th>aal</th>\n",
       "      <th>aap</th>\n",
       "      <th>aapl</th>\n",
       "      <th>abbv</th>\n",
       "      <th>abc</th>\n",
       "      <th>abmd</th>\n",
       "      <th>abt</th>\n",
       "      <th>...</th>\n",
       "      <th>xel</th>\n",
       "      <th>xlnx</th>\n",
       "      <th>xom</th>\n",
       "      <th>xray</th>\n",
       "      <th>xrx</th>\n",
       "      <th>xyl</th>\n",
       "      <th>yum</th>\n",
       "      <th>zbh</th>\n",
       "      <th>zion</th>\n",
       "      <th>zts</th>\n",
       "    </tr>\n",
       "  </thead>\n",
       "  <tbody>\n",
       "    <tr>\n",
       "      <th>50</th>\n",
       "      <td>2012-04-01</td>\n",
       "      <td>2012Q3</td>\n",
       "      <td>0.832</td>\n",
       "      <td>0.135</td>\n",
       "      <td>1.545</td>\n",
       "      <td>1.396</td>\n",
       "      <td>NaN</td>\n",
       "      <td>0.703</td>\n",
       "      <td>-0.007</td>\n",
       "      <td>1.265</td>\n",
       "      <td>...</td>\n",
       "      <td>0.699</td>\n",
       "      <td>0.366</td>\n",
       "      <td>2.048</td>\n",
       "      <td>0.560</td>\n",
       "      <td>1.105</td>\n",
       "      <td>0.498</td>\n",
       "      <td>0.978</td>\n",
       "      <td>1.158</td>\n",
       "      <td>0.398</td>\n",
       "      <td>NaN</td>\n",
       "    </tr>\n",
       "    <tr>\n",
       "      <th>2</th>\n",
       "      <td>2000-04-01</td>\n",
       "      <td>2000Q3</td>\n",
       "      <td>NaN</td>\n",
       "      <td>NaN</td>\n",
       "      <td>NaN</td>\n",
       "      <td>0.029</td>\n",
       "      <td>NaN</td>\n",
       "      <td>NaN</td>\n",
       "      <td>NaN</td>\n",
       "      <td>0.414</td>\n",
       "      <td>...</td>\n",
       "      <td>0.840</td>\n",
       "      <td>0.189</td>\n",
       "      <td>0.425</td>\n",
       "      <td>0.149</td>\n",
       "      <td>NaN</td>\n",
       "      <td>NaN</td>\n",
       "      <td>0.218</td>\n",
       "      <td>NaN</td>\n",
       "      <td>0.803</td>\n",
       "      <td>NaN</td>\n",
       "    </tr>\n",
       "  </tbody>\n",
       "</table>\n",
       "<p>2 rows × 507 columns</p>\n",
       "</div>"
      ],
      "text/plain": [
       "   forecast_made term_forecast      a    aal    aap   aapl  abbv    abc  \\\n",
       "50    2012-04-01        2012Q3  0.832  0.135  1.545  1.396   NaN  0.703   \n",
       "2     2000-04-01        2000Q3    NaN    NaN    NaN  0.029   NaN    NaN   \n",
       "\n",
       "     abmd    abt  ...    xel   xlnx    xom   xray    xrx    xyl    yum    zbh  \\\n",
       "50 -0.007  1.265  ...  0.699  0.366  2.048  0.560  1.105  0.498  0.978  1.158   \n",
       "2     NaN  0.414  ...  0.840  0.189  0.425  0.149    NaN    NaN  0.218    NaN   \n",
       "\n",
       "     zion  zts  \n",
       "50  0.398  NaN  \n",
       "2   0.803  NaN  \n",
       "\n",
       "[2 rows x 507 columns]"
      ]
     },
     "execution_count": 92,
     "metadata": {},
     "output_type": "execute_result"
    }
   ],
   "source": [
    "eps_fc_terms_clean.sample(2)"
   ]
  },
  {
   "cell_type": "markdown",
   "metadata": {},
   "source": [
    "### Code\n",
    "> **ISSUE 6:** Erroneous data types for **term_forecast** under `eps_act`, `eps_fc`, and `eps_fc_terms` to DateTime quarter index\n",
    "\n",
    "**Define:** Convert YYYYQQ formats into DateTime quarter index type"
   ]
  },
  {
   "cell_type": "code",
   "execution_count": 93,
   "metadata": {},
   "outputs": [],
   "source": [
    "#helper function to turn a column into Quarter Period type\n",
    "def convert_period(df, col):\n",
    "    return pd.to_datetime(df[col]).dt.to_period('Q')\n",
    "# eps_fc_terms_clean.term_forecast = pd.PeriodIndex(eps_fc_terms_clean.term_forecast, freq='Q')"
   ]
  },
  {
   "cell_type": "code",
   "execution_count": 94,
   "metadata": {},
   "outputs": [],
   "source": [
    "#convert term_forecast fields to Period type\n",
    "eps_fc_clean.term_forecast = convert_period(eps_fc_clean, 'term_forecast')\n",
    "eps_act_clean.term_forecast = convert_period(eps_act_clean, 'term_forecast')\n",
    "eps_fc_terms_clean.term_forecast = convert_period(eps_fc_terms_clean, 'term_forecast')"
   ]
  },
  {
   "cell_type": "markdown",
   "metadata": {},
   "source": [
    "### Test"
   ]
  },
  {
   "cell_type": "code",
   "execution_count": 95,
   "metadata": {},
   "outputs": [
    {
     "name": "stdout",
     "output_type": "stream",
     "text": [
      "period[Q-DEC]\n",
      "period[Q-DEC]\n",
      "period[Q-DEC]\n"
     ]
    }
   ],
   "source": [
    "#verify Period Object types\n",
    "print(eps_fc_clean.dtypes['term_forecast'])\n",
    "print(eps_act_clean.dtypes['term_forecast'])\n",
    "print(eps_fc_terms_clean.dtypes['term_forecast'])"
   ]
  },
  {
   "cell_type": "markdown",
   "metadata": {},
   "source": [
    "### Code\n",
    "> **ISSUE 7:** No recorded quarterly data for `eod_act`\n",
    "\n",
    "**Define:** Add a new column **term_forecast** denoting *year* and *quarter*"
   ]
  },
  {
   "cell_type": "code",
   "execution_count": 96,
   "metadata": {},
   "outputs": [],
   "source": [
    "eod_act_clean['term_forecast'] = eod_act_clean.date.dt.to_period('Q')"
   ]
  },
  {
   "cell_type": "code",
   "execution_count": 97,
   "metadata": {},
   "outputs": [],
   "source": [
    "#reorder columns\n",
    "eod_cols = ['date', 'term_forecast'] + [col for col in eod_act_clean.iloc[:, 1:] if col!='term_forecast']"
   ]
  },
  {
   "cell_type": "code",
   "execution_count": 98,
   "metadata": {},
   "outputs": [],
   "source": [
    "eod_act_clean = eod_act_clean.reindex(columns = eod_cols)"
   ]
  },
  {
   "cell_type": "markdown",
   "metadata": {},
   "source": [
    "### Test"
   ]
  },
  {
   "cell_type": "code",
   "execution_count": 99,
   "metadata": {},
   "outputs": [
    {
     "data": {
      "text/html": [
       "<div>\n",
       "<style scoped>\n",
       "    .dataframe tbody tr th:only-of-type {\n",
       "        vertical-align: middle;\n",
       "    }\n",
       "\n",
       "    .dataframe tbody tr th {\n",
       "        vertical-align: top;\n",
       "    }\n",
       "\n",
       "    .dataframe thead th {\n",
       "        text-align: right;\n",
       "    }\n",
       "</style>\n",
       "<table border=\"1\" class=\"dataframe\">\n",
       "  <thead>\n",
       "    <tr style=\"text-align: right;\">\n",
       "      <th></th>\n",
       "      <th>date</th>\n",
       "      <th>term_forecast</th>\n",
       "      <th>a</th>\n",
       "      <th>aal</th>\n",
       "      <th>aap</th>\n",
       "      <th>aapl</th>\n",
       "      <th>abbv</th>\n",
       "      <th>abc</th>\n",
       "      <th>abmd</th>\n",
       "      <th>abt</th>\n",
       "      <th>...</th>\n",
       "      <th>xel</th>\n",
       "      <th>xlnx</th>\n",
       "      <th>xom</th>\n",
       "      <th>xray</th>\n",
       "      <th>xrx</th>\n",
       "      <th>xyl</th>\n",
       "      <th>yum</th>\n",
       "      <th>zbh</th>\n",
       "      <th>zion</th>\n",
       "      <th>zts</th>\n",
       "    </tr>\n",
       "  </thead>\n",
       "  <tbody>\n",
       "    <tr>\n",
       "      <th>0</th>\n",
       "      <td>1999-03-31</td>\n",
       "      <td>1999Q1</td>\n",
       "      <td>NaN</td>\n",
       "      <td>NaN</td>\n",
       "      <td>NaN</td>\n",
       "      <td>1.2835</td>\n",
       "      <td>NaN</td>\n",
       "      <td>8.2934</td>\n",
       "      <td>6.250</td>\n",
       "      <td>20.9504</td>\n",
       "      <td>...</td>\n",
       "      <td>NaN</td>\n",
       "      <td>20.2813</td>\n",
       "      <td>35.2813</td>\n",
       "      <td>7.7500</td>\n",
       "      <td>140.6214</td>\n",
       "      <td>NaN</td>\n",
       "      <td>12.6284</td>\n",
       "      <td>NaN</td>\n",
       "      <td>66.5000</td>\n",
       "      <td>NaN</td>\n",
       "    </tr>\n",
       "    <tr>\n",
       "      <th>1</th>\n",
       "      <td>1999-06-30</td>\n",
       "      <td>1999Q2</td>\n",
       "      <td>NaN</td>\n",
       "      <td>NaN</td>\n",
       "      <td>NaN</td>\n",
       "      <td>1.6540</td>\n",
       "      <td>NaN</td>\n",
       "      <td>6.1859</td>\n",
       "      <td>6.875</td>\n",
       "      <td>20.3630</td>\n",
       "      <td>...</td>\n",
       "      <td>NaN</td>\n",
       "      <td>28.6250</td>\n",
       "      <td>38.5625</td>\n",
       "      <td>9.6250</td>\n",
       "      <td>155.6057</td>\n",
       "      <td>NaN</td>\n",
       "      <td>9.7297</td>\n",
       "      <td>NaN</td>\n",
       "      <td>63.5000</td>\n",
       "      <td>NaN</td>\n",
       "    </tr>\n",
       "    <tr>\n",
       "      <th>2</th>\n",
       "      <td>1999-09-30</td>\n",
       "      <td>1999Q3</td>\n",
       "      <td>NaN</td>\n",
       "      <td>NaN</td>\n",
       "      <td>NaN</td>\n",
       "      <td>2.2612</td>\n",
       "      <td>NaN</td>\n",
       "      <td>5.7462</td>\n",
       "      <td>7.750</td>\n",
       "      <td>16.4471</td>\n",
       "      <td>...</td>\n",
       "      <td>NaN</td>\n",
       "      <td>32.7656</td>\n",
       "      <td>37.9688</td>\n",
       "      <td>7.5833</td>\n",
       "      <td>110.4883</td>\n",
       "      <td>NaN</td>\n",
       "      <td>7.3591</td>\n",
       "      <td>NaN</td>\n",
       "      <td>55.1250</td>\n",
       "      <td>NaN</td>\n",
       "    </tr>\n",
       "    <tr>\n",
       "      <th>3</th>\n",
       "      <td>1999-12-31</td>\n",
       "      <td>1999Q4</td>\n",
       "      <td>52.0909</td>\n",
       "      <td>NaN</td>\n",
       "      <td>NaN</td>\n",
       "      <td>3.6719</td>\n",
       "      <td>NaN</td>\n",
       "      <td>3.6843</td>\n",
       "      <td>18.375</td>\n",
       "      <td>16.2513</td>\n",
       "      <td>...</td>\n",
       "      <td>NaN</td>\n",
       "      <td>45.4688</td>\n",
       "      <td>40.2813</td>\n",
       "      <td>7.8750</td>\n",
       "      <td>59.7723</td>\n",
       "      <td>NaN</td>\n",
       "      <td>6.9434</td>\n",
       "      <td>NaN</td>\n",
       "      <td>59.1875</td>\n",
       "      <td>NaN</td>\n",
       "    </tr>\n",
       "    <tr>\n",
       "      <th>4</th>\n",
       "      <td>2000-03-31</td>\n",
       "      <td>2000Q1</td>\n",
       "      <td>70.0721</td>\n",
       "      <td>NaN</td>\n",
       "      <td>NaN</td>\n",
       "      <td>4.8504</td>\n",
       "      <td>NaN</td>\n",
       "      <td>3.6388</td>\n",
       "      <td>20.250</td>\n",
       "      <td>15.7478</td>\n",
       "      <td>...</td>\n",
       "      <td>NaN</td>\n",
       "      <td>82.8125</td>\n",
       "      <td>38.9063</td>\n",
       "      <td>9.4583</td>\n",
       "      <td>68.4994</td>\n",
       "      <td>NaN</td>\n",
       "      <td>5.5839</td>\n",
       "      <td>NaN</td>\n",
       "      <td>41.6250</td>\n",
       "      <td>NaN</td>\n",
       "    </tr>\n",
       "  </tbody>\n",
       "</table>\n",
       "<p>5 rows × 507 columns</p>\n",
       "</div>"
      ],
      "text/plain": [
       "        date term_forecast        a  aal  aap    aapl  abbv     abc    abmd  \\\n",
       "0 1999-03-31        1999Q1      NaN  NaN  NaN  1.2835   NaN  8.2934   6.250   \n",
       "1 1999-06-30        1999Q2      NaN  NaN  NaN  1.6540   NaN  6.1859   6.875   \n",
       "2 1999-09-30        1999Q3      NaN  NaN  NaN  2.2612   NaN  5.7462   7.750   \n",
       "3 1999-12-31        1999Q4  52.0909  NaN  NaN  3.6719   NaN  3.6843  18.375   \n",
       "4 2000-03-31        2000Q1  70.0721  NaN  NaN  4.8504   NaN  3.6388  20.250   \n",
       "\n",
       "       abt  ...  xel     xlnx      xom    xray       xrx  xyl      yum  zbh  \\\n",
       "0  20.9504  ...  NaN  20.2813  35.2813  7.7500  140.6214  NaN  12.6284  NaN   \n",
       "1  20.3630  ...  NaN  28.6250  38.5625  9.6250  155.6057  NaN   9.7297  NaN   \n",
       "2  16.4471  ...  NaN  32.7656  37.9688  7.5833  110.4883  NaN   7.3591  NaN   \n",
       "3  16.2513  ...  NaN  45.4688  40.2813  7.8750   59.7723  NaN   6.9434  NaN   \n",
       "4  15.7478  ...  NaN  82.8125  38.9063  9.4583   68.4994  NaN   5.5839  NaN   \n",
       "\n",
       "      zion  zts  \n",
       "0  66.5000  NaN  \n",
       "1  63.5000  NaN  \n",
       "2  55.1250  NaN  \n",
       "3  59.1875  NaN  \n",
       "4  41.6250  NaN  \n",
       "\n",
       "[5 rows x 507 columns]"
      ]
     },
     "execution_count": 99,
     "metadata": {},
     "output_type": "execute_result"
    }
   ],
   "source": [
    "#verify column order\n",
    "eod_act_clean.head()"
   ]
  },
  {
   "cell_type": "code",
   "execution_count": 100,
   "metadata": {},
   "outputs": [
    {
     "data": {
      "text/plain": [
       "84"
      ]
     },
     "execution_count": 100,
     "metadata": {},
     "output_type": "execute_result"
    }
   ],
   "source": [
    "#verify 84 columns\n",
    "eod_act_clean.shape[0]"
   ]
  },
  {
   "cell_type": "code",
   "execution_count": 101,
   "metadata": {},
   "outputs": [
    {
     "name": "stdout",
     "output_type": "stream",
     "text": [
      "<class 'pandas.core.frame.DataFrame'>\n",
      "RangeIndex: 84 entries, 0 to 83\n",
      "Columns: 507 entries, date to zts\n",
      "dtypes: datetime64[ns](1), float64(505), period[Q-DEC](1)\n",
      "memory usage: 332.8 KB\n"
     ]
    }
   ],
   "source": [
    "eod_act_clean.info()"
   ]
  },
  {
   "cell_type": "markdown",
   "metadata": {},
   "source": [
    "## All full years are normalized to YYYY-MM-DD, and all quarterly records to YYYY-QQ.\n",
    "\n",
    "## This is to enable for more efficient handling, cleaning, and classifying of data later on."
   ]
  },
  {
   "cell_type": "markdown",
   "metadata": {},
   "source": [
    "### Code\n",
    "\n",
    "**ISSUE 7:** Firm names not referenced by **firm_id**\n",
    "\n",
    "**Define:**\n",
    "- Assign a **firm_id** to each firm for future normalization.\n",
    "\n",
    "- Generate new CSV named `firms.csv`"
   ]
  },
  {
   "cell_type": "code",
   "execution_count": 102,
   "metadata": {},
   "outputs": [],
   "source": [
    "#get firm names\n",
    "firm_names = eps_act_clean.columns[1:].to_numpy()"
   ]
  },
  {
   "cell_type": "code",
   "execution_count": 103,
   "metadata": {},
   "outputs": [],
   "source": [
    "#assign ids to firm names\n",
    "firm_names_ids = {}\n",
    "counter = 0\n",
    "\n",
    "for firm in firm_names:\n",
    "    firm_names_ids.update({firm: counter})\n",
    "    counter += 1"
   ]
  },
  {
   "cell_type": "code",
   "execution_count": 104,
   "metadata": {},
   "outputs": [],
   "source": [
    "#generate new DF\n",
    "firm_ids = pd.DataFrame(list(firm_names_ids.items())).rename(columns = {0: 'firm', 1: 'firm_id'})"
   ]
  },
  {
   "cell_type": "code",
   "execution_count": 105,
   "metadata": {},
   "outputs": [],
   "source": [
    "#switch firm and firm_id columns\n",
    "firm_ids = firm_ids.reindex(columns = ['firm_id', 'firm'])"
   ]
  },
  {
   "cell_type": "markdown",
   "metadata": {},
   "source": [
    "### Test"
   ]
  },
  {
   "cell_type": "code",
   "execution_count": 106,
   "metadata": {},
   "outputs": [
    {
     "data": {
      "text/html": [
       "<div>\n",
       "<style scoped>\n",
       "    .dataframe tbody tr th:only-of-type {\n",
       "        vertical-align: middle;\n",
       "    }\n",
       "\n",
       "    .dataframe tbody tr th {\n",
       "        vertical-align: top;\n",
       "    }\n",
       "\n",
       "    .dataframe thead th {\n",
       "        text-align: right;\n",
       "    }\n",
       "</style>\n",
       "<table border=\"1\" class=\"dataframe\">\n",
       "  <thead>\n",
       "    <tr style=\"text-align: right;\">\n",
       "      <th></th>\n",
       "      <th>firm_id</th>\n",
       "      <th>firm</th>\n",
       "    </tr>\n",
       "  </thead>\n",
       "  <tbody>\n",
       "    <tr>\n",
       "      <th>113</th>\n",
       "      <td>113</td>\n",
       "      <td>coo</td>\n",
       "    </tr>\n",
       "    <tr>\n",
       "      <th>463</th>\n",
       "      <td>463</td>\n",
       "      <td>usb</td>\n",
       "    </tr>\n",
       "    <tr>\n",
       "      <th>348</th>\n",
       "      <td>348</td>\n",
       "      <td>ntap</td>\n",
       "    </tr>\n",
       "    <tr>\n",
       "      <th>32</th>\n",
       "      <td>32</td>\n",
       "      <td>amcr</td>\n",
       "    </tr>\n",
       "    <tr>\n",
       "      <th>344</th>\n",
       "      <td>344</td>\n",
       "      <td>noc</td>\n",
       "    </tr>\n",
       "    <tr>\n",
       "      <th>99</th>\n",
       "      <td>99</td>\n",
       "      <td>ci</td>\n",
       "    </tr>\n",
       "    <tr>\n",
       "      <th>270</th>\n",
       "      <td>270</td>\n",
       "      <td>keys</td>\n",
       "    </tr>\n",
       "    <tr>\n",
       "      <th>265</th>\n",
       "      <td>265</td>\n",
       "      <td>jnpr</td>\n",
       "    </tr>\n",
       "    <tr>\n",
       "      <th>454</th>\n",
       "      <td>454</td>\n",
       "      <td>ual</td>\n",
       "    </tr>\n",
       "    <tr>\n",
       "      <th>132</th>\n",
       "      <td>132</td>\n",
       "      <td>dal</td>\n",
       "    </tr>\n",
       "  </tbody>\n",
       "</table>\n",
       "</div>"
      ],
      "text/plain": [
       "     firm_id  firm\n",
       "113      113   coo\n",
       "463      463   usb\n",
       "348      348  ntap\n",
       "32        32  amcr\n",
       "344      344   noc\n",
       "99        99    ci\n",
       "270      270  keys\n",
       "265      265  jnpr\n",
       "454      454   ual\n",
       "132      132   dal"
      ]
     },
     "execution_count": 106,
     "metadata": {},
     "output_type": "execute_result"
    }
   ],
   "source": [
    "firm_ids.sample(10)"
   ]
  },
  {
   "cell_type": "code",
   "execution_count": 107,
   "metadata": {},
   "outputs": [
    {
     "name": "stdout",
     "output_type": "stream",
     "text": [
      "<class 'pandas.core.frame.DataFrame'>\n",
      "RangeIndex: 505 entries, 0 to 504\n",
      "Data columns (total 2 columns):\n",
      "firm_id    505 non-null int64\n",
      "firm       505 non-null object\n",
      "dtypes: int64(1), object(1)\n",
      "memory usage: 8.0+ KB\n"
     ]
    }
   ],
   "source": [
    "firm_ids.info()"
   ]
  },
  {
   "cell_type": "markdown",
   "metadata": {},
   "source": [
    "### Code\n",
    "> **ISSUE 7:** No recorded 20-year averages for each dataset.\n",
    "\n",
    "**Define:**\n",
    "\n",
    "\n",
    "- Isolate 20-year averages for each firm into its own DataFrame\n",
    "\n",
    "- Create new DataFrame `twenty_avgs` depicting all 20-year averages for each firm"
   ]
  },
  {
   "cell_type": "code",
   "execution_count": 114,
   "metadata": {},
   "outputs": [],
   "source": [
    "#convert foreign keys to str temporarily\n",
    "firm_ids_str = {str(k):str(v) for k, v in firm_names_ids.items()}\n",
    "# firm_ids_str = {y:x for x, y in firm_ids_str.items()}"
   ]
  },
  {
   "cell_type": "code",
   "execution_count": 115,
   "metadata": {},
   "outputs": [],
   "source": [
    "#helper function to get 20-year averages\n",
    "def get_twenty_yr_avg(df, index_names, col_name, firm_ids_str):\n",
    "    df = pd.DataFrame({col_name : df[index_names].mean()}).rename_axis('firm_id').reset_index()\n",
    "    df['firm_id'] = df['firm_id'].map(firm_ids_str)\n",
    "    return df"
   ]
  },
  {
   "cell_type": "code",
   "execution_count": 116,
   "metadata": {},
   "outputs": [],
   "source": [
    "#get 20-year averages\n",
    "eps_fc_twenty_avg = get_twenty_yr_avg(eps_fc_clean, firm_names, 'eps_fc', firm_ids_str)\n",
    "eps_act_twenty_avg = get_twenty_yr_avg(eps_act_clean, firm_names, 'eps_act', firm_ids_str)\n",
    "eod_act_twenty_avg = get_twenty_yr_avg(eod_act_clean, firm_names, 'eod_act', firm_ids_str)\n",
    "eps_fc_terms_twenty_avg = get_twenty_yr_avg(eps_fc_terms_clean, firm_names, 'eps_fc_terms', firm_ids_str)"
   ]
  },
  {
   "cell_type": "code",
   "execution_count": 118,
   "metadata": {},
   "outputs": [],
   "source": [
    "#put averages into a list\n",
    "twenty_avg_list = [eps_fc_twenty_avg,\n",
    "                  eps_act_twenty_avg,\n",
    "                  eod_act_twenty_avg,\n",
    "                  eps_fc_terms_twenty_avg]"
   ]
  },
  {
   "cell_type": "code",
   "execution_count": 119,
   "metadata": {},
   "outputs": [],
   "source": [
    "#merge all Series\n",
    "df_twenty_year_avgs = reduce(lambda x, y: pd.merge(x, y, on = 'firm_id', how = 'outer'), twenty_avg_list)"
   ]
  },
  {
   "cell_type": "markdown",
   "metadata": {},
   "source": [
    "### Test"
   ]
  },
  {
   "cell_type": "code",
   "execution_count": 120,
   "metadata": {},
   "outputs": [
    {
     "data": {
      "text/html": [
       "<div>\n",
       "<style scoped>\n",
       "    .dataframe tbody tr th:only-of-type {\n",
       "        vertical-align: middle;\n",
       "    }\n",
       "\n",
       "    .dataframe tbody tr th {\n",
       "        vertical-align: top;\n",
       "    }\n",
       "\n",
       "    .dataframe thead th {\n",
       "        text-align: right;\n",
       "    }\n",
       "</style>\n",
       "<table border=\"1\" class=\"dataframe\">\n",
       "  <thead>\n",
       "    <tr style=\"text-align: right;\">\n",
       "      <th></th>\n",
       "      <th>firm_id</th>\n",
       "      <th>eps_fc</th>\n",
       "      <th>eps_act</th>\n",
       "      <th>eod_act</th>\n",
       "      <th>eps_fc_terms</th>\n",
       "    </tr>\n",
       "  </thead>\n",
       "  <tbody>\n",
       "    <tr>\n",
       "      <th>463</th>\n",
       "      <td>463</td>\n",
       "      <td>0.610083</td>\n",
       "      <td>0.602996</td>\n",
       "      <td>32.690114</td>\n",
       "      <td>0.650150</td>\n",
       "    </tr>\n",
       "    <tr>\n",
       "      <th>214</th>\n",
       "      <td>214</td>\n",
       "      <td>2.869262</td>\n",
       "      <td>3.255181</td>\n",
       "      <td>145.443341</td>\n",
       "      <td>3.472923</td>\n",
       "    </tr>\n",
       "    <tr>\n",
       "      <th>466</th>\n",
       "      <td>466</td>\n",
       "      <td>0.625107</td>\n",
       "      <td>0.568186</td>\n",
       "      <td>52.221702</td>\n",
       "      <td>0.681850</td>\n",
       "    </tr>\n",
       "    <tr>\n",
       "      <th>222</th>\n",
       "      <td>222</td>\n",
       "      <td>0.755012</td>\n",
       "      <td>0.783893</td>\n",
       "      <td>70.500000</td>\n",
       "      <td>0.784138</td>\n",
       "    </tr>\n",
       "    <tr>\n",
       "      <th>401</th>\n",
       "      <td>401</td>\n",
       "      <td>1.000405</td>\n",
       "      <td>1.030357</td>\n",
       "      <td>73.834795</td>\n",
       "      <td>1.055000</td>\n",
       "    </tr>\n",
       "  </tbody>\n",
       "</table>\n",
       "</div>"
      ],
      "text/plain": [
       "    firm_id    eps_fc   eps_act     eod_act  eps_fc_terms\n",
       "463     463  0.610083  0.602996   32.690114      0.650150\n",
       "214     214  2.869262  3.255181  145.443341      3.472923\n",
       "466     466  0.625107  0.568186   52.221702      0.681850\n",
       "222     222  0.755012  0.783893   70.500000      0.784138\n",
       "401     401  1.000405  1.030357   73.834795      1.055000"
      ]
     },
     "execution_count": 120,
     "metadata": {},
     "output_type": "execute_result"
    }
   ],
   "source": [
    "df_twenty_year_avgs.sample(5)"
   ]
  },
  {
   "cell_type": "code",
   "execution_count": 124,
   "metadata": {},
   "outputs": [
    {
     "data": {
      "text/plain": [
       "505"
      ]
     },
     "execution_count": 124,
     "metadata": {},
     "output_type": "execute_result"
    }
   ],
   "source": [
    "#check there are 505 firms\n",
    "df_twenty_year_avgs.firm_id.nunique()"
   ]
  },
  {
   "cell_type": "code",
   "execution_count": 125,
   "metadata": {},
   "outputs": [
    {
     "data": {
      "text/plain": [
       "firm_id         False\n",
       "eps_fc          False\n",
       "eps_act          True\n",
       "eod_act         False\n",
       "eps_fc_terms     True\n",
       "dtype: bool"
      ]
     },
     "execution_count": 125,
     "metadata": {},
     "output_type": "execute_result"
    }
   ],
   "source": [
    "#check missing data\n",
    "df_twenty_year_avgs.isna().any()"
   ]
  },
  {
   "cell_type": "code",
   "execution_count": 126,
   "metadata": {},
   "outputs": [
    {
     "data": {
      "text/plain": [
       "False"
      ]
     },
     "execution_count": 126,
     "metadata": {},
     "output_type": "execute_result"
    }
   ],
   "source": [
    "#check duplicate data\n",
    "df_twenty_year_avgs.duplicated().any()"
   ]
  },
  {
   "cell_type": "markdown",
   "metadata": {},
   "source": [
    "### Code\n",
    "> **ISSUE 8:** No recorded yearly averages for each dataset.\n",
    "\n",
    "**Define:**\n",
    "- Create 4 separate DataFrames for all attributes\n",
    "- Rename columns to \"Feature_Year\" (e.g. eps_fc_1999, eod_act_2000, etc.)\n",
    "- Outer merge all DataFrames to create new DataFrame, `df_yearly_avgs`, on **firms** attribute"
   ]
  },
  {
   "cell_type": "code",
   "execution_count": 165,
   "metadata": {},
   "outputs": [],
   "source": [
    "#helper function to calculate yearly average of each DataFrame\n",
    "def calculate_df_yearly_avgs(df, col, firm_ids_str):\n",
    "    #extract year from dates, reset index, and remove index name\n",
    "    df = df.groupby(df[col].dt.year).mean().transpose().rename_axis('firm_id').reset_index().rename_axis(None, axis = 1)\n",
    "    \n",
    "    df['firm_id'] = df['firm_id'].map(firm_ids_str)\n",
    "    \n",
    "    return df"
   ]
  },
  {
   "cell_type": "code",
   "execution_count": 166,
   "metadata": {},
   "outputs": [],
   "source": [
    "#helper function to melt columns\n",
    "def melt_avgs(df, firm_id, var_name):\n",
    "    return df.melt(id_vars = [firm_id],\n",
    "                value_vars = df.columns.difference([firm_id]),\n",
    "                var_name = var_name,\n",
    "                value_name = 'average')"
   ]
  },
  {
   "cell_type": "code",
   "execution_count": 228,
   "metadata": {},
   "outputs": [],
   "source": [
    "#calculate and melt\n",
    "def create_df_yearly_avgs(df, col, firm_ids_str, firm_id):\n",
    "    df = calculate_df_yearly_avgs(df, 'term_forecast', firm_ids_str)\n",
    "    df = melt_avgs(df, firm_id, 'year')\n",
    "    return df"
   ]
  },
  {
   "cell_type": "code",
   "execution_count": 230,
   "metadata": {},
   "outputs": [],
   "source": [
    "#generate DataFrames of all yearly averages\n",
    "eps_fc_yearly_avgs = create_df_yearly_avgs(eps_fc_clean, 'term_forecast', firm_ids_str, 'firm_id')\n",
    "eps_act_yearly_avgs = create_df_yearly_avgs(eps_act_clean, 'term_forecast', firm_ids_str, 'firm_id')\n",
    "\n",
    "#for eod_act, doesn't matter if we use date or term_forecast field\n",
    "eod_act_yearly_avgs = create_df_yearly_avgs(eod_act_clean, 'date', firm_ids_str, 'firm_id')\n",
    "eps_fc_terms_yearly_avgs = create_df_yearly_avgs(eps_fc_terms_clean, 'term_forecast', firm_ids_str, 'firm_id')"
   ]
  },
  {
   "cell_type": "code",
   "execution_count": 231,
   "metadata": {},
   "outputs": [],
   "source": [
    "#put DataFrames in a dictionary\n",
    "yearly_avgs_dict = {'eps_fc_yearly_avgs': eps_fc_yearly_avgs,\n",
    "                   'eps_act_yearly_avgs': eps_act_yearly_avgs,\n",
    "                   'eod_act_yearly_avgs' : eod_act_yearly_avgs,\n",
    "                   'eps_fc_terms_yearly_avgs' : eps_fc_terms_yearly_avgs}"
   ]
  },
  {
   "cell_type": "code",
   "execution_count": 233,
   "metadata": {},
   "outputs": [],
   "source": [
    "def store_df(path, df, csv_name):\n",
    "    df.to_csv(path + csv_name, encoding = 'utf-8', index = False)"
   ]
  },
  {
   "cell_type": "code",
   "execution_count": 234,
   "metadata": {},
   "outputs": [],
   "source": [
    "#store yearly averages\n",
    "store_df(PATH_CLEAN_AVGS_SUB, eps_fc_yearly_avgs, 'yearly-avgs-eps-fc.csv')\n",
    "store_df(PATH_CLEAN_AVGS_SUB, eps_act_yearly_avgs, 'yearly-avgs-eps-act.csv')\n",
    "store_df(PATH_CLEAN_AVGS_SUB, eod_act_yearly_avgs, 'yearly-avgs-eod-act.csv')\n",
    "store_df(PATH_CLEAN_AVGS_SUB, eps_fc_terms_yearly_avgs, 'yearly-avgs-eps-fc-terms.csv')"
   ]
  },
  {
   "cell_type": "code",
   "execution_count": 235,
   "metadata": {},
   "outputs": [],
   "source": [
    "#add new column entailing \"type\" of feature before concat\n",
    "eps_fc_yearly_avgs = eps_fc_yearly_avgs.assign(feature = 'eps_fc')\n",
    "eps_act_yearly_avgs = eps_act_yearly_avgs.assign(feature = 'eps_act')\n",
    "eod_act_yearly_avgs = eod_act_yearly_avgs.assign(feature = 'eod_act')\n",
    "eps_fc_terms_yearly_avgs = eps_fc_terms_yearly_avgs.assign(feature = 'eps_fc_terms')"
   ]
  },
  {
   "cell_type": "code",
   "execution_count": 236,
   "metadata": {},
   "outputs": [],
   "source": [
    "#merge all yearly average DataFrames\n",
    "df_yearly_avgs = pd.concat(yearly_avgs_arr)"
   ]
  },
  {
   "cell_type": "markdown",
   "metadata": {},
   "source": [
    "### Test"
   ]
  },
  {
   "cell_type": "code",
   "execution_count": 237,
   "metadata": {},
   "outputs": [
    {
     "data": {
      "text/html": [
       "<div>\n",
       "<style scoped>\n",
       "    .dataframe tbody tr th:only-of-type {\n",
       "        vertical-align: middle;\n",
       "    }\n",
       "\n",
       "    .dataframe tbody tr th {\n",
       "        vertical-align: top;\n",
       "    }\n",
       "\n",
       "    .dataframe thead th {\n",
       "        text-align: right;\n",
       "    }\n",
       "</style>\n",
       "<table border=\"1\" class=\"dataframe\">\n",
       "  <thead>\n",
       "    <tr style=\"text-align: right;\">\n",
       "      <th></th>\n",
       "      <th>firm_id</th>\n",
       "      <th>year</th>\n",
       "      <th>average</th>\n",
       "      <th>feature</th>\n",
       "    </tr>\n",
       "  </thead>\n",
       "  <tbody>\n",
       "    <tr>\n",
       "      <th>907</th>\n",
       "      <td>402</td>\n",
       "      <td>2000</td>\n",
       "      <td>NaN</td>\n",
       "      <td>eps_fc</td>\n",
       "    </tr>\n",
       "    <tr>\n",
       "      <th>4838</th>\n",
       "      <td>293</td>\n",
       "      <td>2008</td>\n",
       "      <td>0.32750</td>\n",
       "      <td>eps_fc</td>\n",
       "    </tr>\n",
       "    <tr>\n",
       "      <th>6356</th>\n",
       "      <td>296</td>\n",
       "      <td>2011</td>\n",
       "      <td>0.11175</td>\n",
       "      <td>eps_fc</td>\n",
       "    </tr>\n",
       "    <tr>\n",
       "      <th>3734</th>\n",
       "      <td>199</td>\n",
       "      <td>2006</td>\n",
       "      <td>NaN</td>\n",
       "      <td>eps_fc</td>\n",
       "    </tr>\n",
       "    <tr>\n",
       "      <th>5394</th>\n",
       "      <td>344</td>\n",
       "      <td>2009</td>\n",
       "      <td>1.20400</td>\n",
       "      <td>eps_fc</td>\n",
       "    </tr>\n",
       "    <tr>\n",
       "      <th>5001</th>\n",
       "      <td>456</td>\n",
       "      <td>2008</td>\n",
       "      <td>0.42275</td>\n",
       "      <td>eps_fc</td>\n",
       "    </tr>\n",
       "    <tr>\n",
       "      <th>4038</th>\n",
       "      <td>503</td>\n",
       "      <td>2006</td>\n",
       "      <td>1.39200</td>\n",
       "      <td>eps_fc</td>\n",
       "    </tr>\n",
       "    <tr>\n",
       "      <th>9610</th>\n",
       "      <td>15</td>\n",
       "      <td>2018</td>\n",
       "      <td>0.74875</td>\n",
       "      <td>eps_fc</td>\n",
       "    </tr>\n",
       "    <tr>\n",
       "      <th>1308</th>\n",
       "      <td>298</td>\n",
       "      <td>2001</td>\n",
       "      <td>NaN</td>\n",
       "      <td>eps_fc</td>\n",
       "    </tr>\n",
       "    <tr>\n",
       "      <th>6733</th>\n",
       "      <td>168</td>\n",
       "      <td>2012</td>\n",
       "      <td>0.42400</td>\n",
       "      <td>eps_fc</td>\n",
       "    </tr>\n",
       "  </tbody>\n",
       "</table>\n",
       "</div>"
      ],
      "text/plain": [
       "     firm_id  year  average feature\n",
       "907      402  2000      NaN  eps_fc\n",
       "4838     293  2008  0.32750  eps_fc\n",
       "6356     296  2011  0.11175  eps_fc\n",
       "3734     199  2006      NaN  eps_fc\n",
       "5394     344  2009  1.20400  eps_fc\n",
       "5001     456  2008  0.42275  eps_fc\n",
       "4038     503  2006  1.39200  eps_fc\n",
       "9610      15  2018  0.74875  eps_fc\n",
       "1308     298  2001      NaN  eps_fc\n",
       "6733     168  2012  0.42400  eps_fc"
      ]
     },
     "execution_count": 237,
     "metadata": {},
     "output_type": "execute_result"
    }
   ],
   "source": [
    "#each average, individually\n",
    "\n",
    "#eps_fc_yearly\n",
    "eps_fc_yearly_avgs.sample(10)"
   ]
  },
  {
   "cell_type": "code",
   "execution_count": 238,
   "metadata": {},
   "outputs": [
    {
     "data": {
      "text/html": [
       "<div>\n",
       "<style scoped>\n",
       "    .dataframe tbody tr th:only-of-type {\n",
       "        vertical-align: middle;\n",
       "    }\n",
       "\n",
       "    .dataframe tbody tr th {\n",
       "        vertical-align: top;\n",
       "    }\n",
       "\n",
       "    .dataframe thead th {\n",
       "        text-align: right;\n",
       "    }\n",
       "</style>\n",
       "<table border=\"1\" class=\"dataframe\">\n",
       "  <thead>\n",
       "    <tr style=\"text-align: right;\">\n",
       "      <th></th>\n",
       "      <th>firm_id</th>\n",
       "      <th>year</th>\n",
       "      <th>average</th>\n",
       "      <th>feature</th>\n",
       "    </tr>\n",
       "  </thead>\n",
       "  <tbody>\n",
       "    <tr>\n",
       "      <th>589</th>\n",
       "      <td>84</td>\n",
       "      <td>2000</td>\n",
       "      <td>NaN</td>\n",
       "      <td>eps_act</td>\n",
       "    </tr>\n",
       "    <tr>\n",
       "      <th>10340</th>\n",
       "      <td>240</td>\n",
       "      <td>2019</td>\n",
       "      <td>2.166667</td>\n",
       "      <td>eps_act</td>\n",
       "    </tr>\n",
       "    <tr>\n",
       "      <th>10403</th>\n",
       "      <td>303</td>\n",
       "      <td>2019</td>\n",
       "      <td>0.163333</td>\n",
       "      <td>eps_act</td>\n",
       "    </tr>\n",
       "    <tr>\n",
       "      <th>2160</th>\n",
       "      <td>140</td>\n",
       "      <td>2003</td>\n",
       "      <td>0.142500</td>\n",
       "      <td>eps_act</td>\n",
       "    </tr>\n",
       "    <tr>\n",
       "      <th>8081</th>\n",
       "      <td>1</td>\n",
       "      <td>2015</td>\n",
       "      <td>2.902500</td>\n",
       "      <td>eps_act</td>\n",
       "    </tr>\n",
       "    <tr>\n",
       "      <th>4278</th>\n",
       "      <td>238</td>\n",
       "      <td>2007</td>\n",
       "      <td>0.240000</td>\n",
       "      <td>eps_act</td>\n",
       "    </tr>\n",
       "    <tr>\n",
       "      <th>9529</th>\n",
       "      <td>439</td>\n",
       "      <td>2017</td>\n",
       "      <td>0.437500</td>\n",
       "      <td>eps_act</td>\n",
       "    </tr>\n",
       "    <tr>\n",
       "      <th>6255</th>\n",
       "      <td>195</td>\n",
       "      <td>2011</td>\n",
       "      <td>NaN</td>\n",
       "      <td>eps_act</td>\n",
       "    </tr>\n",
       "    <tr>\n",
       "      <th>9662</th>\n",
       "      <td>67</td>\n",
       "      <td>2018</td>\n",
       "      <td>5.410000</td>\n",
       "      <td>eps_act</td>\n",
       "    </tr>\n",
       "    <tr>\n",
       "      <th>7487</th>\n",
       "      <td>417</td>\n",
       "      <td>2013</td>\n",
       "      <td>0.405000</td>\n",
       "      <td>eps_act</td>\n",
       "    </tr>\n",
       "  </tbody>\n",
       "</table>\n",
       "</div>"
      ],
      "text/plain": [
       "      firm_id  year   average  feature\n",
       "589        84  2000       NaN  eps_act\n",
       "10340     240  2019  2.166667  eps_act\n",
       "10403     303  2019  0.163333  eps_act\n",
       "2160      140  2003  0.142500  eps_act\n",
       "8081        1  2015  2.902500  eps_act\n",
       "4278      238  2007  0.240000  eps_act\n",
       "9529      439  2017  0.437500  eps_act\n",
       "6255      195  2011       NaN  eps_act\n",
       "9662       67  2018  5.410000  eps_act\n",
       "7487      417  2013  0.405000  eps_act"
      ]
     },
     "execution_count": 238,
     "metadata": {},
     "output_type": "execute_result"
    }
   ],
   "source": [
    "#eps_fc_yearly\n",
    "eps_act_yearly_avgs.sample(10)"
   ]
  },
  {
   "cell_type": "code",
   "execution_count": 239,
   "metadata": {},
   "outputs": [
    {
     "data": {
      "text/html": [
       "<div>\n",
       "<style scoped>\n",
       "    .dataframe tbody tr th:only-of-type {\n",
       "        vertical-align: middle;\n",
       "    }\n",
       "\n",
       "    .dataframe tbody tr th {\n",
       "        vertical-align: top;\n",
       "    }\n",
       "\n",
       "    .dataframe thead th {\n",
       "        text-align: right;\n",
       "    }\n",
       "</style>\n",
       "<table border=\"1\" class=\"dataframe\">\n",
       "  <thead>\n",
       "    <tr style=\"text-align: right;\">\n",
       "      <th></th>\n",
       "      <th>firm_id</th>\n",
       "      <th>year</th>\n",
       "      <th>average</th>\n",
       "      <th>feature</th>\n",
       "    </tr>\n",
       "  </thead>\n",
       "  <tbody>\n",
       "    <tr>\n",
       "      <th>9377</th>\n",
       "      <td>287</td>\n",
       "      <td>2017</td>\n",
       "      <td>123.420000</td>\n",
       "      <td>eod_act</td>\n",
       "    </tr>\n",
       "    <tr>\n",
       "      <th>3796</th>\n",
       "      <td>261</td>\n",
       "      <td>2006</td>\n",
       "      <td>20.360275</td>\n",
       "      <td>eod_act</td>\n",
       "    </tr>\n",
       "    <tr>\n",
       "      <th>8563</th>\n",
       "      <td>483</td>\n",
       "      <td>2015</td>\n",
       "      <td>69.685000</td>\n",
       "      <td>eod_act</td>\n",
       "    </tr>\n",
       "    <tr>\n",
       "      <th>9519</th>\n",
       "      <td>429</td>\n",
       "      <td>2017</td>\n",
       "      <td>141.822500</td>\n",
       "      <td>eod_act</td>\n",
       "    </tr>\n",
       "    <tr>\n",
       "      <th>7945</th>\n",
       "      <td>370</td>\n",
       "      <td>2014</td>\n",
       "      <td>25.462500</td>\n",
       "      <td>eod_act</td>\n",
       "    </tr>\n",
       "    <tr>\n",
       "      <th>8703</th>\n",
       "      <td>118</td>\n",
       "      <td>2016</td>\n",
       "      <td>49.052500</td>\n",
       "      <td>eod_act</td>\n",
       "    </tr>\n",
       "    <tr>\n",
       "      <th>3924</th>\n",
       "      <td>389</td>\n",
       "      <td>2006</td>\n",
       "      <td>NaN</td>\n",
       "      <td>eod_act</td>\n",
       "    </tr>\n",
       "    <tr>\n",
       "      <th>6016</th>\n",
       "      <td>461</td>\n",
       "      <td>2010</td>\n",
       "      <td>65.142500</td>\n",
       "      <td>eod_act</td>\n",
       "    </tr>\n",
       "    <tr>\n",
       "      <th>8300</th>\n",
       "      <td>220</td>\n",
       "      <td>2015</td>\n",
       "      <td>77.735000</td>\n",
       "      <td>eod_act</td>\n",
       "    </tr>\n",
       "    <tr>\n",
       "      <th>585</th>\n",
       "      <td>80</td>\n",
       "      <td>2000</td>\n",
       "      <td>16.195250</td>\n",
       "      <td>eod_act</td>\n",
       "    </tr>\n",
       "  </tbody>\n",
       "</table>\n",
       "</div>"
      ],
      "text/plain": [
       "     firm_id  year     average  feature\n",
       "9377     287  2017  123.420000  eod_act\n",
       "3796     261  2006   20.360275  eod_act\n",
       "8563     483  2015   69.685000  eod_act\n",
       "9519     429  2017  141.822500  eod_act\n",
       "7945     370  2014   25.462500  eod_act\n",
       "8703     118  2016   49.052500  eod_act\n",
       "3924     389  2006         NaN  eod_act\n",
       "6016     461  2010   65.142500  eod_act\n",
       "8300     220  2015   77.735000  eod_act\n",
       "585       80  2000   16.195250  eod_act"
      ]
     },
     "execution_count": 239,
     "metadata": {},
     "output_type": "execute_result"
    }
   ],
   "source": [
    "#eod_act_yearly\n",
    "eod_act_yearly_avgs.sample(10)"
   ]
  },
  {
   "cell_type": "code",
   "execution_count": 240,
   "metadata": {},
   "outputs": [
    {
     "data": {
      "text/html": [
       "<div>\n",
       "<style scoped>\n",
       "    .dataframe tbody tr th:only-of-type {\n",
       "        vertical-align: middle;\n",
       "    }\n",
       "\n",
       "    .dataframe tbody tr th {\n",
       "        vertical-align: top;\n",
       "    }\n",
       "\n",
       "    .dataframe thead th {\n",
       "        text-align: right;\n",
       "    }\n",
       "</style>\n",
       "<table border=\"1\" class=\"dataframe\">\n",
       "  <thead>\n",
       "    <tr style=\"text-align: right;\">\n",
       "      <th></th>\n",
       "      <th>firm_id</th>\n",
       "      <th>year</th>\n",
       "      <th>average</th>\n",
       "      <th>feature</th>\n",
       "    </tr>\n",
       "  </thead>\n",
       "  <tbody>\n",
       "    <tr>\n",
       "      <th>3731</th>\n",
       "      <td>196</td>\n",
       "      <td>2007</td>\n",
       "      <td>NaN</td>\n",
       "      <td>eps_fc_terms</td>\n",
       "    </tr>\n",
       "    <tr>\n",
       "      <th>5710</th>\n",
       "      <td>155</td>\n",
       "      <td>2011</td>\n",
       "      <td>0.09075</td>\n",
       "      <td>eps_fc_terms</td>\n",
       "    </tr>\n",
       "    <tr>\n",
       "      <th>7826</th>\n",
       "      <td>251</td>\n",
       "      <td>2015</td>\n",
       "      <td>0.28400</td>\n",
       "      <td>eps_fc_terms</td>\n",
       "    </tr>\n",
       "    <tr>\n",
       "      <th>1378</th>\n",
       "      <td>368</td>\n",
       "      <td>2002</td>\n",
       "      <td>0.55100</td>\n",
       "      <td>eps_fc_terms</td>\n",
       "    </tr>\n",
       "    <tr>\n",
       "      <th>893</th>\n",
       "      <td>388</td>\n",
       "      <td>2001</td>\n",
       "      <td>0.43450</td>\n",
       "      <td>eps_fc_terms</td>\n",
       "    </tr>\n",
       "    <tr>\n",
       "      <th>8814</th>\n",
       "      <td>229</td>\n",
       "      <td>2017</td>\n",
       "      <td>0.49675</td>\n",
       "      <td>eps_fc_terms</td>\n",
       "    </tr>\n",
       "    <tr>\n",
       "      <th>2779</th>\n",
       "      <td>254</td>\n",
       "      <td>2005</td>\n",
       "      <td>0.70975</td>\n",
       "      <td>eps_fc_terms</td>\n",
       "    </tr>\n",
       "    <tr>\n",
       "      <th>7074</th>\n",
       "      <td>4</td>\n",
       "      <td>2014</td>\n",
       "      <td>0.78000</td>\n",
       "      <td>eps_fc_terms</td>\n",
       "    </tr>\n",
       "    <tr>\n",
       "      <th>9538</th>\n",
       "      <td>448</td>\n",
       "      <td>2018</td>\n",
       "      <td>0.63800</td>\n",
       "      <td>eps_fc_terms</td>\n",
       "    </tr>\n",
       "    <tr>\n",
       "      <th>1981</th>\n",
       "      <td>466</td>\n",
       "      <td>2003</td>\n",
       "      <td>0.20050</td>\n",
       "      <td>eps_fc_terms</td>\n",
       "    </tr>\n",
       "  </tbody>\n",
       "</table>\n",
       "</div>"
      ],
      "text/plain": [
       "     firm_id  year  average       feature\n",
       "3731     196  2007      NaN  eps_fc_terms\n",
       "5710     155  2011  0.09075  eps_fc_terms\n",
       "7826     251  2015  0.28400  eps_fc_terms\n",
       "1378     368  2002  0.55100  eps_fc_terms\n",
       "893      388  2001  0.43450  eps_fc_terms\n",
       "8814     229  2017  0.49675  eps_fc_terms\n",
       "2779     254  2005  0.70975  eps_fc_terms\n",
       "7074       4  2014  0.78000  eps_fc_terms\n",
       "9538     448  2018  0.63800  eps_fc_terms\n",
       "1981     466  2003  0.20050  eps_fc_terms"
      ]
     },
     "execution_count": 240,
     "metadata": {},
     "output_type": "execute_result"
    }
   ],
   "source": [
    "#eps_fc_terms_yearly\n",
    "eps_fc_terms_yearly_avgs.sample(10)"
   ]
  },
  {
   "cell_type": "code",
   "execution_count": 241,
   "metadata": {},
   "outputs": [
    {
     "name": "stdout",
     "output_type": "stream",
     "text": [
      "Index(['firm_id', 'year', 'average', 'feature'], dtype='object') \n",
      " Index(['firm_id', 'year', 'average', 'feature'], dtype='object') \n",
      " Index(['firm_id', 'year', 'average', 'feature'], dtype='object') \n",
      " Index(['firm_id', 'year', 'average', 'feature'], dtype='object')\n"
     ]
    }
   ],
   "source": [
    "#verify all columns are consistent\n",
    "print(eps_fc_yearly_avgs.columns, '\\n',\n",
    "      eps_act_yearly_avgs.columns, '\\n',\n",
    "      eod_act_yearly_avgs.columns, '\\n',\n",
    "      eps_fc_terms_yearly_avgs.columns)"
   ]
  },
  {
   "cell_type": "code",
   "execution_count": 242,
   "metadata": {},
   "outputs": [
    {
     "name": "stdout",
     "output_type": "stream",
     "text": [
      "505 \n",
      " 505 \n",
      " 505 \n",
      " 505\n"
     ]
    }
   ],
   "source": [
    "#verify there are 505 firms in each dataframe\n",
    "print(eps_fc_yearly_avgs.firm_id.nunique(), '\\n',\n",
    "      eps_act_yearly_avgs.firm_id.nunique(), '\\n',\n",
    "      eod_act_yearly_avgs.firm_id.nunique(), '\\n',\n",
    "      eps_fc_terms_yearly_avgs.firm_id.nunique())"
   ]
  },
  {
   "cell_type": "code",
   "execution_count": 243,
   "metadata": {},
   "outputs": [
    {
     "data": {
      "text/html": [
       "<div>\n",
       "<style scoped>\n",
       "    .dataframe tbody tr th:only-of-type {\n",
       "        vertical-align: middle;\n",
       "    }\n",
       "\n",
       "    .dataframe tbody tr th {\n",
       "        vertical-align: top;\n",
       "    }\n",
       "\n",
       "    .dataframe thead th {\n",
       "        text-align: right;\n",
       "    }\n",
       "</style>\n",
       "<table border=\"1\" class=\"dataframe\">\n",
       "  <thead>\n",
       "    <tr style=\"text-align: right;\">\n",
       "      <th></th>\n",
       "      <th>firm_id</th>\n",
       "      <th>year</th>\n",
       "      <th>average</th>\n",
       "      <th>feature</th>\n",
       "    </tr>\n",
       "  </thead>\n",
       "  <tbody>\n",
       "    <tr>\n",
       "      <th>4613</th>\n",
       "      <td>68</td>\n",
       "      <td>2009</td>\n",
       "      <td>0.67700</td>\n",
       "      <td>eps_fc_terms</td>\n",
       "    </tr>\n",
       "    <tr>\n",
       "      <th>75</th>\n",
       "      <td>75</td>\n",
       "      <td>1999</td>\n",
       "      <td>41.38500</td>\n",
       "      <td>eod_act</td>\n",
       "    </tr>\n",
       "    <tr>\n",
       "      <th>7891</th>\n",
       "      <td>316</td>\n",
       "      <td>2014</td>\n",
       "      <td>61.71250</td>\n",
       "      <td>eod_act</td>\n",
       "    </tr>\n",
       "    <tr>\n",
       "      <th>5931</th>\n",
       "      <td>376</td>\n",
       "      <td>2010</td>\n",
       "      <td>53.13750</td>\n",
       "      <td>eod_act</td>\n",
       "    </tr>\n",
       "    <tr>\n",
       "      <th>6569</th>\n",
       "      <td>4</td>\n",
       "      <td>2012</td>\n",
       "      <td>NaN</td>\n",
       "      <td>eps_fc</td>\n",
       "    </tr>\n",
       "    <tr>\n",
       "      <th>2408</th>\n",
       "      <td>388</td>\n",
       "      <td>2003</td>\n",
       "      <td>0.87750</td>\n",
       "      <td>eps_act</td>\n",
       "    </tr>\n",
       "    <tr>\n",
       "      <th>5724</th>\n",
       "      <td>169</td>\n",
       "      <td>2010</td>\n",
       "      <td>-0.08725</td>\n",
       "      <td>eps_fc</td>\n",
       "    </tr>\n",
       "    <tr>\n",
       "      <th>9115</th>\n",
       "      <td>25</td>\n",
       "      <td>2017</td>\n",
       "      <td>118.84500</td>\n",
       "      <td>eod_act</td>\n",
       "    </tr>\n",
       "    <tr>\n",
       "      <th>1720</th>\n",
       "      <td>205</td>\n",
       "      <td>2002</td>\n",
       "      <td>NaN</td>\n",
       "      <td>eps_fc</td>\n",
       "    </tr>\n",
       "    <tr>\n",
       "      <th>8642</th>\n",
       "      <td>57</td>\n",
       "      <td>2017</td>\n",
       "      <td>1.41825</td>\n",
       "      <td>eps_fc_terms</td>\n",
       "    </tr>\n",
       "  </tbody>\n",
       "</table>\n",
       "</div>"
      ],
      "text/plain": [
       "     firm_id  year    average       feature\n",
       "4613      68  2009    0.67700  eps_fc_terms\n",
       "75        75  1999   41.38500       eod_act\n",
       "7891     316  2014   61.71250       eod_act\n",
       "5931     376  2010   53.13750       eod_act\n",
       "6569       4  2012        NaN        eps_fc\n",
       "2408     388  2003    0.87750       eps_act\n",
       "5724     169  2010   -0.08725        eps_fc\n",
       "9115      25  2017  118.84500       eod_act\n",
       "1720     205  2002        NaN        eps_fc\n",
       "8642      57  2017    1.41825  eps_fc_terms"
      ]
     },
     "execution_count": 243,
     "metadata": {},
     "output_type": "execute_result"
    }
   ],
   "source": [
    "#all yearly averages\n",
    "df_yearly_avgs.sample(10)"
   ]
  },
  {
   "cell_type": "code",
   "execution_count": 244,
   "metadata": {},
   "outputs": [
    {
     "data": {
      "text/plain": [
       "505"
      ]
     },
     "execution_count": 244,
     "metadata": {},
     "output_type": "execute_result"
    }
   ],
   "source": [
    "#verify 505 firms in all yearly averages df\n",
    "df_yearly_avgs.firm_id.nunique()"
   ]
  },
  {
   "cell_type": "markdown",
   "metadata": {},
   "source": [
    "### Code\n",
    "\n",
    "> **ISSUE 9:** No recorded quarterly averages for each dataset.\n",
    "\n",
    "**Define:** \n",
    "\n",
    "- Parse `eod_act_clean` dates  by **calendar quarter average** with quarterly data in a new DataFrame.\n",
    "- Create separate DataFrames containing quarterly averages for `eps_fc_clean`, `eps_act_clean`, and `eps_fc_terms_clean` \n",
    "- Rename columns to \"Quarter_Year_Feature\" (e.g. **q1_eps_fc,** etc.)\n",
    "- Outer merge all DataFrames into a new df `df_quarterly_avgs` on **firms**"
   ]
  },
  {
   "cell_type": "code",
   "execution_count": 245,
   "metadata": {},
   "outputs": [],
   "source": [
    "#helper function to calculate quarterly average of each DataFrame\n",
    "def calculate_df_quarterly_avgs(df, col, firm_ids_str):\n",
    "    #extract quarter from Period objects\n",
    "    df =  df.groupby(df[col].dt.strftime('Q%q')).mean().transpose().rename_axis('firm_id').reset_index().rename_axis(None, axis = 1)\n",
    "    df['firm_id'] = df['firm_id'].map(firm_ids_str)\n",
    "    \n",
    "    return df"
   ]
  },
  {
   "cell_type": "code",
   "execution_count": 246,
   "metadata": {},
   "outputs": [],
   "source": [
    "#calculate and melt\n",
    "def create_df_quarterly_avgs(df, col, firm_ids_str, firm_id):\n",
    "    df = calculate_df_quarterly_avgs(df, 'term_forecast', firm_ids_str)\n",
    "    df = melt_avgs(df, firm_id, 'quarter')\n",
    "    \n",
    "    #lowercase quarter column\n",
    "    df.quarter = df.quarter.str.lower()\n",
    "    return df"
   ]
  },
  {
   "cell_type": "code",
   "execution_count": 248,
   "metadata": {},
   "outputs": [],
   "source": [
    "#generate all quarterly average DataFrames\n",
    "eps_fc_quarter_avgs = create_df_quarterly_avgs(eps_fc_clean, 'term_forecast', firm_ids_str, 'firm_id')\n",
    "eps_act_quarter_avgs = create_df_quarterly_avgs(eps_act_clean, 'term_forecast', firm_ids_str, 'firm_id')\n",
    "eod_act_quarter_avgs = create_df_quarterly_avgs(eod_act_clean, 'term_forecast', firm_ids_str, 'firm_id')\n",
    "eps_fc_terms_quarter_avgs = create_df_quarterly_avgs(eps_fc_terms_clean, 'term_forecast', firm_ids_str, 'firm_id')"
   ]
  },
  {
   "cell_type": "code",
   "execution_count": 249,
   "metadata": {},
   "outputs": [],
   "source": [
    "#store quarterly averages\n",
    "store_df(PATH_CLEAN_AVGS_SUB, eps_fc_quarter_avgs, 'quarter-avgs-eps-fc.csv')\n",
    "store_df(PATH_CLEAN_AVGS_SUB, eps_act_quarter_avgs, 'quarter-avgs-eps-act.csv')\n",
    "store_df(PATH_CLEAN_AVGS_SUB, eod_act_quarter_avgs, 'quarter-avgs-eod-act.csv')\n",
    "store_df(PATH_CLEAN_AVGS_SUB, eps_fc_terms_quarter_avgs, 'quarter-avgs-eps-fc-terms.csv')"
   ]
  },
  {
   "cell_type": "code",
   "execution_count": 250,
   "metadata": {},
   "outputs": [],
   "source": [
    "#add new column entailing \"type\" of feature before concat\n",
    "eps_fc_quarter_avgs = eps_fc_quarter_avgs.assign(feature = 'eps_fc')\n",
    "eps_act_quarter_avgs = eps_act_quarter_avgs.assign(feature = 'eps_act')\n",
    "eod_act_quarter_avgs = eod_act_quarter_avgs.assign(feature = 'eod_act')\n",
    "eps_fc_terms_quarter_avgs = eps_fc_terms_quarter_avgs.assign(feature = 'eps_fc_terms')"
   ]
  },
  {
   "cell_type": "code",
   "execution_count": 251,
   "metadata": {},
   "outputs": [],
   "source": [
    "#put DataFrames in array\n",
    "quarterly_avgs_arr = [eps_fc_quarter_avgs,\n",
    "                  eps_act_quarter_avgs,\n",
    "                  eod_act_quarter_avgs,\n",
    "                  eps_fc_terms_quarter_avgs]"
   ]
  },
  {
   "cell_type": "code",
   "execution_count": 255,
   "metadata": {},
   "outputs": [],
   "source": [
    "#merge all quarterly average DataFrames\n",
    "df_quarter_avgs = pd.concat(quarterly_avgs_arr)"
   ]
  },
  {
   "cell_type": "markdown",
   "metadata": {},
   "source": [
    "### Test"
   ]
  },
  {
   "cell_type": "code",
   "execution_count": 256,
   "metadata": {},
   "outputs": [
    {
     "data": {
      "text/html": [
       "<div>\n",
       "<style scoped>\n",
       "    .dataframe tbody tr th:only-of-type {\n",
       "        vertical-align: middle;\n",
       "    }\n",
       "\n",
       "    .dataframe tbody tr th {\n",
       "        vertical-align: top;\n",
       "    }\n",
       "\n",
       "    .dataframe thead th {\n",
       "        text-align: right;\n",
       "    }\n",
       "</style>\n",
       "<table border=\"1\" class=\"dataframe\">\n",
       "  <thead>\n",
       "    <tr style=\"text-align: right;\">\n",
       "      <th></th>\n",
       "      <th>firm_id</th>\n",
       "      <th>quarter</th>\n",
       "      <th>average</th>\n",
       "      <th>feature</th>\n",
       "    </tr>\n",
       "  </thead>\n",
       "  <tbody>\n",
       "    <tr>\n",
       "      <th>187</th>\n",
       "      <td>187</td>\n",
       "      <td>q1</td>\n",
       "      <td>0.568111</td>\n",
       "      <td>eps_fc</td>\n",
       "    </tr>\n",
       "    <tr>\n",
       "      <th>949</th>\n",
       "      <td>444</td>\n",
       "      <td>q2</td>\n",
       "      <td>0.709143</td>\n",
       "      <td>eps_fc</td>\n",
       "    </tr>\n",
       "    <tr>\n",
       "      <th>460</th>\n",
       "      <td>460</td>\n",
       "      <td>q1</td>\n",
       "      <td>0.656000</td>\n",
       "      <td>eps_fc</td>\n",
       "    </tr>\n",
       "    <tr>\n",
       "      <th>882</th>\n",
       "      <td>377</td>\n",
       "      <td>q2</td>\n",
       "      <td>1.410524</td>\n",
       "      <td>eps_fc</td>\n",
       "    </tr>\n",
       "    <tr>\n",
       "      <th>528</th>\n",
       "      <td>23</td>\n",
       "      <td>q2</td>\n",
       "      <td>0.529000</td>\n",
       "      <td>eps_fc</td>\n",
       "    </tr>\n",
       "    <tr>\n",
       "      <th>1310</th>\n",
       "      <td>300</td>\n",
       "      <td>q3</td>\n",
       "      <td>0.192667</td>\n",
       "      <td>eps_fc</td>\n",
       "    </tr>\n",
       "    <tr>\n",
       "      <th>115</th>\n",
       "      <td>115</td>\n",
       "      <td>q1</td>\n",
       "      <td>0.700095</td>\n",
       "      <td>eps_fc</td>\n",
       "    </tr>\n",
       "    <tr>\n",
       "      <th>547</th>\n",
       "      <td>42</td>\n",
       "      <td>q2</td>\n",
       "      <td>1.997000</td>\n",
       "      <td>eps_fc</td>\n",
       "    </tr>\n",
       "    <tr>\n",
       "      <th>1429</th>\n",
       "      <td>419</td>\n",
       "      <td>q3</td>\n",
       "      <td>0.874800</td>\n",
       "      <td>eps_fc</td>\n",
       "    </tr>\n",
       "    <tr>\n",
       "      <th>384</th>\n",
       "      <td>384</td>\n",
       "      <td>q1</td>\n",
       "      <td>0.977286</td>\n",
       "      <td>eps_fc</td>\n",
       "    </tr>\n",
       "  </tbody>\n",
       "</table>\n",
       "</div>"
      ],
      "text/plain": [
       "     firm_id quarter   average feature\n",
       "187      187      q1  0.568111  eps_fc\n",
       "949      444      q2  0.709143  eps_fc\n",
       "460      460      q1  0.656000  eps_fc\n",
       "882      377      q2  1.410524  eps_fc\n",
       "528       23      q2  0.529000  eps_fc\n",
       "1310     300      q3  0.192667  eps_fc\n",
       "115      115      q1  0.700095  eps_fc\n",
       "547       42      q2  1.997000  eps_fc\n",
       "1429     419      q3  0.874800  eps_fc\n",
       "384      384      q1  0.977286  eps_fc"
      ]
     },
     "execution_count": 256,
     "metadata": {},
     "output_type": "execute_result"
    }
   ],
   "source": [
    "#each quarter individually\n",
    "\n",
    "#eps_fc_quarter\n",
    "eps_fc_quarter_avgs.sample(10)"
   ]
  },
  {
   "cell_type": "code",
   "execution_count": 258,
   "metadata": {},
   "outputs": [
    {
     "data": {
      "text/html": [
       "<div>\n",
       "<style scoped>\n",
       "    .dataframe tbody tr th:only-of-type {\n",
       "        vertical-align: middle;\n",
       "    }\n",
       "\n",
       "    .dataframe tbody tr th {\n",
       "        vertical-align: top;\n",
       "    }\n",
       "\n",
       "    .dataframe thead th {\n",
       "        text-align: right;\n",
       "    }\n",
       "</style>\n",
       "<table border=\"1\" class=\"dataframe\">\n",
       "  <thead>\n",
       "    <tr style=\"text-align: right;\">\n",
       "      <th></th>\n",
       "      <th>firm_id</th>\n",
       "      <th>quarter</th>\n",
       "      <th>average</th>\n",
       "      <th>feature</th>\n",
       "    </tr>\n",
       "  </thead>\n",
       "  <tbody>\n",
       "    <tr>\n",
       "      <th>1646</th>\n",
       "      <td>131</td>\n",
       "      <td>q4</td>\n",
       "      <td>0.409739</td>\n",
       "      <td>eps_act</td>\n",
       "    </tr>\n",
       "    <tr>\n",
       "      <th>1479</th>\n",
       "      <td>469</td>\n",
       "      <td>q3</td>\n",
       "      <td>1.233662</td>\n",
       "      <td>eps_act</td>\n",
       "    </tr>\n",
       "    <tr>\n",
       "      <th>1057</th>\n",
       "      <td>47</td>\n",
       "      <td>q3</td>\n",
       "      <td>0.391518</td>\n",
       "      <td>eps_act</td>\n",
       "    </tr>\n",
       "    <tr>\n",
       "      <th>1124</th>\n",
       "      <td>114</td>\n",
       "      <td>q3</td>\n",
       "      <td>1.362619</td>\n",
       "      <td>eps_act</td>\n",
       "    </tr>\n",
       "    <tr>\n",
       "      <th>1859</th>\n",
       "      <td>344</td>\n",
       "      <td>q4</td>\n",
       "      <td>1.326955</td>\n",
       "      <td>eps_act</td>\n",
       "    </tr>\n",
       "    <tr>\n",
       "      <th>1579</th>\n",
       "      <td>64</td>\n",
       "      <td>q4</td>\n",
       "      <td>0.762233</td>\n",
       "      <td>eps_act</td>\n",
       "    </tr>\n",
       "    <tr>\n",
       "      <th>113</th>\n",
       "      <td>113</td>\n",
       "      <td>q1</td>\n",
       "      <td>0.587857</td>\n",
       "      <td>eps_act</td>\n",
       "    </tr>\n",
       "    <tr>\n",
       "      <th>1183</th>\n",
       "      <td>173</td>\n",
       "      <td>q3</td>\n",
       "      <td>0.340500</td>\n",
       "      <td>eps_act</td>\n",
       "    </tr>\n",
       "    <tr>\n",
       "      <th>458</th>\n",
       "      <td>458</td>\n",
       "      <td>q1</td>\n",
       "      <td>1.090417</td>\n",
       "      <td>eps_act</td>\n",
       "    </tr>\n",
       "    <tr>\n",
       "      <th>1480</th>\n",
       "      <td>470</td>\n",
       "      <td>q3</td>\n",
       "      <td>0.822857</td>\n",
       "      <td>eps_act</td>\n",
       "    </tr>\n",
       "  </tbody>\n",
       "</table>\n",
       "</div>"
      ],
      "text/plain": [
       "     firm_id quarter   average  feature\n",
       "1646     131      q4  0.409739  eps_act\n",
       "1479     469      q3  1.233662  eps_act\n",
       "1057      47      q3  0.391518  eps_act\n",
       "1124     114      q3  1.362619  eps_act\n",
       "1859     344      q4  1.326955  eps_act\n",
       "1579      64      q4  0.762233  eps_act\n",
       "113      113      q1  0.587857  eps_act\n",
       "1183     173      q3  0.340500  eps_act\n",
       "458      458      q1  1.090417  eps_act\n",
       "1480     470      q3  0.822857  eps_act"
      ]
     },
     "execution_count": 258,
     "metadata": {},
     "output_type": "execute_result"
    }
   ],
   "source": [
    "#eps_act_quarter\n",
    "eps_act_quarter_avgs.sample(10)"
   ]
  },
  {
   "cell_type": "code",
   "execution_count": 259,
   "metadata": {},
   "outputs": [
    {
     "data": {
      "text/html": [
       "<div>\n",
       "<style scoped>\n",
       "    .dataframe tbody tr th:only-of-type {\n",
       "        vertical-align: middle;\n",
       "    }\n",
       "\n",
       "    .dataframe tbody tr th {\n",
       "        vertical-align: top;\n",
       "    }\n",
       "\n",
       "    .dataframe thead th {\n",
       "        text-align: right;\n",
       "    }\n",
       "</style>\n",
       "<table border=\"1\" class=\"dataframe\">\n",
       "  <thead>\n",
       "    <tr style=\"text-align: right;\">\n",
       "      <th></th>\n",
       "      <th>firm_id</th>\n",
       "      <th>quarter</th>\n",
       "      <th>average</th>\n",
       "      <th>feature</th>\n",
       "    </tr>\n",
       "  </thead>\n",
       "  <tbody>\n",
       "    <tr>\n",
       "      <th>1928</th>\n",
       "      <td>413</td>\n",
       "      <td>q4</td>\n",
       "      <td>68.631100</td>\n",
       "      <td>eod_act</td>\n",
       "    </tr>\n",
       "    <tr>\n",
       "      <th>662</th>\n",
       "      <td>157</td>\n",
       "      <td>q2</td>\n",
       "      <td>67.066848</td>\n",
       "      <td>eod_act</td>\n",
       "    </tr>\n",
       "    <tr>\n",
       "      <th>2008</th>\n",
       "      <td>493</td>\n",
       "      <td>q4</td>\n",
       "      <td>91.902941</td>\n",
       "      <td>eod_act</td>\n",
       "    </tr>\n",
       "    <tr>\n",
       "      <th>117</th>\n",
       "      <td>117</td>\n",
       "      <td>q1</td>\n",
       "      <td>37.125119</td>\n",
       "      <td>eod_act</td>\n",
       "    </tr>\n",
       "    <tr>\n",
       "      <th>929</th>\n",
       "      <td>424</td>\n",
       "      <td>q2</td>\n",
       "      <td>34.567273</td>\n",
       "      <td>eod_act</td>\n",
       "    </tr>\n",
       "    <tr>\n",
       "      <th>1570</th>\n",
       "      <td>55</td>\n",
       "      <td>q4</td>\n",
       "      <td>57.624500</td>\n",
       "      <td>eod_act</td>\n",
       "    </tr>\n",
       "    <tr>\n",
       "      <th>1528</th>\n",
       "      <td>13</td>\n",
       "      <td>q4</td>\n",
       "      <td>120.747222</td>\n",
       "      <td>eod_act</td>\n",
       "    </tr>\n",
       "    <tr>\n",
       "      <th>58</th>\n",
       "      <td>58</td>\n",
       "      <td>q1</td>\n",
       "      <td>310.794524</td>\n",
       "      <td>eod_act</td>\n",
       "    </tr>\n",
       "    <tr>\n",
       "      <th>173</th>\n",
       "      <td>173</td>\n",
       "      <td>q1</td>\n",
       "      <td>42.893900</td>\n",
       "      <td>eod_act</td>\n",
       "    </tr>\n",
       "    <tr>\n",
       "      <th>604</th>\n",
       "      <td>99</td>\n",
       "      <td>q2</td>\n",
       "      <td>67.613024</td>\n",
       "      <td>eod_act</td>\n",
       "    </tr>\n",
       "  </tbody>\n",
       "</table>\n",
       "</div>"
      ],
      "text/plain": [
       "     firm_id quarter     average  feature\n",
       "1928     413      q4   68.631100  eod_act\n",
       "662      157      q2   67.066848  eod_act\n",
       "2008     493      q4   91.902941  eod_act\n",
       "117      117      q1   37.125119  eod_act\n",
       "929      424      q2   34.567273  eod_act\n",
       "1570      55      q4   57.624500  eod_act\n",
       "1528      13      q4  120.747222  eod_act\n",
       "58        58      q1  310.794524  eod_act\n",
       "173      173      q1   42.893900  eod_act\n",
       "604       99      q2   67.613024  eod_act"
      ]
     },
     "execution_count": 259,
     "metadata": {},
     "output_type": "execute_result"
    }
   ],
   "source": [
    "#eod_act_quarter\n",
    "eod_act_quarter_avgs.sample(10)"
   ]
  },
  {
   "cell_type": "code",
   "execution_count": 260,
   "metadata": {},
   "outputs": [
    {
     "data": {
      "text/html": [
       "<div>\n",
       "<style scoped>\n",
       "    .dataframe tbody tr th:only-of-type {\n",
       "        vertical-align: middle;\n",
       "    }\n",
       "\n",
       "    .dataframe tbody tr th {\n",
       "        vertical-align: top;\n",
       "    }\n",
       "\n",
       "    .dataframe thead th {\n",
       "        text-align: right;\n",
       "    }\n",
       "</style>\n",
       "<table border=\"1\" class=\"dataframe\">\n",
       "  <thead>\n",
       "    <tr style=\"text-align: right;\">\n",
       "      <th></th>\n",
       "      <th>firm_id</th>\n",
       "      <th>quarter</th>\n",
       "      <th>average</th>\n",
       "      <th>feature</th>\n",
       "    </tr>\n",
       "  </thead>\n",
       "  <tbody>\n",
       "    <tr>\n",
       "      <th>323</th>\n",
       "      <td>323</td>\n",
       "      <td>q1</td>\n",
       "      <td>0.713000</td>\n",
       "      <td>eps_fc_terms</td>\n",
       "    </tr>\n",
       "    <tr>\n",
       "      <th>981</th>\n",
       "      <td>476</td>\n",
       "      <td>q2</td>\n",
       "      <td>0.783250</td>\n",
       "      <td>eps_fc_terms</td>\n",
       "    </tr>\n",
       "    <tr>\n",
       "      <th>1932</th>\n",
       "      <td>417</td>\n",
       "      <td>q4</td>\n",
       "      <td>0.531929</td>\n",
       "      <td>eps_fc_terms</td>\n",
       "    </tr>\n",
       "    <tr>\n",
       "      <th>1138</th>\n",
       "      <td>128</td>\n",
       "      <td>q3</td>\n",
       "      <td>0.775150</td>\n",
       "      <td>eps_fc_terms</td>\n",
       "    </tr>\n",
       "    <tr>\n",
       "      <th>1550</th>\n",
       "      <td>35</td>\n",
       "      <td>q4</td>\n",
       "      <td>2.445250</td>\n",
       "      <td>eps_fc_terms</td>\n",
       "    </tr>\n",
       "    <tr>\n",
       "      <th>1447</th>\n",
       "      <td>437</td>\n",
       "      <td>q3</td>\n",
       "      <td>0.582250</td>\n",
       "      <td>eps_fc_terms</td>\n",
       "    </tr>\n",
       "    <tr>\n",
       "      <th>259</th>\n",
       "      <td>259</td>\n",
       "      <td>q1</td>\n",
       "      <td>0.466250</td>\n",
       "      <td>eps_fc_terms</td>\n",
       "    </tr>\n",
       "    <tr>\n",
       "      <th>941</th>\n",
       "      <td>436</td>\n",
       "      <td>q2</td>\n",
       "      <td>1.295200</td>\n",
       "      <td>eps_fc_terms</td>\n",
       "    </tr>\n",
       "    <tr>\n",
       "      <th>1851</th>\n",
       "      <td>336</td>\n",
       "      <td>q4</td>\n",
       "      <td>0.573571</td>\n",
       "      <td>eps_fc_terms</td>\n",
       "    </tr>\n",
       "    <tr>\n",
       "      <th>1509</th>\n",
       "      <td>499</td>\n",
       "      <td>q3</td>\n",
       "      <td>0.983643</td>\n",
       "      <td>eps_fc_terms</td>\n",
       "    </tr>\n",
       "  </tbody>\n",
       "</table>\n",
       "</div>"
      ],
      "text/plain": [
       "     firm_id quarter   average       feature\n",
       "323      323      q1  0.713000  eps_fc_terms\n",
       "981      476      q2  0.783250  eps_fc_terms\n",
       "1932     417      q4  0.531929  eps_fc_terms\n",
       "1138     128      q3  0.775150  eps_fc_terms\n",
       "1550      35      q4  2.445250  eps_fc_terms\n",
       "1447     437      q3  0.582250  eps_fc_terms\n",
       "259      259      q1  0.466250  eps_fc_terms\n",
       "941      436      q2  1.295200  eps_fc_terms\n",
       "1851     336      q4  0.573571  eps_fc_terms\n",
       "1509     499      q3  0.983643  eps_fc_terms"
      ]
     },
     "execution_count": 260,
     "metadata": {},
     "output_type": "execute_result"
    }
   ],
   "source": [
    "#eps_fc_terms_quarter\n",
    "eps_fc_terms_quarter_avgs.sample(10)"
   ]
  },
  {
   "cell_type": "code",
   "execution_count": 262,
   "metadata": {},
   "outputs": [
    {
     "name": "stdout",
     "output_type": "stream",
     "text": [
      "Index(['firm_id', 'quarter', 'average', 'feature'], dtype='object') \n",
      " Index(['firm_id', 'quarter', 'average', 'feature'], dtype='object') \n",
      " Index(['firm_id', 'quarter', 'average', 'feature'], dtype='object') \n",
      " Index(['firm_id', 'quarter', 'average', 'feature'], dtype='object')\n"
     ]
    }
   ],
   "source": [
    "#verify that all columns are consistent\n",
    "print(eps_fc_quarter_avgs.columns, '\\n',\n",
    "      eps_act_quarter_avgs.columns, '\\n',\n",
    "      eod_act_quarter_avgs.columns, '\\n',\n",
    "      eps_fc_terms_quarter_avgs.columns)"
   ]
  },
  {
   "cell_type": "code",
   "execution_count": 264,
   "metadata": {},
   "outputs": [
    {
     "name": "stdout",
     "output_type": "stream",
     "text": [
      "505 \n",
      " 505 \n",
      " 505 \n",
      " 505\n"
     ]
    }
   ],
   "source": [
    "#verify there are 505 firms in each dataframe\n",
    "print(eps_fc_quarter_avgs.firm_id.nunique(), '\\n',\n",
    "      eps_act_quarter_avgs.firm_id.nunique(), '\\n',\n",
    "      eod_act_quarter_avgs.firm_id.nunique(), '\\n',\n",
    "      eps_fc_terms_quarter_avgs.firm_id.nunique())"
   ]
  },
  {
   "cell_type": "code",
   "execution_count": 266,
   "metadata": {},
   "outputs": [
    {
     "data": {
      "text/html": [
       "<div>\n",
       "<style scoped>\n",
       "    .dataframe tbody tr th:only-of-type {\n",
       "        vertical-align: middle;\n",
       "    }\n",
       "\n",
       "    .dataframe tbody tr th {\n",
       "        vertical-align: top;\n",
       "    }\n",
       "\n",
       "    .dataframe thead th {\n",
       "        text-align: right;\n",
       "    }\n",
       "</style>\n",
       "<table border=\"1\" class=\"dataframe\">\n",
       "  <thead>\n",
       "    <tr style=\"text-align: right;\">\n",
       "      <th></th>\n",
       "      <th>firm_id</th>\n",
       "      <th>quarter</th>\n",
       "      <th>average</th>\n",
       "      <th>feature</th>\n",
       "    </tr>\n",
       "  </thead>\n",
       "  <tbody>\n",
       "    <tr>\n",
       "      <th>1635</th>\n",
       "      <td>120</td>\n",
       "      <td>q4</td>\n",
       "      <td>0.042052</td>\n",
       "      <td>eps_act</td>\n",
       "    </tr>\n",
       "    <tr>\n",
       "      <th>643</th>\n",
       "      <td>138</td>\n",
       "      <td>q2</td>\n",
       "      <td>0.359900</td>\n",
       "      <td>eps_fc_terms</td>\n",
       "    </tr>\n",
       "    <tr>\n",
       "      <th>1704</th>\n",
       "      <td>189</td>\n",
       "      <td>q4</td>\n",
       "      <td>0.250044</td>\n",
       "      <td>eps_act</td>\n",
       "    </tr>\n",
       "    <tr>\n",
       "      <th>491</th>\n",
       "      <td>491</td>\n",
       "      <td>q1</td>\n",
       "      <td>0.351538</td>\n",
       "      <td>eps_act</td>\n",
       "    </tr>\n",
       "    <tr>\n",
       "      <th>1384</th>\n",
       "      <td>374</td>\n",
       "      <td>q3</td>\n",
       "      <td>0.415667</td>\n",
       "      <td>eps_fc</td>\n",
       "    </tr>\n",
       "    <tr>\n",
       "      <th>433</th>\n",
       "      <td>433</td>\n",
       "      <td>q1</td>\n",
       "      <td>48.890524</td>\n",
       "      <td>eod_act</td>\n",
       "    </tr>\n",
       "    <tr>\n",
       "      <th>52</th>\n",
       "      <td>52</td>\n",
       "      <td>q1</td>\n",
       "      <td>0.161500</td>\n",
       "      <td>eps_fc_terms</td>\n",
       "    </tr>\n",
       "    <tr>\n",
       "      <th>1172</th>\n",
       "      <td>162</td>\n",
       "      <td>q3</td>\n",
       "      <td>1.100050</td>\n",
       "      <td>eps_fc_terms</td>\n",
       "    </tr>\n",
       "    <tr>\n",
       "      <th>1487</th>\n",
       "      <td>477</td>\n",
       "      <td>q3</td>\n",
       "      <td>37.657443</td>\n",
       "      <td>eod_act</td>\n",
       "    </tr>\n",
       "    <tr>\n",
       "      <th>196</th>\n",
       "      <td>196</td>\n",
       "      <td>q1</td>\n",
       "      <td>0.847000</td>\n",
       "      <td>eps_fc_terms</td>\n",
       "    </tr>\n",
       "  </tbody>\n",
       "</table>\n",
       "</div>"
      ],
      "text/plain": [
       "     firm_id quarter    average       feature\n",
       "1635     120      q4   0.042052       eps_act\n",
       "643      138      q2   0.359900  eps_fc_terms\n",
       "1704     189      q4   0.250044       eps_act\n",
       "491      491      q1   0.351538       eps_act\n",
       "1384     374      q3   0.415667        eps_fc\n",
       "433      433      q1  48.890524       eod_act\n",
       "52        52      q1   0.161500  eps_fc_terms\n",
       "1172     162      q3   1.100050  eps_fc_terms\n",
       "1487     477      q3  37.657443       eod_act\n",
       "196      196      q1   0.847000  eps_fc_terms"
      ]
     },
     "execution_count": 266,
     "metadata": {},
     "output_type": "execute_result"
    }
   ],
   "source": [
    "#all quarterly averages\n",
    "df_quarter_avgs.sample(10)"
   ]
  },
  {
   "cell_type": "code",
   "execution_count": 267,
   "metadata": {},
   "outputs": [
    {
     "data": {
      "text/plain": [
       "505"
      ]
     },
     "execution_count": 267,
     "metadata": {},
     "output_type": "execute_result"
    }
   ],
   "source": [
    "#verify 505 firms in df_quarter_avgs\n",
    "df_quarter_avgs.firm_id.nunique()"
   ]
  },
  {
   "cell_type": "markdown",
   "metadata": {},
   "source": [
    "### Code\n",
    ">**ISSUE 10:** Firm 20-year, yearly, and quarterly averages contained in different DataFrames.\n",
    "\n",
    "**Define:** \n",
    "- Outer merge `df_twenty_year_avgs`, `df_yearly_avgs`, and `df_quarter_avgs` on **firm** column."
   ]
  },
  {
   "cell_type": "code",
   "execution_count": 206,
   "metadata": {},
   "outputs": [],
   "source": [
    "#put all average DFs in an array\n",
    "avgs_array = [df_twenty_year_avgs, df_yearly_avgs, df_quarter_avgs]"
   ]
  },
  {
   "cell_type": "code",
   "execution_count": 207,
   "metadata": {},
   "outputs": [],
   "source": [
    "df_all_avgs = pd.concat(avgs_array, join='outer', axis=1).fillna(method='ffill')"
   ]
  },
  {
   "cell_type": "markdown",
   "metadata": {},
   "source": [
    "### Test"
   ]
  },
  {
   "cell_type": "code",
   "execution_count": 209,
   "metadata": {},
   "outputs": [
    {
     "data": {
      "text/html": [
       "<div>\n",
       "<style scoped>\n",
       "    .dataframe tbody tr th:only-of-type {\n",
       "        vertical-align: middle;\n",
       "    }\n",
       "\n",
       "    .dataframe tbody tr th {\n",
       "        vertical-align: top;\n",
       "    }\n",
       "\n",
       "    .dataframe thead th {\n",
       "        text-align: right;\n",
       "    }\n",
       "</style>\n",
       "<table border=\"1\" class=\"dataframe\">\n",
       "  <thead>\n",
       "    <tr style=\"text-align: right;\">\n",
       "      <th>firm</th>\n",
       "      <th>eps_fc</th>\n",
       "      <th>eps_act</th>\n",
       "      <th>eod_act</th>\n",
       "      <th>eps_fc_terms</th>\n",
       "      <th>1999_eps_fc</th>\n",
       "      <th>2000_eps_fc</th>\n",
       "      <th>2001_eps_fc</th>\n",
       "      <th>2002_eps_fc</th>\n",
       "      <th>2003_eps_fc</th>\n",
       "      <th>2004_eps_fc</th>\n",
       "      <th>...</th>\n",
       "      <th>q3_eps_act</th>\n",
       "      <th>q4_eps_act</th>\n",
       "      <th>q1_eod_act</th>\n",
       "      <th>q2_eod_act</th>\n",
       "      <th>q3_eod_act</th>\n",
       "      <th>q4_eod_act</th>\n",
       "      <th>q1_eps_fc_terms</th>\n",
       "      <th>q2_eps_fc_terms</th>\n",
       "      <th>q3_eps_fc_terms</th>\n",
       "      <th>q4_eps_fc_terms</th>\n",
       "    </tr>\n",
       "  </thead>\n",
       "  <tbody>\n",
       "    <tr>\n",
       "      <th>a</th>\n",
       "      <td>0.531678</td>\n",
       "      <td>0.352169</td>\n",
       "      <td>32.896718</td>\n",
       "      <td>0.567579</td>\n",
       "      <td>NaN</td>\n",
       "      <td>NaN</td>\n",
       "      <td>NaN</td>\n",
       "      <td>NaN</td>\n",
       "      <td>NaN</td>\n",
       "      <td>NaN</td>\n",
       "      <td>...</td>\n",
       "      <td>0.191000</td>\n",
       "      <td>0.416667</td>\n",
       "      <td>34.058320</td>\n",
       "      <td>32.998630</td>\n",
       "      <td>31.991835</td>\n",
       "      <td>32.538085</td>\n",
       "      <td>0.542500</td>\n",
       "      <td>0.537857</td>\n",
       "      <td>0.558000</td>\n",
       "      <td>0.627667</td>\n",
       "    </tr>\n",
       "    <tr>\n",
       "      <th>aal</th>\n",
       "      <td>0.339879</td>\n",
       "      <td>-0.388520</td>\n",
       "      <td>40.303125</td>\n",
       "      <td>0.709745</td>\n",
       "      <td>NaN</td>\n",
       "      <td>NaN</td>\n",
       "      <td>NaN</td>\n",
       "      <td>NaN</td>\n",
       "      <td>NaN</td>\n",
       "      <td>NaN</td>\n",
       "      <td>...</td>\n",
       "      <td>0.071912</td>\n",
       "      <td>-0.871865</td>\n",
       "      <td>42.735000</td>\n",
       "      <td>38.682500</td>\n",
       "      <td>37.785000</td>\n",
       "      <td>42.010000</td>\n",
       "      <td>0.048769</td>\n",
       "      <td>1.261429</td>\n",
       "      <td>1.159643</td>\n",
       "      <td>0.321929</td>\n",
       "    </tr>\n",
       "    <tr>\n",
       "      <th>aap</th>\n",
       "      <td>1.051973</td>\n",
       "      <td>0.996901</td>\n",
       "      <td>76.856583</td>\n",
       "      <td>1.163366</td>\n",
       "      <td>NaN</td>\n",
       "      <td>NaN</td>\n",
       "      <td>0.02850</td>\n",
       "      <td>0.21075</td>\n",
       "      <td>0.3185</td>\n",
       "      <td>0.414</td>\n",
       "      <td>...</td>\n",
       "      <td>1.007222</td>\n",
       "      <td>0.670000</td>\n",
       "      <td>77.747000</td>\n",
       "      <td>76.724222</td>\n",
       "      <td>78.780333</td>\n",
       "      <td>74.174778</td>\n",
       "      <td>1.453235</td>\n",
       "      <td>1.262778</td>\n",
       "      <td>1.177556</td>\n",
       "      <td>0.776000</td>\n",
       "    </tr>\n",
       "    <tr>\n",
       "      <th>aapl</th>\n",
       "      <td>0.873143</td>\n",
       "      <td>0.944501</td>\n",
       "      <td>55.145230</td>\n",
       "      <td>0.933613</td>\n",
       "      <td>0.021</td>\n",
       "      <td>0.0285</td>\n",
       "      <td>-0.00575</td>\n",
       "      <td>0.00575</td>\n",
       "      <td>0.0025</td>\n",
       "      <td>0.010</td>\n",
       "      <td>...</td>\n",
       "      <td>0.750119</td>\n",
       "      <td>0.878384</td>\n",
       "      <td>53.321171</td>\n",
       "      <td>54.858752</td>\n",
       "      <td>60.959586</td>\n",
       "      <td>51.256220</td>\n",
       "      <td>1.231100</td>\n",
       "      <td>0.912950</td>\n",
       "      <td>0.750250</td>\n",
       "      <td>0.840150</td>\n",
       "    </tr>\n",
       "    <tr>\n",
       "      <th>abbv</th>\n",
       "      <td>1.319607</td>\n",
       "      <td>0.778921</td>\n",
       "      <td>66.260714</td>\n",
       "      <td>1.322593</td>\n",
       "      <td>0.021</td>\n",
       "      <td>0.0285</td>\n",
       "      <td>-0.00575</td>\n",
       "      <td>0.00575</td>\n",
       "      <td>0.0025</td>\n",
       "      <td>0.010</td>\n",
       "      <td>...</td>\n",
       "      <td>0.968750</td>\n",
       "      <td>0.249505</td>\n",
       "      <td>64.034286</td>\n",
       "      <td>66.394286</td>\n",
       "      <td>68.447143</td>\n",
       "      <td>66.167143</td>\n",
       "      <td>1.225000</td>\n",
       "      <td>1.293143</td>\n",
       "      <td>1.359429</td>\n",
       "      <td>1.398857</td>\n",
       "    </tr>\n",
       "  </tbody>\n",
       "</table>\n",
       "<p>5 rows × 103 columns</p>\n",
       "</div>"
      ],
      "text/plain": [
       "firm    eps_fc   eps_act    eod_act  eps_fc_terms  1999_eps_fc  2000_eps_fc  \\\n",
       "a     0.531678  0.352169  32.896718      0.567579          NaN          NaN   \n",
       "aal   0.339879 -0.388520  40.303125      0.709745          NaN          NaN   \n",
       "aap   1.051973  0.996901  76.856583      1.163366          NaN          NaN   \n",
       "aapl  0.873143  0.944501  55.145230      0.933613        0.021       0.0285   \n",
       "abbv  1.319607  0.778921  66.260714      1.322593        0.021       0.0285   \n",
       "\n",
       "firm  2001_eps_fc  2002_eps_fc  2003_eps_fc  2004_eps_fc  ...  q3_eps_act  \\\n",
       "a             NaN          NaN          NaN          NaN  ...    0.191000   \n",
       "aal           NaN          NaN          NaN          NaN  ...    0.071912   \n",
       "aap       0.02850      0.21075       0.3185        0.414  ...    1.007222   \n",
       "aapl     -0.00575      0.00575       0.0025        0.010  ...    0.750119   \n",
       "abbv     -0.00575      0.00575       0.0025        0.010  ...    0.968750   \n",
       "\n",
       "firm  q4_eps_act  q1_eod_act  q2_eod_act  q3_eod_act  q4_eod_act  \\\n",
       "a       0.416667   34.058320   32.998630   31.991835   32.538085   \n",
       "aal    -0.871865   42.735000   38.682500   37.785000   42.010000   \n",
       "aap     0.670000   77.747000   76.724222   78.780333   74.174778   \n",
       "aapl    0.878384   53.321171   54.858752   60.959586   51.256220   \n",
       "abbv    0.249505   64.034286   66.394286   68.447143   66.167143   \n",
       "\n",
       "firm  q1_eps_fc_terms  q2_eps_fc_terms  q3_eps_fc_terms  q4_eps_fc_terms  \n",
       "a            0.542500         0.537857         0.558000         0.627667  \n",
       "aal          0.048769         1.261429         1.159643         0.321929  \n",
       "aap          1.453235         1.262778         1.177556         0.776000  \n",
       "aapl         1.231100         0.912950         0.750250         0.840150  \n",
       "abbv         1.225000         1.293143         1.359429         1.398857  \n",
       "\n",
       "[5 rows x 103 columns]"
      ]
     },
     "execution_count": 209,
     "metadata": {},
     "output_type": "execute_result"
    }
   ],
   "source": [
    "df_all_avgs.head()"
   ]
  },
  {
   "cell_type": "code",
   "execution_count": 210,
   "metadata": {},
   "outputs": [
    {
     "data": {
      "text/plain": [
       "(505, 103)"
      ]
     },
     "execution_count": 210,
     "metadata": {},
     "output_type": "execute_result"
    }
   ],
   "source": [
    "#verify 103 columns\n",
    "df_all_avgs.shape"
   ]
  },
  {
   "cell_type": "markdown",
   "metadata": {},
   "source": [
    "# III) Store Data <a id = \"store\"></a>\n",
    "\n",
    "**Disclaimer:** I decided to put the following CSVs under the ***./data/clean/averages/components*** directory because they form *part* of the main CSVs under the ***./data/clean/averages*** directory:\n",
    "- `quarter-avgs-eod-act.csv`\n",
    "- `quarter-avgs-eps-act.csv`\n",
    "- `quarter-avgs-eps-fc.csv`\n",
    "- `quarter-avgs-eps-fc-terms.csv`\n",
    "\n",
    "> The above are all components of the `quarter-avgs.csv` under **/averages/**\n",
    "\n",
    "- `yearly-avgs-eod-act.csv`\n",
    "- `yearly-avgs-eps-act.csv`\n",
    "- `yearly-avgs-eps-fc.csv`\n",
    "- `yearly-avgs-eps-fc-terms.csv`\n",
    "\n",
    "> The above are all components of the `yearly-avgs.csv` under **/averages/**\n",
    "\n",
    "**Additionally, I decided to keep `avgs.csv` under the *./data/clean/averages/* directory.** Although this CSV containing all averages would be highly inefficient for the data exploration stage, I decided it would be best to keep it on hand for convenience.\n",
    "\n",
    "Using `avgs.csv` would mean having the parse through the column names to isolate 20-year, yearly, and quarterly averages, but all of that redundance can be avoided by simply focusing on the `twenty-year-avgs`, `yearly-avgs`, and `quarter-avgs` CSVs alone.\n",
    "\n",
    "## Firms"
   ]
  },
  {
   "cell_type": "code",
   "execution_count": 545,
   "metadata": {},
   "outputs": [],
   "source": [
    "firm_ids.to_csv(PATH_CLEAN + 'firms.csv', encoding = 'utf-8', index = False)"
   ]
  },
  {
   "cell_type": "markdown",
   "metadata": {},
   "source": [
    "## Averages"
   ]
  },
  {
   "cell_type": "code",
   "execution_count": 268,
   "metadata": {},
   "outputs": [],
   "source": [
    "#twenty-year-averages\n",
    "df_twenty_year_avgs.to_csv(PATH_CLEAN_AVGS + 'twenty-year-avgs.csv', encoding = 'utf-8', index = False)"
   ]
  },
  {
   "cell_type": "code",
   "execution_count": 269,
   "metadata": {},
   "outputs": [],
   "source": [
    "#yearly averagas\n",
    "df_yearly_avgs.to_csv(PATH_CLEAN_AVGS + 'yearly-avgs.csv', encoding = 'utf-8', index = False)"
   ]
  },
  {
   "cell_type": "code",
   "execution_count": 270,
   "metadata": {},
   "outputs": [],
   "source": [
    "#quarterly averages\n",
    "df_quarter_avgs.to_csv(PATH_CLEAN_AVGS + 'quarter-avgs.csv', encoding = 'utf-8', index = False)"
   ]
  },
  {
   "cell_type": "code",
   "execution_count": 217,
   "metadata": {},
   "outputs": [],
   "source": [
    "#all averages\n",
    "df_all_avgs.to_csv(PATH_CLEAN_AVGS + 'avgs.csv', encoding = 'utf-8', index = False)"
   ]
  },
  {
   "cell_type": "markdown",
   "metadata": {},
   "source": [
    "## Clean Standalone Datasets"
   ]
  },
  {
   "cell_type": "code",
   "execution_count": 218,
   "metadata": {},
   "outputs": [],
   "source": [
    "eps_fc_clean.to_csv(PATH_CLEAN + 'eps-fc.csv')\n",
    "eps_act_clean.to_csv(PATH_CLEAN + 'eps-act.csv')\n",
    "eod_act_clean.to_csv(PATH_CLEAN + 'eod-act.csv')\n",
    "eps_fc_terms_clean.to_csv(PATH_CLEAN + 'eps-fc-terms.csv')"
   ]
  },
  {
   "cell_type": "markdown",
   "metadata": {},
   "source": [
    "# IV) Notes\n",
    "\n",
    "\n",
    "\n",
    "- When dealing with the CSVs depicting averages, we need to keep in mind **missing data** in our interpretations.\n",
    "- I decided to put the years as columns under yearly average DF generation because: the amount of columns generated here, TK, would be less than the amount of \n",
    "\tfirms there are, 505. [TK link to a study showing how having too many columns take up memory vs rows]\n",
    "    \n",
    "- keep in mind that `eod_act` is based on **calendar years** not fiscal years."
   ]
  },
  {
   "cell_type": "code",
   "execution_count": 136,
   "metadata": {},
   "outputs": [],
   "source": [
    "\n",
    "#convert notebook to HTML"
   ]
  }
 ],
 "metadata": {
  "kernelspec": {
   "display_name": "Python 3",
   "language": "python",
   "name": "python3"
  },
  "language_info": {
   "codemirror_mode": {
    "name": "ipython",
    "version": 3
   },
   "file_extension": ".py",
   "mimetype": "text/x-python",
   "name": "python",
   "nbconvert_exporter": "python",
   "pygments_lexer": "ipython3",
   "version": "3.7.3"
  }
 },
 "nbformat": 4,
 "nbformat_minor": 2
}
