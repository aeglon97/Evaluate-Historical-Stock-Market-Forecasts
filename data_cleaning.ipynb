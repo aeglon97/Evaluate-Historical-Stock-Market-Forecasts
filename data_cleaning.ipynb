{
 "cells": [
  {
   "cell_type": "markdown",
   "metadata": {},
   "source": [
    "## Table of Contents\n",
    "- [Introduction](#introduction)\n",
    "- [Data Wrangling](#wrangling)\n",
    "    - [Gather](#gather)\n",
    "    - [Assess](#assess)\n",
    "    - [Clean](#clean)\n",
    "    - [Analyze](#analyze)\n",
    "    - [Visualize](#visualize)\n",
    "- [Conclusions](#conclusions)"
   ]
  },
  {
   "cell_type": "code",
   "execution_count": 1,
   "metadata": {},
   "outputs": [],
   "source": [
    "PATH = './data/'\n",
    "\n",
    "import pandas as pd\n",
    "import numpy as np\n",
    "import matplotlib.pyplot as plt\n",
    "import seaborn as sb"
   ]
  },
  {
   "cell_type": "markdown",
   "metadata": {},
   "source": [
    "## I) Introduction <a id = \"introduction\">\n",
    "\n",
    "**Aim:** Analyze absolute difference and (possibly) margin of error between stock market forecast of price returns and actual stock market price returns.\n",
    "\n",
    "I will be analyzing quarterly price returns within the past 20 years for the firms present in the S&P 500 2019 Index.\n",
    "\n",
    "> At first, I wanted to analyze the forecasted vs. actual price earnings of the S&P in its entirety for the past 20 years. However, considering that firms continuously enter and leave stock indices every year, there would be varying levels of inconsistencies and marginal errors when comparing annual S&P returns alone. To combat this problem, I have isolated these two approaches:\n",
    "- Analyze the historical earnings of *only* the firms present in the S&P 2019 Index\n",
    "- Keep track of all firms that were present in the S&P for the past 20 years. Keep track of how many times each firm appeared in the Index and for those with the least count, analyze them individually on how they differ from the firms that stayed for longer.\n",
    "\n",
    "\n",
    "## II) Data Wrangling <a id=\"wrangling\"></a>\n",
    "\n",
    "To gather the data depicted under the `./data` folder, I used Bloomberg Excel functions.\n",
    "\n",
    "### A) Gather <a id = \"gather\"></a>\n",
    "> **APPROACH 1:** Focus on the firms that appear in the 2019 S&P Index and analyze their forecasted vs. actual price earnings for the last 20 years.\n",
    "\n",
    "To ensure consistency in analysis among multiple firms, I divide both the forecasted and actual price earning dates by *calendar period* instead of fiscal period. This is because fiscal period differs by firm whereas calendar period is consistent by dates. \n",
    "\n",
    "**Historical data from January 1999 until December 2019**"
   ]
  },
  {
   "cell_type": "code",
   "execution_count": 2,
   "metadata": {},
   "outputs": [],
   "source": [
    "#historic forecasted EPS\n",
    "df_fc = pd.read_csv(PATH + 'sp-fc.csv')\n",
    "\n",
    "#historic end of day price\n",
    "df_eod = pd.read_csv(PATH + 'sp-eod.csv')"
   ]
  },
  {
   "cell_type": "markdown",
   "metadata": {},
   "source": [
    "## B) Assess\n",
    "\n",
    "### Forecasted Historical EPS\n",
    "\n"
   ]
  },
  {
   "cell_type": "code",
   "execution_count": 3,
   "metadata": {},
   "outputs": [
    {
     "data": {
      "text/html": [
       "<div>\n",
       "<style scoped>\n",
       "    .dataframe tbody tr th:only-of-type {\n",
       "        vertical-align: middle;\n",
       "    }\n",
       "\n",
       "    .dataframe tbody tr th {\n",
       "        vertical-align: top;\n",
       "    }\n",
       "\n",
       "    .dataframe thead th {\n",
       "        text-align: right;\n",
       "    }\n",
       "</style>\n",
       "<table border=\"1\" class=\"dataframe\">\n",
       "  <thead>\n",
       "    <tr style=\"text-align: right;\">\n",
       "      <th></th>\n",
       "      <th>Forecast Made</th>\n",
       "      <th>Term Forecasted</th>\n",
       "      <th>A UN Equity</th>\n",
       "      <th>AAL UW Equity</th>\n",
       "      <th>AAP UN Equity</th>\n",
       "      <th>AAPL UW Equity</th>\n",
       "      <th>ABBV UN Equity</th>\n",
       "      <th>ABC UN Equity</th>\n",
       "      <th>ABMD UW Equity</th>\n",
       "      <th>ABT UN Equity</th>\n",
       "      <th>...</th>\n",
       "      <th>XEL UW Equity</th>\n",
       "      <th>XLNX UW Equity</th>\n",
       "      <th>XOM UN Equity</th>\n",
       "      <th>XRAY UW Equity</th>\n",
       "      <th>XRX UN Equity</th>\n",
       "      <th>XYL UN Equity</th>\n",
       "      <th>YUM UN Equity</th>\n",
       "      <th>ZBH UN Equity</th>\n",
       "      <th>ZION UW Equity</th>\n",
       "      <th>ZTS UN Equity</th>\n",
       "    </tr>\n",
       "  </thead>\n",
       "  <tbody>\n",
       "    <tr>\n",
       "      <th>23</th>\n",
       "      <td>7/1/2005</td>\n",
       "      <td>05Q4</td>\n",
       "      <td>0.360</td>\n",
       "      <td>NaN</td>\n",
       "      <td>0.356</td>\n",
       "      <td>0.046</td>\n",
       "      <td>NaN</td>\n",
       "      <td>0.240</td>\n",
       "      <td>0.000</td>\n",
       "      <td>0.742</td>\n",
       "      <td>...</td>\n",
       "      <td>0.305</td>\n",
       "      <td>0.202</td>\n",
       "      <td>1.128</td>\n",
       "      <td>0.362</td>\n",
       "      <td>NaN</td>\n",
       "      <td>NaN</td>\n",
       "      <td>0.409</td>\n",
       "      <td>0.823</td>\n",
       "      <td>1.308</td>\n",
       "      <td>NaN</td>\n",
       "    </tr>\n",
       "    <tr>\n",
       "      <th>44</th>\n",
       "      <td>10/1/2010</td>\n",
       "      <td>11Q1</td>\n",
       "      <td>0.510</td>\n",
       "      <td>-1.100</td>\n",
       "      <td>1.403</td>\n",
       "      <td>0.702</td>\n",
       "      <td>NaN</td>\n",
       "      <td>0.552</td>\n",
       "      <td>-0.140</td>\n",
       "      <td>0.966</td>\n",
       "      <td>...</td>\n",
       "      <td>0.435</td>\n",
       "      <td>0.533</td>\n",
       "      <td>1.471</td>\n",
       "      <td>0.466</td>\n",
       "      <td>0.887</td>\n",
       "      <td>NaN</td>\n",
       "      <td>0.632</td>\n",
       "      <td>1.133</td>\n",
       "      <td>-0.111</td>\n",
       "      <td>NaN</td>\n",
       "    </tr>\n",
       "    <tr>\n",
       "      <th>62</th>\n",
       "      <td>4/1/2015</td>\n",
       "      <td>15Q3</td>\n",
       "      <td>0.418</td>\n",
       "      <td>3.182</td>\n",
       "      <td>2.140</td>\n",
       "      <td>1.671</td>\n",
       "      <td>1.090</td>\n",
       "      <td>1.128</td>\n",
       "      <td>0.036</td>\n",
       "      <td>0.569</td>\n",
       "      <td>...</td>\n",
       "      <td>0.803</td>\n",
       "      <td>0.609</td>\n",
       "      <td>0.994</td>\n",
       "      <td>0.643</td>\n",
       "      <td>1.052</td>\n",
       "      <td>0.520</td>\n",
       "      <td>1.081</td>\n",
       "      <td>1.704</td>\n",
       "      <td>0.417</td>\n",
       "      <td>0.429</td>\n",
       "    </tr>\n",
       "    <tr>\n",
       "      <th>13</th>\n",
       "      <td>1/1/2003</td>\n",
       "      <td>03Q2</td>\n",
       "      <td>NaN</td>\n",
       "      <td>NaN</td>\n",
       "      <td>0.320</td>\n",
       "      <td>0.003</td>\n",
       "      <td>NaN</td>\n",
       "      <td>NaN</td>\n",
       "      <td>-0.375</td>\n",
       "      <td>0.539</td>\n",
       "      <td>...</td>\n",
       "      <td>0.300</td>\n",
       "      <td>0.107</td>\n",
       "      <td>0.493</td>\n",
       "      <td>0.260</td>\n",
       "      <td>NaN</td>\n",
       "      <td>NaN</td>\n",
       "      <td>0.242</td>\n",
       "      <td>0.389</td>\n",
       "      <td>0.984</td>\n",
       "      <td>NaN</td>\n",
       "    </tr>\n",
       "    <tr>\n",
       "      <th>59</th>\n",
       "      <td>7/1/2014</td>\n",
       "      <td>14Q4</td>\n",
       "      <td>0.937</td>\n",
       "      <td>1.178</td>\n",
       "      <td>1.447</td>\n",
       "      <td>1.334</td>\n",
       "      <td>0.892</td>\n",
       "      <td>0.964</td>\n",
       "      <td>0.063</td>\n",
       "      <td>0.697</td>\n",
       "      <td>...</td>\n",
       "      <td>0.305</td>\n",
       "      <td>0.555</td>\n",
       "      <td>1.906</td>\n",
       "      <td>0.649</td>\n",
       "      <td>1.244</td>\n",
       "      <td>0.629</td>\n",
       "      <td>0.999</td>\n",
       "      <td>1.752</td>\n",
       "      <td>0.454</td>\n",
       "      <td>0.391</td>\n",
       "    </tr>\n",
       "  </tbody>\n",
       "</table>\n",
       "<p>5 rows × 507 columns</p>\n",
       "</div>"
      ],
      "text/plain": [
       "   Forecast Made Term Forecasted  A UN Equity  AAL UW Equity  AAP UN Equity  \\\n",
       "23      7/1/2005            05Q4        0.360            NaN          0.356   \n",
       "44     10/1/2010            11Q1        0.510         -1.100          1.403   \n",
       "62      4/1/2015            15Q3        0.418          3.182          2.140   \n",
       "13      1/1/2003            03Q2          NaN            NaN          0.320   \n",
       "59      7/1/2014            14Q4        0.937          1.178          1.447   \n",
       "\n",
       "    AAPL UW Equity  ABBV UN Equity  ABC UN Equity  ABMD UW Equity  \\\n",
       "23           0.046             NaN          0.240           0.000   \n",
       "44           0.702             NaN          0.552          -0.140   \n",
       "62           1.671           1.090          1.128           0.036   \n",
       "13           0.003             NaN            NaN          -0.375   \n",
       "59           1.334           0.892          0.964           0.063   \n",
       "\n",
       "    ABT UN Equity  ...  XEL UW Equity  XLNX UW Equity  XOM UN Equity  \\\n",
       "23          0.742  ...          0.305           0.202          1.128   \n",
       "44          0.966  ...          0.435           0.533          1.471   \n",
       "62          0.569  ...          0.803           0.609          0.994   \n",
       "13          0.539  ...          0.300           0.107          0.493   \n",
       "59          0.697  ...          0.305           0.555          1.906   \n",
       "\n",
       "    XRAY UW Equity  XRX UN Equity  XYL UN Equity  YUM UN Equity  \\\n",
       "23           0.362            NaN            NaN          0.409   \n",
       "44           0.466          0.887            NaN          0.632   \n",
       "62           0.643          1.052          0.520          1.081   \n",
       "13           0.260            NaN            NaN          0.242   \n",
       "59           0.649          1.244          0.629          0.999   \n",
       "\n",
       "    ZBH UN Equity  ZION UW Equity  ZTS UN Equity  \n",
       "23          0.823           1.308            NaN  \n",
       "44          1.133          -0.111            NaN  \n",
       "62          1.704           0.417          0.429  \n",
       "13          0.389           0.984            NaN  \n",
       "59          1.752           0.454          0.391  \n",
       "\n",
       "[5 rows x 507 columns]"
      ]
     },
     "execution_count": 3,
     "metadata": {},
     "output_type": "execute_result"
    }
   ],
   "source": [
    "df_fc.sample(5)"
   ]
  },
  {
   "cell_type": "code",
   "execution_count": 4,
   "metadata": {},
   "outputs": [
    {
     "data": {
      "text/plain": [
       "(80, 507)"
      ]
     },
     "execution_count": 4,
     "metadata": {},
     "output_type": "execute_result"
    }
   ],
   "source": [
    "df_fc.shape"
   ]
  },
  {
   "cell_type": "markdown",
   "metadata": {},
   "source": [
    "**Observation:** There are 505 firms encompassing 80 quarterly forecast periods since 1999."
   ]
  },
  {
   "cell_type": "code",
   "execution_count": 5,
   "metadata": {},
   "outputs": [
    {
     "data": {
      "text/plain": [
       "80"
      ]
     },
     "execution_count": 5,
     "metadata": {},
     "output_type": "execute_result"
    }
   ],
   "source": [
    "#number of rows with missing data\n",
    "df_fc.isna().sum().max()"
   ]
  },
  {
   "cell_type": "markdown",
   "metadata": {},
   "source": [
    "**Observation:** There are 80 rows with missing data, which means that all quarterly calendar periods contain incomplete data across all firms in the 2019 S&P Index."
   ]
  },
  {
   "cell_type": "code",
   "execution_count": 12,
   "metadata": {},
   "outputs": [
    {
     "data": {
      "text/plain": [
       "False    80\n",
       "dtype: int64"
      ]
     },
     "execution_count": 12,
     "metadata": {},
     "output_type": "execute_result"
    }
   ],
   "source": [
    "#check for rows where all columns are NaN values.\n",
    "columns_to_check = df_fc.columns[2:]\n",
    "df_fc[columns_to_check].isnull().apply(lambda x: all(x), axis = 1).value_counts()"
   ]
  },
  {
   "cell_type": "code",
   "execution_count": 13,
   "metadata": {},
   "outputs": [
    {
     "data": {
      "text/plain": [
       "False    505\n",
       "dtype: int64"
      ]
     },
     "execution_count": 13,
     "metadata": {},
     "output_type": "execute_result"
    }
   ],
   "source": [
    "#check for columns where all rows are NaN values.\n",
    "df_eod[columns_to_check].isnull().apply(lambda x: all(x), axis = 0).value_counts()"
   ]
  },
  {
   "cell_type": "markdown",
   "metadata": {},
   "source": [
    "**Observations:**\n",
    "- No quarterly calendar period is empty of data for all firms.\n",
    "- No firm is empty of data for all calendar periods.\n",
    "\n",
    "***This means that no singular calendar period has missing data for an entire firm, and\n",
    "no singular firm has missing data for an entire calendar period.***"
   ]
  },
  {
   "cell_type": "markdown",
   "metadata": {},
   "source": [
    "### Historic Stock Returns"
   ]
  },
  {
   "cell_type": "code",
   "execution_count": 10,
   "metadata": {},
   "outputs": [
    {
     "data": {
      "text/html": [
       "<div>\n",
       "<style scoped>\n",
       "    .dataframe tbody tr th:only-of-type {\n",
       "        vertical-align: middle;\n",
       "    }\n",
       "\n",
       "    .dataframe tbody tr th {\n",
       "        vertical-align: top;\n",
       "    }\n",
       "\n",
       "    .dataframe thead th {\n",
       "        text-align: right;\n",
       "    }\n",
       "</style>\n",
       "<table border=\"1\" class=\"dataframe\">\n",
       "  <thead>\n",
       "    <tr style=\"text-align: right;\">\n",
       "      <th></th>\n",
       "      <th>date</th>\n",
       "      <th>A UN Equity</th>\n",
       "      <th>AAL UW Equity</th>\n",
       "      <th>AAP UN Equity</th>\n",
       "      <th>AAPL UW Equity</th>\n",
       "      <th>ABBV UN Equity</th>\n",
       "      <th>ABC UN Equity</th>\n",
       "      <th>ABMD UW Equity</th>\n",
       "      <th>ABT UN Equity</th>\n",
       "      <th>ACN UN Equity</th>\n",
       "      <th>...</th>\n",
       "      <th>XEL UW Equity</th>\n",
       "      <th>XLNX UW Equity</th>\n",
       "      <th>XOM UN Equity</th>\n",
       "      <th>XRAY UW Equity</th>\n",
       "      <th>XRX UN Equity</th>\n",
       "      <th>XYL UN Equity</th>\n",
       "      <th>YUM UN Equity</th>\n",
       "      <th>ZBH UN Equity</th>\n",
       "      <th>ZION UW Equity</th>\n",
       "      <th>ZTS UN Equity</th>\n",
       "    </tr>\n",
       "  </thead>\n",
       "  <tbody>\n",
       "    <tr>\n",
       "      <th>34</th>\n",
       "      <td>9/28/2007</td>\n",
       "      <td>26.3724</td>\n",
       "      <td>NaN</td>\n",
       "      <td>33.56</td>\n",
       "      <td>21.9343</td>\n",
       "      <td>NaN</td>\n",
       "      <td>22.665</td>\n",
       "      <td>12.43</td>\n",
       "      <td>25.6557</td>\n",
       "      <td>40.25</td>\n",
       "      <td>...</td>\n",
       "      <td>NaN</td>\n",
       "      <td>26.14</td>\n",
       "      <td>92.56</td>\n",
       "      <td>41.64</td>\n",
       "      <td>45.6838</td>\n",
       "      <td>NaN</td>\n",
       "      <td>24.3256</td>\n",
       "      <td>80.99</td>\n",
       "      <td>68.67</td>\n",
       "      <td>NaN</td>\n",
       "    </tr>\n",
       "    <tr>\n",
       "      <th>59</th>\n",
       "      <td>12/31/2013</td>\n",
       "      <td>40.8958</td>\n",
       "      <td>25.25</td>\n",
       "      <td>110.68</td>\n",
       "      <td>80.1586</td>\n",
       "      <td>52.81</td>\n",
       "      <td>70.310</td>\n",
       "      <td>26.74</td>\n",
       "      <td>38.3300</td>\n",
       "      <td>82.22</td>\n",
       "      <td>...</td>\n",
       "      <td>NaN</td>\n",
       "      <td>45.92</td>\n",
       "      <td>101.20</td>\n",
       "      <td>48.48</td>\n",
       "      <td>32.0630</td>\n",
       "      <td>34.60</td>\n",
       "      <td>54.3677</td>\n",
       "      <td>93.19</td>\n",
       "      <td>29.96</td>\n",
       "      <td>32.69</td>\n",
       "    </tr>\n",
       "    <tr>\n",
       "      <th>46</th>\n",
       "      <td>9/30/2010</td>\n",
       "      <td>23.8624</td>\n",
       "      <td>NaN</td>\n",
       "      <td>58.68</td>\n",
       "      <td>40.5357</td>\n",
       "      <td>NaN</td>\n",
       "      <td>30.660</td>\n",
       "      <td>10.61</td>\n",
       "      <td>24.9954</td>\n",
       "      <td>42.49</td>\n",
       "      <td>...</td>\n",
       "      <td>NaN</td>\n",
       "      <td>26.61</td>\n",
       "      <td>61.79</td>\n",
       "      <td>31.97</td>\n",
       "      <td>27.2680</td>\n",
       "      <td>NaN</td>\n",
       "      <td>33.1196</td>\n",
       "      <td>52.33</td>\n",
       "      <td>21.36</td>\n",
       "      <td>NaN</td>\n",
       "    </tr>\n",
       "    <tr>\n",
       "      <th>50</th>\n",
       "      <td>9/30/2011</td>\n",
       "      <td>22.3465</td>\n",
       "      <td>NaN</td>\n",
       "      <td>58.10</td>\n",
       "      <td>54.4543</td>\n",
       "      <td>NaN</td>\n",
       "      <td>37.270</td>\n",
       "      <td>11.03</td>\n",
       "      <td>24.4691</td>\n",
       "      <td>52.68</td>\n",
       "      <td>...</td>\n",
       "      <td>NaN</td>\n",
       "      <td>27.44</td>\n",
       "      <td>72.63</td>\n",
       "      <td>30.69</td>\n",
       "      <td>18.3631</td>\n",
       "      <td>NaN</td>\n",
       "      <td>35.5141</td>\n",
       "      <td>53.50</td>\n",
       "      <td>14.07</td>\n",
       "      <td>NaN</td>\n",
       "    </tr>\n",
       "    <tr>\n",
       "      <th>60</th>\n",
       "      <td>3/31/2014</td>\n",
       "      <td>39.9877</td>\n",
       "      <td>36.60</td>\n",
       "      <td>126.50</td>\n",
       "      <td>76.6771</td>\n",
       "      <td>51.40</td>\n",
       "      <td>65.590</td>\n",
       "      <td>26.04</td>\n",
       "      <td>38.5100</td>\n",
       "      <td>79.72</td>\n",
       "      <td>...</td>\n",
       "      <td>NaN</td>\n",
       "      <td>54.27</td>\n",
       "      <td>97.68</td>\n",
       "      <td>46.04</td>\n",
       "      <td>29.7709</td>\n",
       "      <td>36.42</td>\n",
       "      <td>54.2095</td>\n",
       "      <td>94.58</td>\n",
       "      <td>30.98</td>\n",
       "      <td>28.94</td>\n",
       "    </tr>\n",
       "  </tbody>\n",
       "</table>\n",
       "<p>5 rows × 506 columns</p>\n",
       "</div>"
      ],
      "text/plain": [
       "          date  A UN Equity  AAL UW Equity  AAP UN Equity  AAPL UW Equity  \\\n",
       "34   9/28/2007      26.3724            NaN          33.56         21.9343   \n",
       "59  12/31/2013      40.8958          25.25         110.68         80.1586   \n",
       "46   9/30/2010      23.8624            NaN          58.68         40.5357   \n",
       "50   9/30/2011      22.3465            NaN          58.10         54.4543   \n",
       "60   3/31/2014      39.9877          36.60         126.50         76.6771   \n",
       "\n",
       "    ABBV UN Equity  ABC UN Equity  ABMD UW Equity  ABT UN Equity  \\\n",
       "34             NaN         22.665           12.43        25.6557   \n",
       "59           52.81         70.310           26.74        38.3300   \n",
       "46             NaN         30.660           10.61        24.9954   \n",
       "50             NaN         37.270           11.03        24.4691   \n",
       "60           51.40         65.590           26.04        38.5100   \n",
       "\n",
       "    ACN UN Equity  ...  XEL UW Equity  XLNX UW Equity  XOM UN Equity  \\\n",
       "34          40.25  ...            NaN           26.14          92.56   \n",
       "59          82.22  ...            NaN           45.92         101.20   \n",
       "46          42.49  ...            NaN           26.61          61.79   \n",
       "50          52.68  ...            NaN           27.44          72.63   \n",
       "60          79.72  ...            NaN           54.27          97.68   \n",
       "\n",
       "    XRAY UW Equity  XRX UN Equity  XYL UN Equity  YUM UN Equity  \\\n",
       "34           41.64        45.6838            NaN        24.3256   \n",
       "59           48.48        32.0630          34.60        54.3677   \n",
       "46           31.97        27.2680            NaN        33.1196   \n",
       "50           30.69        18.3631            NaN        35.5141   \n",
       "60           46.04        29.7709          36.42        54.2095   \n",
       "\n",
       "    ZBH UN Equity  ZION UW Equity  ZTS UN Equity  \n",
       "34          80.99           68.67            NaN  \n",
       "59          93.19           29.96          32.69  \n",
       "46          52.33           21.36            NaN  \n",
       "50          53.50           14.07            NaN  \n",
       "60          94.58           30.98          28.94  \n",
       "\n",
       "[5 rows x 506 columns]"
      ]
     },
     "execution_count": 10,
     "metadata": {},
     "output_type": "execute_result"
    }
   ],
   "source": [
    "#generate 10 random samples \n",
    "df_eod.sample(5)"
   ]
  },
  {
   "cell_type": "code",
   "execution_count": 15,
   "metadata": {},
   "outputs": [
    {
     "data": {
      "text/plain": [
       "(84, 506)"
      ]
     },
     "execution_count": 15,
     "metadata": {},
     "output_type": "execute_result"
    }
   ],
   "source": [
    "df_eod.shape"
   ]
  },
  {
   "cell_type": "markdown",
   "metadata": {},
   "source": [
    "**Observation:** There are 505 firms encompassing 84 calendar periods."
   ]
  },
  {
   "cell_type": "code",
   "execution_count": 16,
   "metadata": {},
   "outputs": [
    {
     "data": {
      "text/plain": [
       "83"
      ]
     },
     "execution_count": 16,
     "metadata": {},
     "output_type": "execute_result"
    }
   ],
   "source": [
    "#number of rows with missing data\n",
    "df_eod.isna().sum().max()"
   ]
  },
  {
   "cell_type": "markdown",
   "metadata": {},
   "source": [
    "**Observation:** There are 83 rows with missing values, which means only one row has non-missing data."
   ]
  },
  {
   "cell_type": "code",
   "execution_count": 57,
   "metadata": {},
   "outputs": [
    {
     "data": {
      "text/html": [
       "<div>\n",
       "<style scoped>\n",
       "    .dataframe tbody tr th:only-of-type {\n",
       "        vertical-align: middle;\n",
       "    }\n",
       "\n",
       "    .dataframe tbody tr th {\n",
       "        vertical-align: top;\n",
       "    }\n",
       "\n",
       "    .dataframe thead th {\n",
       "        text-align: right;\n",
       "    }\n",
       "</style>\n",
       "<table border=\"1\" class=\"dataframe\">\n",
       "  <thead>\n",
       "    <tr style=\"text-align: right;\">\n",
       "      <th></th>\n",
       "      <th>date</th>\n",
       "      <th>A UN Equity</th>\n",
       "      <th>AAL UW Equity</th>\n",
       "      <th>AAP UN Equity</th>\n",
       "      <th>AAPL UW Equity</th>\n",
       "      <th>ABBV UN Equity</th>\n",
       "      <th>ABC UN Equity</th>\n",
       "      <th>ABMD UW Equity</th>\n",
       "      <th>ABT UN Equity</th>\n",
       "      <th>ACN UN Equity</th>\n",
       "      <th>...</th>\n",
       "      <th>XEL UW Equity</th>\n",
       "      <th>XLNX UW Equity</th>\n",
       "      <th>XOM UN Equity</th>\n",
       "      <th>XRAY UW Equity</th>\n",
       "      <th>XRX UN Equity</th>\n",
       "      <th>XYL UN Equity</th>\n",
       "      <th>YUM UN Equity</th>\n",
       "      <th>ZBH UN Equity</th>\n",
       "      <th>ZION UW Equity</th>\n",
       "      <th>ZTS UN Equity</th>\n",
       "    </tr>\n",
       "  </thead>\n",
       "  <tbody>\n",
       "    <tr>\n",
       "      <th>82</th>\n",
       "      <td>9/30/2019</td>\n",
       "      <td>76.63</td>\n",
       "      <td>26.97</td>\n",
       "      <td>165.4</td>\n",
       "      <td>223.97</td>\n",
       "      <td>75.72</td>\n",
       "      <td>82.33</td>\n",
       "      <td>177.89</td>\n",
       "      <td>83.67</td>\n",
       "      <td>192.35</td>\n",
       "      <td>...</td>\n",
       "      <td>64.89</td>\n",
       "      <td>95.9</td>\n",
       "      <td>70.61</td>\n",
       "      <td>53.31</td>\n",
       "      <td>29.91</td>\n",
       "      <td>79.62</td>\n",
       "      <td>113.43</td>\n",
       "      <td>137.27</td>\n",
       "      <td>44.52</td>\n",
       "      <td>124.59</td>\n",
       "    </tr>\n",
       "  </tbody>\n",
       "</table>\n",
       "<p>1 rows × 506 columns</p>\n",
       "</div>"
      ],
      "text/plain": [
       "         date  A UN Equity  AAL UW Equity  AAP UN Equity  AAPL UW Equity  \\\n",
       "82  9/30/2019        76.63          26.97          165.4          223.97   \n",
       "\n",
       "    ABBV UN Equity  ABC UN Equity  ABMD UW Equity  ABT UN Equity  \\\n",
       "82           75.72          82.33          177.89          83.67   \n",
       "\n",
       "    ACN UN Equity  ...  XEL UW Equity  XLNX UW Equity  XOM UN Equity  \\\n",
       "82         192.35  ...          64.89            95.9          70.61   \n",
       "\n",
       "    XRAY UW Equity  XRX UN Equity  XYL UN Equity  YUM UN Equity  \\\n",
       "82           53.31          29.91          79.62         113.43   \n",
       "\n",
       "    ZBH UN Equity  ZION UW Equity  ZTS UN Equity  \n",
       "82         137.27           44.52         124.59  \n",
       "\n",
       "[1 rows x 506 columns]"
      ]
     },
     "execution_count": 57,
     "metadata": {},
     "output_type": "execute_result"
    }
   ],
   "source": [
    "#isolate row with no missing data\n",
    "df_eod[~(df_eod.isna().any(axis=1))]"
   ]
  },
  {
   "cell_type": "markdown",
   "metadata": {},
   "source": [
    "**Observation:** September 30, 2019 is the only recorded calendar time in the past 20 years that contains complete end-of-day stock prices for all firms in the 2019 S&P Index."
   ]
  },
  {
   "cell_type": "code",
   "execution_count": 6,
   "metadata": {},
   "outputs": [
    {
     "data": {
      "text/plain": [
       "False    84\n",
       "dtype: int64"
      ]
     },
     "execution_count": 6,
     "metadata": {},
     "output_type": "execute_result"
    }
   ],
   "source": [
    "#check for rows where all columns are NaN values.\n",
    "columns_to_check = df_eod.columns\n",
    "df_eod[columns_to_check].isnull().apply(lambda x: all(x), axis = 1).value_counts()"
   ]
  },
  {
   "cell_type": "code",
   "execution_count": 94,
   "metadata": {},
   "outputs": [
    {
     "data": {
      "text/plain": [
       "False    506\n",
       "dtype: int64"
      ]
     },
     "execution_count": 94,
     "metadata": {},
     "output_type": "execute_result"
    }
   ],
   "source": [
    "#check for columns where all rows are NaN values.\n",
    "df_eod[columns_to_check].isnull().apply(lambda x: all(x), axis = 0).value_counts()"
   ]
  },
  {
   "cell_type": "markdown",
   "metadata": {},
   "source": [
    "**Observations:** \n",
    "\n",
    "- there is no calendar period that's empty of data for all firms.\n",
    "- there is no firm that's empty of data for all calendar periods.\n",
    "\n",
    "**Therefore, all calendar periods and firms have data for historical end of day stock price.**"
   ]
  },
  {
   "cell_type": "code",
   "execution_count": 97,
   "metadata": {},
   "outputs": [
    {
     "data": {
      "text/plain": [
       "0"
      ]
     },
     "execution_count": 97,
     "metadata": {},
     "output_type": "execute_result"
    }
   ],
   "source": [
    "#count how many rows have isolated data\n",
    "df_eod.duplicated().sum()"
   ]
  },
  {
   "cell_type": "markdown",
   "metadata": {},
   "source": [
    "**Observation:** There is no duplicated data among all firms for all calendar periods in `df_eod`."
   ]
  },
  {
   "cell_type": "code",
   "execution_count": 117,
   "metadata": {},
   "outputs": [
    {
     "data": {
      "text/plain": [
       "0"
      ]
     },
     "execution_count": 117,
     "metadata": {},
     "output_type": "execute_result"
    }
   ],
   "source": [
    "#count number of repeated firm names\n",
    "df_eod.columns.duplicated().sum()"
   ]
  },
  {
   "cell_type": "markdown",
   "metadata": {},
   "source": [
    "**Observation:** There are no duplicated firms in `df_eod`.\n",
    "\n",
    "### Quality\n",
    "\n",
    "**Missing Data**\n",
    "\n",
    "-  something\n",
    "--- \n",
    "\n",
    "- firm names across both DataFrames are capitalized\n",
    "- \n",
    "\n",
    "\n",
    "### Tidiness\n",
    "\n",
    "- both DataFrames need to be merged with firm names transposed into rows\n",
    "\n",
    "## C) Cleaning\n",
    "\n",
    "# III) Store Data\n",
    "\n",
    "# IV) Explore Data\n",
    "\n",
    "## Univariate\n",
    "\n",
    "## Bivariate\n",
    "\n",
    "## Multivariate\n",
    "\n",
    "# V) Visualize Data"
   ]
  }
 ],
 "metadata": {
  "kernelspec": {
   "display_name": "Python 3",
   "language": "python",
   "name": "python3"
  },
  "language_info": {
   "codemirror_mode": {
    "name": "ipython",
    "version": 3
   },
   "file_extension": ".py",
   "mimetype": "text/x-python",
   "name": "python",
   "nbconvert_exporter": "python",
   "pygments_lexer": "ipython3",
   "version": "3.7.3"
  }
 },
 "nbformat": 4,
 "nbformat_minor": 2
}
