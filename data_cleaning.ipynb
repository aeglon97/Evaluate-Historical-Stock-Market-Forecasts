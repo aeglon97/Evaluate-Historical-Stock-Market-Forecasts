{
 "cells": [
  {
   "cell_type": "markdown",
   "metadata": {},
   "source": [
    "## Table of Contents\n",
    "- [Introduction](#introduction)\n",
    "- [Data Wrangling](#wrangling)\n",
    "    - [Gather](#gather)\n",
    "    - [Assess](#assess)\n",
    "    - [Clean](#clean)\n",
    "    - [Analyze](#analyze)\n",
    "    - [Visualize](#visualize)\n",
    "- [Conclusions](#conclusions)"
   ]
  },
  {
   "cell_type": "code",
   "execution_count": null,
   "metadata": {},
   "outputs": [],
   "source": [
    "PATH = './data/'\n",
    "\n",
    "import pandas as pd\n",
    "import numpy as np\n",
    "import matplotlib.pyplot as plt\n",
    "import seaborn as sb"
   ]
  },
  {
   "cell_type": "markdown",
   "metadata": {},
   "source": [
    "## I) Introduction <a id = \"introduction\">\n",
    "\n",
    "**Aim:** Analyze absolute difference and (possibly) margin of error between stock market forecast of price returns and actual stock market price returns.\n",
    "\n",
    "I will be analyzing quarterly price returns within the past 20 years for the firms present in the S&P 500 2019 Index.\n",
    "\n",
    "> At first, I wanted to analyze the forecasted vs. actual price earnings of the S&P in its entirety for the past 20 years. However, considering that firms continuously enter and leave stock indices every year, there would be varying levels of inconsistencies and marginal errors when comparing annual S&P returns alone. To combat this problem, I have isolated these two approaches:\n",
    "- Analyze the historical earnings of *only* the firms present in the S&P 2019 Index\n",
    "- Keep track of all firms that were present in the S&P for the past 20 years. Keep track of how many times each firm appeared in the Index and for those with the least count, analyze them individually on how they differ from the firms that stayed for longer.\n",
    "\n",
    "\n",
    "## II) Data Wrangling <a id=\"wrangling\"></a>\n",
    "\n",
    "To gather the data depicted under the `./data` folder, I used Bloomberg Excel functions.\n",
    "\n",
    "### A) Gather <a id = \"gather\"></a>\n",
    "> **APPROACH 1:** Focus on the firms that appear in the 2019 S&P Index and analyze their forecasted vs. actual price earnings for the last 20 years.\n",
    "\n",
    "To ensure consistency in analysis among multiple firms, I divide both the forecasted and actual price earning dates by *calendar period* instead of fiscal period. This is because fiscal period differs by firm whereas calendar period is consistent by dates. \n",
    "\n",
    "**Historic *forecasted* and *actual* data from January 1999 until December 2019**"
   ]
  },
  {
   "cell_type": "code",
   "execution_count": null,
   "metadata": {},
   "outputs": [],
   "source": [
    "#historic forecasted EPS \n",
    "df_eps_fc = pd.read_csv(PATH + 'sp-eps-fc.csv')\n",
    "\n",
    "#historic actual EPS\n",
    "df_eps_act = pd.read_csv(PATH + 'sp-eps-act.csv')\n",
    "\n",
    "#historic actual EOD\n",
    "df_eod_act = pd.read_csv(PATH + 'sp-eod-act.csv')\n",
    "\n",
    "#historic forecasted EPS with terms\n",
    "df_eps_fc_terms = pd.read_csv(PATH + 'sp-eps-fc-terms.csv')"
   ]
  },
  {
   "cell_type": "markdown",
   "metadata": {},
   "source": [
    "## B) Assess\n",
    "\n",
    "### Historic Forecasted EPS"
   ]
  },
  {
   "cell_type": "code",
   "execution_count": 10,
   "metadata": {},
   "outputs": [
    {
     "data": {
      "text/html": [
       "<div>\n",
       "<style scoped>\n",
       "    .dataframe tbody tr th:only-of-type {\n",
       "        vertical-align: middle;\n",
       "    }\n",
       "\n",
       "    .dataframe tbody tr th {\n",
       "        vertical-align: top;\n",
       "    }\n",
       "\n",
       "    .dataframe thead th {\n",
       "        text-align: right;\n",
       "    }\n",
       "</style>\n",
       "<table border=\"1\" class=\"dataframe\">\n",
       "  <thead>\n",
       "    <tr style=\"text-align: right;\">\n",
       "      <th></th>\n",
       "      <th>Term Forecasted</th>\n",
       "      <th>A UN Equity</th>\n",
       "      <th>AAL UW Equity</th>\n",
       "      <th>AAP UN Equity</th>\n",
       "      <th>AAPL UW Equity</th>\n",
       "      <th>ABBV UN Equity</th>\n",
       "      <th>ABC UN Equity</th>\n",
       "      <th>ABMD UW Equity</th>\n",
       "      <th>ABT UN Equity</th>\n",
       "      <th>ACN UN Equity</th>\n",
       "      <th>...</th>\n",
       "      <th>XEL UW Equity</th>\n",
       "      <th>XLNX UW Equity</th>\n",
       "      <th>XOM UN Equity</th>\n",
       "      <th>XRAY UW Equity</th>\n",
       "      <th>XRX UN Equity</th>\n",
       "      <th>XYL UN Equity</th>\n",
       "      <th>YUM UN Equity</th>\n",
       "      <th>ZBH UN Equity</th>\n",
       "      <th>ZION UW Equity</th>\n",
       "      <th>ZTS UN Equity</th>\n",
       "    </tr>\n",
       "  </thead>\n",
       "  <tbody>\n",
       "    <tr>\n",
       "      <th>17</th>\n",
       "      <td>03Q2</td>\n",
       "      <td>NaN</td>\n",
       "      <td>NaN</td>\n",
       "      <td>0.349</td>\n",
       "      <td>0.001</td>\n",
       "      <td>NaN</td>\n",
       "      <td>NaN</td>\n",
       "      <td>-0.375</td>\n",
       "      <td>0.519</td>\n",
       "      <td>0.239</td>\n",
       "      <td>...</td>\n",
       "      <td>0.230</td>\n",
       "      <td>0.107</td>\n",
       "      <td>0.554</td>\n",
       "      <td>0.260</td>\n",
       "      <td>NaN</td>\n",
       "      <td>NaN</td>\n",
       "      <td>0.230</td>\n",
       "      <td>0.419</td>\n",
       "      <td>0.989</td>\n",
       "      <td>NaN</td>\n",
       "    </tr>\n",
       "    <tr>\n",
       "      <th>32</th>\n",
       "      <td>07Q1</td>\n",
       "      <td>0.348</td>\n",
       "      <td>0.303</td>\n",
       "      <td>0.706</td>\n",
       "      <td>0.113</td>\n",
       "      <td>NaN</td>\n",
       "      <td>0.279</td>\n",
       "      <td>-0.168</td>\n",
       "      <td>0.535</td>\n",
       "      <td>0.415</td>\n",
       "      <td>...</td>\n",
       "      <td>0.360</td>\n",
       "      <td>0.298</td>\n",
       "      <td>1.542</td>\n",
       "      <td>0.358</td>\n",
       "      <td>0.84</td>\n",
       "      <td>NaN</td>\n",
       "      <td>0.318</td>\n",
       "      <td>0.933</td>\n",
       "      <td>1.418</td>\n",
       "      <td>NaN</td>\n",
       "    </tr>\n",
       "    <tr>\n",
       "      <th>51</th>\n",
       "      <td>11Q4</td>\n",
       "      <td>0.805</td>\n",
       "      <td>-0.994</td>\n",
       "      <td>0.745</td>\n",
       "      <td>1.050</td>\n",
       "      <td>NaN</td>\n",
       "      <td>0.556</td>\n",
       "      <td>-0.014</td>\n",
       "      <td>1.436</td>\n",
       "      <td>0.896</td>\n",
       "      <td>...</td>\n",
       "      <td>0.300</td>\n",
       "      <td>0.522</td>\n",
       "      <td>1.979</td>\n",
       "      <td>0.518</td>\n",
       "      <td>NaN</td>\n",
       "      <td>0.456</td>\n",
       "      <td>0.741</td>\n",
       "      <td>1.340</td>\n",
       "      <td>NaN</td>\n",
       "      <td>NaN</td>\n",
       "    </tr>\n",
       "    <tr>\n",
       "      <th>21</th>\n",
       "      <td>04Q2</td>\n",
       "      <td>NaN</td>\n",
       "      <td>NaN</td>\n",
       "      <td>0.467</td>\n",
       "      <td>0.007</td>\n",
       "      <td>NaN</td>\n",
       "      <td>NaN</td>\n",
       "      <td>NaN</td>\n",
       "      <td>0.540</td>\n",
       "      <td>0.268</td>\n",
       "      <td>...</td>\n",
       "      <td>0.166</td>\n",
       "      <td>0.151</td>\n",
       "      <td>0.855</td>\n",
       "      <td>0.295</td>\n",
       "      <td>NaN</td>\n",
       "      <td>NaN</td>\n",
       "      <td>0.261</td>\n",
       "      <td>0.552</td>\n",
       "      <td>1.104</td>\n",
       "      <td>NaN</td>\n",
       "    </tr>\n",
       "    <tr>\n",
       "      <th>83</th>\n",
       "      <td>19Q4</td>\n",
       "      <td>0.855</td>\n",
       "      <td>1.269</td>\n",
       "      <td>1.365</td>\n",
       "      <td>2.837</td>\n",
       "      <td>2.2</td>\n",
       "      <td>1.583</td>\n",
       "      <td>1.084</td>\n",
       "      <td>0.947</td>\n",
       "      <td>1.713</td>\n",
       "      <td>...</td>\n",
       "      <td>0.528</td>\n",
       "      <td>1.034</td>\n",
       "      <td>0.747</td>\n",
       "      <td>0.749</td>\n",
       "      <td>1.13</td>\n",
       "      <td>0.900</td>\n",
       "      <td>1.138</td>\n",
       "      <td>2.265</td>\n",
       "      <td>1.102</td>\n",
       "      <td>0.88</td>\n",
       "    </tr>\n",
       "  </tbody>\n",
       "</table>\n",
       "<p>5 rows × 506 columns</p>\n",
       "</div>"
      ],
      "text/plain": [
       "   Term Forecasted  A UN Equity  AAL UW Equity  AAP UN Equity  AAPL UW Equity  \\\n",
       "17            03Q2          NaN            NaN          0.349           0.001   \n",
       "32            07Q1        0.348          0.303          0.706           0.113   \n",
       "51            11Q4        0.805         -0.994          0.745           1.050   \n",
       "21            04Q2          NaN            NaN          0.467           0.007   \n",
       "83            19Q4        0.855          1.269          1.365           2.837   \n",
       "\n",
       "    ABBV UN Equity  ABC UN Equity  ABMD UW Equity  ABT UN Equity  \\\n",
       "17             NaN            NaN          -0.375          0.519   \n",
       "32             NaN          0.279          -0.168          0.535   \n",
       "51             NaN          0.556          -0.014          1.436   \n",
       "21             NaN            NaN             NaN          0.540   \n",
       "83             2.2          1.583           1.084          0.947   \n",
       "\n",
       "    ACN UN Equity  ...  XEL UW Equity  XLNX UW Equity  XOM UN Equity  \\\n",
       "17          0.239  ...          0.230           0.107          0.554   \n",
       "32          0.415  ...          0.360           0.298          1.542   \n",
       "51          0.896  ...          0.300           0.522          1.979   \n",
       "21          0.268  ...          0.166           0.151          0.855   \n",
       "83          1.713  ...          0.528           1.034          0.747   \n",
       "\n",
       "    XRAY UW Equity  XRX UN Equity  XYL UN Equity  YUM UN Equity  \\\n",
       "17           0.260            NaN            NaN          0.230   \n",
       "32           0.358           0.84            NaN          0.318   \n",
       "51           0.518            NaN          0.456          0.741   \n",
       "21           0.295            NaN            NaN          0.261   \n",
       "83           0.749           1.13          0.900          1.138   \n",
       "\n",
       "    ZBH UN Equity  ZION UW Equity  ZTS UN Equity  \n",
       "17          0.419           0.989            NaN  \n",
       "32          0.933           1.418            NaN  \n",
       "51          1.340             NaN            NaN  \n",
       "21          0.552           1.104            NaN  \n",
       "83          2.265           1.102           0.88  \n",
       "\n",
       "[5 rows x 506 columns]"
      ]
     },
     "execution_count": 10,
     "metadata": {},
     "output_type": "execute_result"
    }
   ],
   "source": [
    "df_eps_fc.sample(5)"
   ]
  },
  {
   "cell_type": "code",
   "execution_count": 11,
   "metadata": {},
   "outputs": [
    {
     "data": {
      "text/plain": [
       "(84, 506)"
      ]
     },
     "execution_count": 11,
     "metadata": {},
     "output_type": "execute_result"
    }
   ],
   "source": [
    "df_eps_fc.shape"
   ]
  },
  {
   "cell_type": "markdown",
   "metadata": {},
   "source": [
    "**Observation:** There are 505 firms encompassing 84 quarterly forecast periods since 1999.\n",
    "\n",
    "> Since there are 4 quarters in a year, 84 quarterly forecast periods equate to 21 years. This is correct since we are analyzing the years from 1999 until the end of 2019."
   ]
  },
  {
   "cell_type": "code",
   "execution_count": 12,
   "metadata": {},
   "outputs": [
    {
     "data": {
      "text/plain": [
       "82"
      ]
     },
     "execution_count": 12,
     "metadata": {},
     "output_type": "execute_result"
    }
   ],
   "source": [
    "#number of rows with missing data\n",
    "df_eps_fc.isna().sum().max()"
   ]
  },
  {
   "cell_type": "markdown",
   "metadata": {},
   "source": [
    "**Observation:** There are 82 rows with missing data. Most of the entries for each quarterly forecast period is incomplete. Out of 84 rows, ***only two*** quarterly calendar periods contain complete data across all firms."
   ]
  },
  {
   "cell_type": "code",
   "execution_count": 13,
   "metadata": {},
   "outputs": [
    {
     "data": {
      "text/plain": [
       "False    84\n",
       "dtype: int64"
      ]
     },
     "execution_count": 13,
     "metadata": {},
     "output_type": "execute_result"
    }
   ],
   "source": [
    "#check for rows where all columns are NaN values.\n",
    "columns_to_check = df_eps_fc.columns[2:]\n",
    "df_eps_fc[columns_to_check].isnull().apply(lambda x: all(x), axis = 1).value_counts()"
   ]
  },
  {
   "cell_type": "code",
   "execution_count": 14,
   "metadata": {},
   "outputs": [
    {
     "data": {
      "text/plain": [
       "False    504\n",
       "dtype: int64"
      ]
     },
     "execution_count": 14,
     "metadata": {},
     "output_type": "execute_result"
    }
   ],
   "source": [
    "#check for columns where all rows are NaN values.\n",
    "df_eps_fc[columns_to_check].isnull().apply(lambda x: all(x), axis = 0).value_counts()"
   ]
  },
  {
   "cell_type": "markdown",
   "metadata": {},
   "source": [
    "**Observations:**\n",
    "- No quarterly calendar period is empty of data for all firms.\n",
    "- No firm is empty of data for all calendar periods.\n",
    "\n",
    "This means that for historical forecasted EPS, ***no singular calendar period has completely missing data across all firms, and\n",
    "no singular firm has completely missing data across an entire calendar period.***"
   ]
  },
  {
   "cell_type": "markdown",
   "metadata": {},
   "source": [
    "### Historic Actual EPS\n"
   ]
  },
  {
   "cell_type": "code",
   "execution_count": 15,
   "metadata": {},
   "outputs": [
    {
     "data": {
      "text/html": [
       "<div>\n",
       "<style scoped>\n",
       "    .dataframe tbody tr th:only-of-type {\n",
       "        vertical-align: middle;\n",
       "    }\n",
       "\n",
       "    .dataframe tbody tr th {\n",
       "        vertical-align: top;\n",
       "    }\n",
       "\n",
       "    .dataframe thead th {\n",
       "        text-align: right;\n",
       "    }\n",
       "</style>\n",
       "<table border=\"1\" class=\"dataframe\">\n",
       "  <thead>\n",
       "    <tr style=\"text-align: right;\">\n",
       "      <th></th>\n",
       "      <th>Quarter</th>\n",
       "      <th>Year</th>\n",
       "      <th>A UN Equity</th>\n",
       "      <th>AAL UW Equity</th>\n",
       "      <th>AAP UN Equity</th>\n",
       "      <th>AAPL UW Equity</th>\n",
       "      <th>ABBV UN Equity</th>\n",
       "      <th>ABC UN Equity</th>\n",
       "      <th>ABMD UW Equity</th>\n",
       "      <th>ABT UN Equity</th>\n",
       "      <th>...</th>\n",
       "      <th>XEL UW Equity</th>\n",
       "      <th>XLNX UW Equity</th>\n",
       "      <th>XOM UN Equity</th>\n",
       "      <th>XRAY UW Equity</th>\n",
       "      <th>XRX UN Equity</th>\n",
       "      <th>XYL UN Equity</th>\n",
       "      <th>YUM UN Equity</th>\n",
       "      <th>ZBH UN Equity</th>\n",
       "      <th>ZION UW Equity</th>\n",
       "      <th>ZTS UN Equity</th>\n",
       "    </tr>\n",
       "  </thead>\n",
       "  <tbody>\n",
       "    <tr>\n",
       "      <th>50</th>\n",
       "      <td>Q3</td>\n",
       "      <td>2011</td>\n",
       "      <td>0.95</td>\n",
       "      <td>-0.480000</td>\n",
       "      <td>1.43</td>\n",
       "      <td>1.127143</td>\n",
       "      <td>NaN</td>\n",
       "      <td>0.67</td>\n",
       "      <td>-0.02</td>\n",
       "      <td>0.19</td>\n",
       "      <td>...</td>\n",
       "      <td>0.69</td>\n",
       "      <td>0.59</td>\n",
       "      <td>2.13</td>\n",
       "      <td>0.43</td>\n",
       "      <td>0.92</td>\n",
       "      <td>0.42000</td>\n",
       "      <td>0.820</td>\n",
       "      <td>1.02</td>\n",
       "      <td>0.35</td>\n",
       "      <td>NaN</td>\n",
       "    </tr>\n",
       "    <tr>\n",
       "      <th>79</th>\n",
       "      <td>Q4</td>\n",
       "      <td>2018</td>\n",
       "      <td>0.61</td>\n",
       "      <td>0.690000</td>\n",
       "      <td>0.74</td>\n",
       "      <td>2.940000</td>\n",
       "      <td>-1.23</td>\n",
       "      <td>1.08</td>\n",
       "      <td>0.83</td>\n",
       "      <td>0.37</td>\n",
       "      <td>...</td>\n",
       "      <td>0.42</td>\n",
       "      <td>0.57</td>\n",
       "      <td>1.41</td>\n",
       "      <td>0.01</td>\n",
       "      <td>0.56</td>\n",
       "      <td>1.25139</td>\n",
       "      <td>1.070</td>\n",
       "      <td>-4.42</td>\n",
       "      <td>1.14</td>\n",
       "      <td>0.72</td>\n",
       "    </tr>\n",
       "    <tr>\n",
       "      <th>47</th>\n",
       "      <td>Q4</td>\n",
       "      <td>2010</td>\n",
       "      <td>0.67</td>\n",
       "      <td>-0.290000</td>\n",
       "      <td>0.58</td>\n",
       "      <td>0.672857</td>\n",
       "      <td>NaN</td>\n",
       "      <td>0.51</td>\n",
       "      <td>0.02</td>\n",
       "      <td>0.93</td>\n",
       "      <td>...</td>\n",
       "      <td>0.29</td>\n",
       "      <td>0.54</td>\n",
       "      <td>1.86</td>\n",
       "      <td>0.48</td>\n",
       "      <td>0.48</td>\n",
       "      <td>0.52546</td>\n",
       "      <td>0.580</td>\n",
       "      <td>0.18</td>\n",
       "      <td>-0.62</td>\n",
       "      <td>NaN</td>\n",
       "    </tr>\n",
       "    <tr>\n",
       "      <th>38</th>\n",
       "      <td>Q3</td>\n",
       "      <td>2008</td>\n",
       "      <td>0.47</td>\n",
       "      <td>0.120155</td>\n",
       "      <td>0.59</td>\n",
       "      <td>0.182857</td>\n",
       "      <td>NaN</td>\n",
       "      <td>-0.34</td>\n",
       "      <td>-0.26</td>\n",
       "      <td>0.70</td>\n",
       "      <td>...</td>\n",
       "      <td>0.51</td>\n",
       "      <td>0.36</td>\n",
       "      <td>2.89</td>\n",
       "      <td>0.44</td>\n",
       "      <td>1.20</td>\n",
       "      <td>NaN</td>\n",
       "      <td>0.600</td>\n",
       "      <td>0.96</td>\n",
       "      <td>0.31</td>\n",
       "      <td>NaN</td>\n",
       "    </tr>\n",
       "    <tr>\n",
       "      <th>29</th>\n",
       "      <td>Q2</td>\n",
       "      <td>2006</td>\n",
       "      <td>0.27</td>\n",
       "      <td>1.440000</td>\n",
       "      <td>0.60</td>\n",
       "      <td>0.070000</td>\n",
       "      <td>NaN</td>\n",
       "      <td>0.31</td>\n",
       "      <td>-0.11</td>\n",
       "      <td>0.40</td>\n",
       "      <td>...</td>\n",
       "      <td>0.24</td>\n",
       "      <td>0.25</td>\n",
       "      <td>1.74</td>\n",
       "      <td>0.38</td>\n",
       "      <td>1.08</td>\n",
       "      <td>NaN</td>\n",
       "      <td>0.355</td>\n",
       "      <td>0.82</td>\n",
       "      <td>1.37</td>\n",
       "      <td>NaN</td>\n",
       "    </tr>\n",
       "  </tbody>\n",
       "</table>\n",
       "<p>5 rows × 507 columns</p>\n",
       "</div>"
      ],
      "text/plain": [
       "   Quarter  Year  A UN Equity  AAL UW Equity  AAP UN Equity  AAPL UW Equity  \\\n",
       "50      Q3  2011         0.95      -0.480000           1.43        1.127143   \n",
       "79      Q4  2018         0.61       0.690000           0.74        2.940000   \n",
       "47      Q4  2010         0.67      -0.290000           0.58        0.672857   \n",
       "38      Q3  2008         0.47       0.120155           0.59        0.182857   \n",
       "29      Q2  2006         0.27       1.440000           0.60        0.070000   \n",
       "\n",
       "    ABBV UN Equity  ABC UN Equity  ABMD UW Equity  ABT UN Equity  ...  \\\n",
       "50             NaN           0.67           -0.02           0.19  ...   \n",
       "79           -1.23           1.08            0.83           0.37  ...   \n",
       "47             NaN           0.51            0.02           0.93  ...   \n",
       "38             NaN          -0.34           -0.26           0.70  ...   \n",
       "29             NaN           0.31           -0.11           0.40  ...   \n",
       "\n",
       "    XEL UW Equity  XLNX UW Equity  XOM UN Equity  XRAY UW Equity  \\\n",
       "50           0.69            0.59           2.13            0.43   \n",
       "79           0.42            0.57           1.41            0.01   \n",
       "47           0.29            0.54           1.86            0.48   \n",
       "38           0.51            0.36           2.89            0.44   \n",
       "29           0.24            0.25           1.74            0.38   \n",
       "\n",
       "    XRX UN Equity  XYL UN Equity  YUM UN Equity  ZBH UN Equity  \\\n",
       "50           0.92        0.42000          0.820           1.02   \n",
       "79           0.56        1.25139          1.070          -4.42   \n",
       "47           0.48        0.52546          0.580           0.18   \n",
       "38           1.20            NaN          0.600           0.96   \n",
       "29           1.08            NaN          0.355           0.82   \n",
       "\n",
       "    ZION UW Equity  ZTS UN Equity  \n",
       "50            0.35            NaN  \n",
       "79            1.14           0.72  \n",
       "47           -0.62            NaN  \n",
       "38            0.31            NaN  \n",
       "29            1.37            NaN  \n",
       "\n",
       "[5 rows x 507 columns]"
      ]
     },
     "execution_count": 15,
     "metadata": {},
     "output_type": "execute_result"
    }
   ],
   "source": [
    "#generate 10 random samples \n",
    "df_eps_act.sample(5)"
   ]
  },
  {
   "cell_type": "code",
   "execution_count": 18,
   "metadata": {},
   "outputs": [
    {
     "data": {
      "text/plain": [
       "(84, 507)"
      ]
     },
     "execution_count": 18,
     "metadata": {},
     "output_type": "execute_result"
    }
   ],
   "source": [
    "df_eps_act.shape"
   ]
  },
  {
   "cell_type": "markdown",
   "metadata": {},
   "source": [
    "**Observation:** There are 505 firms encompassing 84 calendar periods."
   ]
  },
  {
   "cell_type": "code",
   "execution_count": 1,
   "metadata": {},
   "outputs": [
    {
     "ename": "NameError",
     "evalue": "name 'df_eps_act' is not defined",
     "output_type": "error",
     "traceback": [
      "\u001b[1;31m---------------------------------------------------------------------------\u001b[0m",
      "\u001b[1;31mNameError\u001b[0m                                 Traceback (most recent call last)",
      "\u001b[1;32m<ipython-input-1-c80e13df5766>\u001b[0m in \u001b[0;36m<module>\u001b[1;34m\u001b[0m\n\u001b[0;32m      1\u001b[0m \u001b[1;31m#number of rows with missing data\u001b[0m\u001b[1;33m\u001b[0m\u001b[1;33m\u001b[0m\u001b[1;33m\u001b[0m\u001b[0m\n\u001b[1;32m----> 2\u001b[1;33m \u001b[0mdf_eps_act\u001b[0m\u001b[1;33m.\u001b[0m\u001b[0misna\u001b[0m\u001b[1;33m(\u001b[0m\u001b[1;33m)\u001b[0m\u001b[1;33m.\u001b[0m\u001b[0msum\u001b[0m\u001b[1;33m(\u001b[0m\u001b[1;33m)\u001b[0m\u001b[1;33m.\u001b[0m\u001b[0mmax\u001b[0m\u001b[1;33m(\u001b[0m\u001b[1;33m)\u001b[0m\u001b[1;33m\u001b[0m\u001b[1;33m\u001b[0m\u001b[0m\n\u001b[0m",
      "\u001b[1;31mNameError\u001b[0m: name 'df_eps_act' is not defined"
     ]
    }
   ],
   "source": [
    "#number of rows with missing data\n",
    "df_eps_act.isna().sum().max()"
   ]
  },
  {
   "cell_type": "markdown",
   "metadata": {},
   "source": [
    "**Observation:** All quarterly calendar periods contain incomplete data across all firms."
   ]
  },
  {
   "cell_type": "code",
   "execution_count": 12,
   "metadata": {},
   "outputs": [
    {
     "data": {
      "text/plain": [
       "False    84\n",
       "dtype: int64"
      ]
     },
     "execution_count": 12,
     "metadata": {},
     "output_type": "execute_result"
    }
   ],
   "source": [
    "#check for rows where all columns are NaN values.\n",
    "columns_to_check = df_eod.columns\n",
    "df_eod[columns_to_check].isnull().apply(lambda x: all(x), axis = 1).value_counts()"
   ]
  },
  {
   "cell_type": "code",
   "execution_count": 13,
   "metadata": {},
   "outputs": [
    {
     "data": {
      "text/plain": [
       "False    506\n",
       "dtype: int64"
      ]
     },
     "execution_count": 13,
     "metadata": {},
     "output_type": "execute_result"
    }
   ],
   "source": [
    "#check for columns where all rows are NaN values.\n",
    "df_eod[columns_to_check].isnull().apply(lambda x: all(x), axis = 0).value_counts()"
   ]
  },
  {
   "cell_type": "markdown",
   "metadata": {},
   "source": [
    "**Observations:** \n",
    "\n",
    "- there is no calendar period that's empty of data for all firms.\n",
    "- there is no firm that's empty of data for all calendar periods.\n",
    "\n",
    "**Therefore, all calendar periods and firms have data for historical end of day stock price.**"
   ]
  },
  {
   "cell_type": "code",
   "execution_count": 14,
   "metadata": {},
   "outputs": [
    {
     "data": {
      "text/plain": [
       "0"
      ]
     },
     "execution_count": 14,
     "metadata": {},
     "output_type": "execute_result"
    }
   ],
   "source": [
    "#count how many rows have isolated data\n",
    "df_eod.duplicated().sum()"
   ]
  },
  {
   "cell_type": "markdown",
   "metadata": {},
   "source": [
    "**Observation:** There is no duplicated data among all firms for all calendar periods in `df_eod`."
   ]
  },
  {
   "cell_type": "code",
   "execution_count": 15,
   "metadata": {},
   "outputs": [
    {
     "data": {
      "text/plain": [
       "0"
      ]
     },
     "execution_count": 15,
     "metadata": {},
     "output_type": "execute_result"
    }
   ],
   "source": [
    "#count number of repeated firm names\n",
    "df_eod.columns.duplicated().sum()"
   ]
  },
  {
   "cell_type": "markdown",
   "metadata": {},
   "source": [
    "**Observation:** There are no duplicated firms in `df_eod`.\n",
    "\n",
    "### Quality\n",
    "\n",
    "**Missing Data**\n",
    "\n",
    "-  N/A\n",
    "--- \n",
    "\n",
    "- firm names across both DataFrames are capitalized\n",
    "\n",
    "\n",
    "### Tidiness\n",
    "\n",
    "- both DataFrames need to be merged with firm names transposed into rows\n",
    "\n",
    "## C) Cleaning\n",
    "\n",
    "# III) Store Data\n",
    "\n",
    "# IV) Explore Data\n",
    "\n",
    "## Univariate\n",
    "\n",
    "## Bivariate\n",
    "\n",
    "## Multivariate\n",
    "\n",
    "# V) Visualize Data"
   ]
  }
 ],
 "metadata": {
  "kernelspec": {
   "display_name": "Python 3",
   "language": "python",
   "name": "python3"
  },
  "language_info": {
   "codemirror_mode": {
    "name": "ipython",
    "version": 3
   },
   "file_extension": ".py",
   "mimetype": "text/x-python",
   "name": "python",
   "nbconvert_exporter": "python",
   "pygments_lexer": "ipython3",
   "version": "3.7.3"
  }
 },
 "nbformat": 4,
 "nbformat_minor": 2
}
