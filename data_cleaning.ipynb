{
 "cells": [
  {
   "cell_type": "markdown",
   "metadata": {},
   "source": [
    "# S&P 2019 Data Wrangling\n",
    "\n",
    "**by Marc Angelo Acebedo**\n",
    "\n",
    "## Table of Contents\n",
    "- [Introduction](#introduction)\n",
    "- [Data Wrangling](#wrangling)\n",
    "    - [Gather](#gather)\n",
    "    - [Assess](#assess)\n",
    "    - [Clean](#clean)\n",
    "    - [Store](#store)"
   ]
  },
  {
   "cell_type": "markdown",
   "metadata": {},
   "source": [
    "## I) Introduction <a id = \"introduction\">\n",
    "\n",
    "**Broad question:** How do price forecasts for each firm in the S&P 2019 Index compare to their corresponding actual prices?\n",
    "\n",
    "**Approach:** Analyze difference in means between average forecast EPS and average actual EPS for each firm.\n",
    "\n",
    "I will be analyzing quarterly price returns within the past 20 years for the firms present in the S&P 500 2019 Index.\n",
    "\n",
    "> At first, I wanted to analyze the forecasted vs. actual price earnings of the S&P in its entirety for the past 20 years. However, considering that firms continuously enter and leave stock indices every year, there would be varying levels of inconsistencies and marginal errors when comparing annual S&P returns alone. To combat this problem, I have isolated these two approaches:\n",
    "- Analyze the historical earnings of *only* the firms present in the S&P 2019 Index\n",
    "- Keep track of all firms that were present in the S&P for the past 20 years. Keep track of how many times each firm appeared in the Index and for those with the least count, analyze them individually on how they differ from the firms that stayed for longer.\n",
    "\n",
    "[TK] HEre is a breakdown of my final clean CSV's features, TK.csv.\n",
    "\n",
    "## II) Data Wrangling <a id=\"wrangling\"></a>\n",
    "\n",
    "To gather the data depicted under the `./data` folder, I used Bloomberg Excel functions.\n",
    "\n",
    "### A) Gather <a id = \"gather\"></a>\n",
    "> **APPROACH 1:** Focus on the firms that appear in the 2019 S&P Index and analyze their forecasted vs. actual price earnings for the last 20 years.\n",
    "\n",
    "To ensure consistency in analysis among multiple firms, I divide both the forecasted and actual price earning dates by *calendar period* instead of fiscal period. This is because fiscal period differs by firm whereas calendar period is consistent by dates. \n",
    "\n",
    "#### Through the Bloomberg Excel functions, I gathered four datasets with different purposes:\n",
    "\n",
    "- historical forecasted EPS\n",
    "- historical actual EPS\n",
    "- historical actual EOD price\n",
    "- historical forecasted EPS relying on terms\n",
    "\n",
    "---\n",
    "Before delving into the data, let's define what above terms:\n",
    "\n",
    "**EPS**\n",
    "\n",
    "> EPS stands for ***Estimated Price Earnings.*** The formal definition of EPS given by Investopedia is this:\n",
    "\n",
    "Earnings per share is the portion of a company's profit that is allocated to each outstanding share of a common stock, serving as an indicator of the company's financial health.\n",
    "\n",
    "In other words, the EPS is a portion of the company's **net income** after all of their dividends are paid off. Dividends are profits that are paid out to shareholders of the company. EPS is one of the most useful and valuable financial measurements because they ***determine a stock's worth.*** The higher the stock, the more the company can pay out dividends to its shareholders, and the more net profit they are determined to generate.\n",
    "\n",
    "$$ EPS = \\frac{Net Income - Preferred Dividends}{Weighted Average Common Shares Outstanding}\\$$\n",
    "\n",
    "**EOD**\n",
    "\n",
    "> EOD stands for the ***End of Day*** price. For any given day, the EOD marks the ***price at which the stock was valued*** at the end of the day's trading period."
   ]
  },
  {
   "cell_type": "code",
   "execution_count": 1,
   "metadata": {},
   "outputs": [],
   "source": [
    "PATH = './data/'\n",
    "PATH_CLEAN = './data/clean/'\n",
    "PATH_CLEAN_AVGS = './data/clean/averages/'\n",
    "PATH_CLEAN_AVGS_SUB = './data/clean/averages/components/'\n",
    "\n",
    "import pandas as pd\n",
    "import numpy as np\n",
    "import matplotlib.pyplot as plt\n",
    "import seaborn as sb\n",
    "\n",
    "from functools import reduce"
   ]
  },
  {
   "cell_type": "markdown",
   "metadata": {},
   "source": [
    "### Import Data <a id = \"import\"></a>\n",
    "\n",
    "### Let's summarize the contents of the following DataFrames as we import them.\n",
    "> All DataFrames consist of the 505 firms found in the 2019 S&P Index with EPS and EOD data encompassing 20 years: from January 1999 until the December 2019.\n",
    "\n",
    "**Historic forecasted EPS**\n",
    "> According to Investopedia, consensus estimates is normally an average or median of all the forecasts from individual analysts tracking a particular stock. In this case, the consensus estimate is for ***EPS for each firm present in the index as of 2019.*** Forecasted EPS is calculated by ***quarterly earnings,*** usually by each firm's fiscal period. Estimates of quarterly earnings are published at the beginning of each quarterly period."
   ]
  },
  {
   "cell_type": "code",
   "execution_count": 2,
   "metadata": {},
   "outputs": [],
   "source": [
    "#historic forecasted EPS \n",
    "eps_fc = pd.read_csv(PATH + 'sp-eps-fc.csv')"
   ]
  },
  {
   "cell_type": "code",
   "execution_count": 3,
   "metadata": {},
   "outputs": [
    {
     "data": {
      "text/html": [
       "<div>\n",
       "<style scoped>\n",
       "    .dataframe tbody tr th:only-of-type {\n",
       "        vertical-align: middle;\n",
       "    }\n",
       "\n",
       "    .dataframe tbody tr th {\n",
       "        vertical-align: top;\n",
       "    }\n",
       "\n",
       "    .dataframe thead th {\n",
       "        text-align: right;\n",
       "    }\n",
       "</style>\n",
       "<table border=\"1\" class=\"dataframe\">\n",
       "  <thead>\n",
       "    <tr style=\"text-align: right;\">\n",
       "      <th></th>\n",
       "      <th>Term Forecasted</th>\n",
       "      <th>A UN Equity</th>\n",
       "      <th>AAL UW Equity</th>\n",
       "      <th>AAP UN Equity</th>\n",
       "      <th>AAPL UW Equity</th>\n",
       "      <th>ABBV UN Equity</th>\n",
       "      <th>ABC UN Equity</th>\n",
       "      <th>ABMD UW Equity</th>\n",
       "      <th>ABT UN Equity</th>\n",
       "      <th>ACN UN Equity</th>\n",
       "      <th>...</th>\n",
       "      <th>XEL UW Equity</th>\n",
       "      <th>XLNX UW Equity</th>\n",
       "      <th>XOM UN Equity</th>\n",
       "      <th>XRAY UW Equity</th>\n",
       "      <th>XRX UN Equity</th>\n",
       "      <th>XYL UN Equity</th>\n",
       "      <th>YUM UN Equity</th>\n",
       "      <th>ZBH UN Equity</th>\n",
       "      <th>ZION UW Equity</th>\n",
       "      <th>ZTS UN Equity</th>\n",
       "    </tr>\n",
       "  </thead>\n",
       "  <tbody>\n",
       "    <tr>\n",
       "      <th>0</th>\n",
       "      <td>1999Q1</td>\n",
       "      <td>NaN</td>\n",
       "      <td>NaN</td>\n",
       "      <td>NaN</td>\n",
       "      <td>0.025</td>\n",
       "      <td>NaN</td>\n",
       "      <td>NaN</td>\n",
       "      <td>-0.10</td>\n",
       "      <td>0.423</td>\n",
       "      <td>NaN</td>\n",
       "      <td>...</td>\n",
       "      <td>0.456</td>\n",
       "      <td>0.090</td>\n",
       "      <td>0.239</td>\n",
       "      <td>0.123</td>\n",
       "      <td>NaN</td>\n",
       "      <td>NaN</td>\n",
       "      <td>0.123</td>\n",
       "      <td>NaN</td>\n",
       "      <td>0.622</td>\n",
       "      <td>NaN</td>\n",
       "    </tr>\n",
       "    <tr>\n",
       "      <th>1</th>\n",
       "      <td>1999Q2</td>\n",
       "      <td>NaN</td>\n",
       "      <td>NaN</td>\n",
       "      <td>NaN</td>\n",
       "      <td>0.020</td>\n",
       "      <td>NaN</td>\n",
       "      <td>NaN</td>\n",
       "      <td>-0.13</td>\n",
       "      <td>0.420</td>\n",
       "      <td>NaN</td>\n",
       "      <td>...</td>\n",
       "      <td>0.213</td>\n",
       "      <td>0.090</td>\n",
       "      <td>0.264</td>\n",
       "      <td>0.135</td>\n",
       "      <td>NaN</td>\n",
       "      <td>NaN</td>\n",
       "      <td>0.150</td>\n",
       "      <td>NaN</td>\n",
       "      <td>0.661</td>\n",
       "      <td>NaN</td>\n",
       "    </tr>\n",
       "    <tr>\n",
       "      <th>2</th>\n",
       "      <td>1999Q3</td>\n",
       "      <td>NaN</td>\n",
       "      <td>NaN</td>\n",
       "      <td>NaN</td>\n",
       "      <td>0.023</td>\n",
       "      <td>NaN</td>\n",
       "      <td>NaN</td>\n",
       "      <td>-0.11</td>\n",
       "      <td>0.381</td>\n",
       "      <td>NaN</td>\n",
       "      <td>...</td>\n",
       "      <td>0.767</td>\n",
       "      <td>0.099</td>\n",
       "      <td>0.300</td>\n",
       "      <td>0.129</td>\n",
       "      <td>NaN</td>\n",
       "      <td>NaN</td>\n",
       "      <td>0.171</td>\n",
       "      <td>NaN</td>\n",
       "      <td>0.693</td>\n",
       "      <td>NaN</td>\n",
       "    </tr>\n",
       "    <tr>\n",
       "      <th>3</th>\n",
       "      <td>1999Q4</td>\n",
       "      <td>NaN</td>\n",
       "      <td>NaN</td>\n",
       "      <td>NaN</td>\n",
       "      <td>0.016</td>\n",
       "      <td>NaN</td>\n",
       "      <td>NaN</td>\n",
       "      <td>NaN</td>\n",
       "      <td>0.432</td>\n",
       "      <td>NaN</td>\n",
       "      <td>...</td>\n",
       "      <td>0.432</td>\n",
       "      <td>0.124</td>\n",
       "      <td>0.386</td>\n",
       "      <td>0.178</td>\n",
       "      <td>NaN</td>\n",
       "      <td>NaN</td>\n",
       "      <td>0.164</td>\n",
       "      <td>NaN</td>\n",
       "      <td>0.667</td>\n",
       "      <td>NaN</td>\n",
       "    </tr>\n",
       "    <tr>\n",
       "      <th>4</th>\n",
       "      <td>00Q1</td>\n",
       "      <td>NaN</td>\n",
       "      <td>NaN</td>\n",
       "      <td>NaN</td>\n",
       "      <td>0.032</td>\n",
       "      <td>NaN</td>\n",
       "      <td>NaN</td>\n",
       "      <td>NaN</td>\n",
       "      <td>0.441</td>\n",
       "      <td>NaN</td>\n",
       "      <td>...</td>\n",
       "      <td>0.283</td>\n",
       "      <td>0.143</td>\n",
       "      <td>0.436</td>\n",
       "      <td>0.138</td>\n",
       "      <td>NaN</td>\n",
       "      <td>NaN</td>\n",
       "      <td>0.138</td>\n",
       "      <td>NaN</td>\n",
       "      <td>0.668</td>\n",
       "      <td>NaN</td>\n",
       "    </tr>\n",
       "  </tbody>\n",
       "</table>\n",
       "<p>5 rows × 506 columns</p>\n",
       "</div>"
      ],
      "text/plain": [
       "  Term Forecasted  A UN Equity  AAL UW Equity  AAP UN Equity  AAPL UW Equity  \\\n",
       "0          1999Q1          NaN            NaN            NaN           0.025   \n",
       "1          1999Q2          NaN            NaN            NaN           0.020   \n",
       "2          1999Q3          NaN            NaN            NaN           0.023   \n",
       "3          1999Q4          NaN            NaN            NaN           0.016   \n",
       "4            00Q1          NaN            NaN            NaN           0.032   \n",
       "\n",
       "   ABBV UN Equity  ABC UN Equity  ABMD UW Equity  ABT UN Equity  \\\n",
       "0             NaN            NaN           -0.10          0.423   \n",
       "1             NaN            NaN           -0.13          0.420   \n",
       "2             NaN            NaN           -0.11          0.381   \n",
       "3             NaN            NaN             NaN          0.432   \n",
       "4             NaN            NaN             NaN          0.441   \n",
       "\n",
       "   ACN UN Equity  ...  XEL UW Equity  XLNX UW Equity  XOM UN Equity  \\\n",
       "0            NaN  ...          0.456           0.090          0.239   \n",
       "1            NaN  ...          0.213           0.090          0.264   \n",
       "2            NaN  ...          0.767           0.099          0.300   \n",
       "3            NaN  ...          0.432           0.124          0.386   \n",
       "4            NaN  ...          0.283           0.143          0.436   \n",
       "\n",
       "   XRAY UW Equity  XRX UN Equity  XYL UN Equity  YUM UN Equity  ZBH UN Equity  \\\n",
       "0           0.123            NaN            NaN          0.123            NaN   \n",
       "1           0.135            NaN            NaN          0.150            NaN   \n",
       "2           0.129            NaN            NaN          0.171            NaN   \n",
       "3           0.178            NaN            NaN          0.164            NaN   \n",
       "4           0.138            NaN            NaN          0.138            NaN   \n",
       "\n",
       "   ZION UW Equity  ZTS UN Equity  \n",
       "0           0.622            NaN  \n",
       "1           0.661            NaN  \n",
       "2           0.693            NaN  \n",
       "3           0.667            NaN  \n",
       "4           0.668            NaN  \n",
       "\n",
       "[5 rows x 506 columns]"
      ]
     },
     "execution_count": 3,
     "metadata": {},
     "output_type": "execute_result"
    }
   ],
   "source": [
    "eps_fc.head()"
   ]
  },
  {
   "cell_type": "markdown",
   "metadata": {},
   "source": [
    "**Historic actual EPS**\n",
    "> Unlike forecasted EPS, actual EPS are the real numbers denoting Earnings-per-Share for a singular firm. Historic actual EPS will be compared to forecasted EPS to draw correlations and comparisons."
   ]
  },
  {
   "cell_type": "code",
   "execution_count": 4,
   "metadata": {},
   "outputs": [],
   "source": [
    "#historic actual EPS\n",
    "eps_act = pd.read_csv(PATH + 'sp-eps-act.csv')"
   ]
  },
  {
   "cell_type": "code",
   "execution_count": 5,
   "metadata": {},
   "outputs": [
    {
     "data": {
      "text/html": [
       "<div>\n",
       "<style scoped>\n",
       "    .dataframe tbody tr th:only-of-type {\n",
       "        vertical-align: middle;\n",
       "    }\n",
       "\n",
       "    .dataframe tbody tr th {\n",
       "        vertical-align: top;\n",
       "    }\n",
       "\n",
       "    .dataframe thead th {\n",
       "        text-align: right;\n",
       "    }\n",
       "</style>\n",
       "<table border=\"1\" class=\"dataframe\">\n",
       "  <thead>\n",
       "    <tr style=\"text-align: right;\">\n",
       "      <th></th>\n",
       "      <th>Quarter</th>\n",
       "      <th>Year</th>\n",
       "      <th>A UN Equity</th>\n",
       "      <th>AAL UW Equity</th>\n",
       "      <th>AAP UN Equity</th>\n",
       "      <th>AAPL UW Equity</th>\n",
       "      <th>ABBV UN Equity</th>\n",
       "      <th>ABC UN Equity</th>\n",
       "      <th>ABMD UW Equity</th>\n",
       "      <th>ABT UN Equity</th>\n",
       "      <th>...</th>\n",
       "      <th>XEL UW Equity</th>\n",
       "      <th>XLNX UW Equity</th>\n",
       "      <th>XOM UN Equity</th>\n",
       "      <th>XRAY UW Equity</th>\n",
       "      <th>XRX UN Equity</th>\n",
       "      <th>XYL UN Equity</th>\n",
       "      <th>YUM UN Equity</th>\n",
       "      <th>ZBH UN Equity</th>\n",
       "      <th>ZION UW Equity</th>\n",
       "      <th>ZTS UN Equity</th>\n",
       "    </tr>\n",
       "  </thead>\n",
       "  <tbody>\n",
       "    <tr>\n",
       "      <th>0</th>\n",
       "      <td>Q1</td>\n",
       "      <td>1999</td>\n",
       "      <td>0.16</td>\n",
       "      <td>0.99</td>\n",
       "      <td>NaN</td>\n",
       "      <td>0.040000</td>\n",
       "      <td>NaN</td>\n",
       "      <td>0.0925</td>\n",
       "      <td>-0.030</td>\n",
       "      <td>0.44</td>\n",
       "      <td>...</td>\n",
       "      <td>0.34</td>\n",
       "      <td>0.0000</td>\n",
       "      <td>0.210</td>\n",
       "      <td>0.123333</td>\n",
       "      <td>1.64</td>\n",
       "      <td>NaN</td>\n",
       "      <td>0.1725</td>\n",
       "      <td>NaN</td>\n",
       "      <td>0.56</td>\n",
       "      <td>NaN</td>\n",
       "    </tr>\n",
       "    <tr>\n",
       "      <th>1</th>\n",
       "      <td>Q2</td>\n",
       "      <td>1999</td>\n",
       "      <td>0.35</td>\n",
       "      <td>1.76</td>\n",
       "      <td>NaN</td>\n",
       "      <td>0.035357</td>\n",
       "      <td>NaN</td>\n",
       "      <td>0.1000</td>\n",
       "      <td>-0.145</td>\n",
       "      <td>0.42</td>\n",
       "      <td>...</td>\n",
       "      <td>0.06</td>\n",
       "      <td>0.0975</td>\n",
       "      <td>0.285</td>\n",
       "      <td>0.133333</td>\n",
       "      <td>2.28</td>\n",
       "      <td>NaN</td>\n",
       "      <td>0.2900</td>\n",
       "      <td>NaN</td>\n",
       "      <td>0.60</td>\n",
       "      <td>NaN</td>\n",
       "    </tr>\n",
       "    <tr>\n",
       "      <th>2</th>\n",
       "      <td>Q3</td>\n",
       "      <td>1999</td>\n",
       "      <td>0.30</td>\n",
       "      <td>1.86</td>\n",
       "      <td>NaN</td>\n",
       "      <td>0.050357</td>\n",
       "      <td>NaN</td>\n",
       "      <td>0.1075</td>\n",
       "      <td>-0.135</td>\n",
       "      <td>0.30</td>\n",
       "      <td>...</td>\n",
       "      <td>0.63</td>\n",
       "      <td>0.0325</td>\n",
       "      <td>0.315</td>\n",
       "      <td>0.130000</td>\n",
       "      <td>1.96</td>\n",
       "      <td>NaN</td>\n",
       "      <td>0.3200</td>\n",
       "      <td>NaN</td>\n",
       "      <td>0.64</td>\n",
       "      <td>NaN</td>\n",
       "    </tr>\n",
       "    <tr>\n",
       "      <th>3</th>\n",
       "      <td>Q4</td>\n",
       "      <td>1999</td>\n",
       "      <td>0.32</td>\n",
       "      <td>1.89</td>\n",
       "      <td>NaN</td>\n",
       "      <td>0.024643</td>\n",
       "      <td>NaN</td>\n",
       "      <td>0.0375</td>\n",
       "      <td>-0.080</td>\n",
       "      <td>0.43</td>\n",
       "      <td>...</td>\n",
       "      <td>0.43</td>\n",
       "      <td>0.1300</td>\n",
       "      <td>0.600</td>\n",
       "      <td>0.180000</td>\n",
       "      <td>1.72</td>\n",
       "      <td>NaN</td>\n",
       "      <td>0.2375</td>\n",
       "      <td>NaN</td>\n",
       "      <td>0.49</td>\n",
       "      <td>NaN</td>\n",
       "    </tr>\n",
       "    <tr>\n",
       "      <th>4</th>\n",
       "      <td>Q1</td>\n",
       "      <td>2000</td>\n",
       "      <td>0.29</td>\n",
       "      <td>0.89</td>\n",
       "      <td>NaN</td>\n",
       "      <td>0.040585</td>\n",
       "      <td>NaN</td>\n",
       "      <td>0.1050</td>\n",
       "      <td>-0.045</td>\n",
       "      <td>0.45</td>\n",
       "      <td>...</td>\n",
       "      <td>0.45</td>\n",
       "      <td>0.1650</td>\n",
       "      <td>0.500</td>\n",
       "      <td>0.140000</td>\n",
       "      <td>-1.48</td>\n",
       "      <td>NaN</td>\n",
       "      <td>0.2025</td>\n",
       "      <td>NaN</td>\n",
       "      <td>-0.33</td>\n",
       "      <td>NaN</td>\n",
       "    </tr>\n",
       "  </tbody>\n",
       "</table>\n",
       "<p>5 rows × 507 columns</p>\n",
       "</div>"
      ],
      "text/plain": [
       "  Quarter  Year  A UN Equity  AAL UW Equity  AAP UN Equity  AAPL UW Equity  \\\n",
       "0      Q1  1999         0.16           0.99            NaN        0.040000   \n",
       "1      Q2  1999         0.35           1.76            NaN        0.035357   \n",
       "2      Q3  1999         0.30           1.86            NaN        0.050357   \n",
       "3      Q4  1999         0.32           1.89            NaN        0.024643   \n",
       "4      Q1  2000         0.29           0.89            NaN        0.040585   \n",
       "\n",
       "   ABBV UN Equity  ABC UN Equity  ABMD UW Equity  ABT UN Equity  ...  \\\n",
       "0             NaN         0.0925          -0.030           0.44  ...   \n",
       "1             NaN         0.1000          -0.145           0.42  ...   \n",
       "2             NaN         0.1075          -0.135           0.30  ...   \n",
       "3             NaN         0.0375          -0.080           0.43  ...   \n",
       "4             NaN         0.1050          -0.045           0.45  ...   \n",
       "\n",
       "   XEL UW Equity  XLNX UW Equity  XOM UN Equity  XRAY UW Equity  \\\n",
       "0           0.34          0.0000          0.210        0.123333   \n",
       "1           0.06          0.0975          0.285        0.133333   \n",
       "2           0.63          0.0325          0.315        0.130000   \n",
       "3           0.43          0.1300          0.600        0.180000   \n",
       "4           0.45          0.1650          0.500        0.140000   \n",
       "\n",
       "   XRX UN Equity  XYL UN Equity  YUM UN Equity  ZBH UN Equity  ZION UW Equity  \\\n",
       "0           1.64            NaN         0.1725            NaN            0.56   \n",
       "1           2.28            NaN         0.2900            NaN            0.60   \n",
       "2           1.96            NaN         0.3200            NaN            0.64   \n",
       "3           1.72            NaN         0.2375            NaN            0.49   \n",
       "4          -1.48            NaN         0.2025            NaN           -0.33   \n",
       "\n",
       "   ZTS UN Equity  \n",
       "0            NaN  \n",
       "1            NaN  \n",
       "2            NaN  \n",
       "3            NaN  \n",
       "4            NaN  \n",
       "\n",
       "[5 rows x 507 columns]"
      ]
     },
     "execution_count": 5,
     "metadata": {},
     "output_type": "execute_result"
    }
   ],
   "source": [
    "eps_act.head()"
   ]
  },
  {
   "cell_type": "markdown",
   "metadata": {},
   "source": [
    "**Historic actual EOD**\n",
    "> Though this is not directly related to EPS data, EOD would be an interesting measure to use when generating intriguing visualizations and analyses. Who knows what visuals and conclusions I would arrive to with this measure. "
   ]
  },
  {
   "cell_type": "code",
   "execution_count": 6,
   "metadata": {},
   "outputs": [],
   "source": [
    "#historic actual EOD\n",
    "eod_act = pd.read_csv(PATH + 'sp-eod-act.csv')"
   ]
  },
  {
   "cell_type": "code",
   "execution_count": 7,
   "metadata": {},
   "outputs": [
    {
     "data": {
      "text/html": [
       "<div>\n",
       "<style scoped>\n",
       "    .dataframe tbody tr th:only-of-type {\n",
       "        vertical-align: middle;\n",
       "    }\n",
       "\n",
       "    .dataframe tbody tr th {\n",
       "        vertical-align: top;\n",
       "    }\n",
       "\n",
       "    .dataframe thead th {\n",
       "        text-align: right;\n",
       "    }\n",
       "</style>\n",
       "<table border=\"1\" class=\"dataframe\">\n",
       "  <thead>\n",
       "    <tr style=\"text-align: right;\">\n",
       "      <th></th>\n",
       "      <th>date</th>\n",
       "      <th>A UN Equity</th>\n",
       "      <th>AAL UW Equity</th>\n",
       "      <th>AAP UN Equity</th>\n",
       "      <th>AAPL UW Equity</th>\n",
       "      <th>ABBV UN Equity</th>\n",
       "      <th>ABC UN Equity</th>\n",
       "      <th>ABMD UW Equity</th>\n",
       "      <th>ABT UN Equity</th>\n",
       "      <th>ACN UN Equity</th>\n",
       "      <th>...</th>\n",
       "      <th>XEL UW Equity</th>\n",
       "      <th>XLNX UW Equity</th>\n",
       "      <th>XOM UN Equity</th>\n",
       "      <th>XRAY UW Equity</th>\n",
       "      <th>XRX UN Equity</th>\n",
       "      <th>XYL UN Equity</th>\n",
       "      <th>YUM UN Equity</th>\n",
       "      <th>ZBH UN Equity</th>\n",
       "      <th>ZION UW Equity</th>\n",
       "      <th>ZTS UN Equity</th>\n",
       "    </tr>\n",
       "  </thead>\n",
       "  <tbody>\n",
       "    <tr>\n",
       "      <th>0</th>\n",
       "      <td>3/31/1999</td>\n",
       "      <td>NaN</td>\n",
       "      <td>NaN</td>\n",
       "      <td>NaN</td>\n",
       "      <td>1.2835</td>\n",
       "      <td>NaN</td>\n",
       "      <td>8.2934</td>\n",
       "      <td>6.250</td>\n",
       "      <td>20.9504</td>\n",
       "      <td>NaN</td>\n",
       "      <td>...</td>\n",
       "      <td>NaN</td>\n",
       "      <td>20.2813</td>\n",
       "      <td>35.2813</td>\n",
       "      <td>7.7500</td>\n",
       "      <td>140.6214</td>\n",
       "      <td>NaN</td>\n",
       "      <td>12.6284</td>\n",
       "      <td>NaN</td>\n",
       "      <td>66.5000</td>\n",
       "      <td>NaN</td>\n",
       "    </tr>\n",
       "    <tr>\n",
       "      <th>1</th>\n",
       "      <td>6/30/1999</td>\n",
       "      <td>NaN</td>\n",
       "      <td>NaN</td>\n",
       "      <td>NaN</td>\n",
       "      <td>1.6540</td>\n",
       "      <td>NaN</td>\n",
       "      <td>6.1859</td>\n",
       "      <td>6.875</td>\n",
       "      <td>20.3630</td>\n",
       "      <td>NaN</td>\n",
       "      <td>...</td>\n",
       "      <td>NaN</td>\n",
       "      <td>28.6250</td>\n",
       "      <td>38.5625</td>\n",
       "      <td>9.6250</td>\n",
       "      <td>155.6057</td>\n",
       "      <td>NaN</td>\n",
       "      <td>9.7297</td>\n",
       "      <td>NaN</td>\n",
       "      <td>63.5000</td>\n",
       "      <td>NaN</td>\n",
       "    </tr>\n",
       "    <tr>\n",
       "      <th>2</th>\n",
       "      <td>9/30/1999</td>\n",
       "      <td>NaN</td>\n",
       "      <td>NaN</td>\n",
       "      <td>NaN</td>\n",
       "      <td>2.2612</td>\n",
       "      <td>NaN</td>\n",
       "      <td>5.7462</td>\n",
       "      <td>7.750</td>\n",
       "      <td>16.4471</td>\n",
       "      <td>NaN</td>\n",
       "      <td>...</td>\n",
       "      <td>NaN</td>\n",
       "      <td>32.7656</td>\n",
       "      <td>37.9688</td>\n",
       "      <td>7.5833</td>\n",
       "      <td>110.4883</td>\n",
       "      <td>NaN</td>\n",
       "      <td>7.3591</td>\n",
       "      <td>NaN</td>\n",
       "      <td>55.1250</td>\n",
       "      <td>NaN</td>\n",
       "    </tr>\n",
       "    <tr>\n",
       "      <th>3</th>\n",
       "      <td>12/31/1999</td>\n",
       "      <td>52.0909</td>\n",
       "      <td>NaN</td>\n",
       "      <td>NaN</td>\n",
       "      <td>3.6719</td>\n",
       "      <td>NaN</td>\n",
       "      <td>3.6843</td>\n",
       "      <td>18.375</td>\n",
       "      <td>16.2513</td>\n",
       "      <td>NaN</td>\n",
       "      <td>...</td>\n",
       "      <td>NaN</td>\n",
       "      <td>45.4688</td>\n",
       "      <td>40.2813</td>\n",
       "      <td>7.8750</td>\n",
       "      <td>59.7723</td>\n",
       "      <td>NaN</td>\n",
       "      <td>6.9434</td>\n",
       "      <td>NaN</td>\n",
       "      <td>59.1875</td>\n",
       "      <td>NaN</td>\n",
       "    </tr>\n",
       "    <tr>\n",
       "      <th>4</th>\n",
       "      <td>3/31/2000</td>\n",
       "      <td>70.0721</td>\n",
       "      <td>NaN</td>\n",
       "      <td>NaN</td>\n",
       "      <td>4.8504</td>\n",
       "      <td>NaN</td>\n",
       "      <td>3.6388</td>\n",
       "      <td>20.250</td>\n",
       "      <td>15.7478</td>\n",
       "      <td>NaN</td>\n",
       "      <td>...</td>\n",
       "      <td>NaN</td>\n",
       "      <td>82.8125</td>\n",
       "      <td>38.9063</td>\n",
       "      <td>9.4583</td>\n",
       "      <td>68.4994</td>\n",
       "      <td>NaN</td>\n",
       "      <td>5.5839</td>\n",
       "      <td>NaN</td>\n",
       "      <td>41.6250</td>\n",
       "      <td>NaN</td>\n",
       "    </tr>\n",
       "  </tbody>\n",
       "</table>\n",
       "<p>5 rows × 506 columns</p>\n",
       "</div>"
      ],
      "text/plain": [
       "         date  A UN Equity  AAL UW Equity  AAP UN Equity  AAPL UW Equity  \\\n",
       "0   3/31/1999          NaN            NaN            NaN          1.2835   \n",
       "1   6/30/1999          NaN            NaN            NaN          1.6540   \n",
       "2   9/30/1999          NaN            NaN            NaN          2.2612   \n",
       "3  12/31/1999      52.0909            NaN            NaN          3.6719   \n",
       "4   3/31/2000      70.0721            NaN            NaN          4.8504   \n",
       "\n",
       "   ABBV UN Equity  ABC UN Equity  ABMD UW Equity  ABT UN Equity  \\\n",
       "0             NaN         8.2934           6.250        20.9504   \n",
       "1             NaN         6.1859           6.875        20.3630   \n",
       "2             NaN         5.7462           7.750        16.4471   \n",
       "3             NaN         3.6843          18.375        16.2513   \n",
       "4             NaN         3.6388          20.250        15.7478   \n",
       "\n",
       "   ACN UN Equity  ...  XEL UW Equity  XLNX UW Equity  XOM UN Equity  \\\n",
       "0            NaN  ...            NaN         20.2813        35.2813   \n",
       "1            NaN  ...            NaN         28.6250        38.5625   \n",
       "2            NaN  ...            NaN         32.7656        37.9688   \n",
       "3            NaN  ...            NaN         45.4688        40.2813   \n",
       "4            NaN  ...            NaN         82.8125        38.9063   \n",
       "\n",
       "   XRAY UW Equity  XRX UN Equity  XYL UN Equity  YUM UN Equity  ZBH UN Equity  \\\n",
       "0          7.7500       140.6214            NaN        12.6284            NaN   \n",
       "1          9.6250       155.6057            NaN         9.7297            NaN   \n",
       "2          7.5833       110.4883            NaN         7.3591            NaN   \n",
       "3          7.8750        59.7723            NaN         6.9434            NaN   \n",
       "4          9.4583        68.4994            NaN         5.5839            NaN   \n",
       "\n",
       "   ZION UW Equity  ZTS UN Equity  \n",
       "0         66.5000            NaN  \n",
       "1         63.5000            NaN  \n",
       "2         55.1250            NaN  \n",
       "3         59.1875            NaN  \n",
       "4         41.6250            NaN  \n",
       "\n",
       "[5 rows x 506 columns]"
      ]
     },
     "execution_count": 7,
     "metadata": {},
     "output_type": "execute_result"
    }
   ],
   "source": [
    "eod_act.head()"
   ]
  },
  {
   "cell_type": "markdown",
   "metadata": {},
   "source": [
    "**Historic forecasted EPS 3 months prior**\n",
    "> Instead of using forecast data collected at the beginning of the fiscal period, this feature contains EPS data projected 3 months before the current fiscal period. This is an interesting metric to see how differently forecasters make their predictions at different times."
   ]
  },
  {
   "cell_type": "code",
   "execution_count": 8,
   "metadata": {},
   "outputs": [],
   "source": [
    "#historic forecasted EPS 3-months prior\n",
    "eps_fc_terms = pd.read_csv(PATH + 'sp-eps-fc-terms.csv')"
   ]
  },
  {
   "cell_type": "code",
   "execution_count": 9,
   "metadata": {},
   "outputs": [
    {
     "data": {
      "text/html": [
       "<div>\n",
       "<style scoped>\n",
       "    .dataframe tbody tr th:only-of-type {\n",
       "        vertical-align: middle;\n",
       "    }\n",
       "\n",
       "    .dataframe tbody tr th {\n",
       "        vertical-align: top;\n",
       "    }\n",
       "\n",
       "    .dataframe thead th {\n",
       "        text-align: right;\n",
       "    }\n",
       "</style>\n",
       "<table border=\"1\" class=\"dataframe\">\n",
       "  <thead>\n",
       "    <tr style=\"text-align: right;\">\n",
       "      <th></th>\n",
       "      <th>Forecast Made</th>\n",
       "      <th>Term Forecasted</th>\n",
       "      <th>A UN Equity</th>\n",
       "      <th>AAL UW Equity</th>\n",
       "      <th>AAP UN Equity</th>\n",
       "      <th>AAPL UW Equity</th>\n",
       "      <th>ABBV UN Equity</th>\n",
       "      <th>ABC UN Equity</th>\n",
       "      <th>ABMD UW Equity</th>\n",
       "      <th>ABT UN Equity</th>\n",
       "      <th>...</th>\n",
       "      <th>XEL UW Equity</th>\n",
       "      <th>XLNX UW Equity</th>\n",
       "      <th>XOM UN Equity</th>\n",
       "      <th>XRAY UW Equity</th>\n",
       "      <th>XRX UN Equity</th>\n",
       "      <th>XYL UN Equity</th>\n",
       "      <th>YUM UN Equity</th>\n",
       "      <th>ZBH UN Equity</th>\n",
       "      <th>ZION UW Equity</th>\n",
       "      <th>ZTS UN Equity</th>\n",
       "    </tr>\n",
       "  </thead>\n",
       "  <tbody>\n",
       "    <tr>\n",
       "      <th>0</th>\n",
       "      <td>10/1/1999</td>\n",
       "      <td>00Q1</td>\n",
       "      <td>NaN</td>\n",
       "      <td>NaN</td>\n",
       "      <td>NaN</td>\n",
       "      <td>0.030</td>\n",
       "      <td>NaN</td>\n",
       "      <td>NaN</td>\n",
       "      <td>NaN</td>\n",
       "      <td>0.466</td>\n",
       "      <td>...</td>\n",
       "      <td>NaN</td>\n",
       "      <td>0.143</td>\n",
       "      <td>0.398</td>\n",
       "      <td>0.140</td>\n",
       "      <td>NaN</td>\n",
       "      <td>NaN</td>\n",
       "      <td>0.144</td>\n",
       "      <td>NaN</td>\n",
       "      <td>0.777</td>\n",
       "      <td>NaN</td>\n",
       "    </tr>\n",
       "    <tr>\n",
       "      <th>1</th>\n",
       "      <td>1/1/2000</td>\n",
       "      <td>00Q2</td>\n",
       "      <td>NaN</td>\n",
       "      <td>NaN</td>\n",
       "      <td>NaN</td>\n",
       "      <td>0.026</td>\n",
       "      <td>NaN</td>\n",
       "      <td>NaN</td>\n",
       "      <td>NaN</td>\n",
       "      <td>0.437</td>\n",
       "      <td>...</td>\n",
       "      <td>NaN</td>\n",
       "      <td>0.168</td>\n",
       "      <td>0.378</td>\n",
       "      <td>0.153</td>\n",
       "      <td>NaN</td>\n",
       "      <td>NaN</td>\n",
       "      <td>0.184</td>\n",
       "      <td>NaN</td>\n",
       "      <td>0.790</td>\n",
       "      <td>NaN</td>\n",
       "    </tr>\n",
       "    <tr>\n",
       "      <th>2</th>\n",
       "      <td>4/1/2000</td>\n",
       "      <td>00Q3</td>\n",
       "      <td>NaN</td>\n",
       "      <td>NaN</td>\n",
       "      <td>NaN</td>\n",
       "      <td>0.029</td>\n",
       "      <td>NaN</td>\n",
       "      <td>NaN</td>\n",
       "      <td>NaN</td>\n",
       "      <td>0.414</td>\n",
       "      <td>...</td>\n",
       "      <td>0.84</td>\n",
       "      <td>0.189</td>\n",
       "      <td>0.425</td>\n",
       "      <td>0.149</td>\n",
       "      <td>NaN</td>\n",
       "      <td>NaN</td>\n",
       "      <td>0.218</td>\n",
       "      <td>NaN</td>\n",
       "      <td>0.803</td>\n",
       "      <td>NaN</td>\n",
       "    </tr>\n",
       "    <tr>\n",
       "      <th>3</th>\n",
       "      <td>7/1/2000</td>\n",
       "      <td>00Q4</td>\n",
       "      <td>NaN</td>\n",
       "      <td>NaN</td>\n",
       "      <td>NaN</td>\n",
       "      <td>0.032</td>\n",
       "      <td>NaN</td>\n",
       "      <td>NaN</td>\n",
       "      <td>-0.18</td>\n",
       "      <td>0.477</td>\n",
       "      <td>...</td>\n",
       "      <td>0.53</td>\n",
       "      <td>0.211</td>\n",
       "      <td>0.487</td>\n",
       "      <td>0.200</td>\n",
       "      <td>NaN</td>\n",
       "      <td>NaN</td>\n",
       "      <td>0.244</td>\n",
       "      <td>NaN</td>\n",
       "      <td>0.777</td>\n",
       "      <td>NaN</td>\n",
       "    </tr>\n",
       "    <tr>\n",
       "      <th>4</th>\n",
       "      <td>9/1/2000</td>\n",
       "      <td>01Q1</td>\n",
       "      <td>NaN</td>\n",
       "      <td>NaN</td>\n",
       "      <td>NaN</td>\n",
       "      <td>0.041</td>\n",
       "      <td>NaN</td>\n",
       "      <td>NaN</td>\n",
       "      <td>-0.09</td>\n",
       "      <td>0.495</td>\n",
       "      <td>...</td>\n",
       "      <td>0.40</td>\n",
       "      <td>0.259</td>\n",
       "      <td>0.475</td>\n",
       "      <td>0.158</td>\n",
       "      <td>NaN</td>\n",
       "      <td>NaN</td>\n",
       "      <td>0.178</td>\n",
       "      <td>NaN</td>\n",
       "      <td>0.750</td>\n",
       "      <td>NaN</td>\n",
       "    </tr>\n",
       "  </tbody>\n",
       "</table>\n",
       "<p>5 rows × 507 columns</p>\n",
       "</div>"
      ],
      "text/plain": [
       "  Forecast Made Term Forecasted  A UN Equity  AAL UW Equity  AAP UN Equity  \\\n",
       "0     10/1/1999            00Q1          NaN            NaN            NaN   \n",
       "1      1/1/2000            00Q2          NaN            NaN            NaN   \n",
       "2      4/1/2000            00Q3          NaN            NaN            NaN   \n",
       "3      7/1/2000            00Q4          NaN            NaN            NaN   \n",
       "4      9/1/2000            01Q1          NaN            NaN            NaN   \n",
       "\n",
       "   AAPL UW Equity  ABBV UN Equity  ABC UN Equity  ABMD UW Equity  \\\n",
       "0           0.030             NaN            NaN             NaN   \n",
       "1           0.026             NaN            NaN             NaN   \n",
       "2           0.029             NaN            NaN             NaN   \n",
       "3           0.032             NaN            NaN           -0.18   \n",
       "4           0.041             NaN            NaN           -0.09   \n",
       "\n",
       "   ABT UN Equity  ...  XEL UW Equity  XLNX UW Equity  XOM UN Equity  \\\n",
       "0          0.466  ...            NaN           0.143          0.398   \n",
       "1          0.437  ...            NaN           0.168          0.378   \n",
       "2          0.414  ...           0.84           0.189          0.425   \n",
       "3          0.477  ...           0.53           0.211          0.487   \n",
       "4          0.495  ...           0.40           0.259          0.475   \n",
       "\n",
       "   XRAY UW Equity  XRX UN Equity  XYL UN Equity  YUM UN Equity  ZBH UN Equity  \\\n",
       "0           0.140            NaN            NaN          0.144            NaN   \n",
       "1           0.153            NaN            NaN          0.184            NaN   \n",
       "2           0.149            NaN            NaN          0.218            NaN   \n",
       "3           0.200            NaN            NaN          0.244            NaN   \n",
       "4           0.158            NaN            NaN          0.178            NaN   \n",
       "\n",
       "   ZION UW Equity  ZTS UN Equity  \n",
       "0           0.777            NaN  \n",
       "1           0.790            NaN  \n",
       "2           0.803            NaN  \n",
       "3           0.777            NaN  \n",
       "4           0.750            NaN  \n",
       "\n",
       "[5 rows x 507 columns]"
      ]
     },
     "execution_count": 9,
     "metadata": {},
     "output_type": "execute_result"
    }
   ],
   "source": [
    "eps_fc_terms.head()"
   ]
  },
  {
   "cell_type": "markdown",
   "metadata": {},
   "source": [
    "### B) Assess <a id = \"assess\"></a>\n",
    "\n",
    "> The following DataFrames contain data for each firm across various dates. To account for all firm averages, my goal is to generate a CSV file where each row contains the firm average, with the features as columns."
   ]
  },
  {
   "cell_type": "code",
   "execution_count": 10,
   "metadata": {},
   "outputs": [],
   "source": [
    "dict_dfs = {'eps_fcast' : eps_fc,\n",
    "           'eps_actual' : eps_act,\n",
    "           'eod_actual' : eod_act,\n",
    "           'eps_fcast_terms' : eps_fc_terms}"
   ]
  },
  {
   "cell_type": "markdown",
   "metadata": {},
   "source": [
    "### Check Missing Data"
   ]
  },
  {
   "cell_type": "code",
   "execution_count": 11,
   "metadata": {},
   "outputs": [
    {
     "name": "stdout",
     "output_type": "stream",
     "text": [
      "eps_fcast (84, 506)\n",
      "eps_actual (84, 507)\n",
      "eod_actual (84, 506)\n",
      "eps_fcast_terms (80, 507)\n"
     ]
    }
   ],
   "source": [
    "for key, df in dict_dfs.items():\n",
    "    print(key, df.shape)"
   ]
  },
  {
   "cell_type": "markdown",
   "metadata": {},
   "source": [
    "***We need to make sure the number of firms in each DataFrame is consistent.***\n",
    "\n",
    "---\n",
    "\n",
    "**Observation 1:** for `eps_fcast`, there are 505 firms encompassing 84 quarterly fiscal periods since 1999.\n",
    "\n",
    "> There are 506 columns: 1 column being `Term Forecast`, the rest firm names.\n",
    "\n",
    "**Observation 2:** for `eps_actual`, there are 505 firms encompassing 84 quarterly fiscal periods since 1999.\n",
    "\n",
    "> There are 507 columns: 2 columns being `Quarter` and `Year`, the rest firm names.\n",
    "\n",
    "**Observation 3:** for `eod_actual`, there are 505 firms encompassing 84 quarterly calendar periods since 1999.\n",
    "\n",
    "> There are 506 columns: 1 column being `date`, the rest firm names.\n",
    "\n",
    "**Observation 4:** for `eps_fcast_terms`, there are 505 firms encompassing 80 quarterly calendar periods since 1999.\n",
    "\n",
    "> There are 507 columns: 2 columns being `Forecast Made` and `Term Forecasted`, the rest firm names.\n",
    " \n",
    "Since there are only 80 quarterly calendar periods, that ***implies an entire year is missing.***\n",
    "\n",
    "**Observation 5:** For `eps_fcast`, `eps_actual`, and `eod_actual`, since there are 4 quarters in a year, 84 quarterly forecast periods equate to 21 years. This is correct since we are analyzing the years from 1999 until the end of 2019.\n",
    "\n",
    "### Most importantly, the number of firms across all DataFrames is consistent.\n",
    "\n",
    "----\n",
    "\n",
    "***Check which year is missing from `eps_fcast_terms`***.\n",
    "\n",
    "> Each **Term Forecasted** entry under `eps_fcast_terms` records the year with 2 digits, so Quarter 1 of the year 2000 becomes 00Q1.\n",
    "- isolate the first 2 characters to get the year\n",
    "- join a '20' in front of the string so 00 becomes 2000\n",
    "- list the number of unique values."
   ]
  },
  {
   "cell_type": "code",
   "execution_count": 12,
   "metadata": {},
   "outputs": [
    {
     "data": {
      "text/plain": [
       "['2000',\n",
       " '2001',\n",
       " '2002',\n",
       " '2003',\n",
       " '2004',\n",
       " '2005',\n",
       " '2006',\n",
       " '2007',\n",
       " '2008',\n",
       " '2009',\n",
       " '2010',\n",
       " '2011',\n",
       " '2012',\n",
       " '2013',\n",
       " '2014',\n",
       " '2015',\n",
       " '2016',\n",
       " '2017',\n",
       " '2018',\n",
       " '2019']"
      ]
     },
     "execution_count": 12,
     "metadata": {},
     "output_type": "execute_result"
    }
   ],
   "source": [
    "#iterate over all years in eps_fcast_terms, append '20' in front of string\n",
    "list(map(lambda x: '20' + x, eps_fc_terms['Term Forecasted'].str[:2].unique()))"
   ]
  },
  {
   "cell_type": "markdown",
   "metadata": {},
   "source": [
    "**Observation**: The year 1999 is missing from `eps_fc_terms`. This makes sense because the start of the forecasting period would be in the last quarter of 1999, which is October. \n",
    "\n",
    "---\n",
    "\n",
    "### Check Nulls"
   ]
  },
  {
   "cell_type": "code",
   "execution_count": 13,
   "metadata": {},
   "outputs": [
    {
     "name": "stdout",
     "output_type": "stream",
     "text": [
      "# NaN in eps_fcast: 7055\n",
      "# NaN in eps_actual: 5021\n",
      "# NaN in eod_actual: 6921\n",
      "# NaN in eps_fcast_terms: 7080\n"
     ]
    }
   ],
   "source": [
    "for key, df in dict_dfs.items():\n",
    "    #display (row, column) per DataFrame\n",
    "    print('# NaN in {}: {}'.format(key, df.isna().sum().sum()))"
   ]
  },
  {
   "cell_type": "markdown",
   "metadata": {},
   "source": [
    "**Observation:** All four DataSets contain null values.\n",
    "> In order to combat this, we'll have to look at both the **number of rows** and **number of columns** with missing data, separately. This way, we can isolate which firms and/or time periods contain complete or incomplete data."
   ]
  },
  {
   "cell_type": "code",
   "execution_count": 14,
   "metadata": {},
   "outputs": [
    {
     "name": "stdout",
     "output_type": "stream",
     "text": [
      "eps_fcast has 82 time periods containing missing data, out of 84 total rows.\n",
      "eps_actual has 84 time periods containing missing data, out of 84 total rows.\n",
      "eod_actual has 83 time periods containing missing data, out of 84 total rows.\n",
      "eps_fcast_terms has 80 time periods containing missing data, out of 80 total rows.\n"
     ]
    }
   ],
   "source": [
    "#check rows for missing data\n",
    "for key, df in dict_dfs.items():\n",
    "    num_rows_missing = df.isna().sum().max()\n",
    "    print('{} has {} time periods containing missing data, out of {} total rows.'.format(key, num_rows_missing, df.shape[0]))"
   ]
  },
  {
   "cell_type": "code",
   "execution_count": 15,
   "metadata": {},
   "outputs": [
    {
     "data": {
      "text/plain": [
       "254"
      ]
     },
     "execution_count": 15,
     "metadata": {},
     "output_type": "execute_result"
    }
   ],
   "source": [
    "len(eps_fc.columns[eps_fc.isnull().any()])"
   ]
  },
  {
   "cell_type": "code",
   "execution_count": 16,
   "metadata": {},
   "outputs": [
    {
     "name": "stdout",
     "output_type": "stream",
     "text": [
      "eps_fcast has 254 firms containing missing data, out of 506 total columns.\n",
      "eps_actual has 432 firms containing missing data, out of 507 total columns.\n",
      "eod_actual has 505 firms containing missing data, out of 506 total columns.\n",
      "eps_fcast_terms has 340 firms containing missing data, out of 507 total columns.\n"
     ]
    }
   ],
   "source": [
    "#check columns for missing data\n",
    "for key, df in dict_dfs.items():\n",
    "    cols_missing = df.columns[df.isnull().any()]\n",
    "    num_cols_missing = len(cols_missing)\n",
    "    print('{} has {} firms containing missing data, out of {} total columns.'\n",
    "         .format(key, num_cols_missing, df.shape[1]))"
   ]
  },
  {
   "cell_type": "markdown",
   "metadata": {},
   "source": [
    "**Observation 1:** The only two datasets with incomplete data for all time periods are **actual EPS** and **forecasted EPS 3 months prior.**\n",
    "\n",
    "> To address this problem, it'd be helpful to isolate the time period ranges for the datasets with incomplete data by row, **forecasted EPS** and **actual EOD price.**\n",
    "\n",
    "**Observation 2:** For all datasets, all firms contain incomplete data across all time periods.\n",
    "> This is expected, as analyzing financial history spanning over 20 years will naturally be rife with missing and inaccurate data. The ***good news is that `eps_fcast`, `eps_actual`, and `eps_fcast_terms` are the most complete, while `eod_actual` contains the most amount of missing data.***\n",
    "\n",
    "\n",
    "**Moving forward, we need to make sure that these inconsistencies won't clash with our analysis.**\n",
    "> **My approach:** instead of looking at rows and columns ***with*** missing data, we'll be looking at rows and columns that ***are all missing data.***\n",
    "\n",
    "I figured that if there is some missing data here and there scattered throughout the matrix, then that should not skew our analysis too much.\n",
    "\n",
    "However, if there a significant amount of rows/columns that are entirely empty, then we ***might have to get ready to drop some dates and firms from our data overall.***"
   ]
  },
  {
   "cell_type": "code",
   "execution_count": 17,
   "metadata": {},
   "outputs": [
    {
     "name": "stdout",
     "output_type": "stream",
     "text": [
      "eps_fcast \n",
      " False    84\n",
      "dtype: int64 \n",
      "----\n",
      "eps_actual \n",
      " False    84\n",
      "dtype: int64 \n",
      "----\n",
      "eod_actual \n",
      " False    84\n",
      "dtype: int64 \n",
      "----\n",
      "eps_fcast_terms \n",
      " False    80\n",
      "dtype: int64 \n",
      "----\n"
     ]
    }
   ],
   "source": [
    "#check for empty rows, return False if row contains at least one non-null value, True if all are null\n",
    "for key, df in dict_dfs.items():\n",
    "    cols_check = df.columns\n",
    "    num_empty_rows = (df[cols_check].isnull().apply(lambda x: all(x), axis = 1)).value_counts()\n",
    "    print(key, '\\n', num_empty_rows, '\\n----')"
   ]
  },
  {
   "cell_type": "markdown",
   "metadata": {},
   "source": [
    "**Observation:** All datasets do not contain empty rows.\n",
    "> This is good news, since we can rely on the firms' averages per row instead of having to drop or limit time periods."
   ]
  },
  {
   "cell_type": "code",
   "execution_count": 18,
   "metadata": {},
   "outputs": [
    {
     "name": "stdout",
     "output_type": "stream",
     "text": [
      "eps_fcast \n",
      " False    506\n",
      "dtype: int64\n",
      "eps_actual \n",
      " False    506\n",
      "True       1\n",
      "dtype: int64\n",
      "eod_actual \n",
      " False    506\n",
      "dtype: int64\n",
      "eps_fcast_terms \n",
      " False    506\n",
      "True       1\n",
      "dtype: int64\n"
     ]
    }
   ],
   "source": [
    "#check for empty columns, return False if column contains at least one non-null value, True if all are null\n",
    "for key, df in dict_dfs.items():\n",
    "    cols_check = df.columns\n",
    "    num_empty_cols = df[cols_check].isnull().apply(lambda x: all(x), axis = 0).value_counts()\n",
    "    print(key, '\\n', num_empty_cols)"
   ]
  },
  {
   "cell_type": "markdown",
   "metadata": {},
   "source": [
    "**Observation:** `eps_actual` and `eps_fcast_terms` are the only datasets that have an empty column.\n",
    "> Let's isolate and look at the singular empty column for both DataFrames."
   ]
  },
  {
   "cell_type": "code",
   "execution_count": 19,
   "metadata": {},
   "outputs": [],
   "source": [
    "#create function to return an array of column names containing empty data\n",
    "def comb_cols(df):\n",
    "    empty_cols = []\n",
    "    for column in df:\n",
    "        if df[column].isnull().all():\n",
    "            empty_cols.append(column)\n",
    "            \n",
    "    return empty_cols"
   ]
  },
  {
   "cell_type": "code",
   "execution_count": 20,
   "metadata": {},
   "outputs": [
    {
     "name": "stdout",
     "output_type": "stream",
     "text": [
      "In eps_act, the firm ['AMCR UN Equity'] has no data.\n",
      "In eps_fc_terms, the firm ['AMCR UN Equity'] has no data.\n"
     ]
    }
   ],
   "source": [
    "#comb datasets for empty columns\n",
    "print('In eps_act, the firm {} has no data.'.format(comb_cols(eps_act)))\n",
    "print('In eps_fc_terms, the firm {} has no data.'.format(comb_cols(eps_fc_terms)))"
   ]
  },
  {
   "cell_type": "markdown",
   "metadata": {},
   "source": [
    "**Observation:** The same firm in both datasets is empty of data.\n",
    "> Though this is an annoying error to deal with, it still is to our advantage that both datasets ***share one firm*** in common for missing data. This way, we don't have to worry about dropping two entire firms.\n",
    "\n",
    "---"
   ]
  },
  {
   "cell_type": "markdown",
   "metadata": {},
   "source": [
    "### Check Duplicate Data"
   ]
  },
  {
   "cell_type": "code",
   "execution_count": 21,
   "metadata": {},
   "outputs": [
    {
     "name": "stdout",
     "output_type": "stream",
     "text": [
      "eps_fcast 0\n",
      "eps_actual 0\n",
      "eod_actual 0\n",
      "eps_fcast_terms 0\n"
     ]
    }
   ],
   "source": [
    "#check for duplicate data across all rows and columns\n",
    "for key, df in dict_dfs.items():\n",
    "    print(key, df.duplicated().sum())"
   ]
  },
  {
   "cell_type": "markdown",
   "metadata": {},
   "source": [
    "**Observation:** For all datasets, there are ***no duplicate data.*** This is good news!\n",
    "\n",
    "**Next, I will check for duplicated firm names.** Although the presence of duplicated firm names will inherently imply duplicated data, sometimes data gets dispersed in weird, unexpected ways, especially when dealing with large datasets."
   ]
  },
  {
   "cell_type": "code",
   "execution_count": 22,
   "metadata": {},
   "outputs": [
    {
     "name": "stdout",
     "output_type": "stream",
     "text": [
      "eps_fcast 0\n",
      "eps_actual 0\n",
      "eod_actual 0\n",
      "eps_fcast_terms 0\n"
     ]
    }
   ],
   "source": [
    "#check for duplicated firm names\n",
    "for key, df in dict_dfs.items():\n",
    "    print(key, df.columns.duplicated().sum())"
   ]
  },
  {
   "cell_type": "markdown",
   "metadata": {},
   "source": [
    "**Observation:** For all datasets, there are ***no duplicate firm names.*** This is also good news.\n",
    "\n",
    "### There is no need to dedupe our data during the cleaning stage.\n",
    "\n",
    "---\n",
    "\n",
    "### Check Data Types\n",
    "\n",
    "> Make sure all numerical data types are consistent.\n",
    "- EPS and EOD values must all be **floats**\n",
    "- Dates should all be **objects** (for now)\n",
    "\n",
    "- `eps_fc` contains ***1 date field,***, so we should expect ***1 object type.***\n",
    "- `eps_act` contains ***2 date fields,*** so we should expect ***2 object types.***\n",
    "- `eod_act` contains ***1 date field,*** so we should expect ***1 object type.***\n",
    "- `eps_fc_terms` contains ***2 date fields,*** so we should expect ***2 object types.***\n",
    "\n",
    "> And everything else should be a ***float*** type.\n",
    "\n",
    "**Examine each dataset's overall data types per column.**"
   ]
  },
  {
   "cell_type": "code",
   "execution_count": 23,
   "metadata": {},
   "outputs": [
    {
     "name": "stdout",
     "output_type": "stream",
     "text": [
      "eps_fcast \n",
      " float64    505\n",
      "object       1\n",
      "dtype: int64 \n",
      "--------\n",
      "eps_actual \n",
      " float64    499\n",
      "object       7\n",
      "int64        1\n",
      "dtype: int64 \n",
      "--------\n",
      "eod_actual \n",
      " float64    505\n",
      "object       1\n",
      "dtype: int64 \n",
      "--------\n",
      "eps_fcast_terms \n",
      " float64    505\n",
      "object       2\n",
      "dtype: int64 \n",
      "--------\n"
     ]
    }
   ],
   "source": [
    "for key, df in dict_dfs.items():\n",
    "    print(key,'\\n', df.dtypes.value_counts(), '\\n--------')"
   ]
  },
  {
   "cell_type": "markdown",
   "metadata": {},
   "source": [
    "**Observation 1:** `eps_fc`, `eod_act`, and `eps_fc_terms` are all consistent with the expected number of object types.\n",
    "\n",
    "> But we'll still have to double check these facts later.\n",
    "\n",
    "**Observation 2:** `eps_act` contains 5 more object columns than expected.\n",
    "\n",
    "---\n",
    "\n",
    "***Isolate 'Object' Columns under `eps_act`***"
   ]
  },
  {
   "cell_type": "code",
   "execution_count": 24,
   "metadata": {},
   "outputs": [
    {
     "data": {
      "text/html": [
       "<div>\n",
       "<style scoped>\n",
       "    .dataframe tbody tr th:only-of-type {\n",
       "        vertical-align: middle;\n",
       "    }\n",
       "\n",
       "    .dataframe tbody tr th {\n",
       "        vertical-align: top;\n",
       "    }\n",
       "\n",
       "    .dataframe thead th {\n",
       "        text-align: right;\n",
       "    }\n",
       "</style>\n",
       "<table border=\"1\" class=\"dataframe\">\n",
       "  <thead>\n",
       "    <tr style=\"text-align: right;\">\n",
       "      <th></th>\n",
       "      <th>Quarter</th>\n",
       "      <th>BRK/B UN Equity</th>\n",
       "      <th>FOX UW Equity</th>\n",
       "      <th>GOOG UW Equity</th>\n",
       "      <th>HCP UN Equity</th>\n",
       "      <th>SYMC UW Equity</th>\n",
       "      <th>UA UN Equity</th>\n",
       "    </tr>\n",
       "  </thead>\n",
       "  <tbody>\n",
       "    <tr>\n",
       "      <th>0</th>\n",
       "      <td>Q1</td>\n",
       "      <td>#N/A Field Not Applicable</td>\n",
       "      <td>#N/A Field Not Applicable</td>\n",
       "      <td>#N/A Field Not Applicable</td>\n",
       "      <td>#N/A Field Not Applicable</td>\n",
       "      <td>#N/A Field Not Applicable</td>\n",
       "      <td>#N/A Field Not Applicable</td>\n",
       "    </tr>\n",
       "    <tr>\n",
       "      <th>1</th>\n",
       "      <td>Q2</td>\n",
       "      <td>#N/A Field Not Applicable</td>\n",
       "      <td>#N/A Field Not Applicable</td>\n",
       "      <td>#N/A Field Not Applicable</td>\n",
       "      <td>#N/A Field Not Applicable</td>\n",
       "      <td>#N/A Field Not Applicable</td>\n",
       "      <td>#N/A Field Not Applicable</td>\n",
       "    </tr>\n",
       "    <tr>\n",
       "      <th>2</th>\n",
       "      <td>Q3</td>\n",
       "      <td>#N/A Field Not Applicable</td>\n",
       "      <td>#N/A Field Not Applicable</td>\n",
       "      <td>#N/A Field Not Applicable</td>\n",
       "      <td>#N/A Field Not Applicable</td>\n",
       "      <td>#N/A Field Not Applicable</td>\n",
       "      <td>#N/A Field Not Applicable</td>\n",
       "    </tr>\n",
       "    <tr>\n",
       "      <th>3</th>\n",
       "      <td>Q4</td>\n",
       "      <td>#N/A Field Not Applicable</td>\n",
       "      <td>#N/A Field Not Applicable</td>\n",
       "      <td>#N/A Field Not Applicable</td>\n",
       "      <td>#N/A Field Not Applicable</td>\n",
       "      <td>#N/A Field Not Applicable</td>\n",
       "      <td>#N/A Field Not Applicable</td>\n",
       "    </tr>\n",
       "    <tr>\n",
       "      <th>4</th>\n",
       "      <td>Q1</td>\n",
       "      <td>#N/A Field Not Applicable</td>\n",
       "      <td>#N/A Field Not Applicable</td>\n",
       "      <td>#N/A Field Not Applicable</td>\n",
       "      <td>#N/A Field Not Applicable</td>\n",
       "      <td>#N/A Field Not Applicable</td>\n",
       "      <td>#N/A Field Not Applicable</td>\n",
       "    </tr>\n",
       "  </tbody>\n",
       "</table>\n",
       "</div>"
      ],
      "text/plain": [
       "  Quarter            BRK/B UN Equity              FOX UW Equity  \\\n",
       "0      Q1  #N/A Field Not Applicable  #N/A Field Not Applicable   \n",
       "1      Q2  #N/A Field Not Applicable  #N/A Field Not Applicable   \n",
       "2      Q3  #N/A Field Not Applicable  #N/A Field Not Applicable   \n",
       "3      Q4  #N/A Field Not Applicable  #N/A Field Not Applicable   \n",
       "4      Q1  #N/A Field Not Applicable  #N/A Field Not Applicable   \n",
       "\n",
       "              GOOG UW Equity              HCP UN Equity  \\\n",
       "0  #N/A Field Not Applicable  #N/A Field Not Applicable   \n",
       "1  #N/A Field Not Applicable  #N/A Field Not Applicable   \n",
       "2  #N/A Field Not Applicable  #N/A Field Not Applicable   \n",
       "3  #N/A Field Not Applicable  #N/A Field Not Applicable   \n",
       "4  #N/A Field Not Applicable  #N/A Field Not Applicable   \n",
       "\n",
       "              SYMC UW Equity               UA UN Equity  \n",
       "0  #N/A Field Not Applicable  #N/A Field Not Applicable  \n",
       "1  #N/A Field Not Applicable  #N/A Field Not Applicable  \n",
       "2  #N/A Field Not Applicable  #N/A Field Not Applicable  \n",
       "3  #N/A Field Not Applicable  #N/A Field Not Applicable  \n",
       "4  #N/A Field Not Applicable  #N/A Field Not Applicable  "
      ]
     },
     "execution_count": 24,
     "metadata": {},
     "output_type": "execute_result"
    }
   ],
   "source": [
    "eps_act.select_dtypes(include = 'object').head()"
   ]
  },
  {
   "cell_type": "markdown",
   "metadata": {},
   "source": [
    "**Observation:** These firms are all 'Object' types because there is no recorded data under them.\n",
    "> This is actually missing data. From `eps_act`, there are 6 firms that are empty of data.\n",
    "\n",
    "### This was a tricky situation to spot, but I caught it in the end. There actually is missing data after all, but we missed those 5 entire firms during the \"Check Missing Data\" stage, because they were recorded as objects. This means that Pandas wrongly recognized these 5 firms as \"complete.\""
   ]
  },
  {
   "cell_type": "markdown",
   "metadata": {},
   "source": [
    "### Quality\n",
    "\n",
    "**Missing Data**\n",
    "> **In the end, I decided not to drop any rows or columns with missing data. For the sake of data preservation, I kept all missing data recorded as NaN.**\n",
    "\n",
    "-  `eps_fc_terms` is missing the year 1999.\n",
    "- `eps_act` and `eps_fc_act` have one firm with empty data: 'AMCR UN Equity'\n",
    "- `eps_act` contains 7 empty firms: BRK/B UN Equity, FOX UW Equity, GOOG UW Equity, HCP UN Equity, SYMC UW Equity, UA UN Equity\n",
    "--- \n",
    "- Unnormalized date formats among all DataFrames.\n",
    "- Firm names across all DataFrames are capitalized and contain white space.\n",
    "- Erroneous data type for `eps_act` Object columns.\n",
    "- Erroneous data type for **date** under `eod_act`\n",
    "- Erroneous data type for **forecast_made** under `eps_fc_terms`\n",
    "- Erroneous data types for **term_forecast** under `eps_act`, `eps_fc`, and `eps_fc_terms` to DateTime quarter index\n",
    "- No recorded quarterly data for `eod_act`\n",
    "---\n",
    "- Firm names not referenced by **firm_id**\n",
    "- No recorded 20-year for each dataset.\n",
    "- No recorded yearly averages for each dataset\n",
    "- No recorded quarterly averages for each dataset.\n",
    "---\n",
    "- Features datasets \n",
    "\n",
    "### Tidiness\n",
    "- Firm 20-year, yearly, and quarterly averages contained in different DataFrames.\n",
    "- Features data is unnormalized.\n",
    "\n",
    "\n",
    "### C) CLEAN <a id=\"clean\"></a>"
   ]
  },
  {
   "cell_type": "code",
   "execution_count": 25,
   "metadata": {},
   "outputs": [],
   "source": [
    "eps_fc_clean = eps_fc.copy()\n",
    "eps_act_clean = eps_act.copy()\n",
    "eod_act_clean = eod_act.copy()\n",
    "eps_fc_terms_clean = eps_fc_terms.copy()"
   ]
  },
  {
   "cell_type": "code",
   "execution_count": 26,
   "metadata": {},
   "outputs": [],
   "source": [
    "#create dictionary of all clean dfs for iteration\n",
    "dict_clean = {'eps_fc_clean' : eps_fc_clean,\n",
    "             'eps_act_clean' : eps_act_clean,\n",
    "             'eod_act_clean' : eod_act_clean,\n",
    "             'eps_fc_terms_clean' : eps_fc_terms_clean}"
   ]
  },
  {
   "cell_type": "markdown",
   "metadata": {},
   "source": [
    "### Code\n",
    "> **ISSUE 1:**  Unnormalized date formats among all DataFrames.\n",
    "\n",
    "**Define:** \n",
    "- Conjoin `eps_act_clean` dates from 2 columns into 1 to match `eps_fc_clean` format.\n",
    "> The format we want is YYYYQN. For example, Quarter 1 in 2005 will be 2005Q1.\n",
    "\n",
    "- Rename both fiscal periods under `eps_act_clean` and `eps_fc_clean` to **term_forecast.**\n",
    "\n",
    "- For both fiscal periods under `eps_fc_terms_clean`, add an underscore.\n",
    "- Under `eps_fc_terms_clean`, format **term_forecasted** to YYYYQN."
   ]
  },
  {
   "cell_type": "code",
   "execution_count": 27,
   "metadata": {},
   "outputs": [],
   "source": [
    "#create new column, combine year and quarter into 1 string\n",
    "eps_act_clean['term_forecast'] = eps_act_clean['Year'].map(str) + eps_act_clean['Quarter']"
   ]
  },
  {
   "cell_type": "code",
   "execution_count": 28,
   "metadata": {},
   "outputs": [],
   "source": [
    "#drop 'Year' and 'Quarter'\n",
    "eps_act_clean.drop(['Year', 'Quarter'], axis = 1, inplace = True)"
   ]
  },
  {
   "cell_type": "code",
   "execution_count": 29,
   "metadata": {},
   "outputs": [],
   "source": [
    "#designate new column as first column\n",
    "reorder_cols = eps_act_clean.columns.tolist()\n",
    "reorder_cols.insert(0, reorder_cols.pop(reorder_cols.index('term_forecast')))\n",
    "\n",
    "eps_act_clean = eps_act_clean.reindex(columns = reorder_cols)"
   ]
  },
  {
   "cell_type": "code",
   "execution_count": 30,
   "metadata": {},
   "outputs": [],
   "source": [
    "#rename eps_fc_clean fiscal period to term_forecast\n",
    "eps_fc_clean.rename(index = str, columns = {'Term Forecasted' : 'term_forecast'}, inplace = True)\n",
    "\n",
    "#reassign to dictionary\n",
    "dict_clean['eps_act_clean'] = eps_act_clean"
   ]
  },
  {
   "cell_type": "code",
   "execution_count": 31,
   "metadata": {},
   "outputs": [
    {
     "name": "stderr",
     "output_type": "stream",
     "text": [
      "D:\\Anaconda3\\lib\\site-packages\\pandas\\core\\generic.py:5096: SettingWithCopyWarning: \n",
      "A value is trying to be set on a copy of a slice from a DataFrame.\n",
      "Try using .loc[row_indexer,col_indexer] = value instead\n",
      "\n",
      "See the caveats in the documentation: http://pandas.pydata.org/pandas-docs/stable/indexing.html#indexing-view-versus-copy\n",
      "  self[name] = value\n"
     ]
    }
   ],
   "source": [
    "eps_fc_clean[4:].term_forecast = '20' + eps_fc_clean[4:].term_forecast.astype(str)"
   ]
  },
  {
   "cell_type": "code",
   "execution_count": 32,
   "metadata": {},
   "outputs": [],
   "source": [
    "#add an underscore for both date periods under eps_fc_terms_clean\n",
    "eps_fc_terms_clean.rename(index = str, columns = {'Forecast Made' : 'forecast_made',\n",
    "                                                 'Term Forecasted' : 'term_forecast'},\n",
    "                         inplace = True)"
   ]
  },
  {
   "cell_type": "code",
   "execution_count": 33,
   "metadata": {},
   "outputs": [],
   "source": [
    "#under term_forecaste, add a '20' before each string\n",
    "eps_fc_terms_clean.term_forecast = '20' + eps_fc_terms_clean.term_forecast.astype(str)"
   ]
  },
  {
   "cell_type": "markdown",
   "metadata": {},
   "source": [
    "### Test"
   ]
  },
  {
   "cell_type": "code",
   "execution_count": 34,
   "metadata": {},
   "outputs": [
    {
     "data": {
      "text/html": [
       "<div>\n",
       "<style scoped>\n",
       "    .dataframe tbody tr th:only-of-type {\n",
       "        vertical-align: middle;\n",
       "    }\n",
       "\n",
       "    .dataframe tbody tr th {\n",
       "        vertical-align: top;\n",
       "    }\n",
       "\n",
       "    .dataframe thead th {\n",
       "        text-align: right;\n",
       "    }\n",
       "</style>\n",
       "<table border=\"1\" class=\"dataframe\">\n",
       "  <thead>\n",
       "    <tr style=\"text-align: right;\">\n",
       "      <th></th>\n",
       "      <th>term_forecast</th>\n",
       "      <th>A UN Equity</th>\n",
       "      <th>AAL UW Equity</th>\n",
       "      <th>AAP UN Equity</th>\n",
       "      <th>AAPL UW Equity</th>\n",
       "      <th>ABBV UN Equity</th>\n",
       "      <th>ABC UN Equity</th>\n",
       "      <th>ABMD UW Equity</th>\n",
       "      <th>ABT UN Equity</th>\n",
       "      <th>ACN UN Equity</th>\n",
       "      <th>...</th>\n",
       "      <th>XEL UW Equity</th>\n",
       "      <th>XLNX UW Equity</th>\n",
       "      <th>XOM UN Equity</th>\n",
       "      <th>XRAY UW Equity</th>\n",
       "      <th>XRX UN Equity</th>\n",
       "      <th>XYL UN Equity</th>\n",
       "      <th>YUM UN Equity</th>\n",
       "      <th>ZBH UN Equity</th>\n",
       "      <th>ZION UW Equity</th>\n",
       "      <th>ZTS UN Equity</th>\n",
       "    </tr>\n",
       "  </thead>\n",
       "  <tbody>\n",
       "    <tr>\n",
       "      <th>65</th>\n",
       "      <td>2015Q2</td>\n",
       "      <td>0.386</td>\n",
       "      <td>2.597</td>\n",
       "      <td>2.252</td>\n",
       "      <td>2.160</td>\n",
       "      <td>1.061</td>\n",
       "      <td>1.186</td>\n",
       "      <td>0.020</td>\n",
       "      <td>0.503</td>\n",
       "      <td>1.072</td>\n",
       "      <td>...</td>\n",
       "      <td>0.413</td>\n",
       "      <td>0.559</td>\n",
       "      <td>1.113</td>\n",
       "      <td>0.683</td>\n",
       "      <td>NaN</td>\n",
       "      <td>0.430</td>\n",
       "      <td>0.629</td>\n",
       "      <td>1.566</td>\n",
       "      <td>NaN</td>\n",
       "      <td>0.38</td>\n",
       "    </tr>\n",
       "    <tr>\n",
       "      <th>81</th>\n",
       "      <td>2019Q2</td>\n",
       "      <td>0.716</td>\n",
       "      <td>1.795</td>\n",
       "      <td>2.207</td>\n",
       "      <td>2.368</td>\n",
       "      <td>2.204</td>\n",
       "      <td>1.955</td>\n",
       "      <td>0.752</td>\n",
       "      <td>0.803</td>\n",
       "      <td>1.573</td>\n",
       "      <td>...</td>\n",
       "      <td>0.517</td>\n",
       "      <td>0.880</td>\n",
       "      <td>0.659</td>\n",
       "      <td>0.631</td>\n",
       "      <td>0.882</td>\n",
       "      <td>0.791</td>\n",
       "      <td>0.873</td>\n",
       "      <td>1.913</td>\n",
       "      <td>1.097</td>\n",
       "      <td>0.82</td>\n",
       "    </tr>\n",
       "    <tr>\n",
       "      <th>41</th>\n",
       "      <td>2009Q2</td>\n",
       "      <td>0.127</td>\n",
       "      <td>-1.297</td>\n",
       "      <td>0.835</td>\n",
       "      <td>0.160</td>\n",
       "      <td>NaN</td>\n",
       "      <td>0.449</td>\n",
       "      <td>-0.216</td>\n",
       "      <td>0.887</td>\n",
       "      <td>0.614</td>\n",
       "      <td>...</td>\n",
       "      <td>0.248</td>\n",
       "      <td>0.381</td>\n",
       "      <td>0.993</td>\n",
       "      <td>0.480</td>\n",
       "      <td>NaN</td>\n",
       "      <td>NaN</td>\n",
       "      <td>0.435</td>\n",
       "      <td>0.963</td>\n",
       "      <td>NaN</td>\n",
       "      <td>NaN</td>\n",
       "    </tr>\n",
       "  </tbody>\n",
       "</table>\n",
       "<p>3 rows × 506 columns</p>\n",
       "</div>"
      ],
      "text/plain": [
       "   term_forecast  A UN Equity  AAL UW Equity  AAP UN Equity  AAPL UW Equity  \\\n",
       "65        2015Q2        0.386          2.597          2.252           2.160   \n",
       "81        2019Q2        0.716          1.795          2.207           2.368   \n",
       "41        2009Q2        0.127         -1.297          0.835           0.160   \n",
       "\n",
       "    ABBV UN Equity  ABC UN Equity  ABMD UW Equity  ABT UN Equity  \\\n",
       "65           1.061          1.186           0.020          0.503   \n",
       "81           2.204          1.955           0.752          0.803   \n",
       "41             NaN          0.449          -0.216          0.887   \n",
       "\n",
       "    ACN UN Equity  ...  XEL UW Equity  XLNX UW Equity  XOM UN Equity  \\\n",
       "65          1.072  ...          0.413           0.559          1.113   \n",
       "81          1.573  ...          0.517           0.880          0.659   \n",
       "41          0.614  ...          0.248           0.381          0.993   \n",
       "\n",
       "    XRAY UW Equity  XRX UN Equity  XYL UN Equity  YUM UN Equity  \\\n",
       "65           0.683            NaN          0.430          0.629   \n",
       "81           0.631          0.882          0.791          0.873   \n",
       "41           0.480            NaN            NaN          0.435   \n",
       "\n",
       "    ZBH UN Equity  ZION UW Equity  ZTS UN Equity  \n",
       "65          1.566             NaN           0.38  \n",
       "81          1.913           1.097           0.82  \n",
       "41          0.963             NaN            NaN  \n",
       "\n",
       "[3 rows x 506 columns]"
      ]
     },
     "execution_count": 34,
     "metadata": {},
     "output_type": "execute_result"
    }
   ],
   "source": [
    "#give overview of both DataFrames\n",
    "eps_fc_clean.sample(3)"
   ]
  },
  {
   "cell_type": "code",
   "execution_count": 35,
   "metadata": {},
   "outputs": [
    {
     "data": {
      "text/html": [
       "<div>\n",
       "<style scoped>\n",
       "    .dataframe tbody tr th:only-of-type {\n",
       "        vertical-align: middle;\n",
       "    }\n",
       "\n",
       "    .dataframe tbody tr th {\n",
       "        vertical-align: top;\n",
       "    }\n",
       "\n",
       "    .dataframe thead th {\n",
       "        text-align: right;\n",
       "    }\n",
       "</style>\n",
       "<table border=\"1\" class=\"dataframe\">\n",
       "  <thead>\n",
       "    <tr style=\"text-align: right;\">\n",
       "      <th></th>\n",
       "      <th>term_forecast</th>\n",
       "      <th>A UN Equity</th>\n",
       "      <th>AAL UW Equity</th>\n",
       "      <th>AAP UN Equity</th>\n",
       "      <th>AAPL UW Equity</th>\n",
       "      <th>ABBV UN Equity</th>\n",
       "      <th>ABC UN Equity</th>\n",
       "      <th>ABMD UW Equity</th>\n",
       "      <th>ABT UN Equity</th>\n",
       "      <th>ACN UN Equity</th>\n",
       "      <th>...</th>\n",
       "      <th>XEL UW Equity</th>\n",
       "      <th>XLNX UW Equity</th>\n",
       "      <th>XOM UN Equity</th>\n",
       "      <th>XRAY UW Equity</th>\n",
       "      <th>XRX UN Equity</th>\n",
       "      <th>XYL UN Equity</th>\n",
       "      <th>YUM UN Equity</th>\n",
       "      <th>ZBH UN Equity</th>\n",
       "      <th>ZION UW Equity</th>\n",
       "      <th>ZTS UN Equity</th>\n",
       "    </tr>\n",
       "  </thead>\n",
       "  <tbody>\n",
       "    <tr>\n",
       "      <th>19</th>\n",
       "      <td>2003Q4</td>\n",
       "      <td>0.03</td>\n",
       "      <td>-0.70</td>\n",
       "      <td>0.28</td>\n",
       "      <td>0.008571</td>\n",
       "      <td>NaN</td>\n",
       "      <td>0.2675</td>\n",
       "      <td>NaN</td>\n",
       "      <td>0.60</td>\n",
       "      <td>0.26</td>\n",
       "      <td>...</td>\n",
       "      <td>1.20</td>\n",
       "      <td>0.15</td>\n",
       "      <td>1.01</td>\n",
       "      <td>0.32</td>\n",
       "      <td>1.00</td>\n",
       "      <td>NaN</td>\n",
       "      <td>0.365</td>\n",
       "      <td>0.15</td>\n",
       "      <td>1.06</td>\n",
       "      <td>NaN</td>\n",
       "    </tr>\n",
       "    <tr>\n",
       "      <th>78</th>\n",
       "      <td>2018Q3</td>\n",
       "      <td>0.74</td>\n",
       "      <td>0.81</td>\n",
       "      <td>1.57</td>\n",
       "      <td>2.360000</td>\n",
       "      <td>1.81</td>\n",
       "      <td>1.2600</td>\n",
       "      <td>0.30</td>\n",
       "      <td>0.32</td>\n",
       "      <td>1.63</td>\n",
       "      <td>...</td>\n",
       "      <td>0.96</td>\n",
       "      <td>-0.05</td>\n",
       "      <td>1.46</td>\n",
       "      <td>0.13</td>\n",
       "      <td>0.34</td>\n",
       "      <td>0.73</td>\n",
       "      <td>1.430</td>\n",
       "      <td>0.80</td>\n",
       "      <td>1.11</td>\n",
       "      <td>0.72</td>\n",
       "    </tr>\n",
       "    <tr>\n",
       "      <th>64</th>\n",
       "      <td>2015Q1</td>\n",
       "      <td>0.19</td>\n",
       "      <td>1.34</td>\n",
       "      <td>2.02</td>\n",
       "      <td>3.080000</td>\n",
       "      <td>0.64</td>\n",
       "      <td>-0.9100</td>\n",
       "      <td>-0.04</td>\n",
       "      <td>1.52</td>\n",
       "      <td>1.32</td>\n",
       "      <td>...</td>\n",
       "      <td>0.30</td>\n",
       "      <td>0.65</td>\n",
       "      <td>1.17</td>\n",
       "      <td>0.46</td>\n",
       "      <td>0.80</td>\n",
       "      <td>0.35</td>\n",
       "      <td>0.830</td>\n",
       "      <td>1.01</td>\n",
       "      <td>0.37</td>\n",
       "      <td>0.33</td>\n",
       "    </tr>\n",
       "  </tbody>\n",
       "</table>\n",
       "<p>3 rows × 506 columns</p>\n",
       "</div>"
      ],
      "text/plain": [
       "   term_forecast  A UN Equity  AAL UW Equity  AAP UN Equity  AAPL UW Equity  \\\n",
       "19        2003Q4         0.03          -0.70           0.28        0.008571   \n",
       "78        2018Q3         0.74           0.81           1.57        2.360000   \n",
       "64        2015Q1         0.19           1.34           2.02        3.080000   \n",
       "\n",
       "    ABBV UN Equity  ABC UN Equity  ABMD UW Equity  ABT UN Equity  \\\n",
       "19             NaN         0.2675             NaN           0.60   \n",
       "78            1.81         1.2600            0.30           0.32   \n",
       "64            0.64        -0.9100           -0.04           1.52   \n",
       "\n",
       "    ACN UN Equity  ...  XEL UW Equity  XLNX UW Equity  XOM UN Equity  \\\n",
       "19           0.26  ...           1.20            0.15           1.01   \n",
       "78           1.63  ...           0.96           -0.05           1.46   \n",
       "64           1.32  ...           0.30            0.65           1.17   \n",
       "\n",
       "    XRAY UW Equity  XRX UN Equity  XYL UN Equity  YUM UN Equity  \\\n",
       "19            0.32           1.00            NaN          0.365   \n",
       "78            0.13           0.34           0.73          1.430   \n",
       "64            0.46           0.80           0.35          0.830   \n",
       "\n",
       "    ZBH UN Equity  ZION UW Equity  ZTS UN Equity  \n",
       "19           0.15            1.06            NaN  \n",
       "78           0.80            1.11           0.72  \n",
       "64           1.01            0.37           0.33  \n",
       "\n",
       "[3 rows x 506 columns]"
      ]
     },
     "execution_count": 35,
     "metadata": {},
     "output_type": "execute_result"
    }
   ],
   "source": [
    "eps_act_clean.sample(3)"
   ]
  },
  {
   "cell_type": "code",
   "execution_count": 36,
   "metadata": {},
   "outputs": [
    {
     "data": {
      "text/plain": [
       "True    84\n",
       "Name: term_forecast, dtype: int64"
      ]
     },
     "execution_count": 36,
     "metadata": {},
     "output_type": "execute_result"
    }
   ],
   "source": [
    "#check consistent format between both `term_forecast` fields\n",
    "forecasts = pd.concat([eps_fc_clean.term_forecast, eps_act_clean.term_forecast])\n",
    "\n",
    "#count number of instances where unique term_forecast values are the same\n",
    "(forecasts.value_counts().sort_index() == 2).value_counts()"
   ]
  },
  {
   "cell_type": "code",
   "execution_count": 37,
   "metadata": {},
   "outputs": [
    {
     "name": "stdout",
     "output_type": "stream",
     "text": [
      "Index(['term_forecast', 'A UN Equity'], dtype='object')\n",
      "Index(['term_forecast', 'A UN Equity'], dtype='object')\n",
      "Index(['date', 'A UN Equity'], dtype='object')\n",
      "Index(['forecast_made', 'term_forecast'], dtype='object')\n"
     ]
    }
   ],
   "source": [
    "#check that dates are the first columns\n",
    "for key, df in dict_clean.items():\n",
    "    print(df.columns[:2])"
   ]
  },
  {
   "cell_type": "markdown",
   "metadata": {},
   "source": [
    "## The **term_forecast** fields under `eps_fc_clean`, `eps_act_clean`, and `eps_fc_terms_clean` are all normalized to YYYQN format. This means `eod_act_clean` is the only one with a different date formatting rule.\n",
    "\n",
    "### Code\n",
    "> **ISSUE 2:** Firm names across all DataFrames are capitalized and contain white space.\n",
    "\n",
    "**Define:** Iterate across all DataFrames. Get rid of everything from the first whitespace character onward. Lowercase column names."
   ]
  },
  {
   "cell_type": "code",
   "execution_count": 38,
   "metadata": {},
   "outputs": [],
   "source": [
    "#lowercase names\n",
    "for key, df in dict_clean.items():\n",
    "    lower_cols = [x.lower() for x in df.columns]\n",
    "    df.columns = lower_cols"
   ]
  },
  {
   "cell_type": "code",
   "execution_count": 39,
   "metadata": {},
   "outputs": [],
   "source": [
    "#get rid of white space\n",
    "for key, df in dict_clean.items():\n",
    "    stock_symbols = [x.split(' ', 1)[0] for x in df.columns]\n",
    "    df.columns = stock_symbols"
   ]
  },
  {
   "cell_type": "markdown",
   "metadata": {},
   "source": [
    "### Test"
   ]
  },
  {
   "cell_type": "code",
   "execution_count": 40,
   "metadata": {},
   "outputs": [],
   "source": [
    "#check that all firm names are consistent, should return 505 firm results\n",
    "all_ticks = []\n",
    "for key, df in dict_clean.items():\n",
    "    firm_ticks = np.array(df.columns.values)\n",
    "    all_ticks.append(firm_ticks)\n",
    "    \n",
    "#flatten array\n",
    "all_ticks = np.hstack(all_ticks)\n",
    "\n",
    "#assign tick names to Pandas Series\n",
    "all_ticks = pd.Series(all_ticks)"
   ]
  },
  {
   "cell_type": "code",
   "execution_count": 41,
   "metadata": {},
   "outputs": [
    {
     "data": {
      "text/plain": [
       "date             1\n",
       "forecast_made    1\n",
       "term_forecast    3\n",
       "udr              4\n",
       "pvh              4\n",
       "dtype: int64"
      ]
     },
     "execution_count": 41,
     "metadata": {},
     "output_type": "execute_result"
    }
   ],
   "source": [
    "#look at lowest 3 value counts, SHOULD BE DATE PERIODS\n",
    "all_ticks.value_counts().sort_values()[:5]"
   ]
  },
  {
   "cell_type": "code",
   "execution_count": 42,
   "metadata": {},
   "outputs": [
    {
     "data": {
      "text/plain": [
       "hca     4\n",
       "sbux    4\n",
       "vrtx    4\n",
       "unm     4\n",
       "var     4\n",
       "dtype: int64"
      ]
     },
     "execution_count": 42,
     "metadata": {},
     "output_type": "execute_result"
    }
   ],
   "source": [
    "#look at highest value counts, should be FOUR (because there are 4 dataframes all with firm names)\n",
    "all_ticks.value_counts().sort_values(ascending = False)[:5]"
   ]
  },
  {
   "cell_type": "code",
   "execution_count": 43,
   "metadata": {},
   "outputs": [
    {
     "data": {
      "text/plain": [
       "False"
      ]
     },
     "execution_count": 43,
     "metadata": {},
     "output_type": "execute_result"
    }
   ],
   "source": [
    "#check for any upper case instance among columns\n",
    "all_ticks.str.isupper().any()"
   ]
  },
  {
   "cell_type": "code",
   "execution_count": 44,
   "metadata": {},
   "outputs": [
    {
     "data": {
      "text/plain": [
       "False"
      ]
     },
     "execution_count": 44,
     "metadata": {},
     "output_type": "execute_result"
    }
   ],
   "source": [
    "#check for any white space\n",
    "all_ticks.str.contains(' ').any()"
   ]
  },
  {
   "cell_type": "markdown",
   "metadata": {},
   "source": [
    "### Code\n",
    "> **ISSUE 3:** Erroneous data type for `eps_act` Object columns.\n",
    "\n",
    "**Define:**\n",
    "\n",
    "- Convert '#N/A Field Not Applicable' strings into 'NaN'\n",
    "- Convert the 6 `eps_act_clean` Object columns into NaN type."
   ]
  },
  {
   "cell_type": "code",
   "execution_count": 45,
   "metadata": {},
   "outputs": [],
   "source": [
    "#isolate 6 firm names recorded as 'object'\n",
    "obj_ticks = eps_act_clean.select_dtypes(include = 'object').columns.values\n",
    "\n",
    "#exclude 'term_forecast'\n",
    "obj_ticks = obj_ticks[1:]"
   ]
  },
  {
   "cell_type": "code",
   "execution_count": 46,
   "metadata": {},
   "outputs": [],
   "source": [
    "#convert to NaN\n",
    "str_replace = '#N/A Field Not Applicable'\n",
    "eps_act_clean[obj_ticks] = eps_act_clean[obj_ticks].replace(str_replace, np.nan)"
   ]
  },
  {
   "cell_type": "markdown",
   "metadata": {},
   "source": [
    "### Test"
   ]
  },
  {
   "cell_type": "code",
   "execution_count": 47,
   "metadata": {},
   "outputs": [
    {
     "name": "stdout",
     "output_type": "stream",
     "text": [
      "<class 'pandas.core.frame.DataFrame'>\n",
      "RangeIndex: 84 entries, 0 to 83\n",
      "Columns: 506 entries, term_forecast to zts\n",
      "dtypes: float64(505), object(1)\n",
      "memory usage: 332.1+ KB\n"
     ]
    }
   ],
   "source": [
    "eps_act_clean.info()"
   ]
  },
  {
   "cell_type": "code",
   "execution_count": 48,
   "metadata": {},
   "outputs": [
    {
     "data": {
      "text/plain": [
       "['term_forecast']"
      ]
     },
     "execution_count": 48,
     "metadata": {},
     "output_type": "execute_result"
    }
   ],
   "source": [
    "#make sure 'term_forecast' is the only object-type column\n",
    "eps_act_clean.select_dtypes(include = 'object').columns.values.tolist()"
   ]
  },
  {
   "cell_type": "markdown",
   "metadata": {},
   "source": [
    "### Code\n",
    "\n",
    "> **ISSUE 4:**  Erroneous data type for **date** under `eod_act`\n",
    "\n",
    "**Define:** Convert column `date` to DateTime object."
   ]
  },
  {
   "cell_type": "code",
   "execution_count": 49,
   "metadata": {},
   "outputs": [],
   "source": [
    "eod_act_clean.date = pd.to_datetime(eod_act_clean.date, infer_datetime_format=True)"
   ]
  },
  {
   "cell_type": "markdown",
   "metadata": {},
   "source": [
    "### Test"
   ]
  },
  {
   "cell_type": "code",
   "execution_count": 50,
   "metadata": {},
   "outputs": [
    {
     "data": {
      "text/html": [
       "<div>\n",
       "<style scoped>\n",
       "    .dataframe tbody tr th:only-of-type {\n",
       "        vertical-align: middle;\n",
       "    }\n",
       "\n",
       "    .dataframe tbody tr th {\n",
       "        vertical-align: top;\n",
       "    }\n",
       "\n",
       "    .dataframe thead th {\n",
       "        text-align: right;\n",
       "    }\n",
       "</style>\n",
       "<table border=\"1\" class=\"dataframe\">\n",
       "  <thead>\n",
       "    <tr style=\"text-align: right;\">\n",
       "      <th></th>\n",
       "      <th>date</th>\n",
       "      <th>a</th>\n",
       "      <th>aal</th>\n",
       "      <th>aap</th>\n",
       "      <th>aapl</th>\n",
       "      <th>abbv</th>\n",
       "      <th>abc</th>\n",
       "      <th>abmd</th>\n",
       "      <th>abt</th>\n",
       "      <th>acn</th>\n",
       "      <th>...</th>\n",
       "      <th>xel</th>\n",
       "      <th>xlnx</th>\n",
       "      <th>xom</th>\n",
       "      <th>xray</th>\n",
       "      <th>xrx</th>\n",
       "      <th>xyl</th>\n",
       "      <th>yum</th>\n",
       "      <th>zbh</th>\n",
       "      <th>zion</th>\n",
       "      <th>zts</th>\n",
       "    </tr>\n",
       "  </thead>\n",
       "  <tbody>\n",
       "    <tr>\n",
       "      <th>16</th>\n",
       "      <td>2003-03-31</td>\n",
       "      <td>8.8601</td>\n",
       "      <td>NaN</td>\n",
       "      <td>15.417</td>\n",
       "      <td>1.0100</td>\n",
       "      <td>NaN</td>\n",
       "      <td>12.7357</td>\n",
       "      <td>3.90</td>\n",
       "      <td>16.8319</td>\n",
       "      <td>15.5</td>\n",
       "      <td>...</td>\n",
       "      <td>NaN</td>\n",
       "      <td>23.41</td>\n",
       "      <td>34.95</td>\n",
       "      <td>17.395</td>\n",
       "      <td>22.9210</td>\n",
       "      <td>NaN</td>\n",
       "      <td>8.7473</td>\n",
       "      <td>48.63</td>\n",
       "      <td>42.78</td>\n",
       "      <td>NaN</td>\n",
       "    </tr>\n",
       "    <tr>\n",
       "      <th>55</th>\n",
       "      <td>2012-12-31</td>\n",
       "      <td>29.2757</td>\n",
       "      <td>NaN</td>\n",
       "      <td>72.350</td>\n",
       "      <td>76.1471</td>\n",
       "      <td>34.16</td>\n",
       "      <td>43.1800</td>\n",
       "      <td>13.46</td>\n",
       "      <td>31.3400</td>\n",
       "      <td>66.5</td>\n",
       "      <td>...</td>\n",
       "      <td>NaN</td>\n",
       "      <td>35.90</td>\n",
       "      <td>86.55</td>\n",
       "      <td>39.610</td>\n",
       "      <td>17.9679</td>\n",
       "      <td>27.1</td>\n",
       "      <td>47.7452</td>\n",
       "      <td>66.66</td>\n",
       "      <td>21.40</td>\n",
       "      <td>NaN</td>\n",
       "    </tr>\n",
       "  </tbody>\n",
       "</table>\n",
       "<p>2 rows × 506 columns</p>\n",
       "</div>"
      ],
      "text/plain": [
       "         date        a  aal     aap     aapl   abbv      abc   abmd      abt  \\\n",
       "16 2003-03-31   8.8601  NaN  15.417   1.0100    NaN  12.7357   3.90  16.8319   \n",
       "55 2012-12-31  29.2757  NaN  72.350  76.1471  34.16  43.1800  13.46  31.3400   \n",
       "\n",
       "     acn  ...  xel   xlnx    xom    xray      xrx   xyl      yum    zbh  \\\n",
       "16  15.5  ...  NaN  23.41  34.95  17.395  22.9210   NaN   8.7473  48.63   \n",
       "55  66.5  ...  NaN  35.90  86.55  39.610  17.9679  27.1  47.7452  66.66   \n",
       "\n",
       "     zion  zts  \n",
       "16  42.78  NaN  \n",
       "55  21.40  NaN  \n",
       "\n",
       "[2 rows x 506 columns]"
      ]
     },
     "execution_count": 50,
     "metadata": {},
     "output_type": "execute_result"
    }
   ],
   "source": [
    "eod_act_clean.sample(2)"
   ]
  },
  {
   "cell_type": "code",
   "execution_count": 51,
   "metadata": {},
   "outputs": [
    {
     "name": "stdout",
     "output_type": "stream",
     "text": [
      "<class 'pandas.core.frame.DataFrame'>\n",
      "RangeIndex: 84 entries, 0 to 83\n",
      "Columns: 506 entries, date to zts\n",
      "dtypes: datetime64[ns](1), float64(505)\n",
      "memory usage: 332.1 KB\n"
     ]
    }
   ],
   "source": [
    "#confirm datetime64 present\n",
    "eod_act_clean.info()"
   ]
  },
  {
   "cell_type": "markdown",
   "metadata": {},
   "source": [
    "### Code\n",
    "> **ISSUE 5:** Erroneous data type for **forecast_made** under `eps_fc_terms`.\n",
    "\n",
    "**Define:**\n",
    "\n",
    "- Convert column **forecast_made** to DateTime object."
   ]
  },
  {
   "cell_type": "code",
   "execution_count": 52,
   "metadata": {},
   "outputs": [],
   "source": [
    "eps_fc_terms_clean.forecast_made = pd.to_datetime(eps_fc_terms_clean.forecast_made, infer_datetime_format=True)"
   ]
  },
  {
   "cell_type": "markdown",
   "metadata": {},
   "source": [
    "### Test"
   ]
  },
  {
   "cell_type": "code",
   "execution_count": 53,
   "metadata": {},
   "outputs": [
    {
     "name": "stdout",
     "output_type": "stream",
     "text": [
      "<class 'pandas.core.frame.DataFrame'>\n",
      "Index: 80 entries, 0 to 79\n",
      "Columns: 507 entries, forecast_made to zts\n",
      "dtypes: datetime64[ns](1), float64(505), object(1)\n",
      "memory usage: 317.5+ KB\n"
     ]
    }
   ],
   "source": [
    "#confirm presence of datetime64 object\n",
    "eps_fc_terms_clean.info()"
   ]
  },
  {
   "cell_type": "code",
   "execution_count": 54,
   "metadata": {},
   "outputs": [
    {
     "data": {
      "text/html": [
       "<div>\n",
       "<style scoped>\n",
       "    .dataframe tbody tr th:only-of-type {\n",
       "        vertical-align: middle;\n",
       "    }\n",
       "\n",
       "    .dataframe tbody tr th {\n",
       "        vertical-align: top;\n",
       "    }\n",
       "\n",
       "    .dataframe thead th {\n",
       "        text-align: right;\n",
       "    }\n",
       "</style>\n",
       "<table border=\"1\" class=\"dataframe\">\n",
       "  <thead>\n",
       "    <tr style=\"text-align: right;\">\n",
       "      <th></th>\n",
       "      <th>forecast_made</th>\n",
       "      <th>term_forecast</th>\n",
       "      <th>a</th>\n",
       "      <th>aal</th>\n",
       "      <th>aap</th>\n",
       "      <th>aapl</th>\n",
       "      <th>abbv</th>\n",
       "      <th>abc</th>\n",
       "      <th>abmd</th>\n",
       "      <th>abt</th>\n",
       "      <th>...</th>\n",
       "      <th>xel</th>\n",
       "      <th>xlnx</th>\n",
       "      <th>xom</th>\n",
       "      <th>xray</th>\n",
       "      <th>xrx</th>\n",
       "      <th>xyl</th>\n",
       "      <th>yum</th>\n",
       "      <th>zbh</th>\n",
       "      <th>zion</th>\n",
       "      <th>zts</th>\n",
       "    </tr>\n",
       "  </thead>\n",
       "  <tbody>\n",
       "    <tr>\n",
       "      <th>66</th>\n",
       "      <td>2016-04-01</td>\n",
       "      <td>2016Q3</td>\n",
       "      <td>0.471</td>\n",
       "      <td>1.937</td>\n",
       "      <td>2.246</td>\n",
       "      <td>1.778</td>\n",
       "      <td>1.303</td>\n",
       "      <td>1.438</td>\n",
       "      <td>0.152</td>\n",
       "      <td>0.580</td>\n",
       "      <td>...</td>\n",
       "      <td>0.828</td>\n",
       "      <td>0.493</td>\n",
       "      <td>0.684</td>\n",
       "      <td>0.696</td>\n",
       "      <td>1.128</td>\n",
       "      <td>0.53</td>\n",
       "      <td>1.095</td>\n",
       "      <td>1.826</td>\n",
       "      <td>0.491</td>\n",
       "      <td>0.467</td>\n",
       "    </tr>\n",
       "    <tr>\n",
       "      <th>33</th>\n",
       "      <td>2008-01-01</td>\n",
       "      <td>2008Q2</td>\n",
       "      <td>0.519</td>\n",
       "      <td>1.275</td>\n",
       "      <td>0.727</td>\n",
       "      <td>0.155</td>\n",
       "      <td>NaN</td>\n",
       "      <td>0.396</td>\n",
       "      <td>-0.210</td>\n",
       "      <td>0.796</td>\n",
       "      <td>...</td>\n",
       "      <td>NaN</td>\n",
       "      <td>0.286</td>\n",
       "      <td>1.972</td>\n",
       "      <td>0.493</td>\n",
       "      <td>1.191</td>\n",
       "      <td>NaN</td>\n",
       "      <td>0.421</td>\n",
       "      <td>1.058</td>\n",
       "      <td>1.288</td>\n",
       "      <td>NaN</td>\n",
       "    </tr>\n",
       "  </tbody>\n",
       "</table>\n",
       "<p>2 rows × 507 columns</p>\n",
       "</div>"
      ],
      "text/plain": [
       "   forecast_made term_forecast      a    aal    aap   aapl   abbv    abc  \\\n",
       "66    2016-04-01        2016Q3  0.471  1.937  2.246  1.778  1.303  1.438   \n",
       "33    2008-01-01        2008Q2  0.519  1.275  0.727  0.155    NaN  0.396   \n",
       "\n",
       "     abmd    abt  ...    xel   xlnx    xom   xray    xrx   xyl    yum    zbh  \\\n",
       "66  0.152  0.580  ...  0.828  0.493  0.684  0.696  1.128  0.53  1.095  1.826   \n",
       "33 -0.210  0.796  ...    NaN  0.286  1.972  0.493  1.191   NaN  0.421  1.058   \n",
       "\n",
       "     zion    zts  \n",
       "66  0.491  0.467  \n",
       "33  1.288    NaN  \n",
       "\n",
       "[2 rows x 507 columns]"
      ]
     },
     "execution_count": 54,
     "metadata": {},
     "output_type": "execute_result"
    }
   ],
   "source": [
    "eps_fc_terms_clean.sample(2)"
   ]
  },
  {
   "cell_type": "markdown",
   "metadata": {},
   "source": [
    "### Code\n",
    "> **ISSUE 6:** Erroneous data types for **term_forecast** under `eps_act`, `eps_fc`, and `eps_fc_terms` to DateTime quarter index\n",
    "\n",
    "**Define:** Convert YYYYQQ formats into DateTime quarter index type"
   ]
  },
  {
   "cell_type": "code",
   "execution_count": 55,
   "metadata": {},
   "outputs": [],
   "source": [
    "#helper function to turn a column into Quarter Period type\n",
    "def convert_period(df, col):\n",
    "    return pd.to_datetime(df[col]).dt.to_period('Q')\n",
    "# eps_fc_terms_clean.term_forecast = pd.PeriodIndex(eps_fc_terms_clean.term_forecast, freq='Q')"
   ]
  },
  {
   "cell_type": "code",
   "execution_count": 56,
   "metadata": {},
   "outputs": [],
   "source": [
    "#convert term_forecast fields to Period type\n",
    "eps_fc_clean.term_forecast = convert_period(eps_fc_clean, 'term_forecast')\n",
    "eps_act_clean.term_forecast = convert_period(eps_act_clean, 'term_forecast')\n",
    "eps_fc_terms_clean.term_forecast = convert_period(eps_fc_terms_clean, 'term_forecast')"
   ]
  },
  {
   "cell_type": "markdown",
   "metadata": {},
   "source": [
    "### Test"
   ]
  },
  {
   "cell_type": "code",
   "execution_count": 57,
   "metadata": {},
   "outputs": [
    {
     "name": "stdout",
     "output_type": "stream",
     "text": [
      "period[Q-DEC]\n",
      "period[Q-DEC]\n",
      "period[Q-DEC]\n"
     ]
    }
   ],
   "source": [
    "#verify Period Object types\n",
    "print(eps_fc_clean.dtypes['term_forecast'])\n",
    "print(eps_act_clean.dtypes['term_forecast'])\n",
    "print(eps_fc_terms_clean.dtypes['term_forecast'])"
   ]
  },
  {
   "cell_type": "markdown",
   "metadata": {},
   "source": [
    "### Code\n",
    "> **ISSUE 7:** No recorded quarterly data for `eod_act`\n",
    "\n",
    "**Define:** Add a new column **term_forecast** denoting *year* and *quarter*"
   ]
  },
  {
   "cell_type": "code",
   "execution_count": 58,
   "metadata": {},
   "outputs": [],
   "source": [
    "eod_act_clean['term_forecast'] = eod_act_clean.date.dt.to_period('Q')"
   ]
  },
  {
   "cell_type": "code",
   "execution_count": 59,
   "metadata": {},
   "outputs": [],
   "source": [
    "#reorder columns\n",
    "eod_cols = ['date', 'term_forecast'] + [col for col in eod_act_clean.iloc[:, 1:] if col!='term_forecast']"
   ]
  },
  {
   "cell_type": "code",
   "execution_count": 60,
   "metadata": {},
   "outputs": [],
   "source": [
    "eod_act_clean = eod_act_clean.reindex(columns = eod_cols)"
   ]
  },
  {
   "cell_type": "markdown",
   "metadata": {},
   "source": [
    "### Test"
   ]
  },
  {
   "cell_type": "code",
   "execution_count": 61,
   "metadata": {},
   "outputs": [
    {
     "data": {
      "text/html": [
       "<div>\n",
       "<style scoped>\n",
       "    .dataframe tbody tr th:only-of-type {\n",
       "        vertical-align: middle;\n",
       "    }\n",
       "\n",
       "    .dataframe tbody tr th {\n",
       "        vertical-align: top;\n",
       "    }\n",
       "\n",
       "    .dataframe thead th {\n",
       "        text-align: right;\n",
       "    }\n",
       "</style>\n",
       "<table border=\"1\" class=\"dataframe\">\n",
       "  <thead>\n",
       "    <tr style=\"text-align: right;\">\n",
       "      <th></th>\n",
       "      <th>date</th>\n",
       "      <th>term_forecast</th>\n",
       "      <th>a</th>\n",
       "      <th>aal</th>\n",
       "      <th>aap</th>\n",
       "      <th>aapl</th>\n",
       "      <th>abbv</th>\n",
       "      <th>abc</th>\n",
       "      <th>abmd</th>\n",
       "      <th>abt</th>\n",
       "      <th>...</th>\n",
       "      <th>xel</th>\n",
       "      <th>xlnx</th>\n",
       "      <th>xom</th>\n",
       "      <th>xray</th>\n",
       "      <th>xrx</th>\n",
       "      <th>xyl</th>\n",
       "      <th>yum</th>\n",
       "      <th>zbh</th>\n",
       "      <th>zion</th>\n",
       "      <th>zts</th>\n",
       "    </tr>\n",
       "  </thead>\n",
       "  <tbody>\n",
       "    <tr>\n",
       "      <th>0</th>\n",
       "      <td>1999-03-31</td>\n",
       "      <td>1999Q1</td>\n",
       "      <td>NaN</td>\n",
       "      <td>NaN</td>\n",
       "      <td>NaN</td>\n",
       "      <td>1.2835</td>\n",
       "      <td>NaN</td>\n",
       "      <td>8.2934</td>\n",
       "      <td>6.250</td>\n",
       "      <td>20.9504</td>\n",
       "      <td>...</td>\n",
       "      <td>NaN</td>\n",
       "      <td>20.2813</td>\n",
       "      <td>35.2813</td>\n",
       "      <td>7.7500</td>\n",
       "      <td>140.6214</td>\n",
       "      <td>NaN</td>\n",
       "      <td>12.6284</td>\n",
       "      <td>NaN</td>\n",
       "      <td>66.5000</td>\n",
       "      <td>NaN</td>\n",
       "    </tr>\n",
       "    <tr>\n",
       "      <th>1</th>\n",
       "      <td>1999-06-30</td>\n",
       "      <td>1999Q2</td>\n",
       "      <td>NaN</td>\n",
       "      <td>NaN</td>\n",
       "      <td>NaN</td>\n",
       "      <td>1.6540</td>\n",
       "      <td>NaN</td>\n",
       "      <td>6.1859</td>\n",
       "      <td>6.875</td>\n",
       "      <td>20.3630</td>\n",
       "      <td>...</td>\n",
       "      <td>NaN</td>\n",
       "      <td>28.6250</td>\n",
       "      <td>38.5625</td>\n",
       "      <td>9.6250</td>\n",
       "      <td>155.6057</td>\n",
       "      <td>NaN</td>\n",
       "      <td>9.7297</td>\n",
       "      <td>NaN</td>\n",
       "      <td>63.5000</td>\n",
       "      <td>NaN</td>\n",
       "    </tr>\n",
       "    <tr>\n",
       "      <th>2</th>\n",
       "      <td>1999-09-30</td>\n",
       "      <td>1999Q3</td>\n",
       "      <td>NaN</td>\n",
       "      <td>NaN</td>\n",
       "      <td>NaN</td>\n",
       "      <td>2.2612</td>\n",
       "      <td>NaN</td>\n",
       "      <td>5.7462</td>\n",
       "      <td>7.750</td>\n",
       "      <td>16.4471</td>\n",
       "      <td>...</td>\n",
       "      <td>NaN</td>\n",
       "      <td>32.7656</td>\n",
       "      <td>37.9688</td>\n",
       "      <td>7.5833</td>\n",
       "      <td>110.4883</td>\n",
       "      <td>NaN</td>\n",
       "      <td>7.3591</td>\n",
       "      <td>NaN</td>\n",
       "      <td>55.1250</td>\n",
       "      <td>NaN</td>\n",
       "    </tr>\n",
       "    <tr>\n",
       "      <th>3</th>\n",
       "      <td>1999-12-31</td>\n",
       "      <td>1999Q4</td>\n",
       "      <td>52.0909</td>\n",
       "      <td>NaN</td>\n",
       "      <td>NaN</td>\n",
       "      <td>3.6719</td>\n",
       "      <td>NaN</td>\n",
       "      <td>3.6843</td>\n",
       "      <td>18.375</td>\n",
       "      <td>16.2513</td>\n",
       "      <td>...</td>\n",
       "      <td>NaN</td>\n",
       "      <td>45.4688</td>\n",
       "      <td>40.2813</td>\n",
       "      <td>7.8750</td>\n",
       "      <td>59.7723</td>\n",
       "      <td>NaN</td>\n",
       "      <td>6.9434</td>\n",
       "      <td>NaN</td>\n",
       "      <td>59.1875</td>\n",
       "      <td>NaN</td>\n",
       "    </tr>\n",
       "    <tr>\n",
       "      <th>4</th>\n",
       "      <td>2000-03-31</td>\n",
       "      <td>2000Q1</td>\n",
       "      <td>70.0721</td>\n",
       "      <td>NaN</td>\n",
       "      <td>NaN</td>\n",
       "      <td>4.8504</td>\n",
       "      <td>NaN</td>\n",
       "      <td>3.6388</td>\n",
       "      <td>20.250</td>\n",
       "      <td>15.7478</td>\n",
       "      <td>...</td>\n",
       "      <td>NaN</td>\n",
       "      <td>82.8125</td>\n",
       "      <td>38.9063</td>\n",
       "      <td>9.4583</td>\n",
       "      <td>68.4994</td>\n",
       "      <td>NaN</td>\n",
       "      <td>5.5839</td>\n",
       "      <td>NaN</td>\n",
       "      <td>41.6250</td>\n",
       "      <td>NaN</td>\n",
       "    </tr>\n",
       "  </tbody>\n",
       "</table>\n",
       "<p>5 rows × 507 columns</p>\n",
       "</div>"
      ],
      "text/plain": [
       "        date term_forecast        a  aal  aap    aapl  abbv     abc    abmd  \\\n",
       "0 1999-03-31        1999Q1      NaN  NaN  NaN  1.2835   NaN  8.2934   6.250   \n",
       "1 1999-06-30        1999Q2      NaN  NaN  NaN  1.6540   NaN  6.1859   6.875   \n",
       "2 1999-09-30        1999Q3      NaN  NaN  NaN  2.2612   NaN  5.7462   7.750   \n",
       "3 1999-12-31        1999Q4  52.0909  NaN  NaN  3.6719   NaN  3.6843  18.375   \n",
       "4 2000-03-31        2000Q1  70.0721  NaN  NaN  4.8504   NaN  3.6388  20.250   \n",
       "\n",
       "       abt  ...  xel     xlnx      xom    xray       xrx  xyl      yum  zbh  \\\n",
       "0  20.9504  ...  NaN  20.2813  35.2813  7.7500  140.6214  NaN  12.6284  NaN   \n",
       "1  20.3630  ...  NaN  28.6250  38.5625  9.6250  155.6057  NaN   9.7297  NaN   \n",
       "2  16.4471  ...  NaN  32.7656  37.9688  7.5833  110.4883  NaN   7.3591  NaN   \n",
       "3  16.2513  ...  NaN  45.4688  40.2813  7.8750   59.7723  NaN   6.9434  NaN   \n",
       "4  15.7478  ...  NaN  82.8125  38.9063  9.4583   68.4994  NaN   5.5839  NaN   \n",
       "\n",
       "      zion  zts  \n",
       "0  66.5000  NaN  \n",
       "1  63.5000  NaN  \n",
       "2  55.1250  NaN  \n",
       "3  59.1875  NaN  \n",
       "4  41.6250  NaN  \n",
       "\n",
       "[5 rows x 507 columns]"
      ]
     },
     "execution_count": 61,
     "metadata": {},
     "output_type": "execute_result"
    }
   ],
   "source": [
    "#verify column order\n",
    "eod_act_clean.head()"
   ]
  },
  {
   "cell_type": "code",
   "execution_count": 62,
   "metadata": {},
   "outputs": [
    {
     "data": {
      "text/plain": [
       "84"
      ]
     },
     "execution_count": 62,
     "metadata": {},
     "output_type": "execute_result"
    }
   ],
   "source": [
    "#verify 84 columns\n",
    "eod_act_clean.shape[0]"
   ]
  },
  {
   "cell_type": "code",
   "execution_count": 63,
   "metadata": {},
   "outputs": [
    {
     "name": "stdout",
     "output_type": "stream",
     "text": [
      "<class 'pandas.core.frame.DataFrame'>\n",
      "RangeIndex: 84 entries, 0 to 83\n",
      "Columns: 507 entries, date to zts\n",
      "dtypes: datetime64[ns](1), float64(505), period[Q-DEC](1)\n",
      "memory usage: 332.8 KB\n"
     ]
    }
   ],
   "source": [
    "eod_act_clean.info()"
   ]
  },
  {
   "cell_type": "markdown",
   "metadata": {},
   "source": [
    "## All full years are normalized to YYYY-MM-DD, and all quarterly records to YYYY-QQ.\n",
    "\n",
    "## This is to enable for more efficient handling, cleaning, and classifying of data later on."
   ]
  },
  {
   "cell_type": "markdown",
   "metadata": {},
   "source": [
    "### Code\n",
    "\n",
    "**ISSUE 7:** Firm names not referenced by **firm_id**\n",
    "\n",
    "**Define:**\n",
    "- Assign a **firm_id** to each firm for future normalization.\n",
    "\n",
    "- Generate new CSV named `firms.csv`"
   ]
  },
  {
   "cell_type": "code",
   "execution_count": 129,
   "metadata": {},
   "outputs": [],
   "source": [
    "#get firm names\n",
    "firm_names = eps_act_clean.columns[1:].to_numpy()"
   ]
  },
  {
   "cell_type": "code",
   "execution_count": 149,
   "metadata": {},
   "outputs": [],
   "source": [
    "#assign ids to firm names\n",
    "firm_names_ids = {}\n",
    "id = 0\n",
    "\n",
    "for firm in firm_names:\n",
    "    firm_names_ids.update({id: firm})\n",
    "    id += 1"
   ]
  },
  {
   "cell_type": "code",
   "execution_count": 153,
   "metadata": {},
   "outputs": [],
   "source": [
    "#generate new DF\n",
    "firm_ids = pd.DataFrame(list(firm_names_ids.items())).rename(columns = {0: 'firm_id', 1: 'firm'})"
   ]
  },
  {
   "cell_type": "markdown",
   "metadata": {},
   "source": [
    "### Code\n",
    "> **ISSUE 7:** No recorded 20-year averages for each dataset.\n",
    "\n",
    "**Define:**\n",
    "\n",
    "\n",
    "- Isolate 20-year averages for each firm into its own DataFrame\n",
    "\n",
    "- Create new DataFrame `twenty_avgs` depicting all 20-year averages for each firm"
   ]
  },
  {
   "cell_type": "code",
   "execution_count": 74,
   "metadata": {},
   "outputs": [],
   "source": [
    "#grab all firm names\n",
    "firm_names = eps_act_clean.columns.values[1:]"
   ]
  },
  {
   "cell_type": "code",
   "execution_count": 118,
   "metadata": {},
   "outputs": [],
   "source": [
    "def get_twenty_yr_avg(df, index_names, col_name):\n",
    "    return pd.DataFrame({col_name : df[index_names].mean()}).rename_axis('firm').reset_index()"
   ]
  },
  {
   "cell_type": "code",
   "execution_count": 119,
   "metadata": {},
   "outputs": [],
   "source": [
    "#get 20-year averages\n",
    "eps_fc_twenty_avg = get_twenty_yr_avg(eps_fc_clean, firm_names, 'eps_fc')\n",
    "eps_act_twenty_avg = get_twenty_yr_avg(eps_act_clean, firm_names, 'eps_act')\n",
    "eod_act_twenty_avg = get_twenty_yr_avg(eod_act_clean, firm_names, 'eod_act')\n",
    "eps_fc_terms_twenty_avg = get_twenty_yr_avg(eps_fc_terms_clean, firm_names, 'eps_fc_terms')"
   ]
  },
  {
   "cell_type": "code",
   "execution_count": 120,
   "metadata": {},
   "outputs": [],
   "source": [
    "#put averages into a list\n",
    "twenty_avg_list = [eps_fc_twenty_avg,\n",
    "                  eps_act_twenty_avg,\n",
    "                  eod_act_twenty_avg,\n",
    "                  eps_fc_terms_twenty_avg]"
   ]
  },
  {
   "cell_type": "code",
   "execution_count": 121,
   "metadata": {},
   "outputs": [],
   "source": [
    "#merge all Series\n",
    "df_twenty_year_avgs = pd.concat(twenty_avg_list, axis = 1, sort=False)"
   ]
  },
  {
   "cell_type": "markdown",
   "metadata": {},
   "source": [
    "### Test"
   ]
  },
  {
   "cell_type": "code",
   "execution_count": 122,
   "metadata": {},
   "outputs": [
    {
     "data": {
      "text/html": [
       "<div>\n",
       "<style scoped>\n",
       "    .dataframe tbody tr th:only-of-type {\n",
       "        vertical-align: middle;\n",
       "    }\n",
       "\n",
       "    .dataframe tbody tr th {\n",
       "        vertical-align: top;\n",
       "    }\n",
       "\n",
       "    .dataframe thead th {\n",
       "        text-align: right;\n",
       "    }\n",
       "</style>\n",
       "<table border=\"1\" class=\"dataframe\">\n",
       "  <thead>\n",
       "    <tr style=\"text-align: right;\">\n",
       "      <th></th>\n",
       "      <th>firm</th>\n",
       "      <th>eps_fc</th>\n",
       "      <th>firm</th>\n",
       "      <th>eps_act</th>\n",
       "      <th>firm</th>\n",
       "      <th>eod_act</th>\n",
       "      <th>firm</th>\n",
       "      <th>eps_fc_terms</th>\n",
       "    </tr>\n",
       "  </thead>\n",
       "  <tbody>\n",
       "    <tr>\n",
       "      <th>23</th>\n",
       "      <td>ajg</td>\n",
       "      <td>0.481964</td>\n",
       "      <td>ajg</td>\n",
       "      <td>0.434585</td>\n",
       "      <td>ajg</td>\n",
       "      <td>36.497470</td>\n",
       "      <td>ajg</td>\n",
       "      <td>0.527241</td>\n",
       "    </tr>\n",
       "    <tr>\n",
       "      <th>379</th>\n",
       "      <td>pnw</td>\n",
       "      <td>0.832667</td>\n",
       "      <td>pnw</td>\n",
       "      <td>0.791807</td>\n",
       "      <td>pnw</td>\n",
       "      <td>50.813554</td>\n",
       "      <td>pnw</td>\n",
       "      <td>0.895974</td>\n",
       "    </tr>\n",
       "    <tr>\n",
       "      <th>433</th>\n",
       "      <td>tap</td>\n",
       "      <td>0.765619</td>\n",
       "      <td>tap</td>\n",
       "      <td>0.746574</td>\n",
       "      <td>tap</td>\n",
       "      <td>49.083602</td>\n",
       "      <td>tap</td>\n",
       "      <td>0.840012</td>\n",
       "    </tr>\n",
       "    <tr>\n",
       "      <th>486</th>\n",
       "      <td>wltw</td>\n",
       "      <td>1.686387</td>\n",
       "      <td>wltw</td>\n",
       "      <td>1.092112</td>\n",
       "      <td>wltw</td>\n",
       "      <td>149.069333</td>\n",
       "      <td>wltw</td>\n",
       "      <td>1.887718</td>\n",
       "    </tr>\n",
       "    <tr>\n",
       "      <th>146</th>\n",
       "      <td>dov</td>\n",
       "      <td>0.785762</td>\n",
       "      <td>dov</td>\n",
       "      <td>0.837470</td>\n",
       "      <td>dov</td>\n",
       "      <td>41.392570</td>\n",
       "      <td>dov</td>\n",
       "      <td>0.900208</td>\n",
       "    </tr>\n",
       "  </tbody>\n",
       "</table>\n",
       "</div>"
      ],
      "text/plain": [
       "     firm    eps_fc  firm   eps_act  firm     eod_act  firm  eps_fc_terms\n",
       "23    ajg  0.481964   ajg  0.434585   ajg   36.497470   ajg      0.527241\n",
       "379   pnw  0.832667   pnw  0.791807   pnw   50.813554   pnw      0.895974\n",
       "433   tap  0.765619   tap  0.746574   tap   49.083602   tap      0.840012\n",
       "486  wltw  1.686387  wltw  1.092112  wltw  149.069333  wltw      1.887718\n",
       "146   dov  0.785762   dov  0.837470   dov   41.392570   dov      0.900208"
      ]
     },
     "execution_count": 122,
     "metadata": {},
     "output_type": "execute_result"
    }
   ],
   "source": [
    "df_twenty_year_avgs.sample(5)"
   ]
  },
  {
   "cell_type": "code",
   "execution_count": 70,
   "metadata": {},
   "outputs": [
    {
     "data": {
      "text/plain": [
       "firm\n",
       "eps_fc          False\n",
       "eps_act          True\n",
       "eod_act         False\n",
       "eps_fc_terms     True\n",
       "dtype: bool"
      ]
     },
     "execution_count": 70,
     "metadata": {},
     "output_type": "execute_result"
    }
   ],
   "source": [
    "#check missing data\n",
    "df_twenty_year_avgs.isna().any()"
   ]
  },
  {
   "cell_type": "code",
   "execution_count": 71,
   "metadata": {},
   "outputs": [
    {
     "data": {
      "text/plain": [
       "False"
      ]
     },
     "execution_count": 71,
     "metadata": {},
     "output_type": "execute_result"
    }
   ],
   "source": [
    "#check duplicate data\n",
    "df_twenty_year_avgs.duplicated().any()"
   ]
  },
  {
   "cell_type": "markdown",
   "metadata": {},
   "source": [
    "### Code\n",
    "> **ISSUE 8:** No recorded yearly averages for each dataset.\n",
    "\n",
    "**Define:**\n",
    "- Create 4 separate DataFrames for all attributes\n",
    "- Rename columns to \"Feature_Year\" (e.g. eps_fc_1999, eod_act_2000, etc.)\n",
    "- Outer merge all DataFrames to create new DataFrame, `df_yearly_avgs`, on **firms** attribute"
   ]
  },
  {
   "cell_type": "code",
   "execution_count": 72,
   "metadata": {},
   "outputs": [],
   "source": [
    "#helper function to calculate yearly average of each DataFrame\n",
    "def create_df_yearly_avgs(df, col):\n",
    "    #extract year from dates\n",
    "    return df.groupby(df[col].dt.year).mean().transpose().rename_axis('firm', axis = 'columns')"
   ]
  },
  {
   "cell_type": "code",
   "execution_count": 73,
   "metadata": {},
   "outputs": [],
   "source": [
    "#generate DataFrames of all yearly averages\n",
    "eps_fc_yearly_avgs = create_df_yearly_avgs(eps_fc_clean, 'term_forecast')\n",
    "eps_act_yearly_avgs = create_df_yearly_avgs(eps_act_clean, 'term_forecast')\n",
    "\n",
    "#for eod_act, doesn't matter if we use date or term_forecast field\n",
    "eod_act_yearly_avgs = create_df_yearly_avgs(eod_act_clean, 'date')\n",
    "eps_fc_terms_yearly_avgs = create_df_yearly_avgs(eps_fc_terms_clean, 'term_forecast')"
   ]
  },
  {
   "cell_type": "code",
   "execution_count": 183,
   "metadata": {},
   "outputs": [],
   "source": [
    "#store yearly averages\n",
    "eps_fc_yearly_avgs.to_csv(PATH_CLEAN_AVGS_SUB + 'yearly-avgs-eps-fc.csv', encoding = 'utf-8', index = False)\n",
    "eps_act_yearly_avgs.to_csv(PATH_CLEAN_AVGS_SUB + 'yearly-avgs-eps-act.csv', encoding = 'utf-8', index = False)\n",
    "eod_act_yearly_avgs.to_csv(PATH_CLEAN_AVGS_SUB + 'yearly-avgs-eod-act.csv', encoding='utf-8', index = False)\n",
    "eps_fc_terms_yearly_avgs.to_csv(PATH_CLEAN_AVGS_SUB + 'yearly-avgs-eps-fc-terms.csv', encoding='utf-8', index = False)"
   ]
  },
  {
   "cell_type": "code",
   "execution_count": 184,
   "metadata": {},
   "outputs": [],
   "source": [
    "#rename yearly average columns\n",
    "eps_fc_yearly_avgs = eps_fc_yearly_avgs.add_suffix('_eps_fc')\n",
    "eps_act_yearly_avgs = eps_act_yearly_avgs.add_suffix('_eps_act')\n",
    "eod_act_yearly_avgs = eod_act_yearly_avgs.add_suffix('_eod_act')\n",
    "eps_fc_terms_yearly_avgs = eps_fc_terms_yearly_avgs.add_suffix('_eps_fc_terms')"
   ]
  },
  {
   "cell_type": "code",
   "execution_count": 185,
   "metadata": {},
   "outputs": [],
   "source": [
    "#put DataFrames in array\n",
    "yearly_avgs_arr = [eps_fc_yearly_avgs,\n",
    "                  eps_act_yearly_avgs,\n",
    "                  eod_act_yearly_avgs,\n",
    "                  eps_fc_terms_yearly_avgs]"
   ]
  },
  {
   "cell_type": "code",
   "execution_count": 186,
   "metadata": {},
   "outputs": [],
   "source": [
    "#merge all yearly average DataFrames\n",
    "df_yearly_avgs = pd.concat(yearly_avgs_arr, join='outer', axis=1).fillna(method='ffill')"
   ]
  },
  {
   "cell_type": "markdown",
   "metadata": {},
   "source": [
    "### Test"
   ]
  },
  {
   "cell_type": "code",
   "execution_count": 205,
   "metadata": {},
   "outputs": [
    {
     "data": {
      "text/html": [
       "<div>\n",
       "<style scoped>\n",
       "    .dataframe tbody tr th:only-of-type {\n",
       "        vertical-align: middle;\n",
       "    }\n",
       "\n",
       "    .dataframe tbody tr th {\n",
       "        vertical-align: top;\n",
       "    }\n",
       "\n",
       "    .dataframe thead th {\n",
       "        text-align: right;\n",
       "    }\n",
       "</style>\n",
       "<table border=\"1\" class=\"dataframe\">\n",
       "  <thead>\n",
       "    <tr style=\"text-align: right;\">\n",
       "      <th>firm</th>\n",
       "      <th>1999_eps_fc</th>\n",
       "      <th>2000_eps_fc</th>\n",
       "      <th>2001_eps_fc</th>\n",
       "      <th>2002_eps_fc</th>\n",
       "      <th>2003_eps_fc</th>\n",
       "      <th>2004_eps_fc</th>\n",
       "      <th>2005_eps_fc</th>\n",
       "      <th>2006_eps_fc</th>\n",
       "      <th>2007_eps_fc</th>\n",
       "      <th>2008_eps_fc</th>\n",
       "      <th>...</th>\n",
       "      <th>2010_eps_fc_terms</th>\n",
       "      <th>2011_eps_fc_terms</th>\n",
       "      <th>2012_eps_fc_terms</th>\n",
       "      <th>2013_eps_fc_terms</th>\n",
       "      <th>2014_eps_fc_terms</th>\n",
       "      <th>2015_eps_fc_terms</th>\n",
       "      <th>2016_eps_fc_terms</th>\n",
       "      <th>2017_eps_fc_terms</th>\n",
       "      <th>2018_eps_fc_terms</th>\n",
       "      <th>2019_eps_fc_terms</th>\n",
       "    </tr>\n",
       "  </thead>\n",
       "  <tbody>\n",
       "    <tr>\n",
       "      <th>a</th>\n",
       "      <td>NaN</td>\n",
       "      <td>NaN</td>\n",
       "      <td>NaN</td>\n",
       "      <td>NaN</td>\n",
       "      <td>NaN</td>\n",
       "      <td>NaN</td>\n",
       "      <td>0.277667</td>\n",
       "      <td>0.39525</td>\n",
       "      <td>0.42375</td>\n",
       "      <td>0.48975</td>\n",
       "      <td>...</td>\n",
       "      <td>0.39525</td>\n",
       "      <td>0.64175</td>\n",
       "      <td>0.81375</td>\n",
       "      <td>0.75850</td>\n",
       "      <td>0.81500</td>\n",
       "      <td>0.51950</td>\n",
       "      <td>0.47700</td>\n",
       "      <td>0.53900</td>\n",
       "      <td>0.65025</td>\n",
       "      <td>0.75975</td>\n",
       "    </tr>\n",
       "    <tr>\n",
       "      <th>aal</th>\n",
       "      <td>NaN</td>\n",
       "      <td>NaN</td>\n",
       "      <td>NaN</td>\n",
       "      <td>NaN</td>\n",
       "      <td>NaN</td>\n",
       "      <td>NaN</td>\n",
       "      <td>-1.580000</td>\n",
       "      <td>0.20700</td>\n",
       "      <td>0.38225</td>\n",
       "      <td>-1.21275</td>\n",
       "      <td>...</td>\n",
       "      <td>-0.13525</td>\n",
       "      <td>-0.30800</td>\n",
       "      <td>-0.25750</td>\n",
       "      <td>0.46000</td>\n",
       "      <td>0.98575</td>\n",
       "      <td>2.19850</td>\n",
       "      <td>1.57475</td>\n",
       "      <td>1.20500</td>\n",
       "      <td>1.36500</td>\n",
       "      <td>1.49575</td>\n",
       "    </tr>\n",
       "    <tr>\n",
       "      <th>aap</th>\n",
       "      <td>NaN</td>\n",
       "      <td>NaN</td>\n",
       "      <td>0.02850</td>\n",
       "      <td>0.21075</td>\n",
       "      <td>0.3185</td>\n",
       "      <td>0.414</td>\n",
       "      <td>0.520000</td>\n",
       "      <td>0.54375</td>\n",
       "      <td>0.58150</td>\n",
       "      <td>0.61275</td>\n",
       "      <td>...</td>\n",
       "      <td>0.83725</td>\n",
       "      <td>1.16675</td>\n",
       "      <td>1.41650</td>\n",
       "      <td>1.46000</td>\n",
       "      <td>1.76325</td>\n",
       "      <td>2.15025</td>\n",
       "      <td>2.23200</td>\n",
       "      <td>2.00175</td>\n",
       "      <td>1.62300</td>\n",
       "      <td>2.04675</td>\n",
       "    </tr>\n",
       "    <tr>\n",
       "      <th>aapl</th>\n",
       "      <td>0.021</td>\n",
       "      <td>0.0285</td>\n",
       "      <td>-0.00575</td>\n",
       "      <td>0.00575</td>\n",
       "      <td>0.0025</td>\n",
       "      <td>0.010</td>\n",
       "      <td>0.041500</td>\n",
       "      <td>0.07175</td>\n",
       "      <td>0.10675</td>\n",
       "      <td>0.17775</td>\n",
       "      <td>...</td>\n",
       "      <td>0.36025</td>\n",
       "      <td>0.74675</td>\n",
       "      <td>1.31125</td>\n",
       "      <td>1.61825</td>\n",
       "      <td>1.52150</td>\n",
       "      <td>1.96425</td>\n",
       "      <td>2.23850</td>\n",
       "      <td>2.20825</td>\n",
       "      <td>2.89700</td>\n",
       "      <td>3.16375</td>\n",
       "    </tr>\n",
       "    <tr>\n",
       "      <th>abbv</th>\n",
       "      <td>0.021</td>\n",
       "      <td>0.0285</td>\n",
       "      <td>-0.00575</td>\n",
       "      <td>0.00575</td>\n",
       "      <td>0.0025</td>\n",
       "      <td>0.010</td>\n",
       "      <td>0.041500</td>\n",
       "      <td>0.07175</td>\n",
       "      <td>0.10675</td>\n",
       "      <td>0.17775</td>\n",
       "      <td>...</td>\n",
       "      <td>0.36025</td>\n",
       "      <td>0.74675</td>\n",
       "      <td>1.31125</td>\n",
       "      <td>0.81300</td>\n",
       "      <td>0.78000</td>\n",
       "      <td>1.04450</td>\n",
       "      <td>1.21475</td>\n",
       "      <td>1.36825</td>\n",
       "      <td>1.73575</td>\n",
       "      <td>2.17450</td>\n",
       "    </tr>\n",
       "  </tbody>\n",
       "</table>\n",
       "<p>5 rows × 83 columns</p>\n",
       "</div>"
      ],
      "text/plain": [
       "firm  1999_eps_fc  2000_eps_fc  2001_eps_fc  2002_eps_fc  2003_eps_fc  \\\n",
       "a             NaN          NaN          NaN          NaN          NaN   \n",
       "aal           NaN          NaN          NaN          NaN          NaN   \n",
       "aap           NaN          NaN      0.02850      0.21075       0.3185   \n",
       "aapl        0.021       0.0285     -0.00575      0.00575       0.0025   \n",
       "abbv        0.021       0.0285     -0.00575      0.00575       0.0025   \n",
       "\n",
       "firm  2004_eps_fc  2005_eps_fc  2006_eps_fc  2007_eps_fc  2008_eps_fc  ...  \\\n",
       "a             NaN     0.277667      0.39525      0.42375      0.48975  ...   \n",
       "aal           NaN    -1.580000      0.20700      0.38225     -1.21275  ...   \n",
       "aap         0.414     0.520000      0.54375      0.58150      0.61275  ...   \n",
       "aapl        0.010     0.041500      0.07175      0.10675      0.17775  ...   \n",
       "abbv        0.010     0.041500      0.07175      0.10675      0.17775  ...   \n",
       "\n",
       "firm  2010_eps_fc_terms  2011_eps_fc_terms  2012_eps_fc_terms  \\\n",
       "a               0.39525            0.64175            0.81375   \n",
       "aal            -0.13525           -0.30800           -0.25750   \n",
       "aap             0.83725            1.16675            1.41650   \n",
       "aapl            0.36025            0.74675            1.31125   \n",
       "abbv            0.36025            0.74675            1.31125   \n",
       "\n",
       "firm  2013_eps_fc_terms  2014_eps_fc_terms  2015_eps_fc_terms  \\\n",
       "a               0.75850            0.81500            0.51950   \n",
       "aal             0.46000            0.98575            2.19850   \n",
       "aap             1.46000            1.76325            2.15025   \n",
       "aapl            1.61825            1.52150            1.96425   \n",
       "abbv            0.81300            0.78000            1.04450   \n",
       "\n",
       "firm  2016_eps_fc_terms  2017_eps_fc_terms  2018_eps_fc_terms  \\\n",
       "a               0.47700            0.53900            0.65025   \n",
       "aal             1.57475            1.20500            1.36500   \n",
       "aap             2.23200            2.00175            1.62300   \n",
       "aapl            2.23850            2.20825            2.89700   \n",
       "abbv            1.21475            1.36825            1.73575   \n",
       "\n",
       "firm  2019_eps_fc_terms  \n",
       "a               0.75975  \n",
       "aal             1.49575  \n",
       "aap             2.04675  \n",
       "aapl            3.16375  \n",
       "abbv            2.17450  \n",
       "\n",
       "[5 rows x 83 columns]"
      ]
     },
     "execution_count": 205,
     "metadata": {},
     "output_type": "execute_result"
    }
   ],
   "source": [
    "df_yearly_avgs.head()"
   ]
  },
  {
   "cell_type": "code",
   "execution_count": 187,
   "metadata": {},
   "outputs": [
    {
     "name": "stdout",
     "output_type": "stream",
     "text": [
      "Index(['1999', '2000', '2001', '2002', '2003', '2004', '2005', '2006', '2007',\n",
      "       '2008', '2009', '2010', '2011', '2012', '2013', '2014', '2015', '2016',\n",
      "       '2017', '2018', '2019'],\n",
      "      dtype='object', name='firm') \n",
      " Index(['1999', '2000', '2001', '2002', '2003', '2004', '2005', '2006', '2007',\n",
      "       '2008', '2009', '2010', '2011', '2012', '2013', '2014', '2015', '2016',\n",
      "       '2017', '2018', '2019'],\n",
      "      dtype='object', name='firm') \n",
      " Index(['1999', '2000', '2001', '2002', '2003', '2004', '2005', '2006', '2007',\n",
      "       '2008', '2009', '2010', '2011', '2012', '2013', '2014', '2015', '2016',\n",
      "       '2017', '2018', '2019'],\n",
      "      dtype='object', name='firm') \n",
      " Index(['2000', '2001', '2002', '2003', '2004', '2005', '2006', '2007', '2008',\n",
      "       '2009', '2010', '2011', '2012', '2013', '2014', '2015', '2016', '2017',\n",
      "       '2018', '2019'],\n",
      "      dtype='object', name='firm')\n"
     ]
    }
   ],
   "source": [
    "#verify that all columns are, in fact, years\n",
    "print(eps_fc_yearly_avgs.columns.str[:4], '\\n',\n",
    "      eps_act_yearly_avgs.columns.str[:4], '\\n',\n",
    "      eod_act_yearly_avgs.columns.str[:4], '\\n',\n",
    "      eps_fc_terms_yearly_avgs.columns.str[:4])"
   ]
  },
  {
   "cell_type": "code",
   "execution_count": 188,
   "metadata": {},
   "outputs": [
    {
     "name": "stdout",
     "output_type": "stream",
     "text": [
      "505 \n",
      " 505 \n",
      " 505 \n",
      " 505\n"
     ]
    }
   ],
   "source": [
    "#verify there are 505 firms in each dataframe\n",
    "print(eps_fc_yearly_avgs.shape[0], '\\n',\n",
    "      eps_act_yearly_avgs.shape[0], '\\n',\n",
    "      eod_act_yearly_avgs.shape[0], '\\n',\n",
    "      eps_fc_terms_yearly_avgs.shape[0])"
   ]
  },
  {
   "cell_type": "code",
   "execution_count": 189,
   "metadata": {},
   "outputs": [],
   "source": [
    "#verify all columns under yearly_avgs contain all fields\n",
    "att_names = ['eps_fc', 'eps_act', 'eod_act', 'eps_fc_terms']"
   ]
  },
  {
   "cell_type": "code",
   "execution_count": 190,
   "metadata": {},
   "outputs": [],
   "source": [
    "#split YYYY_eps_fc after first _ occurrence, get only unique values\n",
    "cols_substrs = df_yearly_avgs.columns.str.split('_', 1).str[1].unique()"
   ]
  },
  {
   "cell_type": "code",
   "execution_count": 191,
   "metadata": {},
   "outputs": [
    {
     "data": {
      "text/plain": [
       "True"
      ]
     },
     "execution_count": 191,
     "metadata": {},
     "output_type": "execute_result"
    }
   ],
   "source": [
    "all(att_names == cols_substrs)"
   ]
  },
  {
   "cell_type": "markdown",
   "metadata": {},
   "source": [
    "### Code\n",
    "\n",
    "> **ISSUE 9:** No recorded quarterly averages for each dataset.\n",
    "\n",
    "**Define:** \n",
    "\n",
    "- Parse `eod_act_clean` dates  by **calendar quarter average** with quarterly data in a new DataFrame.\n",
    "- Create separate DataFrames containing quarterly averages for `eps_fc_clean`, `eps_act_clean`, and `eps_fc_terms_clean` \n",
    "- Rename columns to \"Quarter_Year_Feature\" (e.g. **q1_eps_fc,** etc.)\n",
    "- Outer merge all DataFrames into a new df `df_quarterly_avgs` on **firms**"
   ]
  },
  {
   "cell_type": "code",
   "execution_count": 192,
   "metadata": {},
   "outputs": [],
   "source": [
    "#helper function to calculate yearly average of each DataFrame\n",
    "def create_df_quarterly_avgs(df, col):\n",
    "    #extract quarter from Period objects\n",
    "    df =  df.groupby(df[col].dt.strftime('Q%q')).mean().transpose().rename_axis('firm', axis = 'columns')\n",
    "    \n",
    "    #lowercase column names\n",
    "    df.columns = df.columns.str.lower()\n",
    "    return df"
   ]
  },
  {
   "cell_type": "code",
   "execution_count": 193,
   "metadata": {},
   "outputs": [],
   "source": [
    "#generate all quarterly average DataFrames\n",
    "eps_fc_quarter_avgs = create_df_quarterly_avgs(eps_fc_clean, 'term_forecast')\n",
    "eps_act_quarter_avgs = create_df_quarterly_avgs(eps_act_clean, 'term_forecast')\n",
    "eod_act_quarter_avgs = create_df_quarterly_avgs(eod_act_clean, 'term_forecast')\n",
    "eps_fc_terms_quarter_avgs = create_df_quarterly_avgs(eps_fc_terms_clean, 'term_forecast')"
   ]
  },
  {
   "cell_type": "code",
   "execution_count": 194,
   "metadata": {},
   "outputs": [],
   "source": [
    "#store quarterly averages\n",
    "eps_fc_quarter_avgs.to_csv(PATH_CLEAN_AVGS_SUB + 'quarter-avgs-eps-fc.csv', encoding = 'utf-8', index = False)\n",
    "eps_act_quarter_avgs.to_csv(PATH_CLEAN_AVGS_SUB + 'quarter-avgs-eps-act.csv', encoding = 'utf-8', index = False)\n",
    "eod_act_quarter_avgs.to_csv(PATH_CLEAN_AVGS_SUB + 'quarter-avgs-eod-act.csv', encoding='utf-8', index = False)\n",
    "eps_fc_terms_quarter_avgs.to_csv(PATH_CLEAN_AVGS_SUB + 'quarter-avgs-eps-fc-terms.csv', encoding='utf-8', index = False)"
   ]
  },
  {
   "cell_type": "code",
   "execution_count": 195,
   "metadata": {},
   "outputs": [],
   "source": [
    "#rename quarterly average columns\n",
    "eps_fc_quarter_avgs = eps_fc_quarter_avgs.add_suffix('_eps_fc')\n",
    "eps_act_quarter_avgs = eps_act_quarter_avgs.add_suffix('_eps_act')\n",
    "eod_act_quarter_avgs = eod_act_quarter_avgs.add_suffix('_eod_act')\n",
    "eps_fc_terms_quarter_avgs = eps_fc_terms_quarter_avgs.add_suffix('_eps_fc_terms')"
   ]
  },
  {
   "cell_type": "code",
   "execution_count": 196,
   "metadata": {},
   "outputs": [],
   "source": [
    "#put DataFrames in array\n",
    "quarterly_avgs_arr = [eps_fc_quarter_avgs,\n",
    "                  eps_act_quarter_avgs,\n",
    "                  eod_act_quarter_avgs,\n",
    "                  eps_fc_terms_quarter_avgs]"
   ]
  },
  {
   "cell_type": "code",
   "execution_count": 197,
   "metadata": {},
   "outputs": [],
   "source": [
    "#merge all quarterly average DataFrames\n",
    "df_quarter_avgs = pd.concat(quarterly_avgs_arr, join='outer', axis=1).fillna(method='ffill')"
   ]
  },
  {
   "cell_type": "markdown",
   "metadata": {},
   "source": [
    "### Test"
   ]
  },
  {
   "cell_type": "code",
   "execution_count": 198,
   "metadata": {},
   "outputs": [
    {
     "data": {
      "text/html": [
       "<div>\n",
       "<style scoped>\n",
       "    .dataframe tbody tr th:only-of-type {\n",
       "        vertical-align: middle;\n",
       "    }\n",
       "\n",
       "    .dataframe tbody tr th {\n",
       "        vertical-align: top;\n",
       "    }\n",
       "\n",
       "    .dataframe thead th {\n",
       "        text-align: right;\n",
       "    }\n",
       "</style>\n",
       "<table border=\"1\" class=\"dataframe\">\n",
       "  <thead>\n",
       "    <tr style=\"text-align: right;\">\n",
       "      <th>firm</th>\n",
       "      <th>q1_eps_fc</th>\n",
       "      <th>q2_eps_fc</th>\n",
       "      <th>q3_eps_fc</th>\n",
       "      <th>q4_eps_fc</th>\n",
       "      <th>q1_eps_act</th>\n",
       "      <th>q2_eps_act</th>\n",
       "      <th>q3_eps_act</th>\n",
       "      <th>q4_eps_act</th>\n",
       "      <th>q1_eod_act</th>\n",
       "      <th>q2_eod_act</th>\n",
       "      <th>q3_eod_act</th>\n",
       "      <th>q4_eod_act</th>\n",
       "      <th>q1_eps_fc_terms</th>\n",
       "      <th>q2_eps_fc_terms</th>\n",
       "      <th>q3_eps_fc_terms</th>\n",
       "      <th>q4_eps_fc_terms</th>\n",
       "    </tr>\n",
       "  </thead>\n",
       "  <tbody>\n",
       "    <tr>\n",
       "      <th>a</th>\n",
       "      <td>0.490500</td>\n",
       "      <td>0.489200</td>\n",
       "      <td>0.526800</td>\n",
       "      <td>0.617467</td>\n",
       "      <td>0.505714</td>\n",
       "      <td>0.287619</td>\n",
       "      <td>0.191000</td>\n",
       "      <td>0.416667</td>\n",
       "      <td>34.058320</td>\n",
       "      <td>32.998630</td>\n",
       "      <td>31.991835</td>\n",
       "      <td>32.538085</td>\n",
       "      <td>0.542500</td>\n",
       "      <td>0.537857</td>\n",
       "      <td>0.558000</td>\n",
       "      <td>0.627667</td>\n",
       "    </tr>\n",
       "    <tr>\n",
       "      <th>aal</th>\n",
       "      <td>-0.187429</td>\n",
       "      <td>0.812071</td>\n",
       "      <td>0.666867</td>\n",
       "      <td>0.064333</td>\n",
       "      <td>-0.869524</td>\n",
       "      <td>0.092381</td>\n",
       "      <td>0.071912</td>\n",
       "      <td>-0.871865</td>\n",
       "      <td>42.735000</td>\n",
       "      <td>38.682500</td>\n",
       "      <td>37.785000</td>\n",
       "      <td>42.010000</td>\n",
       "      <td>0.048769</td>\n",
       "      <td>1.261429</td>\n",
       "      <td>1.159643</td>\n",
       "      <td>0.321929</td>\n",
       "    </tr>\n",
       "    <tr>\n",
       "      <th>aap</th>\n",
       "      <td>1.270947</td>\n",
       "      <td>1.213500</td>\n",
       "      <td>1.082833</td>\n",
       "      <td>0.650737</td>\n",
       "      <td>1.194074</td>\n",
       "      <td>1.075614</td>\n",
       "      <td>1.007222</td>\n",
       "      <td>0.670000</td>\n",
       "      <td>77.747000</td>\n",
       "      <td>76.724222</td>\n",
       "      <td>78.780333</td>\n",
       "      <td>74.174778</td>\n",
       "      <td>1.453235</td>\n",
       "      <td>1.262778</td>\n",
       "      <td>1.177556</td>\n",
       "      <td>0.776000</td>\n",
       "    </tr>\n",
       "    <tr>\n",
       "      <th>aapl</th>\n",
       "      <td>1.160476</td>\n",
       "      <td>0.820048</td>\n",
       "      <td>0.701381</td>\n",
       "      <td>0.810667</td>\n",
       "      <td>1.259246</td>\n",
       "      <td>0.890255</td>\n",
       "      <td>0.750119</td>\n",
       "      <td>0.878384</td>\n",
       "      <td>53.321171</td>\n",
       "      <td>54.858752</td>\n",
       "      <td>60.959586</td>\n",
       "      <td>51.256220</td>\n",
       "      <td>1.231100</td>\n",
       "      <td>0.912950</td>\n",
       "      <td>0.750250</td>\n",
       "      <td>0.840150</td>\n",
       "    </tr>\n",
       "    <tr>\n",
       "      <th>abbv</th>\n",
       "      <td>1.207429</td>\n",
       "      <td>1.340571</td>\n",
       "      <td>1.361571</td>\n",
       "      <td>1.368857</td>\n",
       "      <td>0.963750</td>\n",
       "      <td>0.867500</td>\n",
       "      <td>0.968750</td>\n",
       "      <td>0.249505</td>\n",
       "      <td>64.034286</td>\n",
       "      <td>66.394286</td>\n",
       "      <td>68.447143</td>\n",
       "      <td>66.167143</td>\n",
       "      <td>1.225000</td>\n",
       "      <td>1.293143</td>\n",
       "      <td>1.359429</td>\n",
       "      <td>1.398857</td>\n",
       "    </tr>\n",
       "  </tbody>\n",
       "</table>\n",
       "</div>"
      ],
      "text/plain": [
       "firm  q1_eps_fc  q2_eps_fc  q3_eps_fc  q4_eps_fc  q1_eps_act  q2_eps_act  \\\n",
       "a      0.490500   0.489200   0.526800   0.617467    0.505714    0.287619   \n",
       "aal   -0.187429   0.812071   0.666867   0.064333   -0.869524    0.092381   \n",
       "aap    1.270947   1.213500   1.082833   0.650737    1.194074    1.075614   \n",
       "aapl   1.160476   0.820048   0.701381   0.810667    1.259246    0.890255   \n",
       "abbv   1.207429   1.340571   1.361571   1.368857    0.963750    0.867500   \n",
       "\n",
       "firm  q3_eps_act  q4_eps_act  q1_eod_act  q2_eod_act  q3_eod_act  q4_eod_act  \\\n",
       "a       0.191000    0.416667   34.058320   32.998630   31.991835   32.538085   \n",
       "aal     0.071912   -0.871865   42.735000   38.682500   37.785000   42.010000   \n",
       "aap     1.007222    0.670000   77.747000   76.724222   78.780333   74.174778   \n",
       "aapl    0.750119    0.878384   53.321171   54.858752   60.959586   51.256220   \n",
       "abbv    0.968750    0.249505   64.034286   66.394286   68.447143   66.167143   \n",
       "\n",
       "firm  q1_eps_fc_terms  q2_eps_fc_terms  q3_eps_fc_terms  q4_eps_fc_terms  \n",
       "a            0.542500         0.537857         0.558000         0.627667  \n",
       "aal          0.048769         1.261429         1.159643         0.321929  \n",
       "aap          1.453235         1.262778         1.177556         0.776000  \n",
       "aapl         1.231100         0.912950         0.750250         0.840150  \n",
       "abbv         1.225000         1.293143         1.359429         1.398857  "
      ]
     },
     "execution_count": 198,
     "metadata": {},
     "output_type": "execute_result"
    }
   ],
   "source": [
    "df_quarter_avgs.head()"
   ]
  },
  {
   "cell_type": "code",
   "execution_count": 199,
   "metadata": {},
   "outputs": [
    {
     "name": "stdout",
     "output_type": "stream",
     "text": [
      "Index(['q1', 'q2', 'q3', 'q4'], dtype='object', name='firm') \n",
      " Index(['q1', 'q2', 'q3', 'q4'], dtype='object', name='firm') \n",
      " Index(['q1', 'q2', 'q3', 'q4'], dtype='object', name='firm') \n",
      " Index(['q1', 'q2', 'q3', 'q4'], dtype='object', name='firm')\n"
     ]
    }
   ],
   "source": [
    "#verify that all columns are, in fact, years\n",
    "print(eps_fc_quarter_avgs.columns.str[:2], '\\n',\n",
    "      eps_act_quarter_avgs.columns.str[:2], '\\n',\n",
    "      eod_act_quarter_avgs.columns.str[:2], '\\n',\n",
    "      eps_fc_terms_quarter_avgs.columns.str[:2])"
   ]
  },
  {
   "cell_type": "code",
   "execution_count": 200,
   "metadata": {},
   "outputs": [
    {
     "name": "stdout",
     "output_type": "stream",
     "text": [
      "505 \n",
      " 505 \n",
      " 505 \n",
      " 505\n"
     ]
    }
   ],
   "source": [
    "#verify there are 505 firms in each dataframe\n",
    "print(eps_fc_quarter_avgs.shape[0], '\\n',\n",
    "      eps_act_quarter_avgs.shape[0], '\\n',\n",
    "      eod_act_quarter_avgs.shape[0], '\\n',\n",
    "      eps_fc_terms_quarter_avgs.shape[0])"
   ]
  },
  {
   "cell_type": "code",
   "execution_count": null,
   "metadata": {},
   "outputs": [],
   "source": [
    "#verify all columns under yearly_avgs contain all fields\n",
    "att_names = ['q1', 'q2', 'q3', 'q4']"
   ]
  },
  {
   "cell_type": "code",
   "execution_count": null,
   "metadata": {},
   "outputs": [],
   "source": [
    "#split YYYY_eps_fc after first _ occurrence, get only unique values\n",
    "cols_substrs = df_quarter_avgs.columns.str.split('_', 1).str[1].unique()"
   ]
  },
  {
   "cell_type": "code",
   "execution_count": 203,
   "metadata": {},
   "outputs": [
    {
     "data": {
      "text/plain": [
       "True"
      ]
     },
     "execution_count": 203,
     "metadata": {},
     "output_type": "execute_result"
    }
   ],
   "source": [
    "all(att_names == cols_substrs)"
   ]
  },
  {
   "cell_type": "markdown",
   "metadata": {},
   "source": [
    "### Code\n",
    ">**ISSUE 10:** Firm 20-year, yearly, and quarterly averages contained in different DataFrames.\n",
    "\n",
    "**Define:** \n",
    "- Outer merge `df_twenty_year_avgs`, `df_yearly_avgs`, and `df_quarter_avgs` on **firm** column."
   ]
  },
  {
   "cell_type": "code",
   "execution_count": 206,
   "metadata": {},
   "outputs": [],
   "source": [
    "#put all average DFs in an array\n",
    "avgs_array = [df_twenty_year_avgs, df_yearly_avgs, df_quarter_avgs]"
   ]
  },
  {
   "cell_type": "code",
   "execution_count": 207,
   "metadata": {},
   "outputs": [],
   "source": [
    "df_all_avgs = pd.concat(avgs_array, join='outer', axis=1).fillna(method='ffill')"
   ]
  },
  {
   "cell_type": "markdown",
   "metadata": {},
   "source": [
    "### Test"
   ]
  },
  {
   "cell_type": "code",
   "execution_count": 209,
   "metadata": {},
   "outputs": [
    {
     "data": {
      "text/html": [
       "<div>\n",
       "<style scoped>\n",
       "    .dataframe tbody tr th:only-of-type {\n",
       "        vertical-align: middle;\n",
       "    }\n",
       "\n",
       "    .dataframe tbody tr th {\n",
       "        vertical-align: top;\n",
       "    }\n",
       "\n",
       "    .dataframe thead th {\n",
       "        text-align: right;\n",
       "    }\n",
       "</style>\n",
       "<table border=\"1\" class=\"dataframe\">\n",
       "  <thead>\n",
       "    <tr style=\"text-align: right;\">\n",
       "      <th>firm</th>\n",
       "      <th>eps_fc</th>\n",
       "      <th>eps_act</th>\n",
       "      <th>eod_act</th>\n",
       "      <th>eps_fc_terms</th>\n",
       "      <th>1999_eps_fc</th>\n",
       "      <th>2000_eps_fc</th>\n",
       "      <th>2001_eps_fc</th>\n",
       "      <th>2002_eps_fc</th>\n",
       "      <th>2003_eps_fc</th>\n",
       "      <th>2004_eps_fc</th>\n",
       "      <th>...</th>\n",
       "      <th>q3_eps_act</th>\n",
       "      <th>q4_eps_act</th>\n",
       "      <th>q1_eod_act</th>\n",
       "      <th>q2_eod_act</th>\n",
       "      <th>q3_eod_act</th>\n",
       "      <th>q4_eod_act</th>\n",
       "      <th>q1_eps_fc_terms</th>\n",
       "      <th>q2_eps_fc_terms</th>\n",
       "      <th>q3_eps_fc_terms</th>\n",
       "      <th>q4_eps_fc_terms</th>\n",
       "    </tr>\n",
       "  </thead>\n",
       "  <tbody>\n",
       "    <tr>\n",
       "      <th>a</th>\n",
       "      <td>0.531678</td>\n",
       "      <td>0.352169</td>\n",
       "      <td>32.896718</td>\n",
       "      <td>0.567579</td>\n",
       "      <td>NaN</td>\n",
       "      <td>NaN</td>\n",
       "      <td>NaN</td>\n",
       "      <td>NaN</td>\n",
       "      <td>NaN</td>\n",
       "      <td>NaN</td>\n",
       "      <td>...</td>\n",
       "      <td>0.191000</td>\n",
       "      <td>0.416667</td>\n",
       "      <td>34.058320</td>\n",
       "      <td>32.998630</td>\n",
       "      <td>31.991835</td>\n",
       "      <td>32.538085</td>\n",
       "      <td>0.542500</td>\n",
       "      <td>0.537857</td>\n",
       "      <td>0.558000</td>\n",
       "      <td>0.627667</td>\n",
       "    </tr>\n",
       "    <tr>\n",
       "      <th>aal</th>\n",
       "      <td>0.339879</td>\n",
       "      <td>-0.388520</td>\n",
       "      <td>40.303125</td>\n",
       "      <td>0.709745</td>\n",
       "      <td>NaN</td>\n",
       "      <td>NaN</td>\n",
       "      <td>NaN</td>\n",
       "      <td>NaN</td>\n",
       "      <td>NaN</td>\n",
       "      <td>NaN</td>\n",
       "      <td>...</td>\n",
       "      <td>0.071912</td>\n",
       "      <td>-0.871865</td>\n",
       "      <td>42.735000</td>\n",
       "      <td>38.682500</td>\n",
       "      <td>37.785000</td>\n",
       "      <td>42.010000</td>\n",
       "      <td>0.048769</td>\n",
       "      <td>1.261429</td>\n",
       "      <td>1.159643</td>\n",
       "      <td>0.321929</td>\n",
       "    </tr>\n",
       "    <tr>\n",
       "      <th>aap</th>\n",
       "      <td>1.051973</td>\n",
       "      <td>0.996901</td>\n",
       "      <td>76.856583</td>\n",
       "      <td>1.163366</td>\n",
       "      <td>NaN</td>\n",
       "      <td>NaN</td>\n",
       "      <td>0.02850</td>\n",
       "      <td>0.21075</td>\n",
       "      <td>0.3185</td>\n",
       "      <td>0.414</td>\n",
       "      <td>...</td>\n",
       "      <td>1.007222</td>\n",
       "      <td>0.670000</td>\n",
       "      <td>77.747000</td>\n",
       "      <td>76.724222</td>\n",
       "      <td>78.780333</td>\n",
       "      <td>74.174778</td>\n",
       "      <td>1.453235</td>\n",
       "      <td>1.262778</td>\n",
       "      <td>1.177556</td>\n",
       "      <td>0.776000</td>\n",
       "    </tr>\n",
       "    <tr>\n",
       "      <th>aapl</th>\n",
       "      <td>0.873143</td>\n",
       "      <td>0.944501</td>\n",
       "      <td>55.145230</td>\n",
       "      <td>0.933613</td>\n",
       "      <td>0.021</td>\n",
       "      <td>0.0285</td>\n",
       "      <td>-0.00575</td>\n",
       "      <td>0.00575</td>\n",
       "      <td>0.0025</td>\n",
       "      <td>0.010</td>\n",
       "      <td>...</td>\n",
       "      <td>0.750119</td>\n",
       "      <td>0.878384</td>\n",
       "      <td>53.321171</td>\n",
       "      <td>54.858752</td>\n",
       "      <td>60.959586</td>\n",
       "      <td>51.256220</td>\n",
       "      <td>1.231100</td>\n",
       "      <td>0.912950</td>\n",
       "      <td>0.750250</td>\n",
       "      <td>0.840150</td>\n",
       "    </tr>\n",
       "    <tr>\n",
       "      <th>abbv</th>\n",
       "      <td>1.319607</td>\n",
       "      <td>0.778921</td>\n",
       "      <td>66.260714</td>\n",
       "      <td>1.322593</td>\n",
       "      <td>0.021</td>\n",
       "      <td>0.0285</td>\n",
       "      <td>-0.00575</td>\n",
       "      <td>0.00575</td>\n",
       "      <td>0.0025</td>\n",
       "      <td>0.010</td>\n",
       "      <td>...</td>\n",
       "      <td>0.968750</td>\n",
       "      <td>0.249505</td>\n",
       "      <td>64.034286</td>\n",
       "      <td>66.394286</td>\n",
       "      <td>68.447143</td>\n",
       "      <td>66.167143</td>\n",
       "      <td>1.225000</td>\n",
       "      <td>1.293143</td>\n",
       "      <td>1.359429</td>\n",
       "      <td>1.398857</td>\n",
       "    </tr>\n",
       "  </tbody>\n",
       "</table>\n",
       "<p>5 rows × 103 columns</p>\n",
       "</div>"
      ],
      "text/plain": [
       "firm    eps_fc   eps_act    eod_act  eps_fc_terms  1999_eps_fc  2000_eps_fc  \\\n",
       "a     0.531678  0.352169  32.896718      0.567579          NaN          NaN   \n",
       "aal   0.339879 -0.388520  40.303125      0.709745          NaN          NaN   \n",
       "aap   1.051973  0.996901  76.856583      1.163366          NaN          NaN   \n",
       "aapl  0.873143  0.944501  55.145230      0.933613        0.021       0.0285   \n",
       "abbv  1.319607  0.778921  66.260714      1.322593        0.021       0.0285   \n",
       "\n",
       "firm  2001_eps_fc  2002_eps_fc  2003_eps_fc  2004_eps_fc  ...  q3_eps_act  \\\n",
       "a             NaN          NaN          NaN          NaN  ...    0.191000   \n",
       "aal           NaN          NaN          NaN          NaN  ...    0.071912   \n",
       "aap       0.02850      0.21075       0.3185        0.414  ...    1.007222   \n",
       "aapl     -0.00575      0.00575       0.0025        0.010  ...    0.750119   \n",
       "abbv     -0.00575      0.00575       0.0025        0.010  ...    0.968750   \n",
       "\n",
       "firm  q4_eps_act  q1_eod_act  q2_eod_act  q3_eod_act  q4_eod_act  \\\n",
       "a       0.416667   34.058320   32.998630   31.991835   32.538085   \n",
       "aal    -0.871865   42.735000   38.682500   37.785000   42.010000   \n",
       "aap     0.670000   77.747000   76.724222   78.780333   74.174778   \n",
       "aapl    0.878384   53.321171   54.858752   60.959586   51.256220   \n",
       "abbv    0.249505   64.034286   66.394286   68.447143   66.167143   \n",
       "\n",
       "firm  q1_eps_fc_terms  q2_eps_fc_terms  q3_eps_fc_terms  q4_eps_fc_terms  \n",
       "a            0.542500         0.537857         0.558000         0.627667  \n",
       "aal          0.048769         1.261429         1.159643         0.321929  \n",
       "aap          1.453235         1.262778         1.177556         0.776000  \n",
       "aapl         1.231100         0.912950         0.750250         0.840150  \n",
       "abbv         1.225000         1.293143         1.359429         1.398857  \n",
       "\n",
       "[5 rows x 103 columns]"
      ]
     },
     "execution_count": 209,
     "metadata": {},
     "output_type": "execute_result"
    }
   ],
   "source": [
    "df_all_avgs.head()"
   ]
  },
  {
   "cell_type": "code",
   "execution_count": 210,
   "metadata": {},
   "outputs": [
    {
     "data": {
      "text/plain": [
       "(505, 103)"
      ]
     },
     "execution_count": 210,
     "metadata": {},
     "output_type": "execute_result"
    }
   ],
   "source": [
    "#verify 103 columns\n",
    "df_all_avgs.shape"
   ]
  },
  {
   "cell_type": "markdown",
   "metadata": {},
   "source": [
    "# III) Store Data <a id = \"store\"></a>\n",
    "\n",
    "**Disclaimer:** I decided to put the following CSVs under the ***./data/clean/averages/components*** directory because they form *part* of the main CSVs under the ***./data/clean/averages*** directory:\n",
    "- `quarter-avgs-eod-act.csv`\n",
    "- `quarter-avgs-eps-act.csv`\n",
    "- `quarter-avgs-eps-fc.csv`\n",
    "- `quarter-avgs-eps-fc-terms.csv`\n",
    "\n",
    "> The above are all components of the `quarter-avgs.csv` under **/averages/**\n",
    "\n",
    "- `yearly-avgs-eod-act.csv`\n",
    "- `yearly-avgs-eps-act.csv`\n",
    "- `yearly-avgs-eps-fc.csv`\n",
    "- `yearly-avgs-eps-fc-terms.csv`\n",
    "\n",
    "> The above are all components of the `yearly-avgs.csv` under **/averages/**\n",
    "\n",
    "**Additionally, I decided to keep `avgs.csv` under the *./data/clean/averages/* directory.** Although this CSV containing all averages would be highly inefficient for the data exploration stage, I decided it would be best to keep it on hand for convenience.\n",
    "\n",
    "Using `avgs.csv` would mean having the parse through the column names to isolate 20-year, yearly, and quarterly averages, but all of that redundance can be avoided by simply focusing on the `twenty-year-avgs`, `yearly-avgs`, and `quarter-avgs` CSVs alone.\n",
    "\n",
    "## Firms"
   ]
  },
  {
   "cell_type": "code",
   "execution_count": 156,
   "metadata": {},
   "outputs": [],
   "source": [
    "firm_ids.to_csv(PATH_CLEAN + 'firms.csv', encoding = 'utf-8', index = False)"
   ]
  },
  {
   "cell_type": "markdown",
   "metadata": {},
   "source": [
    "## Averages"
   ]
  },
  {
   "cell_type": "code",
   "execution_count": 87,
   "metadata": {},
   "outputs": [],
   "source": [
    "#twenty-year-averages\n",
    "df_twenty_year_avgs.to_csv(PATH_CLEAN_AVGS + 'twenty-year-avgs.csv', encoding = 'utf-8', index = False)"
   ]
  },
  {
   "cell_type": "code",
   "execution_count": 215,
   "metadata": {},
   "outputs": [],
   "source": [
    "#yearly averagas\n",
    "df_yearly_avgs.to_csv(PATH_CLEAN_AVGS + 'yearly-avgs.csv', encoding = 'utf-8', index = False)"
   ]
  },
  {
   "cell_type": "code",
   "execution_count": 216,
   "metadata": {},
   "outputs": [],
   "source": [
    "#quarterly averages\n",
    "df_quarter_avgs.to_csv(PATH_CLEAN_AVGS + 'quarter-avgs.csv', encoding = 'utf-8', index = False)"
   ]
  },
  {
   "cell_type": "code",
   "execution_count": 217,
   "metadata": {},
   "outputs": [],
   "source": [
    "#all averages\n",
    "df_all_avgs.to_csv(PATH_CLEAN_AVGS + 'avgs.csv', encoding = 'utf-8', index = False)"
   ]
  },
  {
   "cell_type": "markdown",
   "metadata": {},
   "source": [
    "## Clean Standalone Datasets"
   ]
  },
  {
   "cell_type": "code",
   "execution_count": 218,
   "metadata": {},
   "outputs": [],
   "source": [
    "eps_fc_clean.to_csv(PATH_CLEAN + 'eps-fc.csv')\n",
    "eps_act_clean.to_csv(PATH_CLEAN + 'eps-act.csv')\n",
    "eod_act_clean.to_csv(PATH_CLEAN + 'eod-act.csv')\n",
    "eps_fc_terms_clean.to_csv(PATH_CLEAN + 'eps-fc-terms.csv')"
   ]
  },
  {
   "cell_type": "markdown",
   "metadata": {},
   "source": [
    "# IV) Notes\n",
    "\n",
    "\n",
    "\n",
    "- When dealing with the CSVs depicting averages, we need to keep in mind **missing data** in our interpretations.\n",
    "- I decided to put the years as columns under yearly average DF generation because: the amount of columns generated here, TK, would be less than the amount of \n",
    "\tfirms there are, 505. [TK link to a study showing how having too many columns take up memory vs rows]\n",
    "    \n",
    "- keep in mind that `eod_act` is based on **calendar years** not fiscal years."
   ]
  },
  {
   "cell_type": "code",
   "execution_count": 136,
   "metadata": {},
   "outputs": [],
   "source": [
    "\n",
    "#convert notebook to HTML"
   ]
  }
 ],
 "metadata": {
  "kernelspec": {
   "display_name": "Python 3",
   "language": "python",
   "name": "python3"
  },
  "language_info": {
   "codemirror_mode": {
    "name": "ipython",
    "version": 3
   },
   "file_extension": ".py",
   "mimetype": "text/x-python",
   "name": "python",
   "nbconvert_exporter": "python",
   "pygments_lexer": "ipython3",
   "version": "3.7.3"
  }
 },
 "nbformat": 4,
 "nbformat_minor": 2
}
