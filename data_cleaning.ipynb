{
 "cells": [
  {
   "cell_type": "markdown",
   "metadata": {},
   "source": [
    "## Table of Contents\n",
    "- [Introduction](#introduction)\n",
    "- [Data Wrangling](#wrangling)\n",
    "    - [Gather](#gather)\n",
    "    - [Assess](#assess)\n",
    "    - [Clean](#clean)\n",
    "    - [Analyze](#analyze)\n",
    "    - [Visualize](#visualize)\n",
    "- [Conclusions](#conclusions)"
   ]
  },
  {
   "cell_type": "code",
   "execution_count": 4,
   "metadata": {},
   "outputs": [],
   "source": [
    "PATH = './data/'\n",
    "\n",
    "import pandas as pd\n",
    "import numpy as np\n",
    "import matplotlib.pyplot as plt\n",
    "import seaborn as sb"
   ]
  },
  {
   "cell_type": "markdown",
   "metadata": {},
   "source": [
    "## I) Introduction <a id = \"introduction\">\n",
    "\n",
    "**Aim:** Analyze absolute difference and (possibly) margin of error between stock market forecast of price returns and actual stock market price returns.\n",
    "\n",
    "I will be analyzing quarterly price returns within the past 20 years for the firms present in the S&P 500 2019 Index.\n",
    "\n",
    "> At first, I wanted to analyze the forecasted vs. actual price earnings of the S&P in its entirety for the past 20 years. However, considering that firms continuously enter and leave stock indices every year, there would be varying levels of inconsistencies and marginal errors when comparing annual S&P returns alone. To combat this problem, I have isolated these two approaches:\n",
    "- Analyze the historical earnings of *only* the firms present in the S&P 2019 Index\n",
    "- Keep track of all firms that were present in the S&P for the past 20 years. Keep track of how many times each firm appeared in the Index and for those with the least count, analyze them individually on how they differ from the firms that stayed for longer.\n",
    "\n",
    "\n",
    "## II) Data Wrangling <a id=\"wrangling\"></a>\n",
    "\n",
    "To gather the data depicted under the `./data` folder, I used Bloomberg Excel functions.\n",
    "\n",
    "### A) Gather <a id = \"gather\"></a>\n",
    "> **APPROACH 1:** Focus on the firms that appear in the 2019 S&P Index and analyze their forecasted vs. actual price earnings for the last 20 years.\n",
    "\n",
    "To ensure consistency in analysis among multiple firms, I divide both the forecasted and actual price earning dates by *calendar period* instead of fiscal period. This is because fiscal period differs by firm whereas calendar period is consistent by dates. \n",
    "\n",
    "**Historic *forecasted* and *actual* data from January 1999 until December 2019**"
   ]
  },
  {
   "cell_type": "code",
   "execution_count": 7,
   "metadata": {},
   "outputs": [],
   "source": [
    "#historic forecasted EPS \n",
    "df_eps_fc = pd.read_csv(PATH + 'sp-eps-fc.csv')\n",
    "\n",
    "#historic actual EPS\n",
    "df_eps_act = pd.read_csv(PATH + 'sp-eps-act.csv')\n",
    "\n",
    "#historic actual EPS\n",
    "df_eod_act = pd.read_csv(PATH + 'sp-eod-act.csv')\n",
    "\n",
    "#historic forecasted EPS with terms\n",
    "df_eps_fc_terms = pd.read_csv(PATH + 'sp-eps-fc-terms.csv')"
   ]
  },
  {
   "cell_type": "markdown",
   "metadata": {},
   "source": [
    "## B) Assess\n",
    "\n",
    "### Forecasted Historical EPS\n",
    "\n"
   ]
  },
  {
   "cell_type": "code",
   "execution_count": 3,
   "metadata": {},
   "outputs": [
    {
     "data": {
      "text/html": [
       "<div>\n",
       "<style scoped>\n",
       "    .dataframe tbody tr th:only-of-type {\n",
       "        vertical-align: middle;\n",
       "    }\n",
       "\n",
       "    .dataframe tbody tr th {\n",
       "        vertical-align: top;\n",
       "    }\n",
       "\n",
       "    .dataframe thead th {\n",
       "        text-align: right;\n",
       "    }\n",
       "</style>\n",
       "<table border=\"1\" class=\"dataframe\">\n",
       "  <thead>\n",
       "    <tr style=\"text-align: right;\">\n",
       "      <th></th>\n",
       "      <th>Forecast Made</th>\n",
       "      <th>Term Forecasted</th>\n",
       "      <th>A UN Equity</th>\n",
       "      <th>AAL UW Equity</th>\n",
       "      <th>AAP UN Equity</th>\n",
       "      <th>AAPL UW Equity</th>\n",
       "      <th>ABBV UN Equity</th>\n",
       "      <th>ABC UN Equity</th>\n",
       "      <th>ABMD UW Equity</th>\n",
       "      <th>ABT UN Equity</th>\n",
       "      <th>...</th>\n",
       "      <th>XEL UW Equity</th>\n",
       "      <th>XLNX UW Equity</th>\n",
       "      <th>XOM UN Equity</th>\n",
       "      <th>XRAY UW Equity</th>\n",
       "      <th>XRX UN Equity</th>\n",
       "      <th>XYL UN Equity</th>\n",
       "      <th>YUM UN Equity</th>\n",
       "      <th>ZBH UN Equity</th>\n",
       "      <th>ZION UW Equity</th>\n",
       "      <th>ZTS UN Equity</th>\n",
       "    </tr>\n",
       "  </thead>\n",
       "  <tbody>\n",
       "    <tr>\n",
       "      <th>16</th>\n",
       "      <td>10/1/2003</td>\n",
       "      <td>04Q1</td>\n",
       "      <td>NaN</td>\n",
       "      <td>NaN</td>\n",
       "      <td>0.423</td>\n",
       "      <td>0.008</td>\n",
       "      <td>NaN</td>\n",
       "      <td>NaN</td>\n",
       "      <td>-0.240</td>\n",
       "      <td>0.570</td>\n",
       "      <td>...</td>\n",
       "      <td>0.340</td>\n",
       "      <td>0.148</td>\n",
       "      <td>0.527</td>\n",
       "      <td>0.270</td>\n",
       "      <td>NaN</td>\n",
       "      <td>NaN</td>\n",
       "      <td>0.212</td>\n",
       "      <td>0.474</td>\n",
       "      <td>1.092</td>\n",
       "      <td>NaN</td>\n",
       "    </tr>\n",
       "    <tr>\n",
       "      <th>13</th>\n",
       "      <td>1/1/2003</td>\n",
       "      <td>03Q2</td>\n",
       "      <td>NaN</td>\n",
       "      <td>NaN</td>\n",
       "      <td>0.320</td>\n",
       "      <td>0.003</td>\n",
       "      <td>NaN</td>\n",
       "      <td>NaN</td>\n",
       "      <td>-0.375</td>\n",
       "      <td>0.539</td>\n",
       "      <td>...</td>\n",
       "      <td>0.300</td>\n",
       "      <td>0.107</td>\n",
       "      <td>0.493</td>\n",
       "      <td>0.260</td>\n",
       "      <td>NaN</td>\n",
       "      <td>NaN</td>\n",
       "      <td>0.242</td>\n",
       "      <td>0.389</td>\n",
       "      <td>0.984</td>\n",
       "      <td>NaN</td>\n",
       "    </tr>\n",
       "    <tr>\n",
       "      <th>49</th>\n",
       "      <td>1/1/2012</td>\n",
       "      <td>12Q2</td>\n",
       "      <td>0.791</td>\n",
       "      <td>-0.325</td>\n",
       "      <td>1.664</td>\n",
       "      <td>1.124</td>\n",
       "      <td>NaN</td>\n",
       "      <td>0.819</td>\n",
       "      <td>-0.091</td>\n",
       "      <td>1.238</td>\n",
       "      <td>...</td>\n",
       "      <td>0.340</td>\n",
       "      <td>0.437</td>\n",
       "      <td>2.050</td>\n",
       "      <td>0.589</td>\n",
       "      <td>1.121</td>\n",
       "      <td>0.493</td>\n",
       "      <td>0.701</td>\n",
       "      <td>1.331</td>\n",
       "      <td>0.375</td>\n",
       "      <td>NaN</td>\n",
       "    </tr>\n",
       "    <tr>\n",
       "      <th>58</th>\n",
       "      <td>4/1/2014</td>\n",
       "      <td>14Q3</td>\n",
       "      <td>0.785</td>\n",
       "      <td>1.630</td>\n",
       "      <td>1.863</td>\n",
       "      <td>1.241</td>\n",
       "      <td>0.785</td>\n",
       "      <td>0.926</td>\n",
       "      <td>0.140</td>\n",
       "      <td>0.618</td>\n",
       "      <td>...</td>\n",
       "      <td>0.747</td>\n",
       "      <td>0.545</td>\n",
       "      <td>1.864</td>\n",
       "      <td>0.608</td>\n",
       "      <td>1.118</td>\n",
       "      <td>0.543</td>\n",
       "      <td>1.101</td>\n",
       "      <td>1.385</td>\n",
       "      <td>0.470</td>\n",
       "      <td>0.368</td>\n",
       "    </tr>\n",
       "    <tr>\n",
       "      <th>5</th>\n",
       "      <td>1/1/2001</td>\n",
       "      <td>01Q2</td>\n",
       "      <td>NaN</td>\n",
       "      <td>NaN</td>\n",
       "      <td>NaN</td>\n",
       "      <td>0.006</td>\n",
       "      <td>NaN</td>\n",
       "      <td>NaN</td>\n",
       "      <td>-0.120</td>\n",
       "      <td>0.470</td>\n",
       "      <td>...</td>\n",
       "      <td>NaN</td>\n",
       "      <td>0.311</td>\n",
       "      <td>0.555</td>\n",
       "      <td>0.177</td>\n",
       "      <td>NaN</td>\n",
       "      <td>NaN</td>\n",
       "      <td>0.200</td>\n",
       "      <td>NaN</td>\n",
       "      <td>0.798</td>\n",
       "      <td>NaN</td>\n",
       "    </tr>\n",
       "  </tbody>\n",
       "</table>\n",
       "<p>5 rows × 507 columns</p>\n",
       "</div>"
      ],
      "text/plain": [
       "   Forecast Made Term Forecasted  A UN Equity  AAL UW Equity  AAP UN Equity  \\\n",
       "16     10/1/2003            04Q1          NaN            NaN          0.423   \n",
       "13      1/1/2003            03Q2          NaN            NaN          0.320   \n",
       "49      1/1/2012            12Q2        0.791         -0.325          1.664   \n",
       "58      4/1/2014            14Q3        0.785          1.630          1.863   \n",
       "5       1/1/2001            01Q2          NaN            NaN            NaN   \n",
       "\n",
       "    AAPL UW Equity  ABBV UN Equity  ABC UN Equity  ABMD UW Equity  \\\n",
       "16           0.008             NaN            NaN          -0.240   \n",
       "13           0.003             NaN            NaN          -0.375   \n",
       "49           1.124             NaN          0.819          -0.091   \n",
       "58           1.241           0.785          0.926           0.140   \n",
       "5            0.006             NaN            NaN          -0.120   \n",
       "\n",
       "    ABT UN Equity  ...  XEL UW Equity  XLNX UW Equity  XOM UN Equity  \\\n",
       "16          0.570  ...          0.340           0.148          0.527   \n",
       "13          0.539  ...          0.300           0.107          0.493   \n",
       "49          1.238  ...          0.340           0.437          2.050   \n",
       "58          0.618  ...          0.747           0.545          1.864   \n",
       "5           0.470  ...            NaN           0.311          0.555   \n",
       "\n",
       "    XRAY UW Equity  XRX UN Equity  XYL UN Equity  YUM UN Equity  \\\n",
       "16           0.270            NaN            NaN          0.212   \n",
       "13           0.260            NaN            NaN          0.242   \n",
       "49           0.589          1.121          0.493          0.701   \n",
       "58           0.608          1.118          0.543          1.101   \n",
       "5            0.177            NaN            NaN          0.200   \n",
       "\n",
       "    ZBH UN Equity  ZION UW Equity  ZTS UN Equity  \n",
       "16          0.474           1.092            NaN  \n",
       "13          0.389           0.984            NaN  \n",
       "49          1.331           0.375            NaN  \n",
       "58          1.385           0.470          0.368  \n",
       "5             NaN           0.798            NaN  \n",
       "\n",
       "[5 rows x 507 columns]"
      ]
     },
     "execution_count": 3,
     "metadata": {},
     "output_type": "execute_result"
    }
   ],
   "source": [
    "df_fc.sample(5)"
   ]
  },
  {
   "cell_type": "code",
   "execution_count": 4,
   "metadata": {},
   "outputs": [
    {
     "data": {
      "text/plain": [
       "(80, 507)"
      ]
     },
     "execution_count": 4,
     "metadata": {},
     "output_type": "execute_result"
    }
   ],
   "source": [
    "df_fc.shape"
   ]
  },
  {
   "cell_type": "markdown",
   "metadata": {},
   "source": [
    "**Observation:** There are 505 firms encompassing 80 quarterly forecast periods since 1999."
   ]
  },
  {
   "cell_type": "code",
   "execution_count": 5,
   "metadata": {},
   "outputs": [
    {
     "data": {
      "text/plain": [
       "80"
      ]
     },
     "execution_count": 5,
     "metadata": {},
     "output_type": "execute_result"
    }
   ],
   "source": [
    "#number of rows with missing data\n",
    "df_fc.isna().sum().max()"
   ]
  },
  {
   "cell_type": "markdown",
   "metadata": {},
   "source": [
    "**Observation:** There are 80 rows with missing data, which means that all quarterly calendar periods contain incomplete data across all firms in the 2019 S&P Index."
   ]
  },
  {
   "cell_type": "code",
   "execution_count": 6,
   "metadata": {},
   "outputs": [
    {
     "data": {
      "text/plain": [
       "False    80\n",
       "dtype: int64"
      ]
     },
     "execution_count": 6,
     "metadata": {},
     "output_type": "execute_result"
    }
   ],
   "source": [
    "#check for rows where all columns are NaN values.\n",
    "columns_to_check = df_fc.columns[2:]\n",
    "df_fc[columns_to_check].isnull().apply(lambda x: all(x), axis = 1).value_counts()"
   ]
  },
  {
   "cell_type": "code",
   "execution_count": 7,
   "metadata": {},
   "outputs": [
    {
     "data": {
      "text/plain": [
       "False    505\n",
       "dtype: int64"
      ]
     },
     "execution_count": 7,
     "metadata": {},
     "output_type": "execute_result"
    }
   ],
   "source": [
    "#check for columns where all rows are NaN values.\n",
    "df_eod[columns_to_check].isnull().apply(lambda x: all(x), axis = 0).value_counts()"
   ]
  },
  {
   "cell_type": "markdown",
   "metadata": {},
   "source": [
    "**Observations:**\n",
    "- No quarterly calendar period is empty of data for all firms.\n",
    "- No firm is empty of data for all calendar periods.\n",
    "\n",
    "***This means that no singular calendar period has missing data for an entire firm, and\n",
    "no singular firm has missing data for an entire calendar period.***"
   ]
  },
  {
   "cell_type": "markdown",
   "metadata": {},
   "source": [
    "### Historic Stock Returns"
   ]
  },
  {
   "cell_type": "code",
   "execution_count": 8,
   "metadata": {},
   "outputs": [
    {
     "data": {
      "text/html": [
       "<div>\n",
       "<style scoped>\n",
       "    .dataframe tbody tr th:only-of-type {\n",
       "        vertical-align: middle;\n",
       "    }\n",
       "\n",
       "    .dataframe tbody tr th {\n",
       "        vertical-align: top;\n",
       "    }\n",
       "\n",
       "    .dataframe thead th {\n",
       "        text-align: right;\n",
       "    }\n",
       "</style>\n",
       "<table border=\"1\" class=\"dataframe\">\n",
       "  <thead>\n",
       "    <tr style=\"text-align: right;\">\n",
       "      <th></th>\n",
       "      <th>date</th>\n",
       "      <th>A UN Equity</th>\n",
       "      <th>AAL UW Equity</th>\n",
       "      <th>AAP UN Equity</th>\n",
       "      <th>AAPL UW Equity</th>\n",
       "      <th>ABBV UN Equity</th>\n",
       "      <th>ABC UN Equity</th>\n",
       "      <th>ABMD UW Equity</th>\n",
       "      <th>ABT UN Equity</th>\n",
       "      <th>ACN UN Equity</th>\n",
       "      <th>...</th>\n",
       "      <th>XEL UW Equity</th>\n",
       "      <th>XLNX UW Equity</th>\n",
       "      <th>XOM UN Equity</th>\n",
       "      <th>XRAY UW Equity</th>\n",
       "      <th>XRX UN Equity</th>\n",
       "      <th>XYL UN Equity</th>\n",
       "      <th>YUM UN Equity</th>\n",
       "      <th>ZBH UN Equity</th>\n",
       "      <th>ZION UW Equity</th>\n",
       "      <th>ZTS UN Equity</th>\n",
       "    </tr>\n",
       "  </thead>\n",
       "  <tbody>\n",
       "    <tr>\n",
       "      <th>21</th>\n",
       "      <td>6/30/2004</td>\n",
       "      <td>19.7280</td>\n",
       "      <td>NaN</td>\n",
       "      <td>29.453</td>\n",
       "      <td>2.3243</td>\n",
       "      <td>NaN</td>\n",
       "      <td>14.5017</td>\n",
       "      <td>12.580</td>\n",
       "      <td>19.5026</td>\n",
       "      <td>27.48</td>\n",
       "      <td>...</td>\n",
       "      <td>NaN</td>\n",
       "      <td>33.3100</td>\n",
       "      <td>44.41</td>\n",
       "      <td>26.0500</td>\n",
       "      <td>38.2016</td>\n",
       "      <td>NaN</td>\n",
       "      <td>13.3816</td>\n",
       "      <td>88.20</td>\n",
       "      <td>61.4500</td>\n",
       "      <td>NaN</td>\n",
       "    </tr>\n",
       "    <tr>\n",
       "      <th>5</th>\n",
       "      <td>6/30/2000</td>\n",
       "      <td>49.6906</td>\n",
       "      <td>NaN</td>\n",
       "      <td>NaN</td>\n",
       "      <td>3.7411</td>\n",
       "      <td>NaN</td>\n",
       "      <td>7.5201</td>\n",
       "      <td>15.375</td>\n",
       "      <td>19.9435</td>\n",
       "      <td>NaN</td>\n",
       "      <td>...</td>\n",
       "      <td>NaN</td>\n",
       "      <td>82.5625</td>\n",
       "      <td>39.25</td>\n",
       "      <td>10.2708</td>\n",
       "      <td>54.6678</td>\n",
       "      <td>NaN</td>\n",
       "      <td>5.0783</td>\n",
       "      <td>NaN</td>\n",
       "      <td>45.8906</td>\n",
       "      <td>NaN</td>\n",
       "    </tr>\n",
       "    <tr>\n",
       "      <th>40</th>\n",
       "      <td>3/31/2009</td>\n",
       "      <td>10.9909</td>\n",
       "      <td>NaN</td>\n",
       "      <td>41.080</td>\n",
       "      <td>15.0171</td>\n",
       "      <td>NaN</td>\n",
       "      <td>16.3300</td>\n",
       "      <td>4.900</td>\n",
       "      <td>22.8232</td>\n",
       "      <td>27.49</td>\n",
       "      <td>...</td>\n",
       "      <td>NaN</td>\n",
       "      <td>19.1600</td>\n",
       "      <td>68.10</td>\n",
       "      <td>26.8500</td>\n",
       "      <td>11.9874</td>\n",
       "      <td>NaN</td>\n",
       "      <td>19.7596</td>\n",
       "      <td>36.50</td>\n",
       "      <td>9.8300</td>\n",
       "      <td>NaN</td>\n",
       "    </tr>\n",
       "    <tr>\n",
       "      <th>49</th>\n",
       "      <td>6/30/2011</td>\n",
       "      <td>36.5481</td>\n",
       "      <td>NaN</td>\n",
       "      <td>58.490</td>\n",
       "      <td>47.9529</td>\n",
       "      <td>NaN</td>\n",
       "      <td>41.4000</td>\n",
       "      <td>16.200</td>\n",
       "      <td>25.1773</td>\n",
       "      <td>60.42</td>\n",
       "      <td>...</td>\n",
       "      <td>NaN</td>\n",
       "      <td>36.4700</td>\n",
       "      <td>81.38</td>\n",
       "      <td>38.0800</td>\n",
       "      <td>27.4261</td>\n",
       "      <td>NaN</td>\n",
       "      <td>39.7206</td>\n",
       "      <td>63.20</td>\n",
       "      <td>24.0100</td>\n",
       "      <td>NaN</td>\n",
       "    </tr>\n",
       "    <tr>\n",
       "      <th>68</th>\n",
       "      <td>3/31/2016</td>\n",
       "      <td>39.8500</td>\n",
       "      <td>41.01</td>\n",
       "      <td>160.340</td>\n",
       "      <td>108.9900</td>\n",
       "      <td>57.12</td>\n",
       "      <td>86.5500</td>\n",
       "      <td>94.810</td>\n",
       "      <td>41.8300</td>\n",
       "      <td>115.40</td>\n",
       "      <td>...</td>\n",
       "      <td>NaN</td>\n",
       "      <td>47.4300</td>\n",
       "      <td>83.59</td>\n",
       "      <td>61.6300</td>\n",
       "      <td>29.4021</td>\n",
       "      <td>40.9</td>\n",
       "      <td>58.8546</td>\n",
       "      <td>106.63</td>\n",
       "      <td>24.2100</td>\n",
       "      <td>44.33</td>\n",
       "    </tr>\n",
       "  </tbody>\n",
       "</table>\n",
       "<p>5 rows × 506 columns</p>\n",
       "</div>"
      ],
      "text/plain": [
       "         date  A UN Equity  AAL UW Equity  AAP UN Equity  AAPL UW Equity  \\\n",
       "21  6/30/2004      19.7280            NaN         29.453          2.3243   \n",
       "5   6/30/2000      49.6906            NaN            NaN          3.7411   \n",
       "40  3/31/2009      10.9909            NaN         41.080         15.0171   \n",
       "49  6/30/2011      36.5481            NaN         58.490         47.9529   \n",
       "68  3/31/2016      39.8500          41.01        160.340        108.9900   \n",
       "\n",
       "    ABBV UN Equity  ABC UN Equity  ABMD UW Equity  ABT UN Equity  \\\n",
       "21             NaN        14.5017          12.580        19.5026   \n",
       "5              NaN         7.5201          15.375        19.9435   \n",
       "40             NaN        16.3300           4.900        22.8232   \n",
       "49             NaN        41.4000          16.200        25.1773   \n",
       "68           57.12        86.5500          94.810        41.8300   \n",
       "\n",
       "    ACN UN Equity  ...  XEL UW Equity  XLNX UW Equity  XOM UN Equity  \\\n",
       "21          27.48  ...            NaN         33.3100          44.41   \n",
       "5             NaN  ...            NaN         82.5625          39.25   \n",
       "40          27.49  ...            NaN         19.1600          68.10   \n",
       "49          60.42  ...            NaN         36.4700          81.38   \n",
       "68         115.40  ...            NaN         47.4300          83.59   \n",
       "\n",
       "    XRAY UW Equity  XRX UN Equity  XYL UN Equity  YUM UN Equity  \\\n",
       "21         26.0500        38.2016            NaN        13.3816   \n",
       "5          10.2708        54.6678            NaN         5.0783   \n",
       "40         26.8500        11.9874            NaN        19.7596   \n",
       "49         38.0800        27.4261            NaN        39.7206   \n",
       "68         61.6300        29.4021           40.9        58.8546   \n",
       "\n",
       "    ZBH UN Equity  ZION UW Equity  ZTS UN Equity  \n",
       "21          88.20         61.4500            NaN  \n",
       "5             NaN         45.8906            NaN  \n",
       "40          36.50          9.8300            NaN  \n",
       "49          63.20         24.0100            NaN  \n",
       "68         106.63         24.2100          44.33  \n",
       "\n",
       "[5 rows x 506 columns]"
      ]
     },
     "execution_count": 8,
     "metadata": {},
     "output_type": "execute_result"
    }
   ],
   "source": [
    "#generate 10 random samples \n",
    "df_eod.sample(5)"
   ]
  },
  {
   "cell_type": "code",
   "execution_count": 9,
   "metadata": {},
   "outputs": [
    {
     "data": {
      "text/plain": [
       "(84, 506)"
      ]
     },
     "execution_count": 9,
     "metadata": {},
     "output_type": "execute_result"
    }
   ],
   "source": [
    "df_eod.shape"
   ]
  },
  {
   "cell_type": "markdown",
   "metadata": {},
   "source": [
    "**Observation:** There are 505 firms encompassing 84 calendar periods."
   ]
  },
  {
   "cell_type": "code",
   "execution_count": 10,
   "metadata": {},
   "outputs": [
    {
     "data": {
      "text/plain": [
       "83"
      ]
     },
     "execution_count": 10,
     "metadata": {},
     "output_type": "execute_result"
    }
   ],
   "source": [
    "#number of rows with missing data\n",
    "df_eod.isna().sum().max()"
   ]
  },
  {
   "cell_type": "markdown",
   "metadata": {},
   "source": [
    "**Observation:** There are 83 rows with missing values, which means only one row has non-missing data."
   ]
  },
  {
   "cell_type": "code",
   "execution_count": 11,
   "metadata": {},
   "outputs": [
    {
     "data": {
      "text/html": [
       "<div>\n",
       "<style scoped>\n",
       "    .dataframe tbody tr th:only-of-type {\n",
       "        vertical-align: middle;\n",
       "    }\n",
       "\n",
       "    .dataframe tbody tr th {\n",
       "        vertical-align: top;\n",
       "    }\n",
       "\n",
       "    .dataframe thead th {\n",
       "        text-align: right;\n",
       "    }\n",
       "</style>\n",
       "<table border=\"1\" class=\"dataframe\">\n",
       "  <thead>\n",
       "    <tr style=\"text-align: right;\">\n",
       "      <th></th>\n",
       "      <th>date</th>\n",
       "      <th>A UN Equity</th>\n",
       "      <th>AAL UW Equity</th>\n",
       "      <th>AAP UN Equity</th>\n",
       "      <th>AAPL UW Equity</th>\n",
       "      <th>ABBV UN Equity</th>\n",
       "      <th>ABC UN Equity</th>\n",
       "      <th>ABMD UW Equity</th>\n",
       "      <th>ABT UN Equity</th>\n",
       "      <th>ACN UN Equity</th>\n",
       "      <th>...</th>\n",
       "      <th>XEL UW Equity</th>\n",
       "      <th>XLNX UW Equity</th>\n",
       "      <th>XOM UN Equity</th>\n",
       "      <th>XRAY UW Equity</th>\n",
       "      <th>XRX UN Equity</th>\n",
       "      <th>XYL UN Equity</th>\n",
       "      <th>YUM UN Equity</th>\n",
       "      <th>ZBH UN Equity</th>\n",
       "      <th>ZION UW Equity</th>\n",
       "      <th>ZTS UN Equity</th>\n",
       "    </tr>\n",
       "  </thead>\n",
       "  <tbody>\n",
       "    <tr>\n",
       "      <th>82</th>\n",
       "      <td>9/30/2019</td>\n",
       "      <td>76.63</td>\n",
       "      <td>26.97</td>\n",
       "      <td>165.4</td>\n",
       "      <td>223.97</td>\n",
       "      <td>75.72</td>\n",
       "      <td>82.33</td>\n",
       "      <td>177.89</td>\n",
       "      <td>83.67</td>\n",
       "      <td>192.35</td>\n",
       "      <td>...</td>\n",
       "      <td>64.89</td>\n",
       "      <td>95.9</td>\n",
       "      <td>70.61</td>\n",
       "      <td>53.31</td>\n",
       "      <td>29.91</td>\n",
       "      <td>79.62</td>\n",
       "      <td>113.43</td>\n",
       "      <td>137.27</td>\n",
       "      <td>44.52</td>\n",
       "      <td>124.59</td>\n",
       "    </tr>\n",
       "  </tbody>\n",
       "</table>\n",
       "<p>1 rows × 506 columns</p>\n",
       "</div>"
      ],
      "text/plain": [
       "         date  A UN Equity  AAL UW Equity  AAP UN Equity  AAPL UW Equity  \\\n",
       "82  9/30/2019        76.63          26.97          165.4          223.97   \n",
       "\n",
       "    ABBV UN Equity  ABC UN Equity  ABMD UW Equity  ABT UN Equity  \\\n",
       "82           75.72          82.33          177.89          83.67   \n",
       "\n",
       "    ACN UN Equity  ...  XEL UW Equity  XLNX UW Equity  XOM UN Equity  \\\n",
       "82         192.35  ...          64.89            95.9          70.61   \n",
       "\n",
       "    XRAY UW Equity  XRX UN Equity  XYL UN Equity  YUM UN Equity  \\\n",
       "82           53.31          29.91          79.62         113.43   \n",
       "\n",
       "    ZBH UN Equity  ZION UW Equity  ZTS UN Equity  \n",
       "82         137.27           44.52         124.59  \n",
       "\n",
       "[1 rows x 506 columns]"
      ]
     },
     "execution_count": 11,
     "metadata": {},
     "output_type": "execute_result"
    }
   ],
   "source": [
    "#isolate row with no missing data\n",
    "df_eod[~(df_eod.isna().any(axis=1))]"
   ]
  },
  {
   "cell_type": "markdown",
   "metadata": {},
   "source": [
    "**Observation:** September 30, 2019 is the only recorded calendar time in the past 20 years that contains complete end-of-day stock prices for all firms in the 2019 S&P Index."
   ]
  },
  {
   "cell_type": "code",
   "execution_count": 12,
   "metadata": {},
   "outputs": [
    {
     "data": {
      "text/plain": [
       "False    84\n",
       "dtype: int64"
      ]
     },
     "execution_count": 12,
     "metadata": {},
     "output_type": "execute_result"
    }
   ],
   "source": [
    "#check for rows where all columns are NaN values.\n",
    "columns_to_check = df_eod.columns\n",
    "df_eod[columns_to_check].isnull().apply(lambda x: all(x), axis = 1).value_counts()"
   ]
  },
  {
   "cell_type": "code",
   "execution_count": 13,
   "metadata": {},
   "outputs": [
    {
     "data": {
      "text/plain": [
       "False    506\n",
       "dtype: int64"
      ]
     },
     "execution_count": 13,
     "metadata": {},
     "output_type": "execute_result"
    }
   ],
   "source": [
    "#check for columns where all rows are NaN values.\n",
    "df_eod[columns_to_check].isnull().apply(lambda x: all(x), axis = 0).value_counts()"
   ]
  },
  {
   "cell_type": "markdown",
   "metadata": {},
   "source": [
    "**Observations:** \n",
    "\n",
    "- there is no calendar period that's empty of data for all firms.\n",
    "- there is no firm that's empty of data for all calendar periods.\n",
    "\n",
    "**Therefore, all calendar periods and firms have data for historical end of day stock price.**"
   ]
  },
  {
   "cell_type": "code",
   "execution_count": 14,
   "metadata": {},
   "outputs": [
    {
     "data": {
      "text/plain": [
       "0"
      ]
     },
     "execution_count": 14,
     "metadata": {},
     "output_type": "execute_result"
    }
   ],
   "source": [
    "#count how many rows have isolated data\n",
    "df_eod.duplicated().sum()"
   ]
  },
  {
   "cell_type": "markdown",
   "metadata": {},
   "source": [
    "**Observation:** There is no duplicated data among all firms for all calendar periods in `df_eod`."
   ]
  },
  {
   "cell_type": "code",
   "execution_count": 15,
   "metadata": {},
   "outputs": [
    {
     "data": {
      "text/plain": [
       "0"
      ]
     },
     "execution_count": 15,
     "metadata": {},
     "output_type": "execute_result"
    }
   ],
   "source": [
    "#count number of repeated firm names\n",
    "df_eod.columns.duplicated().sum()"
   ]
  },
  {
   "cell_type": "markdown",
   "metadata": {},
   "source": [
    "**Observation:** There are no duplicated firms in `df_eod`.\n",
    "\n",
    "### Quality\n",
    "\n",
    "**Missing Data**\n",
    "\n",
    "-  N/A\n",
    "--- \n",
    "\n",
    "- firm names across both DataFrames are capitalized\n",
    "\n",
    "\n",
    "### Tidiness\n",
    "\n",
    "- both DataFrames need to be merged with firm names transposed into rows\n",
    "\n",
    "## C) Cleaning\n",
    "\n",
    "# III) Store Data\n",
    "\n",
    "# IV) Explore Data\n",
    "\n",
    "## Univariate\n",
    "\n",
    "## Bivariate\n",
    "\n",
    "## Multivariate\n",
    "\n",
    "# V) Visualize Data"
   ]
  }
 ],
 "metadata": {
  "kernelspec": {
   "display_name": "Python 3",
   "language": "python",
   "name": "python3"
  },
  "language_info": {
   "codemirror_mode": {
    "name": "ipython",
    "version": 3
   },
   "file_extension": ".py",
   "mimetype": "text/x-python",
   "name": "python",
   "nbconvert_exporter": "python",
   "pygments_lexer": "ipython3",
   "version": "3.7.3"
  }
 },
 "nbformat": 4,
 "nbformat_minor": 2
}
