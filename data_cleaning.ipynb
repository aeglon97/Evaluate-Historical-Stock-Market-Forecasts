{
 "cells": [
  {
   "cell_type": "markdown",
   "metadata": {},
   "source": [
    "# S&P 2019 Data Wrangling\n",
    "\n",
    "**by Marc Angelo Acebedo**\n",
    "\n",
    "## Table of Contents\n",
    "- [Introduction](#introduction)\n",
    "- [Data Wrangling](#wrangling)\n",
    "    - [Gather](#gather)\n",
    "    - [Assess](#assess)\n",
    "    - [Clean](#clean)\n",
    "    - [Store](#store)"
   ]
  },
  {
   "cell_type": "markdown",
   "metadata": {},
   "source": [
    "## I) Introduction <a id = \"introduction\">\n",
    "\n",
    "**Broad question:** How do price forecasts for each firm in the S&P 2019 Index compare to their corresponding actual prices?\n",
    "\n",
    "**Approach:** Analyze difference in means between average forecast EPS and average actual EPS for each firm.\n",
    "\n",
    "I will be analyzing quarterly price returns within the past 20 years for the firms present in the S&P 500 2019 Index.\n",
    "\n",
    "> At first, I wanted to analyze the forecasted vs. actual price earnings of the S&P in its entirety for the past 20 years. However, considering that firms continuously enter and leave stock indices every year, there would be varying levels of inconsistencies and marginal errors when comparing annual S&P returns alone. To combat this problem, I have isolated these two approaches:\n",
    "- Analyze the historical earnings of *only* the firms present in the S&P 2019 Index\n",
    "- Keep track of all firms that were present in the S&P for the past 20 years. Keep track of how many times each firm appeared in the Index and for those with the least count, analyze them individually on how they differ from the firms that stayed for longer.\n",
    "\n",
    "[TK] HEre is a breakdown of my final clean CSV's features, TK.csv.\n",
    "\n",
    "## II) Data Wrangling <a id=\"wrangling\"></a>\n",
    "\n",
    "To gather the data depicted under the `./data` folder, I used Bloomberg Excel functions.\n",
    "\n",
    "### A) Gather <a id = \"gather\"></a>\n",
    "> **APPROACH 1:** Focus on the firms that appear in the 2019 S&P Index and analyze their forecasted vs. actual price earnings for the last 20 years.\n",
    "\n",
    "To ensure consistency in analysis among multiple firms, I divide both the forecasted and actual price earning dates by *calendar period* instead of fiscal period. This is because fiscal period differs by firm whereas calendar period is consistent by dates. \n",
    "\n",
    "#### Through the Bloomberg Excel functions, I gathered four datasets with different purposes:\n",
    "\n",
    "- historical forecasted EPS\n",
    "- historical actual EPS\n",
    "- historical actual EOD price\n",
    "- historical forecasted EPS relying on terms\n",
    "\n",
    "---\n",
    "Before delving into the data, let's define what above terms:\n",
    "\n",
    "**EPS**\n",
    "\n",
    "> EPS stands for ***Estimated Price Earnings.*** The formal definition of EPS given by Investopedia is this:\n",
    "\n",
    "Earnings per share is the portion of a company's profit that is allocated to each outstanding share of a common stock, serving as an indicator of the company's financial health.\n",
    "\n",
    "In other words, the EPS is a portion of the company's **net income** after all of their dividends are paid off. Dividends are profits that are paid out to shareholders of the company. EPS is one of the most useful and valuable financial measurements because they ***determine a stock's worth.*** The higher the stock, the more the company can pay out dividends to its shareholders, and the more net profit they are determined to generate.\n",
    "\n",
    "$$ EPS = \\frac{Net Income - Preferred Dividends}{Weighted Average Common Shares Outstanding}\\$$\n",
    "\n",
    "**EOD**\n",
    "\n",
    "> EOD stands for the ***End of Day*** price. For any given day, the EOD marks the ***price at which the stock was valued*** at the end of the day's trading period."
   ]
  },
  {
   "cell_type": "code",
   "execution_count": 3,
   "metadata": {},
   "outputs": [],
   "source": [
    "PATH = './data/'\n",
    "PATH_CLEAN = './data/clean/'\n",
    "PATH_CLEAN_AVGS = './data/clean/averages/'\n",
    "PATH_CLEAN_AVGS_SUB = './data/clean/averages/components/'\n",
    "\n",
    "import pandas as pd\n",
    "import numpy as np\n",
    "import matplotlib.pyplot as plt\n",
    "import seaborn as sb\n",
    "\n",
    "from functools import reduce"
   ]
  },
  {
   "cell_type": "markdown",
   "metadata": {},
   "source": [
    "### Import Data <a id = \"import\"></a>\n",
    "\n",
    "### Let's summarize the contents of the following DataFrames as we import them.\n",
    "> All DataFrames consist of the 505 firms found in the 2019 S&P Index with EPS and EOD data encompassing 20 years: from January 1999 until the December 2019.\n",
    "\n",
    "**Historic forecasted EPS**\n",
    "> According to Investopedia, consensus estimates is normally an average or median of all the forecasts from individual analysts tracking a particular stock. In this case, the consensus estimate is for ***EPS for each firm present in the index as of 2019.*** Forecasted EPS is calculated by ***quarterly earnings,*** usually by each firm's fiscal period. Estimates of quarterly earnings are published at the beginning of each quarterly period."
   ]
  },
  {
   "cell_type": "code",
   "execution_count": 4,
   "metadata": {},
   "outputs": [],
   "source": [
    "#historic forecasted EPS \n",
    "eps_fc = pd.read_csv(PATH + 'sp-eps-fc.csv')"
   ]
  },
  {
   "cell_type": "code",
   "execution_count": 5,
   "metadata": {},
   "outputs": [
    {
     "data": {
      "text/html": [
       "<div>\n",
       "<style scoped>\n",
       "    .dataframe tbody tr th:only-of-type {\n",
       "        vertical-align: middle;\n",
       "    }\n",
       "\n",
       "    .dataframe tbody tr th {\n",
       "        vertical-align: top;\n",
       "    }\n",
       "\n",
       "    .dataframe thead th {\n",
       "        text-align: right;\n",
       "    }\n",
       "</style>\n",
       "<table border=\"1\" class=\"dataframe\">\n",
       "  <thead>\n",
       "    <tr style=\"text-align: right;\">\n",
       "      <th></th>\n",
       "      <th>Term Forecasted</th>\n",
       "      <th>A UN Equity</th>\n",
       "      <th>AAL UW Equity</th>\n",
       "      <th>AAP UN Equity</th>\n",
       "      <th>AAPL UW Equity</th>\n",
       "      <th>ABBV UN Equity</th>\n",
       "      <th>ABC UN Equity</th>\n",
       "      <th>ABMD UW Equity</th>\n",
       "      <th>ABT UN Equity</th>\n",
       "      <th>ACN UN Equity</th>\n",
       "      <th>...</th>\n",
       "      <th>XEL UW Equity</th>\n",
       "      <th>XLNX UW Equity</th>\n",
       "      <th>XOM UN Equity</th>\n",
       "      <th>XRAY UW Equity</th>\n",
       "      <th>XRX UN Equity</th>\n",
       "      <th>XYL UN Equity</th>\n",
       "      <th>YUM UN Equity</th>\n",
       "      <th>ZBH UN Equity</th>\n",
       "      <th>ZION UW Equity</th>\n",
       "      <th>ZTS UN Equity</th>\n",
       "    </tr>\n",
       "  </thead>\n",
       "  <tbody>\n",
       "    <tr>\n",
       "      <th>0</th>\n",
       "      <td>1999Q1</td>\n",
       "      <td>NaN</td>\n",
       "      <td>NaN</td>\n",
       "      <td>NaN</td>\n",
       "      <td>0.025</td>\n",
       "      <td>NaN</td>\n",
       "      <td>NaN</td>\n",
       "      <td>-0.10</td>\n",
       "      <td>0.423</td>\n",
       "      <td>NaN</td>\n",
       "      <td>...</td>\n",
       "      <td>0.456</td>\n",
       "      <td>0.090</td>\n",
       "      <td>0.239</td>\n",
       "      <td>0.123</td>\n",
       "      <td>NaN</td>\n",
       "      <td>NaN</td>\n",
       "      <td>0.123</td>\n",
       "      <td>NaN</td>\n",
       "      <td>0.622</td>\n",
       "      <td>NaN</td>\n",
       "    </tr>\n",
       "    <tr>\n",
       "      <th>1</th>\n",
       "      <td>1999Q2</td>\n",
       "      <td>NaN</td>\n",
       "      <td>NaN</td>\n",
       "      <td>NaN</td>\n",
       "      <td>0.020</td>\n",
       "      <td>NaN</td>\n",
       "      <td>NaN</td>\n",
       "      <td>-0.13</td>\n",
       "      <td>0.420</td>\n",
       "      <td>NaN</td>\n",
       "      <td>...</td>\n",
       "      <td>0.213</td>\n",
       "      <td>0.090</td>\n",
       "      <td>0.264</td>\n",
       "      <td>0.135</td>\n",
       "      <td>NaN</td>\n",
       "      <td>NaN</td>\n",
       "      <td>0.150</td>\n",
       "      <td>NaN</td>\n",
       "      <td>0.661</td>\n",
       "      <td>NaN</td>\n",
       "    </tr>\n",
       "    <tr>\n",
       "      <th>2</th>\n",
       "      <td>1999Q3</td>\n",
       "      <td>NaN</td>\n",
       "      <td>NaN</td>\n",
       "      <td>NaN</td>\n",
       "      <td>0.023</td>\n",
       "      <td>NaN</td>\n",
       "      <td>NaN</td>\n",
       "      <td>-0.11</td>\n",
       "      <td>0.381</td>\n",
       "      <td>NaN</td>\n",
       "      <td>...</td>\n",
       "      <td>0.767</td>\n",
       "      <td>0.099</td>\n",
       "      <td>0.300</td>\n",
       "      <td>0.129</td>\n",
       "      <td>NaN</td>\n",
       "      <td>NaN</td>\n",
       "      <td>0.171</td>\n",
       "      <td>NaN</td>\n",
       "      <td>0.693</td>\n",
       "      <td>NaN</td>\n",
       "    </tr>\n",
       "    <tr>\n",
       "      <th>3</th>\n",
       "      <td>1999Q4</td>\n",
       "      <td>NaN</td>\n",
       "      <td>NaN</td>\n",
       "      <td>NaN</td>\n",
       "      <td>0.016</td>\n",
       "      <td>NaN</td>\n",
       "      <td>NaN</td>\n",
       "      <td>NaN</td>\n",
       "      <td>0.432</td>\n",
       "      <td>NaN</td>\n",
       "      <td>...</td>\n",
       "      <td>0.432</td>\n",
       "      <td>0.124</td>\n",
       "      <td>0.386</td>\n",
       "      <td>0.178</td>\n",
       "      <td>NaN</td>\n",
       "      <td>NaN</td>\n",
       "      <td>0.164</td>\n",
       "      <td>NaN</td>\n",
       "      <td>0.667</td>\n",
       "      <td>NaN</td>\n",
       "    </tr>\n",
       "    <tr>\n",
       "      <th>4</th>\n",
       "      <td>00Q1</td>\n",
       "      <td>NaN</td>\n",
       "      <td>NaN</td>\n",
       "      <td>NaN</td>\n",
       "      <td>0.032</td>\n",
       "      <td>NaN</td>\n",
       "      <td>NaN</td>\n",
       "      <td>NaN</td>\n",
       "      <td>0.441</td>\n",
       "      <td>NaN</td>\n",
       "      <td>...</td>\n",
       "      <td>0.283</td>\n",
       "      <td>0.143</td>\n",
       "      <td>0.436</td>\n",
       "      <td>0.138</td>\n",
       "      <td>NaN</td>\n",
       "      <td>NaN</td>\n",
       "      <td>0.138</td>\n",
       "      <td>NaN</td>\n",
       "      <td>0.668</td>\n",
       "      <td>NaN</td>\n",
       "    </tr>\n",
       "  </tbody>\n",
       "</table>\n",
       "<p>5 rows × 506 columns</p>\n",
       "</div>"
      ],
      "text/plain": [
       "  Term Forecasted  A UN Equity  AAL UW Equity  AAP UN Equity  AAPL UW Equity  \\\n",
       "0          1999Q1          NaN            NaN            NaN           0.025   \n",
       "1          1999Q2          NaN            NaN            NaN           0.020   \n",
       "2          1999Q3          NaN            NaN            NaN           0.023   \n",
       "3          1999Q4          NaN            NaN            NaN           0.016   \n",
       "4            00Q1          NaN            NaN            NaN           0.032   \n",
       "\n",
       "   ABBV UN Equity  ABC UN Equity  ABMD UW Equity  ABT UN Equity  \\\n",
       "0             NaN            NaN           -0.10          0.423   \n",
       "1             NaN            NaN           -0.13          0.420   \n",
       "2             NaN            NaN           -0.11          0.381   \n",
       "3             NaN            NaN             NaN          0.432   \n",
       "4             NaN            NaN             NaN          0.441   \n",
       "\n",
       "   ACN UN Equity  ...  XEL UW Equity  XLNX UW Equity  XOM UN Equity  \\\n",
       "0            NaN  ...          0.456           0.090          0.239   \n",
       "1            NaN  ...          0.213           0.090          0.264   \n",
       "2            NaN  ...          0.767           0.099          0.300   \n",
       "3            NaN  ...          0.432           0.124          0.386   \n",
       "4            NaN  ...          0.283           0.143          0.436   \n",
       "\n",
       "   XRAY UW Equity  XRX UN Equity  XYL UN Equity  YUM UN Equity  ZBH UN Equity  \\\n",
       "0           0.123            NaN            NaN          0.123            NaN   \n",
       "1           0.135            NaN            NaN          0.150            NaN   \n",
       "2           0.129            NaN            NaN          0.171            NaN   \n",
       "3           0.178            NaN            NaN          0.164            NaN   \n",
       "4           0.138            NaN            NaN          0.138            NaN   \n",
       "\n",
       "   ZION UW Equity  ZTS UN Equity  \n",
       "0           0.622            NaN  \n",
       "1           0.661            NaN  \n",
       "2           0.693            NaN  \n",
       "3           0.667            NaN  \n",
       "4           0.668            NaN  \n",
       "\n",
       "[5 rows x 506 columns]"
      ]
     },
     "execution_count": 5,
     "metadata": {},
     "output_type": "execute_result"
    }
   ],
   "source": [
    "eps_fc.head()"
   ]
  },
  {
   "cell_type": "markdown",
   "metadata": {},
   "source": [
    "**Historic actual EPS**\n",
    "> Unlike forecasted EPS, actual EPS are the real numbers denoting Earnings-per-Share for a singular firm. Historic actual EPS will be compared to forecasted EPS to draw correlations and comparisons."
   ]
  },
  {
   "cell_type": "code",
   "execution_count": 6,
   "metadata": {},
   "outputs": [],
   "source": [
    "#historic actual EPS\n",
    "eps_act = pd.read_csv(PATH + 'sp-eps-act.csv')"
   ]
  },
  {
   "cell_type": "code",
   "execution_count": 7,
   "metadata": {},
   "outputs": [
    {
     "data": {
      "text/html": [
       "<div>\n",
       "<style scoped>\n",
       "    .dataframe tbody tr th:only-of-type {\n",
       "        vertical-align: middle;\n",
       "    }\n",
       "\n",
       "    .dataframe tbody tr th {\n",
       "        vertical-align: top;\n",
       "    }\n",
       "\n",
       "    .dataframe thead th {\n",
       "        text-align: right;\n",
       "    }\n",
       "</style>\n",
       "<table border=\"1\" class=\"dataframe\">\n",
       "  <thead>\n",
       "    <tr style=\"text-align: right;\">\n",
       "      <th></th>\n",
       "      <th>Quarter</th>\n",
       "      <th>Year</th>\n",
       "      <th>A UN Equity</th>\n",
       "      <th>AAL UW Equity</th>\n",
       "      <th>AAP UN Equity</th>\n",
       "      <th>AAPL UW Equity</th>\n",
       "      <th>ABBV UN Equity</th>\n",
       "      <th>ABC UN Equity</th>\n",
       "      <th>ABMD UW Equity</th>\n",
       "      <th>ABT UN Equity</th>\n",
       "      <th>...</th>\n",
       "      <th>XEL UW Equity</th>\n",
       "      <th>XLNX UW Equity</th>\n",
       "      <th>XOM UN Equity</th>\n",
       "      <th>XRAY UW Equity</th>\n",
       "      <th>XRX UN Equity</th>\n",
       "      <th>XYL UN Equity</th>\n",
       "      <th>YUM UN Equity</th>\n",
       "      <th>ZBH UN Equity</th>\n",
       "      <th>ZION UW Equity</th>\n",
       "      <th>ZTS UN Equity</th>\n",
       "    </tr>\n",
       "  </thead>\n",
       "  <tbody>\n",
       "    <tr>\n",
       "      <th>0</th>\n",
       "      <td>Q1</td>\n",
       "      <td>1999</td>\n",
       "      <td>0.16</td>\n",
       "      <td>0.99</td>\n",
       "      <td>NaN</td>\n",
       "      <td>0.040000</td>\n",
       "      <td>NaN</td>\n",
       "      <td>0.0925</td>\n",
       "      <td>-0.030</td>\n",
       "      <td>0.44</td>\n",
       "      <td>...</td>\n",
       "      <td>0.34</td>\n",
       "      <td>0.0000</td>\n",
       "      <td>0.210</td>\n",
       "      <td>0.123333</td>\n",
       "      <td>1.64</td>\n",
       "      <td>NaN</td>\n",
       "      <td>0.1725</td>\n",
       "      <td>NaN</td>\n",
       "      <td>0.56</td>\n",
       "      <td>NaN</td>\n",
       "    </tr>\n",
       "    <tr>\n",
       "      <th>1</th>\n",
       "      <td>Q2</td>\n",
       "      <td>1999</td>\n",
       "      <td>0.35</td>\n",
       "      <td>1.76</td>\n",
       "      <td>NaN</td>\n",
       "      <td>0.035357</td>\n",
       "      <td>NaN</td>\n",
       "      <td>0.1000</td>\n",
       "      <td>-0.145</td>\n",
       "      <td>0.42</td>\n",
       "      <td>...</td>\n",
       "      <td>0.06</td>\n",
       "      <td>0.0975</td>\n",
       "      <td>0.285</td>\n",
       "      <td>0.133333</td>\n",
       "      <td>2.28</td>\n",
       "      <td>NaN</td>\n",
       "      <td>0.2900</td>\n",
       "      <td>NaN</td>\n",
       "      <td>0.60</td>\n",
       "      <td>NaN</td>\n",
       "    </tr>\n",
       "    <tr>\n",
       "      <th>2</th>\n",
       "      <td>Q3</td>\n",
       "      <td>1999</td>\n",
       "      <td>0.30</td>\n",
       "      <td>1.86</td>\n",
       "      <td>NaN</td>\n",
       "      <td>0.050357</td>\n",
       "      <td>NaN</td>\n",
       "      <td>0.1075</td>\n",
       "      <td>-0.135</td>\n",
       "      <td>0.30</td>\n",
       "      <td>...</td>\n",
       "      <td>0.63</td>\n",
       "      <td>0.0325</td>\n",
       "      <td>0.315</td>\n",
       "      <td>0.130000</td>\n",
       "      <td>1.96</td>\n",
       "      <td>NaN</td>\n",
       "      <td>0.3200</td>\n",
       "      <td>NaN</td>\n",
       "      <td>0.64</td>\n",
       "      <td>NaN</td>\n",
       "    </tr>\n",
       "    <tr>\n",
       "      <th>3</th>\n",
       "      <td>Q4</td>\n",
       "      <td>1999</td>\n",
       "      <td>0.32</td>\n",
       "      <td>1.89</td>\n",
       "      <td>NaN</td>\n",
       "      <td>0.024643</td>\n",
       "      <td>NaN</td>\n",
       "      <td>0.0375</td>\n",
       "      <td>-0.080</td>\n",
       "      <td>0.43</td>\n",
       "      <td>...</td>\n",
       "      <td>0.43</td>\n",
       "      <td>0.1300</td>\n",
       "      <td>0.600</td>\n",
       "      <td>0.180000</td>\n",
       "      <td>1.72</td>\n",
       "      <td>NaN</td>\n",
       "      <td>0.2375</td>\n",
       "      <td>NaN</td>\n",
       "      <td>0.49</td>\n",
       "      <td>NaN</td>\n",
       "    </tr>\n",
       "    <tr>\n",
       "      <th>4</th>\n",
       "      <td>Q1</td>\n",
       "      <td>2000</td>\n",
       "      <td>0.29</td>\n",
       "      <td>0.89</td>\n",
       "      <td>NaN</td>\n",
       "      <td>0.040585</td>\n",
       "      <td>NaN</td>\n",
       "      <td>0.1050</td>\n",
       "      <td>-0.045</td>\n",
       "      <td>0.45</td>\n",
       "      <td>...</td>\n",
       "      <td>0.45</td>\n",
       "      <td>0.1650</td>\n",
       "      <td>0.500</td>\n",
       "      <td>0.140000</td>\n",
       "      <td>-1.48</td>\n",
       "      <td>NaN</td>\n",
       "      <td>0.2025</td>\n",
       "      <td>NaN</td>\n",
       "      <td>-0.33</td>\n",
       "      <td>NaN</td>\n",
       "    </tr>\n",
       "  </tbody>\n",
       "</table>\n",
       "<p>5 rows × 507 columns</p>\n",
       "</div>"
      ],
      "text/plain": [
       "  Quarter  Year  A UN Equity  AAL UW Equity  AAP UN Equity  AAPL UW Equity  \\\n",
       "0      Q1  1999         0.16           0.99            NaN        0.040000   \n",
       "1      Q2  1999         0.35           1.76            NaN        0.035357   \n",
       "2      Q3  1999         0.30           1.86            NaN        0.050357   \n",
       "3      Q4  1999         0.32           1.89            NaN        0.024643   \n",
       "4      Q1  2000         0.29           0.89            NaN        0.040585   \n",
       "\n",
       "   ABBV UN Equity  ABC UN Equity  ABMD UW Equity  ABT UN Equity  ...  \\\n",
       "0             NaN         0.0925          -0.030           0.44  ...   \n",
       "1             NaN         0.1000          -0.145           0.42  ...   \n",
       "2             NaN         0.1075          -0.135           0.30  ...   \n",
       "3             NaN         0.0375          -0.080           0.43  ...   \n",
       "4             NaN         0.1050          -0.045           0.45  ...   \n",
       "\n",
       "   XEL UW Equity  XLNX UW Equity  XOM UN Equity  XRAY UW Equity  \\\n",
       "0           0.34          0.0000          0.210        0.123333   \n",
       "1           0.06          0.0975          0.285        0.133333   \n",
       "2           0.63          0.0325          0.315        0.130000   \n",
       "3           0.43          0.1300          0.600        0.180000   \n",
       "4           0.45          0.1650          0.500        0.140000   \n",
       "\n",
       "   XRX UN Equity  XYL UN Equity  YUM UN Equity  ZBH UN Equity  ZION UW Equity  \\\n",
       "0           1.64            NaN         0.1725            NaN            0.56   \n",
       "1           2.28            NaN         0.2900            NaN            0.60   \n",
       "2           1.96            NaN         0.3200            NaN            0.64   \n",
       "3           1.72            NaN         0.2375            NaN            0.49   \n",
       "4          -1.48            NaN         0.2025            NaN           -0.33   \n",
       "\n",
       "   ZTS UN Equity  \n",
       "0            NaN  \n",
       "1            NaN  \n",
       "2            NaN  \n",
       "3            NaN  \n",
       "4            NaN  \n",
       "\n",
       "[5 rows x 507 columns]"
      ]
     },
     "execution_count": 7,
     "metadata": {},
     "output_type": "execute_result"
    }
   ],
   "source": [
    "eps_act.head()"
   ]
  },
  {
   "cell_type": "markdown",
   "metadata": {},
   "source": [
    "**Historic actual EOD**\n",
    "> Though this is not directly related to EPS data, EOD would be an interesting measure to use when generating intriguing visualizations and analyses. Who knows what visuals and conclusions I would arrive to with this measure. "
   ]
  },
  {
   "cell_type": "code",
   "execution_count": 8,
   "metadata": {},
   "outputs": [],
   "source": [
    "#historic actual EOD\n",
    "eod_act = pd.read_csv(PATH + 'sp-eod-act.csv')"
   ]
  },
  {
   "cell_type": "code",
   "execution_count": 9,
   "metadata": {},
   "outputs": [
    {
     "data": {
      "text/html": [
       "<div>\n",
       "<style scoped>\n",
       "    .dataframe tbody tr th:only-of-type {\n",
       "        vertical-align: middle;\n",
       "    }\n",
       "\n",
       "    .dataframe tbody tr th {\n",
       "        vertical-align: top;\n",
       "    }\n",
       "\n",
       "    .dataframe thead th {\n",
       "        text-align: right;\n",
       "    }\n",
       "</style>\n",
       "<table border=\"1\" class=\"dataframe\">\n",
       "  <thead>\n",
       "    <tr style=\"text-align: right;\">\n",
       "      <th></th>\n",
       "      <th>date</th>\n",
       "      <th>A UN Equity</th>\n",
       "      <th>AAL UW Equity</th>\n",
       "      <th>AAP UN Equity</th>\n",
       "      <th>AAPL UW Equity</th>\n",
       "      <th>ABBV UN Equity</th>\n",
       "      <th>ABC UN Equity</th>\n",
       "      <th>ABMD UW Equity</th>\n",
       "      <th>ABT UN Equity</th>\n",
       "      <th>ACN UN Equity</th>\n",
       "      <th>...</th>\n",
       "      <th>XEL UW Equity</th>\n",
       "      <th>XLNX UW Equity</th>\n",
       "      <th>XOM UN Equity</th>\n",
       "      <th>XRAY UW Equity</th>\n",
       "      <th>XRX UN Equity</th>\n",
       "      <th>XYL UN Equity</th>\n",
       "      <th>YUM UN Equity</th>\n",
       "      <th>ZBH UN Equity</th>\n",
       "      <th>ZION UW Equity</th>\n",
       "      <th>ZTS UN Equity</th>\n",
       "    </tr>\n",
       "  </thead>\n",
       "  <tbody>\n",
       "    <tr>\n",
       "      <th>0</th>\n",
       "      <td>3/31/1999</td>\n",
       "      <td>NaN</td>\n",
       "      <td>NaN</td>\n",
       "      <td>NaN</td>\n",
       "      <td>1.2835</td>\n",
       "      <td>NaN</td>\n",
       "      <td>8.2934</td>\n",
       "      <td>6.250</td>\n",
       "      <td>20.9504</td>\n",
       "      <td>NaN</td>\n",
       "      <td>...</td>\n",
       "      <td>NaN</td>\n",
       "      <td>20.2813</td>\n",
       "      <td>35.2813</td>\n",
       "      <td>7.7500</td>\n",
       "      <td>140.6214</td>\n",
       "      <td>NaN</td>\n",
       "      <td>12.6284</td>\n",
       "      <td>NaN</td>\n",
       "      <td>66.5000</td>\n",
       "      <td>NaN</td>\n",
       "    </tr>\n",
       "    <tr>\n",
       "      <th>1</th>\n",
       "      <td>6/30/1999</td>\n",
       "      <td>NaN</td>\n",
       "      <td>NaN</td>\n",
       "      <td>NaN</td>\n",
       "      <td>1.6540</td>\n",
       "      <td>NaN</td>\n",
       "      <td>6.1859</td>\n",
       "      <td>6.875</td>\n",
       "      <td>20.3630</td>\n",
       "      <td>NaN</td>\n",
       "      <td>...</td>\n",
       "      <td>NaN</td>\n",
       "      <td>28.6250</td>\n",
       "      <td>38.5625</td>\n",
       "      <td>9.6250</td>\n",
       "      <td>155.6057</td>\n",
       "      <td>NaN</td>\n",
       "      <td>9.7297</td>\n",
       "      <td>NaN</td>\n",
       "      <td>63.5000</td>\n",
       "      <td>NaN</td>\n",
       "    </tr>\n",
       "    <tr>\n",
       "      <th>2</th>\n",
       "      <td>9/30/1999</td>\n",
       "      <td>NaN</td>\n",
       "      <td>NaN</td>\n",
       "      <td>NaN</td>\n",
       "      <td>2.2612</td>\n",
       "      <td>NaN</td>\n",
       "      <td>5.7462</td>\n",
       "      <td>7.750</td>\n",
       "      <td>16.4471</td>\n",
       "      <td>NaN</td>\n",
       "      <td>...</td>\n",
       "      <td>NaN</td>\n",
       "      <td>32.7656</td>\n",
       "      <td>37.9688</td>\n",
       "      <td>7.5833</td>\n",
       "      <td>110.4883</td>\n",
       "      <td>NaN</td>\n",
       "      <td>7.3591</td>\n",
       "      <td>NaN</td>\n",
       "      <td>55.1250</td>\n",
       "      <td>NaN</td>\n",
       "    </tr>\n",
       "    <tr>\n",
       "      <th>3</th>\n",
       "      <td>12/31/1999</td>\n",
       "      <td>52.0909</td>\n",
       "      <td>NaN</td>\n",
       "      <td>NaN</td>\n",
       "      <td>3.6719</td>\n",
       "      <td>NaN</td>\n",
       "      <td>3.6843</td>\n",
       "      <td>18.375</td>\n",
       "      <td>16.2513</td>\n",
       "      <td>NaN</td>\n",
       "      <td>...</td>\n",
       "      <td>NaN</td>\n",
       "      <td>45.4688</td>\n",
       "      <td>40.2813</td>\n",
       "      <td>7.8750</td>\n",
       "      <td>59.7723</td>\n",
       "      <td>NaN</td>\n",
       "      <td>6.9434</td>\n",
       "      <td>NaN</td>\n",
       "      <td>59.1875</td>\n",
       "      <td>NaN</td>\n",
       "    </tr>\n",
       "    <tr>\n",
       "      <th>4</th>\n",
       "      <td>3/31/2000</td>\n",
       "      <td>70.0721</td>\n",
       "      <td>NaN</td>\n",
       "      <td>NaN</td>\n",
       "      <td>4.8504</td>\n",
       "      <td>NaN</td>\n",
       "      <td>3.6388</td>\n",
       "      <td>20.250</td>\n",
       "      <td>15.7478</td>\n",
       "      <td>NaN</td>\n",
       "      <td>...</td>\n",
       "      <td>NaN</td>\n",
       "      <td>82.8125</td>\n",
       "      <td>38.9063</td>\n",
       "      <td>9.4583</td>\n",
       "      <td>68.4994</td>\n",
       "      <td>NaN</td>\n",
       "      <td>5.5839</td>\n",
       "      <td>NaN</td>\n",
       "      <td>41.6250</td>\n",
       "      <td>NaN</td>\n",
       "    </tr>\n",
       "  </tbody>\n",
       "</table>\n",
       "<p>5 rows × 506 columns</p>\n",
       "</div>"
      ],
      "text/plain": [
       "         date  A UN Equity  AAL UW Equity  AAP UN Equity  AAPL UW Equity  \\\n",
       "0   3/31/1999          NaN            NaN            NaN          1.2835   \n",
       "1   6/30/1999          NaN            NaN            NaN          1.6540   \n",
       "2   9/30/1999          NaN            NaN            NaN          2.2612   \n",
       "3  12/31/1999      52.0909            NaN            NaN          3.6719   \n",
       "4   3/31/2000      70.0721            NaN            NaN          4.8504   \n",
       "\n",
       "   ABBV UN Equity  ABC UN Equity  ABMD UW Equity  ABT UN Equity  \\\n",
       "0             NaN         8.2934           6.250        20.9504   \n",
       "1             NaN         6.1859           6.875        20.3630   \n",
       "2             NaN         5.7462           7.750        16.4471   \n",
       "3             NaN         3.6843          18.375        16.2513   \n",
       "4             NaN         3.6388          20.250        15.7478   \n",
       "\n",
       "   ACN UN Equity  ...  XEL UW Equity  XLNX UW Equity  XOM UN Equity  \\\n",
       "0            NaN  ...            NaN         20.2813        35.2813   \n",
       "1            NaN  ...            NaN         28.6250        38.5625   \n",
       "2            NaN  ...            NaN         32.7656        37.9688   \n",
       "3            NaN  ...            NaN         45.4688        40.2813   \n",
       "4            NaN  ...            NaN         82.8125        38.9063   \n",
       "\n",
       "   XRAY UW Equity  XRX UN Equity  XYL UN Equity  YUM UN Equity  ZBH UN Equity  \\\n",
       "0          7.7500       140.6214            NaN        12.6284            NaN   \n",
       "1          9.6250       155.6057            NaN         9.7297            NaN   \n",
       "2          7.5833       110.4883            NaN         7.3591            NaN   \n",
       "3          7.8750        59.7723            NaN         6.9434            NaN   \n",
       "4          9.4583        68.4994            NaN         5.5839            NaN   \n",
       "\n",
       "   ZION UW Equity  ZTS UN Equity  \n",
       "0         66.5000            NaN  \n",
       "1         63.5000            NaN  \n",
       "2         55.1250            NaN  \n",
       "3         59.1875            NaN  \n",
       "4         41.6250            NaN  \n",
       "\n",
       "[5 rows x 506 columns]"
      ]
     },
     "execution_count": 9,
     "metadata": {},
     "output_type": "execute_result"
    }
   ],
   "source": [
    "eod_act.head()"
   ]
  },
  {
   "cell_type": "markdown",
   "metadata": {},
   "source": [
    "**Historic forecasted EPS 3 months prior**\n",
    "> Instead of using forecast data collected at the beginning of the fiscal period, this feature contains EPS data projected 3 months before the current fiscal period. This is an interesting metric to see how differently forecasters make their predictions at different times."
   ]
  },
  {
   "cell_type": "code",
   "execution_count": 10,
   "metadata": {},
   "outputs": [],
   "source": [
    "#historic forecasted EPS 3-months prior\n",
    "eps_fc_terms = pd.read_csv(PATH + 'sp-eps-fc-terms.csv')"
   ]
  },
  {
   "cell_type": "code",
   "execution_count": 11,
   "metadata": {},
   "outputs": [
    {
     "data": {
      "text/html": [
       "<div>\n",
       "<style scoped>\n",
       "    .dataframe tbody tr th:only-of-type {\n",
       "        vertical-align: middle;\n",
       "    }\n",
       "\n",
       "    .dataframe tbody tr th {\n",
       "        vertical-align: top;\n",
       "    }\n",
       "\n",
       "    .dataframe thead th {\n",
       "        text-align: right;\n",
       "    }\n",
       "</style>\n",
       "<table border=\"1\" class=\"dataframe\">\n",
       "  <thead>\n",
       "    <tr style=\"text-align: right;\">\n",
       "      <th></th>\n",
       "      <th>Forecast Made</th>\n",
       "      <th>Term Forecasted</th>\n",
       "      <th>A UN Equity</th>\n",
       "      <th>AAL UW Equity</th>\n",
       "      <th>AAP UN Equity</th>\n",
       "      <th>AAPL UW Equity</th>\n",
       "      <th>ABBV UN Equity</th>\n",
       "      <th>ABC UN Equity</th>\n",
       "      <th>ABMD UW Equity</th>\n",
       "      <th>ABT UN Equity</th>\n",
       "      <th>...</th>\n",
       "      <th>XEL UW Equity</th>\n",
       "      <th>XLNX UW Equity</th>\n",
       "      <th>XOM UN Equity</th>\n",
       "      <th>XRAY UW Equity</th>\n",
       "      <th>XRX UN Equity</th>\n",
       "      <th>XYL UN Equity</th>\n",
       "      <th>YUM UN Equity</th>\n",
       "      <th>ZBH UN Equity</th>\n",
       "      <th>ZION UW Equity</th>\n",
       "      <th>ZTS UN Equity</th>\n",
       "    </tr>\n",
       "  </thead>\n",
       "  <tbody>\n",
       "    <tr>\n",
       "      <th>0</th>\n",
       "      <td>10/1/1999</td>\n",
       "      <td>00Q1</td>\n",
       "      <td>NaN</td>\n",
       "      <td>NaN</td>\n",
       "      <td>NaN</td>\n",
       "      <td>0.030</td>\n",
       "      <td>NaN</td>\n",
       "      <td>NaN</td>\n",
       "      <td>NaN</td>\n",
       "      <td>0.466</td>\n",
       "      <td>...</td>\n",
       "      <td>NaN</td>\n",
       "      <td>0.143</td>\n",
       "      <td>0.398</td>\n",
       "      <td>0.140</td>\n",
       "      <td>NaN</td>\n",
       "      <td>NaN</td>\n",
       "      <td>0.144</td>\n",
       "      <td>NaN</td>\n",
       "      <td>0.777</td>\n",
       "      <td>NaN</td>\n",
       "    </tr>\n",
       "    <tr>\n",
       "      <th>1</th>\n",
       "      <td>1/1/2000</td>\n",
       "      <td>00Q2</td>\n",
       "      <td>NaN</td>\n",
       "      <td>NaN</td>\n",
       "      <td>NaN</td>\n",
       "      <td>0.026</td>\n",
       "      <td>NaN</td>\n",
       "      <td>NaN</td>\n",
       "      <td>NaN</td>\n",
       "      <td>0.437</td>\n",
       "      <td>...</td>\n",
       "      <td>NaN</td>\n",
       "      <td>0.168</td>\n",
       "      <td>0.378</td>\n",
       "      <td>0.153</td>\n",
       "      <td>NaN</td>\n",
       "      <td>NaN</td>\n",
       "      <td>0.184</td>\n",
       "      <td>NaN</td>\n",
       "      <td>0.790</td>\n",
       "      <td>NaN</td>\n",
       "    </tr>\n",
       "    <tr>\n",
       "      <th>2</th>\n",
       "      <td>4/1/2000</td>\n",
       "      <td>00Q3</td>\n",
       "      <td>NaN</td>\n",
       "      <td>NaN</td>\n",
       "      <td>NaN</td>\n",
       "      <td>0.029</td>\n",
       "      <td>NaN</td>\n",
       "      <td>NaN</td>\n",
       "      <td>NaN</td>\n",
       "      <td>0.414</td>\n",
       "      <td>...</td>\n",
       "      <td>0.84</td>\n",
       "      <td>0.189</td>\n",
       "      <td>0.425</td>\n",
       "      <td>0.149</td>\n",
       "      <td>NaN</td>\n",
       "      <td>NaN</td>\n",
       "      <td>0.218</td>\n",
       "      <td>NaN</td>\n",
       "      <td>0.803</td>\n",
       "      <td>NaN</td>\n",
       "    </tr>\n",
       "    <tr>\n",
       "      <th>3</th>\n",
       "      <td>7/1/2000</td>\n",
       "      <td>00Q4</td>\n",
       "      <td>NaN</td>\n",
       "      <td>NaN</td>\n",
       "      <td>NaN</td>\n",
       "      <td>0.032</td>\n",
       "      <td>NaN</td>\n",
       "      <td>NaN</td>\n",
       "      <td>-0.18</td>\n",
       "      <td>0.477</td>\n",
       "      <td>...</td>\n",
       "      <td>0.53</td>\n",
       "      <td>0.211</td>\n",
       "      <td>0.487</td>\n",
       "      <td>0.200</td>\n",
       "      <td>NaN</td>\n",
       "      <td>NaN</td>\n",
       "      <td>0.244</td>\n",
       "      <td>NaN</td>\n",
       "      <td>0.777</td>\n",
       "      <td>NaN</td>\n",
       "    </tr>\n",
       "    <tr>\n",
       "      <th>4</th>\n",
       "      <td>9/1/2000</td>\n",
       "      <td>01Q1</td>\n",
       "      <td>NaN</td>\n",
       "      <td>NaN</td>\n",
       "      <td>NaN</td>\n",
       "      <td>0.041</td>\n",
       "      <td>NaN</td>\n",
       "      <td>NaN</td>\n",
       "      <td>-0.09</td>\n",
       "      <td>0.495</td>\n",
       "      <td>...</td>\n",
       "      <td>0.40</td>\n",
       "      <td>0.259</td>\n",
       "      <td>0.475</td>\n",
       "      <td>0.158</td>\n",
       "      <td>NaN</td>\n",
       "      <td>NaN</td>\n",
       "      <td>0.178</td>\n",
       "      <td>NaN</td>\n",
       "      <td>0.750</td>\n",
       "      <td>NaN</td>\n",
       "    </tr>\n",
       "  </tbody>\n",
       "</table>\n",
       "<p>5 rows × 507 columns</p>\n",
       "</div>"
      ],
      "text/plain": [
       "  Forecast Made Term Forecasted  A UN Equity  AAL UW Equity  AAP UN Equity  \\\n",
       "0     10/1/1999            00Q1          NaN            NaN            NaN   \n",
       "1      1/1/2000            00Q2          NaN            NaN            NaN   \n",
       "2      4/1/2000            00Q3          NaN            NaN            NaN   \n",
       "3      7/1/2000            00Q4          NaN            NaN            NaN   \n",
       "4      9/1/2000            01Q1          NaN            NaN            NaN   \n",
       "\n",
       "   AAPL UW Equity  ABBV UN Equity  ABC UN Equity  ABMD UW Equity  \\\n",
       "0           0.030             NaN            NaN             NaN   \n",
       "1           0.026             NaN            NaN             NaN   \n",
       "2           0.029             NaN            NaN             NaN   \n",
       "3           0.032             NaN            NaN           -0.18   \n",
       "4           0.041             NaN            NaN           -0.09   \n",
       "\n",
       "   ABT UN Equity  ...  XEL UW Equity  XLNX UW Equity  XOM UN Equity  \\\n",
       "0          0.466  ...            NaN           0.143          0.398   \n",
       "1          0.437  ...            NaN           0.168          0.378   \n",
       "2          0.414  ...           0.84           0.189          0.425   \n",
       "3          0.477  ...           0.53           0.211          0.487   \n",
       "4          0.495  ...           0.40           0.259          0.475   \n",
       "\n",
       "   XRAY UW Equity  XRX UN Equity  XYL UN Equity  YUM UN Equity  ZBH UN Equity  \\\n",
       "0           0.140            NaN            NaN          0.144            NaN   \n",
       "1           0.153            NaN            NaN          0.184            NaN   \n",
       "2           0.149            NaN            NaN          0.218            NaN   \n",
       "3           0.200            NaN            NaN          0.244            NaN   \n",
       "4           0.158            NaN            NaN          0.178            NaN   \n",
       "\n",
       "   ZION UW Equity  ZTS UN Equity  \n",
       "0           0.777            NaN  \n",
       "1           0.790            NaN  \n",
       "2           0.803            NaN  \n",
       "3           0.777            NaN  \n",
       "4           0.750            NaN  \n",
       "\n",
       "[5 rows x 507 columns]"
      ]
     },
     "execution_count": 11,
     "metadata": {},
     "output_type": "execute_result"
    }
   ],
   "source": [
    "eps_fc_terms.head()"
   ]
  },
  {
   "cell_type": "markdown",
   "metadata": {},
   "source": [
    "### B) Assess <a id = \"assess\"></a>\n",
    "\n",
    "> The following DataFrames contain data for each firm across various dates. To account for all firm averages, my goal is to generate a CSV file where each row contains the firm average, with the features as columns."
   ]
  },
  {
   "cell_type": "code",
   "execution_count": 12,
   "metadata": {},
   "outputs": [],
   "source": [
    "dict_dfs = {'eps_fcast' : eps_fc,\n",
    "           'eps_actual' : eps_act,\n",
    "           'eod_actual' : eod_act,\n",
    "           'eps_fcast_terms' : eps_fc_terms}"
   ]
  },
  {
   "cell_type": "markdown",
   "metadata": {},
   "source": [
    "### Check Missing Data"
   ]
  },
  {
   "cell_type": "code",
   "execution_count": 13,
   "metadata": {},
   "outputs": [
    {
     "name": "stdout",
     "output_type": "stream",
     "text": [
      "eps_fcast (84, 506)\n",
      "eps_actual (84, 507)\n",
      "eod_actual (84, 506)\n",
      "eps_fcast_terms (80, 507)\n"
     ]
    }
   ],
   "source": [
    "for key, df in dict_dfs.items():\n",
    "    print(key, df.shape)"
   ]
  },
  {
   "cell_type": "markdown",
   "metadata": {},
   "source": [
    "***We need to make sure the number of firms in each DataFrame is consistent.***\n",
    "\n",
    "---\n",
    "\n",
    "**Observation 1:** for `eps_fcast`, there are 505 firms encompassing 84 quarterly fiscal periods since 1999.\n",
    "\n",
    "> There are 506 columns: 1 column being `Term Forecast`, the rest firm names.\n",
    "\n",
    "**Observation 2:** for `eps_actual`, there are 505 firms encompassing 84 quarterly fiscal periods since 1999.\n",
    "\n",
    "> There are 507 columns: 2 columns being `Quarter` and `Year`, the rest firm names.\n",
    "\n",
    "**Observation 3:** for `eod_actual`, there are 505 firms encompassing 84 quarterly calendar periods since 1999.\n",
    "\n",
    "> There are 506 columns: 1 column being `date`, the rest firm names.\n",
    "\n",
    "**Observation 4:** for `eps_fcast_terms`, there are 505 firms encompassing 80 quarterly calendar periods since 1999.\n",
    "\n",
    "> There are 507 columns: 2 columns being `Forecast Made` and `Term Forecasted`, the rest firm names.\n",
    " \n",
    "Since there are only 80 quarterly calendar periods, that ***implies an entire year is missing.***\n",
    "\n",
    "**Observation 5:** For `eps_fcast`, `eps_actual`, and `eod_actual`, since there are 4 quarters in a year, 84 quarterly forecast periods equate to 21 years. This is correct since we are analyzing the years from 1999 until the end of 2019.\n",
    "\n",
    "### Most importantly, the number of firms across all DataFrames is consistent.\n",
    "\n",
    "----\n",
    "\n",
    "***Check which year is missing from `eps_fcast_terms`***.\n",
    "\n",
    "> Each **Term Forecasted** entry under `eps_fcast_terms` records the year with 2 digits, so Quarter 1 of the year 2000 becomes 00Q1.\n",
    "- isolate the first 2 characters to get the year\n",
    "- join a '20' in front of the string so 00 becomes 2000\n",
    "- list the number of unique values."
   ]
  },
  {
   "cell_type": "code",
   "execution_count": 14,
   "metadata": {},
   "outputs": [
    {
     "data": {
      "text/plain": [
       "['2000',\n",
       " '2001',\n",
       " '2002',\n",
       " '2003',\n",
       " '2004',\n",
       " '2005',\n",
       " '2006',\n",
       " '2007',\n",
       " '2008',\n",
       " '2009',\n",
       " '2010',\n",
       " '2011',\n",
       " '2012',\n",
       " '2013',\n",
       " '2014',\n",
       " '2015',\n",
       " '2016',\n",
       " '2017',\n",
       " '2018',\n",
       " '2019']"
      ]
     },
     "execution_count": 14,
     "metadata": {},
     "output_type": "execute_result"
    }
   ],
   "source": [
    "#iterate over all years in eps_fcast_terms, append '20' in front of string\n",
    "list(map(lambda x: '20' + x, eps_fc_terms['Term Forecasted'].str[:2].unique()))"
   ]
  },
  {
   "cell_type": "markdown",
   "metadata": {},
   "source": [
    "**Observation**: The year 1999 is missing from `eps_fc_terms`. This makes sense because the start of the forecasting period would be in the last quarter of 1999, which is October. \n",
    "\n",
    "---\n",
    "\n",
    "### Check Nulls"
   ]
  },
  {
   "cell_type": "code",
   "execution_count": 15,
   "metadata": {},
   "outputs": [
    {
     "name": "stdout",
     "output_type": "stream",
     "text": [
      "# NaN in eps_fcast: 7055\n",
      "# NaN in eps_actual: 5021\n",
      "# NaN in eod_actual: 6921\n",
      "# NaN in eps_fcast_terms: 7080\n"
     ]
    }
   ],
   "source": [
    "for key, df in dict_dfs.items():\n",
    "    #display (row, column) per DataFrame\n",
    "    print('# NaN in {}: {}'.format(key, df.isna().sum().sum()))"
   ]
  },
  {
   "cell_type": "markdown",
   "metadata": {},
   "source": [
    "**Observation:** All four DataSets contain null values.\n",
    "> In order to combat this, we'll have to look at both the **number of rows** and **number of columns** with missing data, separately. This way, we can isolate which firms and/or time periods contain complete or incomplete data."
   ]
  },
  {
   "cell_type": "code",
   "execution_count": 16,
   "metadata": {},
   "outputs": [
    {
     "name": "stdout",
     "output_type": "stream",
     "text": [
      "eps_fcast has 82 time periods containing missing data, out of 84 total rows.\n",
      "eps_actual has 84 time periods containing missing data, out of 84 total rows.\n",
      "eod_actual has 83 time periods containing missing data, out of 84 total rows.\n",
      "eps_fcast_terms has 80 time periods containing missing data, out of 80 total rows.\n"
     ]
    }
   ],
   "source": [
    "#check rows for missing data\n",
    "for key, df in dict_dfs.items():\n",
    "    num_rows_missing = df.isna().sum().max()\n",
    "    print('{} has {} time periods containing missing data, out of {} total rows.'.format(key, num_rows_missing, df.shape[0]))"
   ]
  },
  {
   "cell_type": "code",
   "execution_count": 17,
   "metadata": {},
   "outputs": [
    {
     "data": {
      "text/plain": [
       "254"
      ]
     },
     "execution_count": 17,
     "metadata": {},
     "output_type": "execute_result"
    }
   ],
   "source": [
    "len(eps_fc.columns[eps_fc.isnull().any()])"
   ]
  },
  {
   "cell_type": "code",
   "execution_count": 18,
   "metadata": {},
   "outputs": [
    {
     "name": "stdout",
     "output_type": "stream",
     "text": [
      "eps_fcast has 254 firms containing missing data, out of 506 total columns.\n",
      "eps_actual has 432 firms containing missing data, out of 507 total columns.\n",
      "eod_actual has 505 firms containing missing data, out of 506 total columns.\n",
      "eps_fcast_terms has 340 firms containing missing data, out of 507 total columns.\n"
     ]
    }
   ],
   "source": [
    "#check columns for missing data\n",
    "for key, df in dict_dfs.items():\n",
    "    cols_missing = df.columns[df.isnull().any()]\n",
    "    num_cols_missing = len(cols_missing)\n",
    "    print('{} has {} firms containing missing data, out of {} total columns.'\n",
    "         .format(key, num_cols_missing, df.shape[1]))"
   ]
  },
  {
   "cell_type": "markdown",
   "metadata": {},
   "source": [
    "**Observation 1:** The only two datasets with incomplete data for all time periods are **actual EPS** and **forecasted EPS 3 months prior.**\n",
    "\n",
    "> To address this problem, it'd be helpful to isolate the time period ranges for the datasets with incomplete data by row, **forecasted EPS** and **actual EOD price.**\n",
    "\n",
    "**Observation 2:** For all datasets, all firms contain incomplete data across all time periods.\n",
    "> This is expected, as analyzing financial history spanning over 20 years will naturally be rife with missing and inaccurate data. The ***good news is that `eps_fcast`, `eps_actual`, and `eps_fcast_terms` are the most complete, while `eod_actual` contains the most amount of missing data.***\n",
    "\n",
    "\n",
    "**Moving forward, we need to make sure that these inconsistencies won't clash with our analysis.**\n",
    "> **My approach:** instead of looking at rows and columns ***with*** missing data, we'll be looking at rows and columns that ***are all missing data.***\n",
    "\n",
    "I figured that if there is some missing data here and there scattered throughout the matrix, then that should not skew our analysis too much.\n",
    "\n",
    "However, if there a significant amount of rows/columns that are entirely empty, then we ***might have to get ready to drop some dates and firms from our data overall.***"
   ]
  },
  {
   "cell_type": "code",
   "execution_count": 19,
   "metadata": {},
   "outputs": [
    {
     "name": "stdout",
     "output_type": "stream",
     "text": [
      "eps_fcast \n",
      " False    84\n",
      "dtype: int64 \n",
      "----\n",
      "eps_actual \n",
      " False    84\n",
      "dtype: int64 \n",
      "----\n",
      "eod_actual \n",
      " False    84\n",
      "dtype: int64 \n",
      "----\n",
      "eps_fcast_terms \n",
      " False    80\n",
      "dtype: int64 \n",
      "----\n"
     ]
    }
   ],
   "source": [
    "#check for empty rows, return False if row contains at least one non-null value, True if all are null\n",
    "for key, df in dict_dfs.items():\n",
    "    cols_check = df.columns\n",
    "    num_empty_rows = (df[cols_check].isnull().apply(lambda x: all(x), axis = 1)).value_counts()\n",
    "    print(key, '\\n', num_empty_rows, '\\n----')"
   ]
  },
  {
   "cell_type": "markdown",
   "metadata": {},
   "source": [
    "**Observation:** All datasets do not contain empty rows.\n",
    "> This is good news, since we can rely on the firms' averages per row instead of having to drop or limit time periods."
   ]
  },
  {
   "cell_type": "code",
   "execution_count": 20,
   "metadata": {},
   "outputs": [
    {
     "name": "stdout",
     "output_type": "stream",
     "text": [
      "eps_fcast \n",
      " False    506\n",
      "dtype: int64\n",
      "eps_actual \n",
      " False    506\n",
      "True       1\n",
      "dtype: int64\n",
      "eod_actual \n",
      " False    506\n",
      "dtype: int64\n",
      "eps_fcast_terms \n",
      " False    506\n",
      "True       1\n",
      "dtype: int64\n"
     ]
    }
   ],
   "source": [
    "#check for empty columns, return False if column contains at least one non-null value, True if all are null\n",
    "for key, df in dict_dfs.items():\n",
    "    cols_check = df.columns\n",
    "    num_empty_cols = df[cols_check].isnull().apply(lambda x: all(x), axis = 0).value_counts()\n",
    "    print(key, '\\n', num_empty_cols)"
   ]
  },
  {
   "cell_type": "markdown",
   "metadata": {},
   "source": [
    "**Observation:** `eps_actual` and `eps_fcast_terms` are the only datasets that have an empty column.\n",
    "> Let's isolate and look at the singular empty column for both DataFrames."
   ]
  },
  {
   "cell_type": "code",
   "execution_count": 21,
   "metadata": {},
   "outputs": [],
   "source": [
    "#create function to return an array of column names containing empty data\n",
    "def comb_cols(df):\n",
    "    empty_cols = []\n",
    "    for column in df:\n",
    "        if df[column].isnull().all():\n",
    "            empty_cols.append(column)\n",
    "            \n",
    "    return empty_cols"
   ]
  },
  {
   "cell_type": "code",
   "execution_count": 22,
   "metadata": {},
   "outputs": [
    {
     "name": "stdout",
     "output_type": "stream",
     "text": [
      "In eps_act, the firm ['AMCR UN Equity'] has no data.\n",
      "In eps_fc_terms, the firm ['AMCR UN Equity'] has no data.\n"
     ]
    }
   ],
   "source": [
    "#comb datasets for empty columns\n",
    "print('In eps_act, the firm {} has no data.'.format(comb_cols(eps_act)))\n",
    "print('In eps_fc_terms, the firm {} has no data.'.format(comb_cols(eps_fc_terms)))"
   ]
  },
  {
   "cell_type": "markdown",
   "metadata": {},
   "source": [
    "**Observation:** The same firm in both datasets is empty of data.\n",
    "> Though this is an annoying error to deal with, it still is to our advantage that both datasets ***share one firm*** in common for missing data. This way, we don't have to worry about dropping two entire firms.\n",
    "\n",
    "---"
   ]
  },
  {
   "cell_type": "markdown",
   "metadata": {},
   "source": [
    "### Check Duplicate Data"
   ]
  },
  {
   "cell_type": "code",
   "execution_count": 23,
   "metadata": {},
   "outputs": [
    {
     "name": "stdout",
     "output_type": "stream",
     "text": [
      "eps_fcast 0\n",
      "eps_actual 0\n",
      "eod_actual 0\n",
      "eps_fcast_terms 0\n"
     ]
    }
   ],
   "source": [
    "#check for duplicate data across all rows and columns\n",
    "for key, df in dict_dfs.items():\n",
    "    print(key, df.duplicated().sum())"
   ]
  },
  {
   "cell_type": "markdown",
   "metadata": {},
   "source": [
    "**Observation:** For all datasets, there are ***no duplicate data.*** This is good news!\n",
    "\n",
    "**Next, I will check for duplicated firm names.** Although the presence of duplicated firm names will inherently imply duplicated data, sometimes data gets dispersed in weird, unexpected ways, especially when dealing with large datasets."
   ]
  },
  {
   "cell_type": "code",
   "execution_count": 24,
   "metadata": {},
   "outputs": [
    {
     "name": "stdout",
     "output_type": "stream",
     "text": [
      "eps_fcast 0\n",
      "eps_actual 0\n",
      "eod_actual 0\n",
      "eps_fcast_terms 0\n"
     ]
    }
   ],
   "source": [
    "#check for duplicated firm names\n",
    "for key, df in dict_dfs.items():\n",
    "    print(key, df.columns.duplicated().sum())"
   ]
  },
  {
   "cell_type": "markdown",
   "metadata": {},
   "source": [
    "**Observation:** For all datasets, there are ***no duplicate firm names.*** This is also good news.\n",
    "\n",
    "### There is no need to dedupe our data during the cleaning stage.\n",
    "\n",
    "---\n",
    "\n",
    "### Check Data Types\n",
    "\n",
    "> Make sure all numerical data types are consistent.\n",
    "- EPS and EOD values must all be **floats**\n",
    "- Dates should all be **objects** (for now)\n",
    "\n",
    "- `eps_fc` contains ***1 date field,***, so we should expect ***1 object type.***\n",
    "- `eps_act` contains ***2 date fields,*** so we should expect ***2 object types.***\n",
    "- `eod_act` contains ***1 date field,*** so we should expect ***1 object type.***\n",
    "- `eps_fc_terms` contains ***2 date fields,*** so we should expect ***2 object types.***\n",
    "\n",
    "> And everything else should be a ***float*** type.\n",
    "\n",
    "**Examine each dataset's overall data types per column.**"
   ]
  },
  {
   "cell_type": "code",
   "execution_count": 25,
   "metadata": {},
   "outputs": [
    {
     "name": "stdout",
     "output_type": "stream",
     "text": [
      "eps_fcast \n",
      " float64    505\n",
      "object       1\n",
      "dtype: int64 \n",
      "--------\n",
      "eps_actual \n",
      " float64    499\n",
      "object       7\n",
      "int64        1\n",
      "dtype: int64 \n",
      "--------\n",
      "eod_actual \n",
      " float64    505\n",
      "object       1\n",
      "dtype: int64 \n",
      "--------\n",
      "eps_fcast_terms \n",
      " float64    505\n",
      "object       2\n",
      "dtype: int64 \n",
      "--------\n"
     ]
    }
   ],
   "source": [
    "for key, df in dict_dfs.items():\n",
    "    print(key,'\\n', df.dtypes.value_counts(), '\\n--------')"
   ]
  },
  {
   "cell_type": "markdown",
   "metadata": {},
   "source": [
    "**Observation 1:** `eps_fc`, `eod_act`, and `eps_fc_terms` are all consistent with the expected number of object types.\n",
    "\n",
    "> But we'll still have to double check these facts later.\n",
    "\n",
    "**Observation 2:** `eps_act` contains 5 more object columns than expected.\n",
    "\n",
    "---\n",
    "\n",
    "***Isolate 'Object' Columns under `eps_act`***"
   ]
  },
  {
   "cell_type": "code",
   "execution_count": 26,
   "metadata": {},
   "outputs": [
    {
     "data": {
      "text/html": [
       "<div>\n",
       "<style scoped>\n",
       "    .dataframe tbody tr th:only-of-type {\n",
       "        vertical-align: middle;\n",
       "    }\n",
       "\n",
       "    .dataframe tbody tr th {\n",
       "        vertical-align: top;\n",
       "    }\n",
       "\n",
       "    .dataframe thead th {\n",
       "        text-align: right;\n",
       "    }\n",
       "</style>\n",
       "<table border=\"1\" class=\"dataframe\">\n",
       "  <thead>\n",
       "    <tr style=\"text-align: right;\">\n",
       "      <th></th>\n",
       "      <th>Quarter</th>\n",
       "      <th>BRK/B UN Equity</th>\n",
       "      <th>FOX UW Equity</th>\n",
       "      <th>GOOG UW Equity</th>\n",
       "      <th>HCP UN Equity</th>\n",
       "      <th>SYMC UW Equity</th>\n",
       "      <th>UA UN Equity</th>\n",
       "    </tr>\n",
       "  </thead>\n",
       "  <tbody>\n",
       "    <tr>\n",
       "      <th>0</th>\n",
       "      <td>Q1</td>\n",
       "      <td>#N/A Field Not Applicable</td>\n",
       "      <td>#N/A Field Not Applicable</td>\n",
       "      <td>#N/A Field Not Applicable</td>\n",
       "      <td>#N/A Field Not Applicable</td>\n",
       "      <td>#N/A Field Not Applicable</td>\n",
       "      <td>#N/A Field Not Applicable</td>\n",
       "    </tr>\n",
       "    <tr>\n",
       "      <th>1</th>\n",
       "      <td>Q2</td>\n",
       "      <td>#N/A Field Not Applicable</td>\n",
       "      <td>#N/A Field Not Applicable</td>\n",
       "      <td>#N/A Field Not Applicable</td>\n",
       "      <td>#N/A Field Not Applicable</td>\n",
       "      <td>#N/A Field Not Applicable</td>\n",
       "      <td>#N/A Field Not Applicable</td>\n",
       "    </tr>\n",
       "    <tr>\n",
       "      <th>2</th>\n",
       "      <td>Q3</td>\n",
       "      <td>#N/A Field Not Applicable</td>\n",
       "      <td>#N/A Field Not Applicable</td>\n",
       "      <td>#N/A Field Not Applicable</td>\n",
       "      <td>#N/A Field Not Applicable</td>\n",
       "      <td>#N/A Field Not Applicable</td>\n",
       "      <td>#N/A Field Not Applicable</td>\n",
       "    </tr>\n",
       "    <tr>\n",
       "      <th>3</th>\n",
       "      <td>Q4</td>\n",
       "      <td>#N/A Field Not Applicable</td>\n",
       "      <td>#N/A Field Not Applicable</td>\n",
       "      <td>#N/A Field Not Applicable</td>\n",
       "      <td>#N/A Field Not Applicable</td>\n",
       "      <td>#N/A Field Not Applicable</td>\n",
       "      <td>#N/A Field Not Applicable</td>\n",
       "    </tr>\n",
       "    <tr>\n",
       "      <th>4</th>\n",
       "      <td>Q1</td>\n",
       "      <td>#N/A Field Not Applicable</td>\n",
       "      <td>#N/A Field Not Applicable</td>\n",
       "      <td>#N/A Field Not Applicable</td>\n",
       "      <td>#N/A Field Not Applicable</td>\n",
       "      <td>#N/A Field Not Applicable</td>\n",
       "      <td>#N/A Field Not Applicable</td>\n",
       "    </tr>\n",
       "  </tbody>\n",
       "</table>\n",
       "</div>"
      ],
      "text/plain": [
       "  Quarter            BRK/B UN Equity              FOX UW Equity  \\\n",
       "0      Q1  #N/A Field Not Applicable  #N/A Field Not Applicable   \n",
       "1      Q2  #N/A Field Not Applicable  #N/A Field Not Applicable   \n",
       "2      Q3  #N/A Field Not Applicable  #N/A Field Not Applicable   \n",
       "3      Q4  #N/A Field Not Applicable  #N/A Field Not Applicable   \n",
       "4      Q1  #N/A Field Not Applicable  #N/A Field Not Applicable   \n",
       "\n",
       "              GOOG UW Equity              HCP UN Equity  \\\n",
       "0  #N/A Field Not Applicable  #N/A Field Not Applicable   \n",
       "1  #N/A Field Not Applicable  #N/A Field Not Applicable   \n",
       "2  #N/A Field Not Applicable  #N/A Field Not Applicable   \n",
       "3  #N/A Field Not Applicable  #N/A Field Not Applicable   \n",
       "4  #N/A Field Not Applicable  #N/A Field Not Applicable   \n",
       "\n",
       "              SYMC UW Equity               UA UN Equity  \n",
       "0  #N/A Field Not Applicable  #N/A Field Not Applicable  \n",
       "1  #N/A Field Not Applicable  #N/A Field Not Applicable  \n",
       "2  #N/A Field Not Applicable  #N/A Field Not Applicable  \n",
       "3  #N/A Field Not Applicable  #N/A Field Not Applicable  \n",
       "4  #N/A Field Not Applicable  #N/A Field Not Applicable  "
      ]
     },
     "execution_count": 26,
     "metadata": {},
     "output_type": "execute_result"
    }
   ],
   "source": [
    "eps_act.select_dtypes(include = 'object').head()"
   ]
  },
  {
   "cell_type": "markdown",
   "metadata": {},
   "source": [
    "**Observation:** These firms are all 'Object' types because there is no recorded data under them.\n",
    "> This is actually missing data. From `eps_act`, there are 6 firms that are empty of data.\n",
    "\n",
    "### This was a tricky situation to spot, but I caught it in the end. There actually is missing data after all, but we missed those 5 entire firms during the \"Check Missing Data\" stage, because they were recorded as objects. This means that Pandas wrongly recognized these 5 firms as \"complete.\""
   ]
  },
  {
   "cell_type": "markdown",
   "metadata": {},
   "source": [
    "### Quality\n",
    "\n",
    "**Missing Data**\n",
    "> **In the end, I decided not to drop any rows or columns with missing data. For the sake of data preservation, I kept all missing data recorded as NaN.**\n",
    "\n",
    "-  `eps_fc_terms` is missing the year 1999.\n",
    "- `eps_act` and `eps_fc_act` have one firm with empty data: 'AMCR UN Equity'\n",
    "- `eps_act` contains 7 empty firms: BRK/B UN Equity, FOX UW Equity, GOOG UW Equity, HCP UN Equity, SYMC UW Equity, UA UN Equity\n",
    "--- \n",
    "- Unnormalized date formats among all DataFrames.\n",
    "- Firm names across all DataFrames are capitalized and contain white space.\n",
    "- Erroneous data type for `eps_act` Object columns.\n",
    "- Erroneous data type for **date** under `eod_act`\n",
    "- Erroneous data type for **forecast_made** under `eps_fc_terms`\n",
    "- Erroneous data types for **term** under `eps_act`, `eps_fc`, and `eps_fc_terms` to DateTime quarter index\n",
    "- No recorded quarterly data for `eod_act`\n",
    "---\n",
    "- Firm names not referenced by **firm_id**\n",
    "- No recorded 20-year for each dataset.\n",
    "- No recorded yearly averages for each dataset\n",
    "- No recorded quarterly averages for each dataset.\n",
    "---\n",
    "- Features datasets \n",
    "\n",
    "### Tidiness\n",
    "- Unnormalized data among `df_twenty_year_avgs`, `df_yearly_avgs`, and `df_quarter_avgs`\n",
    "- 20-year, yearly, and quarterly averages contained in different DataFrames.\n",
    "- Unnormalized data among `eps_act`, `eps_fc`, `eod_act`, and `eps_fc_terms`\n",
    "\n",
    "\n",
    "### C) CLEAN <a id=\"clean\"></a>"
   ]
  },
  {
   "cell_type": "code",
   "execution_count": 407,
   "metadata": {},
   "outputs": [],
   "source": [
    "eps_fc_clean = eps_fc.copy()\n",
    "eps_act_clean = eps_act.copy()\n",
    "eod_act_clean = eod_act.copy()\n",
    "eps_fc_terms_clean = eps_fc_terms.copy()"
   ]
  },
  {
   "cell_type": "code",
   "execution_count": 408,
   "metadata": {},
   "outputs": [],
   "source": [
    "#create dictionary of all clean dfs for iteration\n",
    "dict_clean = {'eps_fc_clean' : eps_fc_clean,\n",
    "             'eps_act_clean' : eps_act_clean,\n",
    "             'eod_act_clean' : eod_act_clean,\n",
    "             'eps_fc_terms_clean' : eps_fc_terms_clean}"
   ]
  },
  {
   "cell_type": "markdown",
   "metadata": {},
   "source": [
    "### Code\n",
    "> **ISSUE 1:**  Unnormalized date formats among all DataFrames.\n",
    "\n",
    "**Define:** \n",
    "- Conjoin `eps_act_clean` dates from 2 columns into 1 to match `eps_fc_clean` format.\n",
    "> The format we want is YYYYQN. For example, Quarter 1 in 2005 will be 2005Q1.\n",
    "\n",
    "- Rename both fiscal periods under `eps_act_clean` and `eps_fc_clean` to **term.**\n",
    "\n",
    "- For both fiscal periods under `eps_fc_terms_clean`, add an underscore.\n",
    "- Under `eps_fc_terms_clean`, format **term** to YYYYQN."
   ]
  },
  {
   "cell_type": "code",
   "execution_count": 409,
   "metadata": {},
   "outputs": [],
   "source": [
    "#create new column, combine year and quarter into 1 string\n",
    "eps_act_clean['term'] = eps_act_clean['Year'].map(str) + eps_act_clean['Quarter']"
   ]
  },
  {
   "cell_type": "code",
   "execution_count": 410,
   "metadata": {},
   "outputs": [],
   "source": [
    "#drop 'Year' and 'Quarter'\n",
    "eps_act_clean.drop(['Year', 'Quarter'], axis = 1, inplace = True)"
   ]
  },
  {
   "cell_type": "code",
   "execution_count": 411,
   "metadata": {},
   "outputs": [],
   "source": [
    "#designate new column as first column\n",
    "reorder_cols = eps_act_clean.columns.tolist()\n",
    "reorder_cols.insert(0, reorder_cols.pop(reorder_cols.index('term')))\n",
    "\n",
    "eps_act_clean = eps_act_clean.reindex(columns = reorder_cols)"
   ]
  },
  {
   "cell_type": "code",
   "execution_count": 412,
   "metadata": {},
   "outputs": [],
   "source": [
    "#rename eps_fc_clean fiscal period to term\n",
    "eps_fc_clean.rename(index = str, columns = {'Term Forecasted' : 'term'}, inplace = True)\n",
    "\n",
    "#reassign to dictionary\n",
    "dict_clean['eps_act_clean'] = eps_act_clean"
   ]
  },
  {
   "cell_type": "code",
   "execution_count": 413,
   "metadata": {},
   "outputs": [
    {
     "name": "stderr",
     "output_type": "stream",
     "text": [
      "D:\\Anaconda3\\lib\\site-packages\\pandas\\core\\generic.py:5096: SettingWithCopyWarning: \n",
      "A value is trying to be set on a copy of a slice from a DataFrame.\n",
      "Try using .loc[row_indexer,col_indexer] = value instead\n",
      "\n",
      "See the caveats in the documentation: http://pandas.pydata.org/pandas-docs/stable/indexing.html#indexing-view-versus-copy\n",
      "  self[name] = value\n"
     ]
    }
   ],
   "source": [
    "eps_fc_clean[4:].term = '20' + eps_fc_clean[4:].term.astype(str)"
   ]
  },
  {
   "cell_type": "code",
   "execution_count": 414,
   "metadata": {},
   "outputs": [],
   "source": [
    "#add an underscore for both date periods under eps_fc_terms_clean\n",
    "eps_fc_terms_clean.rename(index = str, columns = {'Forecast Made' : 'forecast_made',\n",
    "                                                 'Term Forecasted' : 'term'},\n",
    "                         inplace = True)"
   ]
  },
  {
   "cell_type": "code",
   "execution_count": 415,
   "metadata": {},
   "outputs": [],
   "source": [
    "#under term, add a '20' before each string\n",
    "eps_fc_terms_clean.term = '20' + eps_fc_terms_clean.term.astype(str)"
   ]
  },
  {
   "cell_type": "markdown",
   "metadata": {},
   "source": [
    "### Test"
   ]
  },
  {
   "cell_type": "code",
   "execution_count": 416,
   "metadata": {},
   "outputs": [
    {
     "data": {
      "text/html": [
       "<div>\n",
       "<style scoped>\n",
       "    .dataframe tbody tr th:only-of-type {\n",
       "        vertical-align: middle;\n",
       "    }\n",
       "\n",
       "    .dataframe tbody tr th {\n",
       "        vertical-align: top;\n",
       "    }\n",
       "\n",
       "    .dataframe thead th {\n",
       "        text-align: right;\n",
       "    }\n",
       "</style>\n",
       "<table border=\"1\" class=\"dataframe\">\n",
       "  <thead>\n",
       "    <tr style=\"text-align: right;\">\n",
       "      <th></th>\n",
       "      <th>term</th>\n",
       "      <th>A UN Equity</th>\n",
       "      <th>AAL UW Equity</th>\n",
       "      <th>AAP UN Equity</th>\n",
       "      <th>AAPL UW Equity</th>\n",
       "      <th>ABBV UN Equity</th>\n",
       "      <th>ABC UN Equity</th>\n",
       "      <th>ABMD UW Equity</th>\n",
       "      <th>ABT UN Equity</th>\n",
       "      <th>ACN UN Equity</th>\n",
       "      <th>...</th>\n",
       "      <th>XEL UW Equity</th>\n",
       "      <th>XLNX UW Equity</th>\n",
       "      <th>XOM UN Equity</th>\n",
       "      <th>XRAY UW Equity</th>\n",
       "      <th>XRX UN Equity</th>\n",
       "      <th>XYL UN Equity</th>\n",
       "      <th>YUM UN Equity</th>\n",
       "      <th>ZBH UN Equity</th>\n",
       "      <th>ZION UW Equity</th>\n",
       "      <th>ZTS UN Equity</th>\n",
       "    </tr>\n",
       "  </thead>\n",
       "  <tbody>\n",
       "    <tr>\n",
       "      <th>48</th>\n",
       "      <td>2011Q1</td>\n",
       "      <td>0.578</td>\n",
       "      <td>-1.325</td>\n",
       "      <td>1.369</td>\n",
       "      <td>0.770</td>\n",
       "      <td>NaN</td>\n",
       "      <td>0.534</td>\n",
       "      <td>-0.140</td>\n",
       "      <td>0.903</td>\n",
       "      <td>0.756</td>\n",
       "      <td>...</td>\n",
       "      <td>0.421</td>\n",
       "      <td>0.533</td>\n",
       "      <td>2.066</td>\n",
       "      <td>0.477</td>\n",
       "      <td>NaN</td>\n",
       "      <td>NaN</td>\n",
       "      <td>0.642</td>\n",
       "      <td>1.122</td>\n",
       "      <td>NaN</td>\n",
       "      <td>NaN</td>\n",
       "    </tr>\n",
       "    <tr>\n",
       "      <th>11</th>\n",
       "      <td>2001Q4</td>\n",
       "      <td>NaN</td>\n",
       "      <td>NaN</td>\n",
       "      <td>0.010</td>\n",
       "      <td>0.012</td>\n",
       "      <td>NaN</td>\n",
       "      <td>NaN</td>\n",
       "      <td>-0.175</td>\n",
       "      <td>0.520</td>\n",
       "      <td>0.105</td>\n",
       "      <td>...</td>\n",
       "      <td>0.438</td>\n",
       "      <td>0.226</td>\n",
       "      <td>0.396</td>\n",
       "      <td>0.191</td>\n",
       "      <td>NaN</td>\n",
       "      <td>NaN</td>\n",
       "      <td>0.260</td>\n",
       "      <td>0.265</td>\n",
       "      <td>0.829</td>\n",
       "      <td>NaN</td>\n",
       "    </tr>\n",
       "    <tr>\n",
       "      <th>74</th>\n",
       "      <td>2017Q3</td>\n",
       "      <td>0.522</td>\n",
       "      <td>1.397</td>\n",
       "      <td>1.207</td>\n",
       "      <td>1.572</td>\n",
       "      <td>1.385</td>\n",
       "      <td>1.374</td>\n",
       "      <td>0.290</td>\n",
       "      <td>0.653</td>\n",
       "      <td>1.522</td>\n",
       "      <td>...</td>\n",
       "      <td>0.922</td>\n",
       "      <td>0.490</td>\n",
       "      <td>0.870</td>\n",
       "      <td>0.660</td>\n",
       "      <td>0.826</td>\n",
       "      <td>0.631</td>\n",
       "      <td>0.668</td>\n",
       "      <td>1.740</td>\n",
       "      <td>0.719</td>\n",
       "      <td>0.622</td>\n",
       "    </tr>\n",
       "  </tbody>\n",
       "</table>\n",
       "<p>3 rows × 506 columns</p>\n",
       "</div>"
      ],
      "text/plain": [
       "      term  A UN Equity  AAL UW Equity  AAP UN Equity  AAPL UW Equity  \\\n",
       "48  2011Q1        0.578         -1.325          1.369           0.770   \n",
       "11  2001Q4          NaN            NaN          0.010           0.012   \n",
       "74  2017Q3        0.522          1.397          1.207           1.572   \n",
       "\n",
       "    ABBV UN Equity  ABC UN Equity  ABMD UW Equity  ABT UN Equity  \\\n",
       "48             NaN          0.534          -0.140          0.903   \n",
       "11             NaN            NaN          -0.175          0.520   \n",
       "74           1.385          1.374           0.290          0.653   \n",
       "\n",
       "    ACN UN Equity  ...  XEL UW Equity  XLNX UW Equity  XOM UN Equity  \\\n",
       "48          0.756  ...          0.421           0.533          2.066   \n",
       "11          0.105  ...          0.438           0.226          0.396   \n",
       "74          1.522  ...          0.922           0.490          0.870   \n",
       "\n",
       "    XRAY UW Equity  XRX UN Equity  XYL UN Equity  YUM UN Equity  \\\n",
       "48           0.477            NaN            NaN          0.642   \n",
       "11           0.191            NaN            NaN          0.260   \n",
       "74           0.660          0.826          0.631          0.668   \n",
       "\n",
       "    ZBH UN Equity  ZION UW Equity  ZTS UN Equity  \n",
       "48          1.122             NaN            NaN  \n",
       "11          0.265           0.829            NaN  \n",
       "74          1.740           0.719          0.622  \n",
       "\n",
       "[3 rows x 506 columns]"
      ]
     },
     "execution_count": 416,
     "metadata": {},
     "output_type": "execute_result"
    }
   ],
   "source": [
    "#give overview of both DataFrames\n",
    "eps_fc_clean.sample(3)"
   ]
  },
  {
   "cell_type": "code",
   "execution_count": 417,
   "metadata": {},
   "outputs": [
    {
     "data": {
      "text/html": [
       "<div>\n",
       "<style scoped>\n",
       "    .dataframe tbody tr th:only-of-type {\n",
       "        vertical-align: middle;\n",
       "    }\n",
       "\n",
       "    .dataframe tbody tr th {\n",
       "        vertical-align: top;\n",
       "    }\n",
       "\n",
       "    .dataframe thead th {\n",
       "        text-align: right;\n",
       "    }\n",
       "</style>\n",
       "<table border=\"1\" class=\"dataframe\">\n",
       "  <thead>\n",
       "    <tr style=\"text-align: right;\">\n",
       "      <th></th>\n",
       "      <th>term</th>\n",
       "      <th>A UN Equity</th>\n",
       "      <th>AAL UW Equity</th>\n",
       "      <th>AAP UN Equity</th>\n",
       "      <th>AAPL UW Equity</th>\n",
       "      <th>ABBV UN Equity</th>\n",
       "      <th>ABC UN Equity</th>\n",
       "      <th>ABMD UW Equity</th>\n",
       "      <th>ABT UN Equity</th>\n",
       "      <th>ACN UN Equity</th>\n",
       "      <th>...</th>\n",
       "      <th>XEL UW Equity</th>\n",
       "      <th>XLNX UW Equity</th>\n",
       "      <th>XOM UN Equity</th>\n",
       "      <th>XRAY UW Equity</th>\n",
       "      <th>XRX UN Equity</th>\n",
       "      <th>XYL UN Equity</th>\n",
       "      <th>YUM UN Equity</th>\n",
       "      <th>ZBH UN Equity</th>\n",
       "      <th>ZION UW Equity</th>\n",
       "      <th>ZTS UN Equity</th>\n",
       "    </tr>\n",
       "  </thead>\n",
       "  <tbody>\n",
       "    <tr>\n",
       "      <th>82</th>\n",
       "      <td>2019Q3</td>\n",
       "      <td>0.61</td>\n",
       "      <td>0.96</td>\n",
       "      <td>1.76</td>\n",
       "      <td>2.20</td>\n",
       "      <td>1.27</td>\n",
       "      <td>1.44</td>\n",
       "      <td>1.00</td>\n",
       "      <td>0.54</td>\n",
       "      <td>1.96</td>\n",
       "      <td>...</td>\n",
       "      <td>1.02</td>\n",
       "      <td>0.95</td>\n",
       "      <td>0.75</td>\n",
       "      <td>0.38</td>\n",
       "      <td>0.99</td>\n",
       "      <td>0.36</td>\n",
       "      <td>0.83</td>\n",
       "      <td>2.10</td>\n",
       "      <td>1.23</td>\n",
       "      <td>0.91</td>\n",
       "    </tr>\n",
       "    <tr>\n",
       "      <th>81</th>\n",
       "      <td>2019Q2</td>\n",
       "      <td>0.57</td>\n",
       "      <td>1.49</td>\n",
       "      <td>1.74</td>\n",
       "      <td>2.47</td>\n",
       "      <td>0.49</td>\n",
       "      <td>0.13</td>\n",
       "      <td>1.11</td>\n",
       "      <td>0.57</td>\n",
       "      <td>1.76</td>\n",
       "      <td>...</td>\n",
       "      <td>0.46</td>\n",
       "      <td>0.85</td>\n",
       "      <td>0.73</td>\n",
       "      <td>0.16</td>\n",
       "      <td>0.79</td>\n",
       "      <td>0.77</td>\n",
       "      <td>0.94</td>\n",
       "      <td>0.65</td>\n",
       "      <td>1.05</td>\n",
       "      <td>0.77</td>\n",
       "    </tr>\n",
       "    <tr>\n",
       "      <th>68</th>\n",
       "      <td>2016Q1</td>\n",
       "      <td>0.37</td>\n",
       "      <td>1.15</td>\n",
       "      <td>2.16</td>\n",
       "      <td>3.30</td>\n",
       "      <td>0.83</td>\n",
       "      <td>1.60</td>\n",
       "      <td>0.21</td>\n",
       "      <td>0.21</td>\n",
       "      <td>1.31</td>\n",
       "      <td>...</td>\n",
       "      <td>0.47</td>\n",
       "      <td>0.57</td>\n",
       "      <td>0.43</td>\n",
       "      <td>0.72</td>\n",
       "      <td>0.12</td>\n",
       "      <td>0.37</td>\n",
       "      <td>0.88</td>\n",
       "      <td>0.54</td>\n",
       "      <td>0.38</td>\n",
       "      <td>0.41</td>\n",
       "    </tr>\n",
       "  </tbody>\n",
       "</table>\n",
       "<p>3 rows × 506 columns</p>\n",
       "</div>"
      ],
      "text/plain": [
       "      term  A UN Equity  AAL UW Equity  AAP UN Equity  AAPL UW Equity  \\\n",
       "82  2019Q3         0.61           0.96           1.76            2.20   \n",
       "81  2019Q2         0.57           1.49           1.74            2.47   \n",
       "68  2016Q1         0.37           1.15           2.16            3.30   \n",
       "\n",
       "    ABBV UN Equity  ABC UN Equity  ABMD UW Equity  ABT UN Equity  \\\n",
       "82            1.27           1.44            1.00           0.54   \n",
       "81            0.49           0.13            1.11           0.57   \n",
       "68            0.83           1.60            0.21           0.21   \n",
       "\n",
       "    ACN UN Equity  ...  XEL UW Equity  XLNX UW Equity  XOM UN Equity  \\\n",
       "82           1.96  ...           1.02            0.95           0.75   \n",
       "81           1.76  ...           0.46            0.85           0.73   \n",
       "68           1.31  ...           0.47            0.57           0.43   \n",
       "\n",
       "    XRAY UW Equity  XRX UN Equity  XYL UN Equity  YUM UN Equity  \\\n",
       "82            0.38           0.99           0.36           0.83   \n",
       "81            0.16           0.79           0.77           0.94   \n",
       "68            0.72           0.12           0.37           0.88   \n",
       "\n",
       "    ZBH UN Equity  ZION UW Equity  ZTS UN Equity  \n",
       "82           2.10            1.23           0.91  \n",
       "81           0.65            1.05           0.77  \n",
       "68           0.54            0.38           0.41  \n",
       "\n",
       "[3 rows x 506 columns]"
      ]
     },
     "execution_count": 417,
     "metadata": {},
     "output_type": "execute_result"
    }
   ],
   "source": [
    "eps_act_clean.sample(3)"
   ]
  },
  {
   "cell_type": "code",
   "execution_count": 418,
   "metadata": {},
   "outputs": [
    {
     "data": {
      "text/plain": [
       "True    84\n",
       "Name: term, dtype: int64"
      ]
     },
     "execution_count": 418,
     "metadata": {},
     "output_type": "execute_result"
    }
   ],
   "source": [
    "#check consistent format between both `term` fields\n",
    "forecasts = pd.concat([eps_fc_clean.term, eps_act_clean.term])\n",
    "\n",
    "#count number of instances where unique term values are the same\n",
    "(forecasts.value_counts().sort_index() == 2).value_counts()"
   ]
  },
  {
   "cell_type": "code",
   "execution_count": 419,
   "metadata": {},
   "outputs": [
    {
     "name": "stdout",
     "output_type": "stream",
     "text": [
      "Index(['term', 'A UN Equity'], dtype='object')\n",
      "Index(['term', 'A UN Equity'], dtype='object')\n",
      "Index(['date', 'A UN Equity'], dtype='object')\n",
      "Index(['forecast_made', 'term'], dtype='object')\n"
     ]
    }
   ],
   "source": [
    "#check that dates are the first columns\n",
    "for key, df in dict_clean.items():\n",
    "    print(df.columns[:2])"
   ]
  },
  {
   "cell_type": "markdown",
   "metadata": {},
   "source": [
    "## The **term** column under `eps_fc_clean`, `eps_act_clean`, and `eps_fc_terms_clean` are all normalized to YYYQN format. This means `eod_act_clean` is the only one with a different date formatting rule.\n",
    "\n",
    "### Code\n",
    "> **ISSUE 2:** Firm names across all DataFrames are capitalized and contain white space.\n",
    "\n",
    "**Define:** Iterate across all DataFrames. Get rid of everything from the first whitespace character onward. Lowercase column names."
   ]
  },
  {
   "cell_type": "code",
   "execution_count": 420,
   "metadata": {},
   "outputs": [],
   "source": [
    "#lowercase names\n",
    "for key, df in dict_clean.items():\n",
    "    lower_cols = [x.lower() for x in df.columns]\n",
    "    df.columns = lower_cols"
   ]
  },
  {
   "cell_type": "code",
   "execution_count": 421,
   "metadata": {},
   "outputs": [],
   "source": [
    "#get rid of white space\n",
    "for key, df in dict_clean.items():\n",
    "    stock_symbols = [x.split(' ', 1)[0] for x in df.columns]\n",
    "    df.columns = stock_symbols"
   ]
  },
  {
   "cell_type": "markdown",
   "metadata": {},
   "source": [
    "### Test"
   ]
  },
  {
   "cell_type": "code",
   "execution_count": 422,
   "metadata": {},
   "outputs": [],
   "source": [
    "#check that all firm names are consistent, should return 505 firm results\n",
    "all_ticks = []\n",
    "for key, df in dict_clean.items():\n",
    "    firm_ticks = np.array(df.columns.values)\n",
    "    all_ticks.append(firm_ticks)\n",
    "    \n",
    "#flatten array\n",
    "all_ticks = np.hstack(all_ticks)\n",
    "\n",
    "#assign tick names to Pandas Series\n",
    "all_ticks = pd.Series(all_ticks)"
   ]
  },
  {
   "cell_type": "code",
   "execution_count": 423,
   "metadata": {},
   "outputs": [
    {
     "data": {
      "text/plain": [
       "forecast_made    1\n",
       "date             1\n",
       "term             3\n",
       "acn              4\n",
       "wat              4\n",
       "dtype: int64"
      ]
     },
     "execution_count": 423,
     "metadata": {},
     "output_type": "execute_result"
    }
   ],
   "source": [
    "#look at lowest 3 value counts, SHOULD BE DATE PERIODS\n",
    "all_ticks.value_counts().sort_values()[:5]"
   ]
  },
  {
   "cell_type": "code",
   "execution_count": 424,
   "metadata": {},
   "outputs": [
    {
     "data": {
      "text/plain": [
       "khc     4\n",
       "wmt     4\n",
       "pcar    4\n",
       "mlm     4\n",
       "lkq     4\n",
       "dtype: int64"
      ]
     },
     "execution_count": 424,
     "metadata": {},
     "output_type": "execute_result"
    }
   ],
   "source": [
    "#look at highest value counts, should be FOUR (because there are 4 dataframes all with firm names)\n",
    "all_ticks.value_counts().sort_values(ascending = False)[:5]"
   ]
  },
  {
   "cell_type": "code",
   "execution_count": 425,
   "metadata": {},
   "outputs": [
    {
     "data": {
      "text/plain": [
       "False"
      ]
     },
     "execution_count": 425,
     "metadata": {},
     "output_type": "execute_result"
    }
   ],
   "source": [
    "#check for any upper case instance among columns\n",
    "all_ticks.str.isupper().any()"
   ]
  },
  {
   "cell_type": "code",
   "execution_count": 426,
   "metadata": {},
   "outputs": [
    {
     "data": {
      "text/plain": [
       "False"
      ]
     },
     "execution_count": 426,
     "metadata": {},
     "output_type": "execute_result"
    }
   ],
   "source": [
    "#check for any white space\n",
    "all_ticks.str.contains(' ').any()"
   ]
  },
  {
   "cell_type": "markdown",
   "metadata": {},
   "source": [
    "### Code\n",
    "> **ISSUE 3:** Erroneous data type for `eps_act` Object columns.\n",
    "\n",
    "**Define:**\n",
    "\n",
    "- Convert '#N/A Field Not Applicable' strings into 'NaN'\n",
    "- Convert the 6 `eps_act_clean` Object columns into NaN type."
   ]
  },
  {
   "cell_type": "code",
   "execution_count": 427,
   "metadata": {},
   "outputs": [],
   "source": [
    "#isolate 6 firm names recorded as 'object'\n",
    "obj_ticks = eps_act_clean.select_dtypes(include = 'object').columns.values\n",
    "\n",
    "#exclude 'term'\n",
    "obj_ticks = obj_ticks[1:]"
   ]
  },
  {
   "cell_type": "code",
   "execution_count": 428,
   "metadata": {},
   "outputs": [],
   "source": [
    "#convert to NaN\n",
    "str_replace = '#N/A Field Not Applicable'\n",
    "eps_act_clean[obj_ticks] = eps_act_clean[obj_ticks].replace(str_replace, np.nan)"
   ]
  },
  {
   "cell_type": "markdown",
   "metadata": {},
   "source": [
    "### Test"
   ]
  },
  {
   "cell_type": "code",
   "execution_count": 429,
   "metadata": {},
   "outputs": [
    {
     "name": "stdout",
     "output_type": "stream",
     "text": [
      "<class 'pandas.core.frame.DataFrame'>\n",
      "RangeIndex: 84 entries, 0 to 83\n",
      "Columns: 506 entries, term to zts\n",
      "dtypes: float64(505), object(1)\n",
      "memory usage: 332.1+ KB\n"
     ]
    }
   ],
   "source": [
    "eps_act_clean.info()"
   ]
  },
  {
   "cell_type": "code",
   "execution_count": 430,
   "metadata": {},
   "outputs": [
    {
     "data": {
      "text/plain": [
       "['term']"
      ]
     },
     "execution_count": 430,
     "metadata": {},
     "output_type": "execute_result"
    }
   ],
   "source": [
    "#make sure 'term' is the only object-type column\n",
    "eps_act_clean.select_dtypes(include = 'object').columns.values.tolist()"
   ]
  },
  {
   "cell_type": "markdown",
   "metadata": {},
   "source": [
    "### Code\n",
    "\n",
    "> **ISSUE 4:**  Erroneous data type for **date** under `eod_act`\n",
    "\n",
    "**Define:** Convert column `date` to DateTime object."
   ]
  },
  {
   "cell_type": "code",
   "execution_count": 431,
   "metadata": {},
   "outputs": [],
   "source": [
    "eod_act_clean.date = pd.to_datetime(eod_act_clean.date, infer_datetime_format=True)"
   ]
  },
  {
   "cell_type": "markdown",
   "metadata": {},
   "source": [
    "### Test"
   ]
  },
  {
   "cell_type": "code",
   "execution_count": 432,
   "metadata": {},
   "outputs": [
    {
     "data": {
      "text/html": [
       "<div>\n",
       "<style scoped>\n",
       "    .dataframe tbody tr th:only-of-type {\n",
       "        vertical-align: middle;\n",
       "    }\n",
       "\n",
       "    .dataframe tbody tr th {\n",
       "        vertical-align: top;\n",
       "    }\n",
       "\n",
       "    .dataframe thead th {\n",
       "        text-align: right;\n",
       "    }\n",
       "</style>\n",
       "<table border=\"1\" class=\"dataframe\">\n",
       "  <thead>\n",
       "    <tr style=\"text-align: right;\">\n",
       "      <th></th>\n",
       "      <th>date</th>\n",
       "      <th>a</th>\n",
       "      <th>aal</th>\n",
       "      <th>aap</th>\n",
       "      <th>aapl</th>\n",
       "      <th>abbv</th>\n",
       "      <th>abc</th>\n",
       "      <th>abmd</th>\n",
       "      <th>abt</th>\n",
       "      <th>acn</th>\n",
       "      <th>...</th>\n",
       "      <th>xel</th>\n",
       "      <th>xlnx</th>\n",
       "      <th>xom</th>\n",
       "      <th>xray</th>\n",
       "      <th>xrx</th>\n",
       "      <th>xyl</th>\n",
       "      <th>yum</th>\n",
       "      <th>zbh</th>\n",
       "      <th>zion</th>\n",
       "      <th>zts</th>\n",
       "    </tr>\n",
       "  </thead>\n",
       "  <tbody>\n",
       "    <tr>\n",
       "      <th>12</th>\n",
       "      <td>2002-03-28</td>\n",
       "      <td>23.5550</td>\n",
       "      <td>NaN</td>\n",
       "      <td>15.333</td>\n",
       "      <td>1.6907</td>\n",
       "      <td>NaN</td>\n",
       "      <td>16.5685</td>\n",
       "      <td>11.10</td>\n",
       "      <td>23.5406</td>\n",
       "      <td>26.70</td>\n",
       "      <td>...</td>\n",
       "      <td>NaN</td>\n",
       "      <td>39.86</td>\n",
       "      <td>43.83</td>\n",
       "      <td>18.53</td>\n",
       "      <td>28.3219</td>\n",
       "      <td>NaN</td>\n",
       "      <td>10.5665</td>\n",
       "      <td>34.05</td>\n",
       "      <td>59.27</td>\n",
       "      <td>NaN</td>\n",
       "    </tr>\n",
       "    <tr>\n",
       "      <th>60</th>\n",
       "      <td>2014-03-31</td>\n",
       "      <td>39.9877</td>\n",
       "      <td>36.6</td>\n",
       "      <td>126.500</td>\n",
       "      <td>76.6771</td>\n",
       "      <td>51.4</td>\n",
       "      <td>65.5900</td>\n",
       "      <td>26.04</td>\n",
       "      <td>38.5100</td>\n",
       "      <td>79.72</td>\n",
       "      <td>...</td>\n",
       "      <td>NaN</td>\n",
       "      <td>54.27</td>\n",
       "      <td>97.68</td>\n",
       "      <td>46.04</td>\n",
       "      <td>29.7709</td>\n",
       "      <td>36.42</td>\n",
       "      <td>54.2095</td>\n",
       "      <td>94.58</td>\n",
       "      <td>30.98</td>\n",
       "      <td>28.94</td>\n",
       "    </tr>\n",
       "  </tbody>\n",
       "</table>\n",
       "<p>2 rows × 506 columns</p>\n",
       "</div>"
      ],
      "text/plain": [
       "         date        a   aal      aap     aapl  abbv      abc   abmd      abt  \\\n",
       "12 2002-03-28  23.5550   NaN   15.333   1.6907   NaN  16.5685  11.10  23.5406   \n",
       "60 2014-03-31  39.9877  36.6  126.500  76.6771  51.4  65.5900  26.04  38.5100   \n",
       "\n",
       "      acn  ...  xel   xlnx    xom   xray      xrx    xyl      yum    zbh  \\\n",
       "12  26.70  ...  NaN  39.86  43.83  18.53  28.3219    NaN  10.5665  34.05   \n",
       "60  79.72  ...  NaN  54.27  97.68  46.04  29.7709  36.42  54.2095  94.58   \n",
       "\n",
       "     zion    zts  \n",
       "12  59.27    NaN  \n",
       "60  30.98  28.94  \n",
       "\n",
       "[2 rows x 506 columns]"
      ]
     },
     "execution_count": 432,
     "metadata": {},
     "output_type": "execute_result"
    }
   ],
   "source": [
    "eod_act_clean.sample(2)"
   ]
  },
  {
   "cell_type": "code",
   "execution_count": 433,
   "metadata": {},
   "outputs": [
    {
     "name": "stdout",
     "output_type": "stream",
     "text": [
      "<class 'pandas.core.frame.DataFrame'>\n",
      "RangeIndex: 84 entries, 0 to 83\n",
      "Columns: 506 entries, date to zts\n",
      "dtypes: datetime64[ns](1), float64(505)\n",
      "memory usage: 332.1 KB\n"
     ]
    }
   ],
   "source": [
    "#confirm datetime64 present\n",
    "eod_act_clean.info()"
   ]
  },
  {
   "cell_type": "markdown",
   "metadata": {},
   "source": [
    "### Code\n",
    "> **ISSUE 5:** Erroneous data type for **forecast_made** under `eps_fc_terms`.\n",
    "\n",
    "**Define:**\n",
    "\n",
    "- Convert column **forecast_made** to DateTime object."
   ]
  },
  {
   "cell_type": "code",
   "execution_count": 434,
   "metadata": {},
   "outputs": [],
   "source": [
    "eps_fc_terms_clean.forecast_made = pd.to_datetime(eps_fc_terms_clean.forecast_made, infer_datetime_format=True)"
   ]
  },
  {
   "cell_type": "markdown",
   "metadata": {},
   "source": [
    "### Test"
   ]
  },
  {
   "cell_type": "code",
   "execution_count": 435,
   "metadata": {},
   "outputs": [
    {
     "name": "stdout",
     "output_type": "stream",
     "text": [
      "<class 'pandas.core.frame.DataFrame'>\n",
      "Index: 80 entries, 0 to 79\n",
      "Columns: 507 entries, forecast_made to zts\n",
      "dtypes: datetime64[ns](1), float64(505), object(1)\n",
      "memory usage: 317.5+ KB\n"
     ]
    }
   ],
   "source": [
    "#confirm presence of datetime64 object\n",
    "eps_fc_terms_clean.info()"
   ]
  },
  {
   "cell_type": "code",
   "execution_count": 436,
   "metadata": {},
   "outputs": [
    {
     "data": {
      "text/html": [
       "<div>\n",
       "<style scoped>\n",
       "    .dataframe tbody tr th:only-of-type {\n",
       "        vertical-align: middle;\n",
       "    }\n",
       "\n",
       "    .dataframe tbody tr th {\n",
       "        vertical-align: top;\n",
       "    }\n",
       "\n",
       "    .dataframe thead th {\n",
       "        text-align: right;\n",
       "    }\n",
       "</style>\n",
       "<table border=\"1\" class=\"dataframe\">\n",
       "  <thead>\n",
       "    <tr style=\"text-align: right;\">\n",
       "      <th></th>\n",
       "      <th>forecast_made</th>\n",
       "      <th>term</th>\n",
       "      <th>a</th>\n",
       "      <th>aal</th>\n",
       "      <th>aap</th>\n",
       "      <th>aapl</th>\n",
       "      <th>abbv</th>\n",
       "      <th>abc</th>\n",
       "      <th>abmd</th>\n",
       "      <th>abt</th>\n",
       "      <th>...</th>\n",
       "      <th>xel</th>\n",
       "      <th>xlnx</th>\n",
       "      <th>xom</th>\n",
       "      <th>xray</th>\n",
       "      <th>xrx</th>\n",
       "      <th>xyl</th>\n",
       "      <th>yum</th>\n",
       "      <th>zbh</th>\n",
       "      <th>zion</th>\n",
       "      <th>zts</th>\n",
       "    </tr>\n",
       "  </thead>\n",
       "  <tbody>\n",
       "    <tr>\n",
       "      <th>5</th>\n",
       "      <td>2001-01-01</td>\n",
       "      <td>2001Q2</td>\n",
       "      <td>NaN</td>\n",
       "      <td>NaN</td>\n",
       "      <td>NaN</td>\n",
       "      <td>0.006</td>\n",
       "      <td>NaN</td>\n",
       "      <td>NaN</td>\n",
       "      <td>-0.120</td>\n",
       "      <td>0.470</td>\n",
       "      <td>...</td>\n",
       "      <td>NaN</td>\n",
       "      <td>0.311</td>\n",
       "      <td>0.555</td>\n",
       "      <td>0.177</td>\n",
       "      <td>NaN</td>\n",
       "      <td>NaN</td>\n",
       "      <td>0.200</td>\n",
       "      <td>NaN</td>\n",
       "      <td>0.798</td>\n",
       "      <td>NaN</td>\n",
       "    </tr>\n",
       "    <tr>\n",
       "      <th>75</th>\n",
       "      <td>2018-07-01</td>\n",
       "      <td>2018Q4</td>\n",
       "      <td>0.729</td>\n",
       "      <td>1.158</td>\n",
       "      <td>1.125</td>\n",
       "      <td>2.657</td>\n",
       "      <td>1.956</td>\n",
       "      <td>1.529</td>\n",
       "      <td>0.642</td>\n",
       "      <td>0.816</td>\n",
       "      <td>...</td>\n",
       "      <td>0.404</td>\n",
       "      <td>0.830</td>\n",
       "      <td>1.309</td>\n",
       "      <td>0.829</td>\n",
       "      <td>1.095</td>\n",
       "      <td>0.895</td>\n",
       "      <td>0.966</td>\n",
       "      <td>2.135</td>\n",
       "      <td>0.997</td>\n",
       "      <td>0.832</td>\n",
       "    </tr>\n",
       "  </tbody>\n",
       "</table>\n",
       "<p>2 rows × 507 columns</p>\n",
       "</div>"
      ],
      "text/plain": [
       "   forecast_made    term      a    aal    aap   aapl   abbv    abc   abmd  \\\n",
       "5     2001-01-01  2001Q2    NaN    NaN    NaN  0.006    NaN    NaN -0.120   \n",
       "75    2018-07-01  2018Q4  0.729  1.158  1.125  2.657  1.956  1.529  0.642   \n",
       "\n",
       "      abt  ...    xel   xlnx    xom   xray    xrx    xyl    yum    zbh   zion  \\\n",
       "5   0.470  ...    NaN  0.311  0.555  0.177    NaN    NaN  0.200    NaN  0.798   \n",
       "75  0.816  ...  0.404  0.830  1.309  0.829  1.095  0.895  0.966  2.135  0.997   \n",
       "\n",
       "      zts  \n",
       "5     NaN  \n",
       "75  0.832  \n",
       "\n",
       "[2 rows x 507 columns]"
      ]
     },
     "execution_count": 436,
     "metadata": {},
     "output_type": "execute_result"
    }
   ],
   "source": [
    "eps_fc_terms_clean.sample(2)"
   ]
  },
  {
   "cell_type": "markdown",
   "metadata": {},
   "source": [
    "### Code\n",
    "> **ISSUE 6:** Erroneous data types for **term** under `eps_act`, `eps_fc`, and `eps_fc_terms` to DateTime quarter index\n",
    "\n",
    "**Define:** Convert YYYYQQ formats into DateTime quarter index type"
   ]
  },
  {
   "cell_type": "code",
   "execution_count": 437,
   "metadata": {},
   "outputs": [],
   "source": [
    "#helper function to turn a column into Quarter Period type\n",
    "def convert_period(df, col):\n",
    "    return pd.to_datetime(df[col]).dt.to_period('Q')\n",
    "# eps_fc_terms_clean.term = pd.PeriodIndex(eps_fc_terms_clean.term, freq='Q')"
   ]
  },
  {
   "cell_type": "code",
   "execution_count": 438,
   "metadata": {},
   "outputs": [],
   "source": [
    "#convert term fields to Period type\n",
    "eps_fc_clean.term = convert_period(eps_fc_clean, 'term')\n",
    "eps_act_clean.term = convert_period(eps_act_clean, 'term')\n",
    "eps_fc_terms_clean.term = convert_period(eps_fc_terms_clean, 'term')"
   ]
  },
  {
   "cell_type": "markdown",
   "metadata": {},
   "source": [
    "### Test"
   ]
  },
  {
   "cell_type": "code",
   "execution_count": 439,
   "metadata": {},
   "outputs": [
    {
     "name": "stdout",
     "output_type": "stream",
     "text": [
      "period[Q-DEC]\n",
      "period[Q-DEC]\n",
      "period[Q-DEC]\n"
     ]
    }
   ],
   "source": [
    "#verify Period Object types\n",
    "print(eps_fc_clean.dtypes['term'])\n",
    "print(eps_act_clean.dtypes['term'])\n",
    "print(eps_fc_terms_clean.dtypes['term'])"
   ]
  },
  {
   "cell_type": "markdown",
   "metadata": {},
   "source": [
    "### Code\n",
    "> **ISSUE 7:** No recorded quarterly data for `eod_act`\n",
    "\n",
    "**Define:** Add a new column **term**"
   ]
  },
  {
   "cell_type": "code",
   "execution_count": 440,
   "metadata": {},
   "outputs": [],
   "source": [
    "eod_act_clean['term'] = eod_act_clean.date.dt.to_period('Q')"
   ]
  },
  {
   "cell_type": "code",
   "execution_count": 441,
   "metadata": {},
   "outputs": [],
   "source": [
    "#reorder columns\n",
    "eod_cols = ['date', 'term'] + [col for col in eod_act_clean.iloc[:, 1:] if col!='term']"
   ]
  },
  {
   "cell_type": "code",
   "execution_count": 442,
   "metadata": {},
   "outputs": [],
   "source": [
    "eod_act_clean = eod_act_clean.reindex(columns = eod_cols)"
   ]
  },
  {
   "cell_type": "markdown",
   "metadata": {},
   "source": [
    "### Test"
   ]
  },
  {
   "cell_type": "code",
   "execution_count": 443,
   "metadata": {},
   "outputs": [
    {
     "data": {
      "text/html": [
       "<div>\n",
       "<style scoped>\n",
       "    .dataframe tbody tr th:only-of-type {\n",
       "        vertical-align: middle;\n",
       "    }\n",
       "\n",
       "    .dataframe tbody tr th {\n",
       "        vertical-align: top;\n",
       "    }\n",
       "\n",
       "    .dataframe thead th {\n",
       "        text-align: right;\n",
       "    }\n",
       "</style>\n",
       "<table border=\"1\" class=\"dataframe\">\n",
       "  <thead>\n",
       "    <tr style=\"text-align: right;\">\n",
       "      <th></th>\n",
       "      <th>date</th>\n",
       "      <th>term</th>\n",
       "      <th>a</th>\n",
       "      <th>aal</th>\n",
       "      <th>aap</th>\n",
       "      <th>aapl</th>\n",
       "      <th>abbv</th>\n",
       "      <th>abc</th>\n",
       "      <th>abmd</th>\n",
       "      <th>abt</th>\n",
       "      <th>...</th>\n",
       "      <th>xel</th>\n",
       "      <th>xlnx</th>\n",
       "      <th>xom</th>\n",
       "      <th>xray</th>\n",
       "      <th>xrx</th>\n",
       "      <th>xyl</th>\n",
       "      <th>yum</th>\n",
       "      <th>zbh</th>\n",
       "      <th>zion</th>\n",
       "      <th>zts</th>\n",
       "    </tr>\n",
       "  </thead>\n",
       "  <tbody>\n",
       "    <tr>\n",
       "      <th>0</th>\n",
       "      <td>1999-03-31</td>\n",
       "      <td>1999Q1</td>\n",
       "      <td>NaN</td>\n",
       "      <td>NaN</td>\n",
       "      <td>NaN</td>\n",
       "      <td>1.2835</td>\n",
       "      <td>NaN</td>\n",
       "      <td>8.2934</td>\n",
       "      <td>6.250</td>\n",
       "      <td>20.9504</td>\n",
       "      <td>...</td>\n",
       "      <td>NaN</td>\n",
       "      <td>20.2813</td>\n",
       "      <td>35.2813</td>\n",
       "      <td>7.7500</td>\n",
       "      <td>140.6214</td>\n",
       "      <td>NaN</td>\n",
       "      <td>12.6284</td>\n",
       "      <td>NaN</td>\n",
       "      <td>66.5000</td>\n",
       "      <td>NaN</td>\n",
       "    </tr>\n",
       "    <tr>\n",
       "      <th>1</th>\n",
       "      <td>1999-06-30</td>\n",
       "      <td>1999Q2</td>\n",
       "      <td>NaN</td>\n",
       "      <td>NaN</td>\n",
       "      <td>NaN</td>\n",
       "      <td>1.6540</td>\n",
       "      <td>NaN</td>\n",
       "      <td>6.1859</td>\n",
       "      <td>6.875</td>\n",
       "      <td>20.3630</td>\n",
       "      <td>...</td>\n",
       "      <td>NaN</td>\n",
       "      <td>28.6250</td>\n",
       "      <td>38.5625</td>\n",
       "      <td>9.6250</td>\n",
       "      <td>155.6057</td>\n",
       "      <td>NaN</td>\n",
       "      <td>9.7297</td>\n",
       "      <td>NaN</td>\n",
       "      <td>63.5000</td>\n",
       "      <td>NaN</td>\n",
       "    </tr>\n",
       "    <tr>\n",
       "      <th>2</th>\n",
       "      <td>1999-09-30</td>\n",
       "      <td>1999Q3</td>\n",
       "      <td>NaN</td>\n",
       "      <td>NaN</td>\n",
       "      <td>NaN</td>\n",
       "      <td>2.2612</td>\n",
       "      <td>NaN</td>\n",
       "      <td>5.7462</td>\n",
       "      <td>7.750</td>\n",
       "      <td>16.4471</td>\n",
       "      <td>...</td>\n",
       "      <td>NaN</td>\n",
       "      <td>32.7656</td>\n",
       "      <td>37.9688</td>\n",
       "      <td>7.5833</td>\n",
       "      <td>110.4883</td>\n",
       "      <td>NaN</td>\n",
       "      <td>7.3591</td>\n",
       "      <td>NaN</td>\n",
       "      <td>55.1250</td>\n",
       "      <td>NaN</td>\n",
       "    </tr>\n",
       "    <tr>\n",
       "      <th>3</th>\n",
       "      <td>1999-12-31</td>\n",
       "      <td>1999Q4</td>\n",
       "      <td>52.0909</td>\n",
       "      <td>NaN</td>\n",
       "      <td>NaN</td>\n",
       "      <td>3.6719</td>\n",
       "      <td>NaN</td>\n",
       "      <td>3.6843</td>\n",
       "      <td>18.375</td>\n",
       "      <td>16.2513</td>\n",
       "      <td>...</td>\n",
       "      <td>NaN</td>\n",
       "      <td>45.4688</td>\n",
       "      <td>40.2813</td>\n",
       "      <td>7.8750</td>\n",
       "      <td>59.7723</td>\n",
       "      <td>NaN</td>\n",
       "      <td>6.9434</td>\n",
       "      <td>NaN</td>\n",
       "      <td>59.1875</td>\n",
       "      <td>NaN</td>\n",
       "    </tr>\n",
       "    <tr>\n",
       "      <th>4</th>\n",
       "      <td>2000-03-31</td>\n",
       "      <td>2000Q1</td>\n",
       "      <td>70.0721</td>\n",
       "      <td>NaN</td>\n",
       "      <td>NaN</td>\n",
       "      <td>4.8504</td>\n",
       "      <td>NaN</td>\n",
       "      <td>3.6388</td>\n",
       "      <td>20.250</td>\n",
       "      <td>15.7478</td>\n",
       "      <td>...</td>\n",
       "      <td>NaN</td>\n",
       "      <td>82.8125</td>\n",
       "      <td>38.9063</td>\n",
       "      <td>9.4583</td>\n",
       "      <td>68.4994</td>\n",
       "      <td>NaN</td>\n",
       "      <td>5.5839</td>\n",
       "      <td>NaN</td>\n",
       "      <td>41.6250</td>\n",
       "      <td>NaN</td>\n",
       "    </tr>\n",
       "  </tbody>\n",
       "</table>\n",
       "<p>5 rows × 507 columns</p>\n",
       "</div>"
      ],
      "text/plain": [
       "        date    term        a  aal  aap    aapl  abbv     abc    abmd  \\\n",
       "0 1999-03-31  1999Q1      NaN  NaN  NaN  1.2835   NaN  8.2934   6.250   \n",
       "1 1999-06-30  1999Q2      NaN  NaN  NaN  1.6540   NaN  6.1859   6.875   \n",
       "2 1999-09-30  1999Q3      NaN  NaN  NaN  2.2612   NaN  5.7462   7.750   \n",
       "3 1999-12-31  1999Q4  52.0909  NaN  NaN  3.6719   NaN  3.6843  18.375   \n",
       "4 2000-03-31  2000Q1  70.0721  NaN  NaN  4.8504   NaN  3.6388  20.250   \n",
       "\n",
       "       abt  ...  xel     xlnx      xom    xray       xrx  xyl      yum  zbh  \\\n",
       "0  20.9504  ...  NaN  20.2813  35.2813  7.7500  140.6214  NaN  12.6284  NaN   \n",
       "1  20.3630  ...  NaN  28.6250  38.5625  9.6250  155.6057  NaN   9.7297  NaN   \n",
       "2  16.4471  ...  NaN  32.7656  37.9688  7.5833  110.4883  NaN   7.3591  NaN   \n",
       "3  16.2513  ...  NaN  45.4688  40.2813  7.8750   59.7723  NaN   6.9434  NaN   \n",
       "4  15.7478  ...  NaN  82.8125  38.9063  9.4583   68.4994  NaN   5.5839  NaN   \n",
       "\n",
       "      zion  zts  \n",
       "0  66.5000  NaN  \n",
       "1  63.5000  NaN  \n",
       "2  55.1250  NaN  \n",
       "3  59.1875  NaN  \n",
       "4  41.6250  NaN  \n",
       "\n",
       "[5 rows x 507 columns]"
      ]
     },
     "execution_count": 443,
     "metadata": {},
     "output_type": "execute_result"
    }
   ],
   "source": [
    "#verify column order\n",
    "eod_act_clean.head()"
   ]
  },
  {
   "cell_type": "code",
   "execution_count": 444,
   "metadata": {},
   "outputs": [
    {
     "data": {
      "text/plain": [
       "84"
      ]
     },
     "execution_count": 444,
     "metadata": {},
     "output_type": "execute_result"
    }
   ],
   "source": [
    "#verify 84 columns\n",
    "eod_act_clean.shape[0]"
   ]
  },
  {
   "cell_type": "code",
   "execution_count": 445,
   "metadata": {},
   "outputs": [
    {
     "name": "stdout",
     "output_type": "stream",
     "text": [
      "<class 'pandas.core.frame.DataFrame'>\n",
      "RangeIndex: 84 entries, 0 to 83\n",
      "Columns: 507 entries, date to zts\n",
      "dtypes: datetime64[ns](1), float64(505), period[Q-DEC](1)\n",
      "memory usage: 332.8 KB\n"
     ]
    }
   ],
   "source": [
    "eod_act_clean.info()"
   ]
  },
  {
   "cell_type": "markdown",
   "metadata": {},
   "source": [
    "## All full years are normalized to YYYY-MM-DD, and all quarterly records to YYYY-QQ.\n",
    "\n",
    "## This is to enable for more efficient handling, cleaning, and classifying of data later on."
   ]
  },
  {
   "cell_type": "markdown",
   "metadata": {},
   "source": [
    "### Code\n",
    "\n",
    "**ISSUE 8:** Firm names not referenced by **firm_id**\n",
    "\n",
    "**Define:**\n",
    "- Assign a **firm_id** to each firm for future normalization.\n",
    "\n",
    "- Generate new CSV named `firms.csv`"
   ]
  },
  {
   "cell_type": "code",
   "execution_count": 446,
   "metadata": {},
   "outputs": [],
   "source": [
    "#get firm names\n",
    "firm_names = eps_act_clean.columns[1:].to_numpy()"
   ]
  },
  {
   "cell_type": "code",
   "execution_count": 447,
   "metadata": {},
   "outputs": [],
   "source": [
    "#assign ids to firm names\n",
    "firm_names_ids = {}\n",
    "counter = 0\n",
    "\n",
    "for firm in firm_names:\n",
    "    firm_names_ids.update({firm: counter})\n",
    "    counter += 1"
   ]
  },
  {
   "cell_type": "code",
   "execution_count": 448,
   "metadata": {},
   "outputs": [],
   "source": [
    "#generate new DF\n",
    "firm_ids = pd.DataFrame(list(firm_names_ids.items())).rename(columns = {0: 'firm', 1: 'firm_id'})"
   ]
  },
  {
   "cell_type": "code",
   "execution_count": 449,
   "metadata": {},
   "outputs": [],
   "source": [
    "#switch firm and firm_id columns\n",
    "firm_ids = firm_ids.reindex(columns = ['firm_id', 'firm'])"
   ]
  },
  {
   "cell_type": "markdown",
   "metadata": {},
   "source": [
    "### Test"
   ]
  },
  {
   "cell_type": "code",
   "execution_count": 450,
   "metadata": {},
   "outputs": [
    {
     "data": {
      "text/html": [
       "<div>\n",
       "<style scoped>\n",
       "    .dataframe tbody tr th:only-of-type {\n",
       "        vertical-align: middle;\n",
       "    }\n",
       "\n",
       "    .dataframe tbody tr th {\n",
       "        vertical-align: top;\n",
       "    }\n",
       "\n",
       "    .dataframe thead th {\n",
       "        text-align: right;\n",
       "    }\n",
       "</style>\n",
       "<table border=\"1\" class=\"dataframe\">\n",
       "  <thead>\n",
       "    <tr style=\"text-align: right;\">\n",
       "      <th></th>\n",
       "      <th>firm_id</th>\n",
       "      <th>firm</th>\n",
       "    </tr>\n",
       "  </thead>\n",
       "  <tbody>\n",
       "    <tr>\n",
       "      <th>460</th>\n",
       "      <td>460</td>\n",
       "      <td>unp</td>\n",
       "    </tr>\n",
       "    <tr>\n",
       "      <th>405</th>\n",
       "      <td>405</td>\n",
       "      <td>rsg</td>\n",
       "    </tr>\n",
       "    <tr>\n",
       "      <th>363</th>\n",
       "      <td>363</td>\n",
       "      <td>pbct</td>\n",
       "    </tr>\n",
       "    <tr>\n",
       "      <th>210</th>\n",
       "      <td>210</td>\n",
       "      <td>gpc</td>\n",
       "    </tr>\n",
       "    <tr>\n",
       "      <th>448</th>\n",
       "      <td>448</td>\n",
       "      <td>ttwo</td>\n",
       "    </tr>\n",
       "    <tr>\n",
       "      <th>83</th>\n",
       "      <td>83</td>\n",
       "      <td>cb</td>\n",
       "    </tr>\n",
       "    <tr>\n",
       "      <th>156</th>\n",
       "      <td>156</td>\n",
       "      <td>ebay</td>\n",
       "    </tr>\n",
       "    <tr>\n",
       "      <th>269</th>\n",
       "      <td>269</td>\n",
       "      <td>key</td>\n",
       "    </tr>\n",
       "    <tr>\n",
       "      <th>116</th>\n",
       "      <td>116</td>\n",
       "      <td>coty</td>\n",
       "    </tr>\n",
       "    <tr>\n",
       "      <th>171</th>\n",
       "      <td>171</td>\n",
       "      <td>etr</td>\n",
       "    </tr>\n",
       "  </tbody>\n",
       "</table>\n",
       "</div>"
      ],
      "text/plain": [
       "     firm_id  firm\n",
       "460      460   unp\n",
       "405      405   rsg\n",
       "363      363  pbct\n",
       "210      210   gpc\n",
       "448      448  ttwo\n",
       "83        83    cb\n",
       "156      156  ebay\n",
       "269      269   key\n",
       "116      116  coty\n",
       "171      171   etr"
      ]
     },
     "execution_count": 450,
     "metadata": {},
     "output_type": "execute_result"
    }
   ],
   "source": [
    "firm_ids.sample(10)"
   ]
  },
  {
   "cell_type": "code",
   "execution_count": 451,
   "metadata": {},
   "outputs": [
    {
     "name": "stdout",
     "output_type": "stream",
     "text": [
      "<class 'pandas.core.frame.DataFrame'>\n",
      "RangeIndex: 505 entries, 0 to 504\n",
      "Data columns (total 2 columns):\n",
      "firm_id    505 non-null int64\n",
      "firm       505 non-null object\n",
      "dtypes: int64(1), object(1)\n",
      "memory usage: 8.0+ KB\n"
     ]
    }
   ],
   "source": [
    "firm_ids.info()"
   ]
  },
  {
   "cell_type": "markdown",
   "metadata": {},
   "source": [
    "### Code\n",
    "> **ISSUE 9:** No recorded 20-year averages for each dataset.\n",
    "\n",
    "**Define:**\n",
    "\n",
    "\n",
    "- Isolate 20-year averages for each firm into its own DataFrame\n",
    "\n",
    "- Create new DataFrame `twenty_avgs` depicting all 20-year averages for each firm"
   ]
  },
  {
   "cell_type": "code",
   "execution_count": 452,
   "metadata": {},
   "outputs": [],
   "source": [
    "#convert foreign keys to str temporarily\n",
    "firm_ids_str = {str(k):str(v) for k, v in firm_names_ids.items()}\n",
    "# firm_ids_str = {y:x for x, y in firm_ids_str.items()}"
   ]
  },
  {
   "cell_type": "code",
   "execution_count": 453,
   "metadata": {},
   "outputs": [],
   "source": [
    "#helper function to get 20-year averages\n",
    "def get_twenty_yr_avg(df, index_names, col_name, firm_ids_str):\n",
    "    df = pd.DataFrame({col_name : df[index_names].mean()}).rename_axis('firm_id').reset_index()\n",
    "    df['firm_id'] = df['firm_id'].map(firm_ids_str)\n",
    "    return df"
   ]
  },
  {
   "cell_type": "code",
   "execution_count": 454,
   "metadata": {},
   "outputs": [],
   "source": [
    "#get 20-year averages\n",
    "eps_fc_twenty_avg = get_twenty_yr_avg(eps_fc_clean, firm_names, 'eps_fc', firm_ids_str)\n",
    "eps_act_twenty_avg = get_twenty_yr_avg(eps_act_clean, firm_names, 'eps_act', firm_ids_str)\n",
    "eod_act_twenty_avg = get_twenty_yr_avg(eod_act_clean, firm_names, 'eod_act', firm_ids_str)\n",
    "eps_fc_terms_twenty_avg = get_twenty_yr_avg(eps_fc_terms_clean, firm_names, 'eps_fc_terms', firm_ids_str)"
   ]
  },
  {
   "cell_type": "code",
   "execution_count": 455,
   "metadata": {},
   "outputs": [],
   "source": [
    "#put averages into a list\n",
    "twenty_avg_list = [eps_fc_twenty_avg,\n",
    "                  eps_act_twenty_avg,\n",
    "                  eod_act_twenty_avg,\n",
    "                  eps_fc_terms_twenty_avg]"
   ]
  },
  {
   "cell_type": "code",
   "execution_count": 456,
   "metadata": {},
   "outputs": [],
   "source": [
    "#merge all Series\n",
    "df_twenty_year_avgs = reduce(lambda x, y: pd.merge(x, y, on = 'firm_id', how = 'outer'), twenty_avg_list)"
   ]
  },
  {
   "cell_type": "markdown",
   "metadata": {},
   "source": [
    "### Test"
   ]
  },
  {
   "cell_type": "code",
   "execution_count": 457,
   "metadata": {},
   "outputs": [
    {
     "data": {
      "text/html": [
       "<div>\n",
       "<style scoped>\n",
       "    .dataframe tbody tr th:only-of-type {\n",
       "        vertical-align: middle;\n",
       "    }\n",
       "\n",
       "    .dataframe tbody tr th {\n",
       "        vertical-align: top;\n",
       "    }\n",
       "\n",
       "    .dataframe thead th {\n",
       "        text-align: right;\n",
       "    }\n",
       "</style>\n",
       "<table border=\"1\" class=\"dataframe\">\n",
       "  <thead>\n",
       "    <tr style=\"text-align: right;\">\n",
       "      <th></th>\n",
       "      <th>firm_id</th>\n",
       "      <th>eps_fc</th>\n",
       "      <th>eps_act</th>\n",
       "      <th>eod_act</th>\n",
       "      <th>eps_fc_terms</th>\n",
       "    </tr>\n",
       "  </thead>\n",
       "  <tbody>\n",
       "    <tr>\n",
       "      <th>261</th>\n",
       "      <td>261</td>\n",
       "      <td>1.155627</td>\n",
       "      <td>0.517884</td>\n",
       "      <td>27.285554</td>\n",
       "      <td>1.281152</td>\n",
       "    </tr>\n",
       "    <tr>\n",
       "      <th>394</th>\n",
       "      <td>394</td>\n",
       "      <td>0.295431</td>\n",
       "      <td>0.352524</td>\n",
       "      <td>65.600000</td>\n",
       "      <td>0.350393</td>\n",
       "    </tr>\n",
       "    <tr>\n",
       "      <th>242</th>\n",
       "      <td>242</td>\n",
       "      <td>0.342000</td>\n",
       "      <td>0.368156</td>\n",
       "      <td>53.994630</td>\n",
       "      <td>0.398239</td>\n",
       "    </tr>\n",
       "    <tr>\n",
       "      <th>488</th>\n",
       "      <td>488</td>\n",
       "      <td>0.233048</td>\n",
       "      <td>0.113171</td>\n",
       "      <td>24.628083</td>\n",
       "      <td>0.288237</td>\n",
       "    </tr>\n",
       "    <tr>\n",
       "      <th>151</th>\n",
       "      <td>151</td>\n",
       "      <td>1.142917</td>\n",
       "      <td>0.974371</td>\n",
       "      <td>60.768111</td>\n",
       "      <td>1.205722</td>\n",
       "    </tr>\n",
       "  </tbody>\n",
       "</table>\n",
       "</div>"
      ],
      "text/plain": [
       "    firm_id    eps_fc   eps_act    eod_act  eps_fc_terms\n",
       "261     261  1.155627  0.517884  27.285554      1.281152\n",
       "394     394  0.295431  0.352524  65.600000      0.350393\n",
       "242     242  0.342000  0.368156  53.994630      0.398239\n",
       "488     488  0.233048  0.113171  24.628083      0.288237\n",
       "151     151  1.142917  0.974371  60.768111      1.205722"
      ]
     },
     "execution_count": 457,
     "metadata": {},
     "output_type": "execute_result"
    }
   ],
   "source": [
    "df_twenty_year_avgs.sample(5)"
   ]
  },
  {
   "cell_type": "code",
   "execution_count": 458,
   "metadata": {},
   "outputs": [
    {
     "data": {
      "text/plain": [
       "505"
      ]
     },
     "execution_count": 458,
     "metadata": {},
     "output_type": "execute_result"
    }
   ],
   "source": [
    "#check there are 505 firms\n",
    "df_twenty_year_avgs.firm_id.nunique()"
   ]
  },
  {
   "cell_type": "code",
   "execution_count": 459,
   "metadata": {},
   "outputs": [
    {
     "data": {
      "text/plain": [
       "firm_id         False\n",
       "eps_fc          False\n",
       "eps_act          True\n",
       "eod_act         False\n",
       "eps_fc_terms     True\n",
       "dtype: bool"
      ]
     },
     "execution_count": 459,
     "metadata": {},
     "output_type": "execute_result"
    }
   ],
   "source": [
    "#check missing data\n",
    "df_twenty_year_avgs.isna().any()"
   ]
  },
  {
   "cell_type": "code",
   "execution_count": 460,
   "metadata": {},
   "outputs": [
    {
     "data": {
      "text/plain": [
       "False"
      ]
     },
     "execution_count": 460,
     "metadata": {},
     "output_type": "execute_result"
    }
   ],
   "source": [
    "#check duplicate data\n",
    "df_twenty_year_avgs.duplicated().any()"
   ]
  },
  {
   "cell_type": "markdown",
   "metadata": {},
   "source": [
    "### Code\n",
    "> **ISSUE 10:** No recorded yearly averages for each dataset.\n",
    "\n",
    "**Define:**\n",
    "- Create 4 separate DataFrames for all attributes\n",
    "- Rename columns to \"Feature_Year\" (e.g. eps_fc_1999, eod_act_2000, etc.)\n",
    "- Outer merge all DataFrames to create new DataFrame, `df_yearly_avgs`, on **firms** attribute"
   ]
  },
  {
   "cell_type": "code",
   "execution_count": 461,
   "metadata": {},
   "outputs": [],
   "source": [
    "#helper function to calculate yearly average of each DataFrame\n",
    "def calculate_df_yearly_avgs(df, col, firm_ids_str):\n",
    "    #extract year from dates, reset index, and remove index name\n",
    "    df = df.groupby(df[col].dt.year).mean().transpose().rename_axis('firm_id').reset_index().rename_axis(None, axis = 1)\n",
    "    \n",
    "    df['firm_id'] = df['firm_id'].map(firm_ids_str)\n",
    "    \n",
    "    return df"
   ]
  },
  {
   "cell_type": "code",
   "execution_count": 462,
   "metadata": {},
   "outputs": [],
   "source": [
    "#helper function to melt columns\n",
    "def melt_avgs(df, firm_id, var_name):\n",
    "    return df.melt(id_vars = [firm_id],\n",
    "                value_vars = df.columns.difference([firm_id]),\n",
    "                var_name = var_name,\n",
    "                value_name = 'average')"
   ]
  },
  {
   "cell_type": "code",
   "execution_count": 463,
   "metadata": {},
   "outputs": [],
   "source": [
    "#calculate and melt\n",
    "def create_df_yearly_avgs(df, col, firm_ids_str, firm_id):\n",
    "    df = calculate_df_yearly_avgs(df, 'term', firm_ids_str)\n",
    "    df = melt_avgs(df, firm_id, 'year')\n",
    "    return df"
   ]
  },
  {
   "cell_type": "code",
   "execution_count": 469,
   "metadata": {},
   "outputs": [],
   "source": [
    "#generate DataFrames of all yearly averages\n",
    "df_eps_fc_yearly_avgs = create_df_yearly_avgs(eps_fc_clean, 'term', firm_ids_str, 'firm_id')\n",
    "df_eps_act_yearly_avgs = create_df_yearly_avgs(eps_act_clean, 'term', firm_ids_str, 'firm_id')\n",
    "\n",
    "#for eod_act, doesn't matter if we use date or term field\n",
    "df_eod_act_yearly_avgs = create_df_yearly_avgs(eod_act_clean, 'date', firm_ids_str, 'firm_id')\n",
    "df_eps_fc_terms_yearly_avgs = create_df_yearly_avgs(eps_fc_terms_clean, 'term', firm_ids_str, 'firm_id')"
   ]
  },
  {
   "cell_type": "code",
   "execution_count": 470,
   "metadata": {},
   "outputs": [],
   "source": [
    "def store_df(path, df, csv_name):\n",
    "    df.to_csv(path + csv_name, encoding = 'utf-8', index = False)"
   ]
  },
  {
   "cell_type": "code",
   "execution_count": 473,
   "metadata": {},
   "outputs": [],
   "source": [
    "#create copies\n",
    "eps_fc_yearly_avgs = df_eps_fc_yearly_avgs.copy()\n",
    "eps_act_yearly_avgs = df_eps_act_yearly_avgs.copy()\n",
    "eod_act_yearly_avgs = df_eod_act_yearly_avgs.copy()\n",
    "eps_fc_terms_yearly_avgs = df_eps_fc_terms_yearly_avgs.copy()"
   ]
  },
  {
   "cell_type": "code",
   "execution_count": 474,
   "metadata": {},
   "outputs": [],
   "source": [
    "#add new column entailing \"type\" of feature before concat\n",
    "eps_fc_yearly_avgs = eps_fc_yearly_avgs.assign(feature = 'eps_fc')\n",
    "eps_act_yearly_avgs = eps_act_yearly_avgs.assign(feature = 'eps_act')\n",
    "eod_act_yearly_avgs = eod_act_yearly_avgs.assign(feature = 'eod_act')\n",
    "eps_fc_terms_yearly_avgs = eps_fc_terms_yearly_avgs.assign(feature = 'eps_fc_terms')"
   ]
  },
  {
   "cell_type": "code",
   "execution_count": 475,
   "metadata": {},
   "outputs": [],
   "source": [
    "yearly_avgs_arr = [eps_fc_yearly_avgs, \n",
    "                  eps_act_yearly_avgs,\n",
    "                  eod_act_yearly_avgs,\n",
    "                  eps_fc_terms_yearly_avgs]"
   ]
  },
  {
   "cell_type": "code",
   "execution_count": 476,
   "metadata": {},
   "outputs": [],
   "source": [
    "#merge all yearly average DataFrames\n",
    "df_yearly_avgs = pd.concat(yearly_avgs_arr)"
   ]
  },
  {
   "cell_type": "markdown",
   "metadata": {},
   "source": [
    "### Test"
   ]
  },
  {
   "cell_type": "code",
   "execution_count": 477,
   "metadata": {},
   "outputs": [
    {
     "data": {
      "text/html": [
       "<div>\n",
       "<style scoped>\n",
       "    .dataframe tbody tr th:only-of-type {\n",
       "        vertical-align: middle;\n",
       "    }\n",
       "\n",
       "    .dataframe tbody tr th {\n",
       "        vertical-align: top;\n",
       "    }\n",
       "\n",
       "    .dataframe thead th {\n",
       "        text-align: right;\n",
       "    }\n",
       "</style>\n",
       "<table border=\"1\" class=\"dataframe\">\n",
       "  <thead>\n",
       "    <tr style=\"text-align: right;\">\n",
       "      <th></th>\n",
       "      <th>firm_id</th>\n",
       "      <th>year</th>\n",
       "      <th>average</th>\n",
       "      <th>feature</th>\n",
       "    </tr>\n",
       "  </thead>\n",
       "  <tbody>\n",
       "    <tr>\n",
       "      <th>6497</th>\n",
       "      <td>437</td>\n",
       "      <td>2011</td>\n",
       "      <td>0.96625</td>\n",
       "      <td>eps_fc</td>\n",
       "    </tr>\n",
       "    <tr>\n",
       "      <th>3771</th>\n",
       "      <td>236</td>\n",
       "      <td>2006</td>\n",
       "      <td>0.26250</td>\n",
       "      <td>eps_fc</td>\n",
       "    </tr>\n",
       "    <tr>\n",
       "      <th>8118</th>\n",
       "      <td>38</td>\n",
       "      <td>2015</td>\n",
       "      <td>0.47000</td>\n",
       "      <td>eps_fc</td>\n",
       "    </tr>\n",
       "    <tr>\n",
       "      <th>7946</th>\n",
       "      <td>371</td>\n",
       "      <td>2014</td>\n",
       "      <td>1.60400</td>\n",
       "      <td>eps_fc</td>\n",
       "    </tr>\n",
       "    <tr>\n",
       "      <th>2873</th>\n",
       "      <td>348</td>\n",
       "      <td>2004</td>\n",
       "      <td>0.09425</td>\n",
       "      <td>eps_fc</td>\n",
       "    </tr>\n",
       "    <tr>\n",
       "      <th>8808</th>\n",
       "      <td>223</td>\n",
       "      <td>2016</td>\n",
       "      <td>-1.34600</td>\n",
       "      <td>eps_fc</td>\n",
       "    </tr>\n",
       "    <tr>\n",
       "      <th>5848</th>\n",
       "      <td>293</td>\n",
       "      <td>2010</td>\n",
       "      <td>0.31775</td>\n",
       "      <td>eps_fc</td>\n",
       "    </tr>\n",
       "    <tr>\n",
       "      <th>2905</th>\n",
       "      <td>380</td>\n",
       "      <td>2004</td>\n",
       "      <td>0.46650</td>\n",
       "      <td>eps_fc</td>\n",
       "    </tr>\n",
       "    <tr>\n",
       "      <th>4821</th>\n",
       "      <td>276</td>\n",
       "      <td>2008</td>\n",
       "      <td>0.23050</td>\n",
       "      <td>eps_fc</td>\n",
       "    </tr>\n",
       "    <tr>\n",
       "      <th>1244</th>\n",
       "      <td>234</td>\n",
       "      <td>2001</td>\n",
       "      <td>NaN</td>\n",
       "      <td>eps_fc</td>\n",
       "    </tr>\n",
       "  </tbody>\n",
       "</table>\n",
       "</div>"
      ],
      "text/plain": [
       "     firm_id  year  average feature\n",
       "6497     437  2011  0.96625  eps_fc\n",
       "3771     236  2006  0.26250  eps_fc\n",
       "8118      38  2015  0.47000  eps_fc\n",
       "7946     371  2014  1.60400  eps_fc\n",
       "2873     348  2004  0.09425  eps_fc\n",
       "8808     223  2016 -1.34600  eps_fc\n",
       "5848     293  2010  0.31775  eps_fc\n",
       "2905     380  2004  0.46650  eps_fc\n",
       "4821     276  2008  0.23050  eps_fc\n",
       "1244     234  2001      NaN  eps_fc"
      ]
     },
     "execution_count": 477,
     "metadata": {},
     "output_type": "execute_result"
    }
   ],
   "source": [
    "#each average, individually\n",
    "\n",
    "#eps_fc_yearly\n",
    "eps_fc_yearly_avgs.sample(10)"
   ]
  },
  {
   "cell_type": "code",
   "execution_count": 478,
   "metadata": {},
   "outputs": [
    {
     "data": {
      "text/html": [
       "<div>\n",
       "<style scoped>\n",
       "    .dataframe tbody tr th:only-of-type {\n",
       "        vertical-align: middle;\n",
       "    }\n",
       "\n",
       "    .dataframe tbody tr th {\n",
       "        vertical-align: top;\n",
       "    }\n",
       "\n",
       "    .dataframe thead th {\n",
       "        text-align: right;\n",
       "    }\n",
       "</style>\n",
       "<table border=\"1\" class=\"dataframe\">\n",
       "  <thead>\n",
       "    <tr style=\"text-align: right;\">\n",
       "      <th></th>\n",
       "      <th>firm_id</th>\n",
       "      <th>year</th>\n",
       "      <th>average</th>\n",
       "      <th>feature</th>\n",
       "    </tr>\n",
       "  </thead>\n",
       "  <tbody>\n",
       "    <tr>\n",
       "      <th>2589</th>\n",
       "      <td>64</td>\n",
       "      <td>2004</td>\n",
       "      <td>0.462500</td>\n",
       "      <td>eps_act</td>\n",
       "    </tr>\n",
       "    <tr>\n",
       "      <th>6987</th>\n",
       "      <td>422</td>\n",
       "      <td>2012</td>\n",
       "      <td>0.905000</td>\n",
       "      <td>eps_act</td>\n",
       "    </tr>\n",
       "    <tr>\n",
       "      <th>5934</th>\n",
       "      <td>379</td>\n",
       "      <td>2010</td>\n",
       "      <td>0.807500</td>\n",
       "      <td>eps_act</td>\n",
       "    </tr>\n",
       "    <tr>\n",
       "      <th>2196</th>\n",
       "      <td>176</td>\n",
       "      <td>2003</td>\n",
       "      <td>NaN</td>\n",
       "      <td>eps_act</td>\n",
       "    </tr>\n",
       "    <tr>\n",
       "      <th>4312</th>\n",
       "      <td>272</td>\n",
       "      <td>2007</td>\n",
       "      <td>0.420000</td>\n",
       "      <td>eps_act</td>\n",
       "    </tr>\n",
       "    <tr>\n",
       "      <th>10339</th>\n",
       "      <td>239</td>\n",
       "      <td>2019</td>\n",
       "      <td>5.433333</td>\n",
       "      <td>eps_act</td>\n",
       "    </tr>\n",
       "    <tr>\n",
       "      <th>8269</th>\n",
       "      <td>189</td>\n",
       "      <td>2015</td>\n",
       "      <td>0.510000</td>\n",
       "      <td>eps_act</td>\n",
       "    </tr>\n",
       "    <tr>\n",
       "      <th>7834</th>\n",
       "      <td>259</td>\n",
       "      <td>2014</td>\n",
       "      <td>0.567500</td>\n",
       "      <td>eps_act</td>\n",
       "    </tr>\n",
       "    <tr>\n",
       "      <th>3905</th>\n",
       "      <td>370</td>\n",
       "      <td>2006</td>\n",
       "      <td>0.537500</td>\n",
       "      <td>eps_act</td>\n",
       "    </tr>\n",
       "    <tr>\n",
       "      <th>10456</th>\n",
       "      <td>356</td>\n",
       "      <td>2019</td>\n",
       "      <td>0.333333</td>\n",
       "      <td>eps_act</td>\n",
       "    </tr>\n",
       "  </tbody>\n",
       "</table>\n",
       "</div>"
      ],
      "text/plain": [
       "      firm_id  year   average  feature\n",
       "2589       64  2004  0.462500  eps_act\n",
       "6987      422  2012  0.905000  eps_act\n",
       "5934      379  2010  0.807500  eps_act\n",
       "2196      176  2003       NaN  eps_act\n",
       "4312      272  2007  0.420000  eps_act\n",
       "10339     239  2019  5.433333  eps_act\n",
       "8269      189  2015  0.510000  eps_act\n",
       "7834      259  2014  0.567500  eps_act\n",
       "3905      370  2006  0.537500  eps_act\n",
       "10456     356  2019  0.333333  eps_act"
      ]
     },
     "execution_count": 478,
     "metadata": {},
     "output_type": "execute_result"
    }
   ],
   "source": [
    "#eps_fc_yearly\n",
    "eps_act_yearly_avgs.sample(10)"
   ]
  },
  {
   "cell_type": "code",
   "execution_count": 479,
   "metadata": {},
   "outputs": [
    {
     "data": {
      "text/html": [
       "<div>\n",
       "<style scoped>\n",
       "    .dataframe tbody tr th:only-of-type {\n",
       "        vertical-align: middle;\n",
       "    }\n",
       "\n",
       "    .dataframe tbody tr th {\n",
       "        vertical-align: top;\n",
       "    }\n",
       "\n",
       "    .dataframe thead th {\n",
       "        text-align: right;\n",
       "    }\n",
       "</style>\n",
       "<table border=\"1\" class=\"dataframe\">\n",
       "  <thead>\n",
       "    <tr style=\"text-align: right;\">\n",
       "      <th></th>\n",
       "      <th>firm_id</th>\n",
       "      <th>year</th>\n",
       "      <th>average</th>\n",
       "      <th>feature</th>\n",
       "    </tr>\n",
       "  </thead>\n",
       "  <tbody>\n",
       "    <tr>\n",
       "      <th>587</th>\n",
       "      <td>82</td>\n",
       "      <td>2000</td>\n",
       "      <td>19.296900</td>\n",
       "      <td>eod_act</td>\n",
       "    </tr>\n",
       "    <tr>\n",
       "      <th>7708</th>\n",
       "      <td>133</td>\n",
       "      <td>2014</td>\n",
       "      <td>70.464350</td>\n",
       "      <td>eod_act</td>\n",
       "    </tr>\n",
       "    <tr>\n",
       "      <th>8909</th>\n",
       "      <td>324</td>\n",
       "      <td>2016</td>\n",
       "      <td>57.950000</td>\n",
       "      <td>eod_act</td>\n",
       "    </tr>\n",
       "    <tr>\n",
       "      <th>9412</th>\n",
       "      <td>322</td>\n",
       "      <td>2017</td>\n",
       "      <td>24.815000</td>\n",
       "      <td>eod_act</td>\n",
       "    </tr>\n",
       "    <tr>\n",
       "      <th>10372</th>\n",
       "      <td>272</td>\n",
       "      <td>2019</td>\n",
       "      <td>19.286667</td>\n",
       "      <td>eod_act</td>\n",
       "    </tr>\n",
       "    <tr>\n",
       "      <th>10007</th>\n",
       "      <td>412</td>\n",
       "      <td>2018</td>\n",
       "      <td>257.380000</td>\n",
       "      <td>eod_act</td>\n",
       "    </tr>\n",
       "    <tr>\n",
       "      <th>7710</th>\n",
       "      <td>135</td>\n",
       "      <td>2014</td>\n",
       "      <td>62.512500</td>\n",
       "      <td>eod_act</td>\n",
       "    </tr>\n",
       "    <tr>\n",
       "      <th>4551</th>\n",
       "      <td>6</td>\n",
       "      <td>2008</td>\n",
       "      <td>16.265000</td>\n",
       "      <td>eod_act</td>\n",
       "    </tr>\n",
       "    <tr>\n",
       "      <th>8754</th>\n",
       "      <td>169</td>\n",
       "      <td>2016</td>\n",
       "      <td>27.937500</td>\n",
       "      <td>eod_act</td>\n",
       "    </tr>\n",
       "    <tr>\n",
       "      <th>2136</th>\n",
       "      <td>116</td>\n",
       "      <td>2003</td>\n",
       "      <td>NaN</td>\n",
       "      <td>eod_act</td>\n",
       "    </tr>\n",
       "  </tbody>\n",
       "</table>\n",
       "</div>"
      ],
      "text/plain": [
       "      firm_id  year     average  feature\n",
       "587        82  2000   19.296900  eod_act\n",
       "7708      133  2014   70.464350  eod_act\n",
       "8909      324  2016   57.950000  eod_act\n",
       "9412      322  2017   24.815000  eod_act\n",
       "10372     272  2019   19.286667  eod_act\n",
       "10007     412  2018  257.380000  eod_act\n",
       "7710      135  2014   62.512500  eod_act\n",
       "4551        6  2008   16.265000  eod_act\n",
       "8754      169  2016   27.937500  eod_act\n",
       "2136      116  2003         NaN  eod_act"
      ]
     },
     "execution_count": 479,
     "metadata": {},
     "output_type": "execute_result"
    }
   ],
   "source": [
    "#eod_act_yearly\n",
    "eod_act_yearly_avgs.sample(10)"
   ]
  },
  {
   "cell_type": "code",
   "execution_count": 480,
   "metadata": {},
   "outputs": [
    {
     "data": {
      "text/html": [
       "<div>\n",
       "<style scoped>\n",
       "    .dataframe tbody tr th:only-of-type {\n",
       "        vertical-align: middle;\n",
       "    }\n",
       "\n",
       "    .dataframe tbody tr th {\n",
       "        vertical-align: top;\n",
       "    }\n",
       "\n",
       "    .dataframe thead th {\n",
       "        text-align: right;\n",
       "    }\n",
       "</style>\n",
       "<table border=\"1\" class=\"dataframe\">\n",
       "  <thead>\n",
       "    <tr style=\"text-align: right;\">\n",
       "      <th></th>\n",
       "      <th>firm_id</th>\n",
       "      <th>year</th>\n",
       "      <th>average</th>\n",
       "      <th>feature</th>\n",
       "    </tr>\n",
       "  </thead>\n",
       "  <tbody>\n",
       "    <tr>\n",
       "      <th>4817</th>\n",
       "      <td>272</td>\n",
       "      <td>2009</td>\n",
       "      <td>0.20575</td>\n",
       "      <td>eps_fc_terms</td>\n",
       "    </tr>\n",
       "    <tr>\n",
       "      <th>5492</th>\n",
       "      <td>442</td>\n",
       "      <td>2010</td>\n",
       "      <td>0.52950</td>\n",
       "      <td>eps_fc_terms</td>\n",
       "    </tr>\n",
       "    <tr>\n",
       "      <th>2624</th>\n",
       "      <td>99</td>\n",
       "      <td>2005</td>\n",
       "      <td>0.54000</td>\n",
       "      <td>eps_fc_terms</td>\n",
       "    </tr>\n",
       "    <tr>\n",
       "      <th>7111</th>\n",
       "      <td>41</td>\n",
       "      <td>2014</td>\n",
       "      <td>0.83350</td>\n",
       "      <td>eps_fc_terms</td>\n",
       "    </tr>\n",
       "    <tr>\n",
       "      <th>1544</th>\n",
       "      <td>29</td>\n",
       "      <td>2003</td>\n",
       "      <td>NaN</td>\n",
       "      <td>eps_fc_terms</td>\n",
       "    </tr>\n",
       "    <tr>\n",
       "      <th>1253</th>\n",
       "      <td>243</td>\n",
       "      <td>2002</td>\n",
       "      <td>0.20175</td>\n",
       "      <td>eps_fc_terms</td>\n",
       "    </tr>\n",
       "    <tr>\n",
       "      <th>1309</th>\n",
       "      <td>299</td>\n",
       "      <td>2002</td>\n",
       "      <td>NaN</td>\n",
       "      <td>eps_fc_terms</td>\n",
       "    </tr>\n",
       "    <tr>\n",
       "      <th>414</th>\n",
       "      <td>414</td>\n",
       "      <td>2000</td>\n",
       "      <td>0.17525</td>\n",
       "      <td>eps_fc_terms</td>\n",
       "    </tr>\n",
       "    <tr>\n",
       "      <th>3224</th>\n",
       "      <td>194</td>\n",
       "      <td>2006</td>\n",
       "      <td>NaN</td>\n",
       "      <td>eps_fc_terms</td>\n",
       "    </tr>\n",
       "    <tr>\n",
       "      <th>8556</th>\n",
       "      <td>476</td>\n",
       "      <td>2016</td>\n",
       "      <td>1.00300</td>\n",
       "      <td>eps_fc_terms</td>\n",
       "    </tr>\n",
       "  </tbody>\n",
       "</table>\n",
       "</div>"
      ],
      "text/plain": [
       "     firm_id  year  average       feature\n",
       "4817     272  2009  0.20575  eps_fc_terms\n",
       "5492     442  2010  0.52950  eps_fc_terms\n",
       "2624      99  2005  0.54000  eps_fc_terms\n",
       "7111      41  2014  0.83350  eps_fc_terms\n",
       "1544      29  2003      NaN  eps_fc_terms\n",
       "1253     243  2002  0.20175  eps_fc_terms\n",
       "1309     299  2002      NaN  eps_fc_terms\n",
       "414      414  2000  0.17525  eps_fc_terms\n",
       "3224     194  2006      NaN  eps_fc_terms\n",
       "8556     476  2016  1.00300  eps_fc_terms"
      ]
     },
     "execution_count": 480,
     "metadata": {},
     "output_type": "execute_result"
    }
   ],
   "source": [
    "#eps_fc_terms_yearly\n",
    "eps_fc_terms_yearly_avgs.sample(10)"
   ]
  },
  {
   "cell_type": "code",
   "execution_count": 481,
   "metadata": {},
   "outputs": [
    {
     "name": "stdout",
     "output_type": "stream",
     "text": [
      "Index(['firm_id', 'year', 'average', 'feature'], dtype='object') \n",
      " Index(['firm_id', 'year', 'average', 'feature'], dtype='object') \n",
      " Index(['firm_id', 'year', 'average', 'feature'], dtype='object') \n",
      " Index(['firm_id', 'year', 'average', 'feature'], dtype='object')\n"
     ]
    }
   ],
   "source": [
    "#verify all columns are consistent\n",
    "print(eps_fc_yearly_avgs.columns, '\\n',\n",
    "      eps_act_yearly_avgs.columns, '\\n',\n",
    "      eod_act_yearly_avgs.columns, '\\n',\n",
    "      eps_fc_terms_yearly_avgs.columns)"
   ]
  },
  {
   "cell_type": "code",
   "execution_count": 482,
   "metadata": {},
   "outputs": [
    {
     "name": "stdout",
     "output_type": "stream",
     "text": [
      "505 \n",
      " 505 \n",
      " 505 \n",
      " 505\n"
     ]
    }
   ],
   "source": [
    "#verify there are 505 firms in each dataframe\n",
    "print(eps_fc_yearly_avgs.firm_id.nunique(), '\\n',\n",
    "      eps_act_yearly_avgs.firm_id.nunique(), '\\n',\n",
    "      eod_act_yearly_avgs.firm_id.nunique(), '\\n',\n",
    "      eps_fc_terms_yearly_avgs.firm_id.nunique())"
   ]
  },
  {
   "cell_type": "code",
   "execution_count": 483,
   "metadata": {},
   "outputs": [
    {
     "data": {
      "text/html": [
       "<div>\n",
       "<style scoped>\n",
       "    .dataframe tbody tr th:only-of-type {\n",
       "        vertical-align: middle;\n",
       "    }\n",
       "\n",
       "    .dataframe tbody tr th {\n",
       "        vertical-align: top;\n",
       "    }\n",
       "\n",
       "    .dataframe thead th {\n",
       "        text-align: right;\n",
       "    }\n",
       "</style>\n",
       "<table border=\"1\" class=\"dataframe\">\n",
       "  <thead>\n",
       "    <tr style=\"text-align: right;\">\n",
       "      <th></th>\n",
       "      <th>firm_id</th>\n",
       "      <th>year</th>\n",
       "      <th>average</th>\n",
       "      <th>feature</th>\n",
       "    </tr>\n",
       "  </thead>\n",
       "  <tbody>\n",
       "    <tr>\n",
       "      <th>4883</th>\n",
       "      <td>338</td>\n",
       "      <td>2009</td>\n",
       "      <td>1.01775</td>\n",
       "      <td>eps_fc_terms</td>\n",
       "    </tr>\n",
       "    <tr>\n",
       "      <th>7902</th>\n",
       "      <td>327</td>\n",
       "      <td>2014</td>\n",
       "      <td>0.48800</td>\n",
       "      <td>eps_fc</td>\n",
       "    </tr>\n",
       "    <tr>\n",
       "      <th>6904</th>\n",
       "      <td>339</td>\n",
       "      <td>2012</td>\n",
       "      <td>0.91250</td>\n",
       "      <td>eps_act</td>\n",
       "    </tr>\n",
       "    <tr>\n",
       "      <th>4053</th>\n",
       "      <td>13</td>\n",
       "      <td>2008</td>\n",
       "      <td>1.08500</td>\n",
       "      <td>eps_fc_terms</td>\n",
       "    </tr>\n",
       "    <tr>\n",
       "      <th>2409</th>\n",
       "      <td>389</td>\n",
       "      <td>2004</td>\n",
       "      <td>NaN</td>\n",
       "      <td>eps_fc_terms</td>\n",
       "    </tr>\n",
       "    <tr>\n",
       "      <th>9106</th>\n",
       "      <td>16</td>\n",
       "      <td>2017</td>\n",
       "      <td>0.97000</td>\n",
       "      <td>eps_act</td>\n",
       "    </tr>\n",
       "    <tr>\n",
       "      <th>1360</th>\n",
       "      <td>350</td>\n",
       "      <td>2002</td>\n",
       "      <td>0.13950</td>\n",
       "      <td>eps_fc_terms</td>\n",
       "    </tr>\n",
       "    <tr>\n",
       "      <th>2495</th>\n",
       "      <td>475</td>\n",
       "      <td>2003</td>\n",
       "      <td>14.42170</td>\n",
       "      <td>eod_act</td>\n",
       "    </tr>\n",
       "    <tr>\n",
       "      <th>7214</th>\n",
       "      <td>144</td>\n",
       "      <td>2013</td>\n",
       "      <td>0.53000</td>\n",
       "      <td>eps_act</td>\n",
       "    </tr>\n",
       "    <tr>\n",
       "      <th>6437</th>\n",
       "      <td>377</td>\n",
       "      <td>2012</td>\n",
       "      <td>1.55000</td>\n",
       "      <td>eps_fc_terms</td>\n",
       "    </tr>\n",
       "  </tbody>\n",
       "</table>\n",
       "</div>"
      ],
      "text/plain": [
       "     firm_id  year   average       feature\n",
       "4883     338  2009   1.01775  eps_fc_terms\n",
       "7902     327  2014   0.48800        eps_fc\n",
       "6904     339  2012   0.91250       eps_act\n",
       "4053      13  2008   1.08500  eps_fc_terms\n",
       "2409     389  2004       NaN  eps_fc_terms\n",
       "9106      16  2017   0.97000       eps_act\n",
       "1360     350  2002   0.13950  eps_fc_terms\n",
       "2495     475  2003  14.42170       eod_act\n",
       "7214     144  2013   0.53000       eps_act\n",
       "6437     377  2012   1.55000  eps_fc_terms"
      ]
     },
     "execution_count": 483,
     "metadata": {},
     "output_type": "execute_result"
    }
   ],
   "source": [
    "#all yearly averages\n",
    "df_yearly_avgs.sample(10)"
   ]
  },
  {
   "cell_type": "code",
   "execution_count": 484,
   "metadata": {},
   "outputs": [
    {
     "data": {
      "text/plain": [
       "505"
      ]
     },
     "execution_count": 484,
     "metadata": {},
     "output_type": "execute_result"
    }
   ],
   "source": [
    "#verify 505 firms in all yearly averages df\n",
    "df_yearly_avgs.firm_id.nunique()"
   ]
  },
  {
   "cell_type": "markdown",
   "metadata": {},
   "source": [
    "### Code\n",
    "\n",
    "> **ISSUE 11:** No recorded quarterly averages for each dataset.\n",
    "\n",
    "**Define:** \n",
    "\n",
    "- Parse `eod_act_clean` dates  by **calendar quarter average** with quarterly data in a new DataFrame.\n",
    "- Create separate DataFrames containing quarterly averages for `eps_fc_clean`, `eps_act_clean`, and `eps_fc_terms_clean` \n",
    "- Rename columns to \"Quarter_Year_Feature\" (e.g. **q1_eps_fc,** etc.)\n",
    "- Outer merge all DataFrames into a new df `df_quarterly_avgs` on **firms**"
   ]
  },
  {
   "cell_type": "code",
   "execution_count": 485,
   "metadata": {},
   "outputs": [],
   "source": [
    "#helper function to calculate quarterly average of each DataFrame\n",
    "def calculate_df_quarterly_avgs(df, col, firm_ids_str):\n",
    "    #extract quarter from Period objects\n",
    "    df =  df.groupby(df[col].dt.strftime('Q%q')).mean().transpose().rename_axis('firm_id').reset_index().rename_axis(None, axis = 1)\n",
    "    df['firm_id'] = df['firm_id'].map(firm_ids_str)\n",
    "    \n",
    "    return df"
   ]
  },
  {
   "cell_type": "code",
   "execution_count": 486,
   "metadata": {},
   "outputs": [],
   "source": [
    "#calculate and melt\n",
    "def create_df_quarterly_avgs(df, col, firm_ids_str, firm_id):\n",
    "    df = calculate_df_quarterly_avgs(df, 'term', firm_ids_str)\n",
    "    df = melt_avgs(df, firm_id, 'quarter')\n",
    "    \n",
    "    #lowercase quarter column\n",
    "    df.quarter = df.quarter.str.lower()\n",
    "    return df"
   ]
  },
  {
   "cell_type": "code",
   "execution_count": 487,
   "metadata": {},
   "outputs": [],
   "source": [
    "#generate all quarterly average DataFrames\n",
    "df_eps_fc_quarter_avgs = create_df_quarterly_avgs(eps_fc_clean, 'term', firm_ids_str, 'firm_id')\n",
    "df_eps_act_quarter_avgs = create_df_quarterly_avgs(eps_act_clean, 'term', firm_ids_str, 'firm_id')\n",
    "df_eod_act_quarter_avgs = create_df_quarterly_avgs(eod_act_clean, 'term', firm_ids_str, 'firm_id')\n",
    "df_eps_fc_terms_quarter_avgs = create_df_quarterly_avgs(eps_fc_terms_clean, 'term', firm_ids_str, 'firm_id')"
   ]
  },
  {
   "cell_type": "code",
   "execution_count": 488,
   "metadata": {},
   "outputs": [],
   "source": [
    "#create copies\n",
    "eps_fc_quarter_avgs = df_eps_fc_quarter_avgs.copy()\n",
    "eps_act_quarter_avgs = df_eps_act_quarter_avgs.copy()\n",
    "eod_act_quarter_avgs = df_eod_act_quarter_avgs.copy()\n",
    "eps_fc_terms_quarter_avgs = df_eps_fc_terms_quarter_avgs.copy()"
   ]
  },
  {
   "cell_type": "code",
   "execution_count": 489,
   "metadata": {},
   "outputs": [],
   "source": [
    "#add new column entailing \"type\" of feature before concat\n",
    "eps_fc_quarter_avgs = eps_fc_quarter_avgs.assign(feature = 'eps_fc')\n",
    "eps_act_quarter_avgs = eps_act_quarter_avgs.assign(feature = 'eps_act')\n",
    "eod_act_quarter_avgs = eod_act_quarter_avgs.assign(feature = 'eod_act')\n",
    "eps_fc_terms_quarter_avgs = eps_fc_terms_quarter_avgs.assign(feature = 'eps_fc_terms')"
   ]
  },
  {
   "cell_type": "code",
   "execution_count": 490,
   "metadata": {},
   "outputs": [],
   "source": [
    "#put DataFrames in array\n",
    "quarterly_avgs_arr = [eps_fc_quarter_avgs,\n",
    "                  eps_act_quarter_avgs,\n",
    "                  eod_act_quarter_avgs,\n",
    "                  eps_fc_terms_quarter_avgs]"
   ]
  },
  {
   "cell_type": "code",
   "execution_count": 491,
   "metadata": {},
   "outputs": [],
   "source": [
    "#merge all quarterly average DataFrames\n",
    "df_quarter_avgs = pd.concat(quarterly_avgs_arr)"
   ]
  },
  {
   "cell_type": "markdown",
   "metadata": {},
   "source": [
    "### Test"
   ]
  },
  {
   "cell_type": "code",
   "execution_count": 492,
   "metadata": {},
   "outputs": [
    {
     "data": {
      "text/html": [
       "<div>\n",
       "<style scoped>\n",
       "    .dataframe tbody tr th:only-of-type {\n",
       "        vertical-align: middle;\n",
       "    }\n",
       "\n",
       "    .dataframe tbody tr th {\n",
       "        vertical-align: top;\n",
       "    }\n",
       "\n",
       "    .dataframe thead th {\n",
       "        text-align: right;\n",
       "    }\n",
       "</style>\n",
       "<table border=\"1\" class=\"dataframe\">\n",
       "  <thead>\n",
       "    <tr style=\"text-align: right;\">\n",
       "      <th></th>\n",
       "      <th>firm_id</th>\n",
       "      <th>quarter</th>\n",
       "      <th>average</th>\n",
       "      <th>feature</th>\n",
       "    </tr>\n",
       "  </thead>\n",
       "  <tbody>\n",
       "    <tr>\n",
       "      <th>953</th>\n",
       "      <td>448</td>\n",
       "      <td>q2</td>\n",
       "      <td>0.235846</td>\n",
       "      <td>eps_fc</td>\n",
       "    </tr>\n",
       "    <tr>\n",
       "      <th>168</th>\n",
       "      <td>168</td>\n",
       "      <td>q1</td>\n",
       "      <td>0.659615</td>\n",
       "      <td>eps_fc</td>\n",
       "    </tr>\n",
       "    <tr>\n",
       "      <th>1059</th>\n",
       "      <td>49</td>\n",
       "      <td>q3</td>\n",
       "      <td>0.641476</td>\n",
       "      <td>eps_fc</td>\n",
       "    </tr>\n",
       "    <tr>\n",
       "      <th>235</th>\n",
       "      <td>235</td>\n",
       "      <td>q1</td>\n",
       "      <td>0.206000</td>\n",
       "      <td>eps_fc</td>\n",
       "    </tr>\n",
       "    <tr>\n",
       "      <th>1281</th>\n",
       "      <td>271</td>\n",
       "      <td>q3</td>\n",
       "      <td>0.707600</td>\n",
       "      <td>eps_fc</td>\n",
       "    </tr>\n",
       "    <tr>\n",
       "      <th>189</th>\n",
       "      <td>189</td>\n",
       "      <td>q1</td>\n",
       "      <td>0.436905</td>\n",
       "      <td>eps_fc</td>\n",
       "    </tr>\n",
       "    <tr>\n",
       "      <th>1694</th>\n",
       "      <td>179</td>\n",
       "      <td>q4</td>\n",
       "      <td>0.861250</td>\n",
       "      <td>eps_fc</td>\n",
       "    </tr>\n",
       "    <tr>\n",
       "      <th>1952</th>\n",
       "      <td>437</td>\n",
       "      <td>q4</td>\n",
       "      <td>1.121143</td>\n",
       "      <td>eps_fc</td>\n",
       "    </tr>\n",
       "    <tr>\n",
       "      <th>1689</th>\n",
       "      <td>174</td>\n",
       "      <td>q4</td>\n",
       "      <td>0.642095</td>\n",
       "      <td>eps_fc</td>\n",
       "    </tr>\n",
       "    <tr>\n",
       "      <th>1563</th>\n",
       "      <td>48</td>\n",
       "      <td>q4</td>\n",
       "      <td>1.140222</td>\n",
       "      <td>eps_fc</td>\n",
       "    </tr>\n",
       "  </tbody>\n",
       "</table>\n",
       "</div>"
      ],
      "text/plain": [
       "     firm_id quarter   average feature\n",
       "953      448      q2  0.235846  eps_fc\n",
       "168      168      q1  0.659615  eps_fc\n",
       "1059      49      q3  0.641476  eps_fc\n",
       "235      235      q1  0.206000  eps_fc\n",
       "1281     271      q3  0.707600  eps_fc\n",
       "189      189      q1  0.436905  eps_fc\n",
       "1694     179      q4  0.861250  eps_fc\n",
       "1952     437      q4  1.121143  eps_fc\n",
       "1689     174      q4  0.642095  eps_fc\n",
       "1563      48      q4  1.140222  eps_fc"
      ]
     },
     "execution_count": 492,
     "metadata": {},
     "output_type": "execute_result"
    }
   ],
   "source": [
    "#each quarter individually\n",
    "\n",
    "#eps_fc_quarter\n",
    "eps_fc_quarter_avgs.sample(10)"
   ]
  },
  {
   "cell_type": "code",
   "execution_count": 493,
   "metadata": {},
   "outputs": [
    {
     "data": {
      "text/html": [
       "<div>\n",
       "<style scoped>\n",
       "    .dataframe tbody tr th:only-of-type {\n",
       "        vertical-align: middle;\n",
       "    }\n",
       "\n",
       "    .dataframe tbody tr th {\n",
       "        vertical-align: top;\n",
       "    }\n",
       "\n",
       "    .dataframe thead th {\n",
       "        text-align: right;\n",
       "    }\n",
       "</style>\n",
       "<table border=\"1\" class=\"dataframe\">\n",
       "  <thead>\n",
       "    <tr style=\"text-align: right;\">\n",
       "      <th></th>\n",
       "      <th>firm_id</th>\n",
       "      <th>quarter</th>\n",
       "      <th>average</th>\n",
       "      <th>feature</th>\n",
       "    </tr>\n",
       "  </thead>\n",
       "  <tbody>\n",
       "    <tr>\n",
       "      <th>694</th>\n",
       "      <td>189</td>\n",
       "      <td>q2</td>\n",
       "      <td>0.529206</td>\n",
       "      <td>eps_act</td>\n",
       "    </tr>\n",
       "    <tr>\n",
       "      <th>569</th>\n",
       "      <td>64</td>\n",
       "      <td>q2</td>\n",
       "      <td>0.884286</td>\n",
       "      <td>eps_act</td>\n",
       "    </tr>\n",
       "    <tr>\n",
       "      <th>1335</th>\n",
       "      <td>325</td>\n",
       "      <td>q3</td>\n",
       "      <td>0.581667</td>\n",
       "      <td>eps_act</td>\n",
       "    </tr>\n",
       "    <tr>\n",
       "      <th>1070</th>\n",
       "      <td>60</td>\n",
       "      <td>q3</td>\n",
       "      <td>0.453095</td>\n",
       "      <td>eps_act</td>\n",
       "    </tr>\n",
       "    <tr>\n",
       "      <th>122</th>\n",
       "      <td>122</td>\n",
       "      <td>q1</td>\n",
       "      <td>0.305159</td>\n",
       "      <td>eps_act</td>\n",
       "    </tr>\n",
       "    <tr>\n",
       "      <th>1712</th>\n",
       "      <td>197</td>\n",
       "      <td>q4</td>\n",
       "      <td>0.588000</td>\n",
       "      <td>eps_act</td>\n",
       "    </tr>\n",
       "    <tr>\n",
       "      <th>1286</th>\n",
       "      <td>276</td>\n",
       "      <td>q3</td>\n",
       "      <td>0.310952</td>\n",
       "      <td>eps_act</td>\n",
       "    </tr>\n",
       "    <tr>\n",
       "      <th>1028</th>\n",
       "      <td>18</td>\n",
       "      <td>q3</td>\n",
       "      <td>0.552738</td>\n",
       "      <td>eps_act</td>\n",
       "    </tr>\n",
       "    <tr>\n",
       "      <th>1270</th>\n",
       "      <td>260</td>\n",
       "      <td>q3</td>\n",
       "      <td>0.526667</td>\n",
       "      <td>eps_act</td>\n",
       "    </tr>\n",
       "    <tr>\n",
       "      <th>1844</th>\n",
       "      <td>329</td>\n",
       "      <td>q4</td>\n",
       "      <td>0.187167</td>\n",
       "      <td>eps_act</td>\n",
       "    </tr>\n",
       "  </tbody>\n",
       "</table>\n",
       "</div>"
      ],
      "text/plain": [
       "     firm_id quarter   average  feature\n",
       "694      189      q2  0.529206  eps_act\n",
       "569       64      q2  0.884286  eps_act\n",
       "1335     325      q3  0.581667  eps_act\n",
       "1070      60      q3  0.453095  eps_act\n",
       "122      122      q1  0.305159  eps_act\n",
       "1712     197      q4  0.588000  eps_act\n",
       "1286     276      q3  0.310952  eps_act\n",
       "1028      18      q3  0.552738  eps_act\n",
       "1270     260      q3  0.526667  eps_act\n",
       "1844     329      q4  0.187167  eps_act"
      ]
     },
     "execution_count": 493,
     "metadata": {},
     "output_type": "execute_result"
    }
   ],
   "source": [
    "#eps_act_quarter\n",
    "eps_act_quarter_avgs.sample(10)"
   ]
  },
  {
   "cell_type": "code",
   "execution_count": 494,
   "metadata": {},
   "outputs": [
    {
     "data": {
      "text/html": [
       "<div>\n",
       "<style scoped>\n",
       "    .dataframe tbody tr th:only-of-type {\n",
       "        vertical-align: middle;\n",
       "    }\n",
       "\n",
       "    .dataframe tbody tr th {\n",
       "        vertical-align: top;\n",
       "    }\n",
       "\n",
       "    .dataframe thead th {\n",
       "        text-align: right;\n",
       "    }\n",
       "</style>\n",
       "<table border=\"1\" class=\"dataframe\">\n",
       "  <thead>\n",
       "    <tr style=\"text-align: right;\">\n",
       "      <th></th>\n",
       "      <th>firm_id</th>\n",
       "      <th>quarter</th>\n",
       "      <th>average</th>\n",
       "      <th>feature</th>\n",
       "    </tr>\n",
       "  </thead>\n",
       "  <tbody>\n",
       "    <tr>\n",
       "      <th>433</th>\n",
       "      <td>433</td>\n",
       "      <td>q1</td>\n",
       "      <td>48.890524</td>\n",
       "      <td>eod_act</td>\n",
       "    </tr>\n",
       "    <tr>\n",
       "      <th>899</th>\n",
       "      <td>394</td>\n",
       "      <td>q2</td>\n",
       "      <td>66.740000</td>\n",
       "      <td>eod_act</td>\n",
       "    </tr>\n",
       "    <tr>\n",
       "      <th>764</th>\n",
       "      <td>259</td>\n",
       "      <td>q2</td>\n",
       "      <td>24.032381</td>\n",
       "      <td>eod_act</td>\n",
       "    </tr>\n",
       "    <tr>\n",
       "      <th>1132</th>\n",
       "      <td>122</td>\n",
       "      <td>q3</td>\n",
       "      <td>57.020000</td>\n",
       "      <td>eod_act</td>\n",
       "    </tr>\n",
       "    <tr>\n",
       "      <th>554</th>\n",
       "      <td>49</td>\n",
       "      <td>q2</td>\n",
       "      <td>75.435357</td>\n",
       "      <td>eod_act</td>\n",
       "    </tr>\n",
       "    <tr>\n",
       "      <th>1626</th>\n",
       "      <td>111</td>\n",
       "      <td>q4</td>\n",
       "      <td>63.020500</td>\n",
       "      <td>eod_act</td>\n",
       "    </tr>\n",
       "    <tr>\n",
       "      <th>1586</th>\n",
       "      <td>71</td>\n",
       "      <td>q4</td>\n",
       "      <td>199.566900</td>\n",
       "      <td>eod_act</td>\n",
       "    </tr>\n",
       "    <tr>\n",
       "      <th>994</th>\n",
       "      <td>489</td>\n",
       "      <td>q2</td>\n",
       "      <td>61.975952</td>\n",
       "      <td>eod_act</td>\n",
       "    </tr>\n",
       "    <tr>\n",
       "      <th>1400</th>\n",
       "      <td>390</td>\n",
       "      <td>q3</td>\n",
       "      <td>47.084448</td>\n",
       "      <td>eod_act</td>\n",
       "    </tr>\n",
       "    <tr>\n",
       "      <th>164</th>\n",
       "      <td>164</td>\n",
       "      <td>q1</td>\n",
       "      <td>48.588010</td>\n",
       "      <td>eod_act</td>\n",
       "    </tr>\n",
       "  </tbody>\n",
       "</table>\n",
       "</div>"
      ],
      "text/plain": [
       "     firm_id quarter     average  feature\n",
       "433      433      q1   48.890524  eod_act\n",
       "899      394      q2   66.740000  eod_act\n",
       "764      259      q2   24.032381  eod_act\n",
       "1132     122      q3   57.020000  eod_act\n",
       "554       49      q2   75.435357  eod_act\n",
       "1626     111      q4   63.020500  eod_act\n",
       "1586      71      q4  199.566900  eod_act\n",
       "994      489      q2   61.975952  eod_act\n",
       "1400     390      q3   47.084448  eod_act\n",
       "164      164      q1   48.588010  eod_act"
      ]
     },
     "execution_count": 494,
     "metadata": {},
     "output_type": "execute_result"
    }
   ],
   "source": [
    "#eod_act_quarter\n",
    "eod_act_quarter_avgs.sample(10)"
   ]
  },
  {
   "cell_type": "code",
   "execution_count": 495,
   "metadata": {},
   "outputs": [
    {
     "data": {
      "text/html": [
       "<div>\n",
       "<style scoped>\n",
       "    .dataframe tbody tr th:only-of-type {\n",
       "        vertical-align: middle;\n",
       "    }\n",
       "\n",
       "    .dataframe tbody tr th {\n",
       "        vertical-align: top;\n",
       "    }\n",
       "\n",
       "    .dataframe thead th {\n",
       "        text-align: right;\n",
       "    }\n",
       "</style>\n",
       "<table border=\"1\" class=\"dataframe\">\n",
       "  <thead>\n",
       "    <tr style=\"text-align: right;\">\n",
       "      <th></th>\n",
       "      <th>firm_id</th>\n",
       "      <th>quarter</th>\n",
       "      <th>average</th>\n",
       "      <th>feature</th>\n",
       "    </tr>\n",
       "  </thead>\n",
       "  <tbody>\n",
       "    <tr>\n",
       "      <th>572</th>\n",
       "      <td>67</td>\n",
       "      <td>q2</td>\n",
       "      <td>1.985000</td>\n",
       "      <td>eps_fc_terms</td>\n",
       "    </tr>\n",
       "    <tr>\n",
       "      <th>1507</th>\n",
       "      <td>497</td>\n",
       "      <td>q3</td>\n",
       "      <td>1.218450</td>\n",
       "      <td>eps_fc_terms</td>\n",
       "    </tr>\n",
       "    <tr>\n",
       "      <th>1174</th>\n",
       "      <td>164</td>\n",
       "      <td>q3</td>\n",
       "      <td>0.456400</td>\n",
       "      <td>eps_fc_terms</td>\n",
       "    </tr>\n",
       "    <tr>\n",
       "      <th>1160</th>\n",
       "      <td>150</td>\n",
       "      <td>q3</td>\n",
       "      <td>1.078900</td>\n",
       "      <td>eps_fc_terms</td>\n",
       "    </tr>\n",
       "    <tr>\n",
       "      <th>508</th>\n",
       "      <td>3</td>\n",
       "      <td>q2</td>\n",
       "      <td>0.912950</td>\n",
       "      <td>eps_fc_terms</td>\n",
       "    </tr>\n",
       "    <tr>\n",
       "      <th>210</th>\n",
       "      <td>210</td>\n",
       "      <td>q1</td>\n",
       "      <td>0.844222</td>\n",
       "      <td>eps_fc_terms</td>\n",
       "    </tr>\n",
       "    <tr>\n",
       "      <th>1886</th>\n",
       "      <td>371</td>\n",
       "      <td>q4</td>\n",
       "      <td>1.398700</td>\n",
       "      <td>eps_fc_terms</td>\n",
       "    </tr>\n",
       "    <tr>\n",
       "      <th>1667</th>\n",
       "      <td>152</td>\n",
       "      <td>q4</td>\n",
       "      <td>0.595150</td>\n",
       "      <td>eps_fc_terms</td>\n",
       "    </tr>\n",
       "    <tr>\n",
       "      <th>378</th>\n",
       "      <td>378</td>\n",
       "      <td>q1</td>\n",
       "      <td>0.548526</td>\n",
       "      <td>eps_fc_terms</td>\n",
       "    </tr>\n",
       "    <tr>\n",
       "      <th>1464</th>\n",
       "      <td>454</td>\n",
       "      <td>q3</td>\n",
       "      <td>2.409071</td>\n",
       "      <td>eps_fc_terms</td>\n",
       "    </tr>\n",
       "  </tbody>\n",
       "</table>\n",
       "</div>"
      ],
      "text/plain": [
       "     firm_id quarter   average       feature\n",
       "572       67      q2  1.985000  eps_fc_terms\n",
       "1507     497      q3  1.218450  eps_fc_terms\n",
       "1174     164      q3  0.456400  eps_fc_terms\n",
       "1160     150      q3  1.078900  eps_fc_terms\n",
       "508        3      q2  0.912950  eps_fc_terms\n",
       "210      210      q1  0.844222  eps_fc_terms\n",
       "1886     371      q4  1.398700  eps_fc_terms\n",
       "1667     152      q4  0.595150  eps_fc_terms\n",
       "378      378      q1  0.548526  eps_fc_terms\n",
       "1464     454      q3  2.409071  eps_fc_terms"
      ]
     },
     "execution_count": 495,
     "metadata": {},
     "output_type": "execute_result"
    }
   ],
   "source": [
    "#eps_fc_terms_quarter\n",
    "eps_fc_terms_quarter_avgs.sample(10)"
   ]
  },
  {
   "cell_type": "code",
   "execution_count": 496,
   "metadata": {},
   "outputs": [
    {
     "name": "stdout",
     "output_type": "stream",
     "text": [
      "Index(['firm_id', 'quarter', 'average', 'feature'], dtype='object') \n",
      " Index(['firm_id', 'quarter', 'average', 'feature'], dtype='object') \n",
      " Index(['firm_id', 'quarter', 'average', 'feature'], dtype='object') \n",
      " Index(['firm_id', 'quarter', 'average', 'feature'], dtype='object')\n"
     ]
    }
   ],
   "source": [
    "#verify that all columns are consistent\n",
    "print(eps_fc_quarter_avgs.columns, '\\n',\n",
    "      eps_act_quarter_avgs.columns, '\\n',\n",
    "      eod_act_quarter_avgs.columns, '\\n',\n",
    "      eps_fc_terms_quarter_avgs.columns)"
   ]
  },
  {
   "cell_type": "code",
   "execution_count": 497,
   "metadata": {},
   "outputs": [
    {
     "name": "stdout",
     "output_type": "stream",
     "text": [
      "505 \n",
      " 505 \n",
      " 505 \n",
      " 505\n"
     ]
    }
   ],
   "source": [
    "#verify there are 505 firms in each dataframe\n",
    "print(eps_fc_quarter_avgs.firm_id.nunique(), '\\n',\n",
    "      eps_act_quarter_avgs.firm_id.nunique(), '\\n',\n",
    "      eod_act_quarter_avgs.firm_id.nunique(), '\\n',\n",
    "      eps_fc_terms_quarter_avgs.firm_id.nunique())"
   ]
  },
  {
   "cell_type": "code",
   "execution_count": 498,
   "metadata": {},
   "outputs": [
    {
     "data": {
      "text/html": [
       "<div>\n",
       "<style scoped>\n",
       "    .dataframe tbody tr th:only-of-type {\n",
       "        vertical-align: middle;\n",
       "    }\n",
       "\n",
       "    .dataframe tbody tr th {\n",
       "        vertical-align: top;\n",
       "    }\n",
       "\n",
       "    .dataframe thead th {\n",
       "        text-align: right;\n",
       "    }\n",
       "</style>\n",
       "<table border=\"1\" class=\"dataframe\">\n",
       "  <thead>\n",
       "    <tr style=\"text-align: right;\">\n",
       "      <th></th>\n",
       "      <th>firm_id</th>\n",
       "      <th>quarter</th>\n",
       "      <th>average</th>\n",
       "      <th>feature</th>\n",
       "    </tr>\n",
       "  </thead>\n",
       "  <tbody>\n",
       "    <tr>\n",
       "      <th>242</th>\n",
       "      <td>242</td>\n",
       "      <td>q1</td>\n",
       "      <td>0.418000</td>\n",
       "      <td>eps_fc_terms</td>\n",
       "    </tr>\n",
       "    <tr>\n",
       "      <th>20</th>\n",
       "      <td>20</td>\n",
       "      <td>q1</td>\n",
       "      <td>5.275800</td>\n",
       "      <td>eps_fc</td>\n",
       "    </tr>\n",
       "    <tr>\n",
       "      <th>1082</th>\n",
       "      <td>72</td>\n",
       "      <td>q3</td>\n",
       "      <td>0.332619</td>\n",
       "      <td>eps_fc</td>\n",
       "    </tr>\n",
       "    <tr>\n",
       "      <th>787</th>\n",
       "      <td>282</td>\n",
       "      <td>q2</td>\n",
       "      <td>0.328050</td>\n",
       "      <td>eps_fc_terms</td>\n",
       "    </tr>\n",
       "    <tr>\n",
       "      <th>1915</th>\n",
       "      <td>400</td>\n",
       "      <td>q4</td>\n",
       "      <td>0.331845</td>\n",
       "      <td>eps_act</td>\n",
       "    </tr>\n",
       "    <tr>\n",
       "      <th>1470</th>\n",
       "      <td>460</td>\n",
       "      <td>q3</td>\n",
       "      <td>0.918350</td>\n",
       "      <td>eps_fc_terms</td>\n",
       "    </tr>\n",
       "    <tr>\n",
       "      <th>1064</th>\n",
       "      <td>54</td>\n",
       "      <td>q3</td>\n",
       "      <td>2.250700</td>\n",
       "      <td>eps_fc</td>\n",
       "    </tr>\n",
       "    <tr>\n",
       "      <th>1159</th>\n",
       "      <td>149</td>\n",
       "      <td>q3</td>\n",
       "      <td>0.839000</td>\n",
       "      <td>eps_fc_terms</td>\n",
       "    </tr>\n",
       "    <tr>\n",
       "      <th>600</th>\n",
       "      <td>95</td>\n",
       "      <td>q2</td>\n",
       "      <td>0.638333</td>\n",
       "      <td>eps_act</td>\n",
       "    </tr>\n",
       "    <tr>\n",
       "      <th>342</th>\n",
       "      <td>342</td>\n",
       "      <td>q1</td>\n",
       "      <td>26.324367</td>\n",
       "      <td>eod_act</td>\n",
       "    </tr>\n",
       "  </tbody>\n",
       "</table>\n",
       "</div>"
      ],
      "text/plain": [
       "     firm_id quarter    average       feature\n",
       "242      242      q1   0.418000  eps_fc_terms\n",
       "20        20      q1   5.275800        eps_fc\n",
       "1082      72      q3   0.332619        eps_fc\n",
       "787      282      q2   0.328050  eps_fc_terms\n",
       "1915     400      q4   0.331845       eps_act\n",
       "1470     460      q3   0.918350  eps_fc_terms\n",
       "1064      54      q3   2.250700        eps_fc\n",
       "1159     149      q3   0.839000  eps_fc_terms\n",
       "600       95      q2   0.638333       eps_act\n",
       "342      342      q1  26.324367       eod_act"
      ]
     },
     "execution_count": 498,
     "metadata": {},
     "output_type": "execute_result"
    }
   ],
   "source": [
    "#all quarterly averages\n",
    "df_quarter_avgs.sample(10)"
   ]
  },
  {
   "cell_type": "code",
   "execution_count": 499,
   "metadata": {},
   "outputs": [
    {
     "data": {
      "text/plain": [
       "505"
      ]
     },
     "execution_count": 499,
     "metadata": {},
     "output_type": "execute_result"
    }
   ],
   "source": [
    "#verify 505 firms in df_quarter_avgs\n",
    "df_quarter_avgs.firm_id.nunique()"
   ]
  },
  {
   "cell_type": "code",
   "execution_count": 500,
   "metadata": {},
   "outputs": [
    {
     "data": {
      "text/html": [
       "<div>\n",
       "<style scoped>\n",
       "    .dataframe tbody tr th:only-of-type {\n",
       "        vertical-align: middle;\n",
       "    }\n",
       "\n",
       "    .dataframe tbody tr th {\n",
       "        vertical-align: top;\n",
       "    }\n",
       "\n",
       "    .dataframe thead th {\n",
       "        text-align: right;\n",
       "    }\n",
       "</style>\n",
       "<table border=\"1\" class=\"dataframe\">\n",
       "  <thead>\n",
       "    <tr style=\"text-align: right;\">\n",
       "      <th></th>\n",
       "      <th>firm_id</th>\n",
       "      <th>eps_fc</th>\n",
       "      <th>eps_act</th>\n",
       "      <th>eod_act</th>\n",
       "      <th>eps_fc_terms</th>\n",
       "    </tr>\n",
       "  </thead>\n",
       "  <tbody>\n",
       "    <tr>\n",
       "      <th>0</th>\n",
       "      <td>0</td>\n",
       "      <td>0.531678</td>\n",
       "      <td>0.352169</td>\n",
       "      <td>32.896718</td>\n",
       "      <td>0.567579</td>\n",
       "    </tr>\n",
       "    <tr>\n",
       "      <th>1</th>\n",
       "      <td>1</td>\n",
       "      <td>0.339879</td>\n",
       "      <td>-0.388520</td>\n",
       "      <td>40.303125</td>\n",
       "      <td>0.709745</td>\n",
       "    </tr>\n",
       "  </tbody>\n",
       "</table>\n",
       "</div>"
      ],
      "text/plain": [
       "  firm_id    eps_fc   eps_act    eod_act  eps_fc_terms\n",
       "0       0  0.531678  0.352169  32.896718      0.567579\n",
       "1       1  0.339879 -0.388520  40.303125      0.709745"
      ]
     },
     "execution_count": 500,
     "metadata": {},
     "output_type": "execute_result"
    }
   ],
   "source": [
    "df_twenty_year_avgs.head(2)\n"
   ]
  },
  {
   "cell_type": "markdown",
   "metadata": {},
   "source": [
    "### Code\n",
    ">**ISSUE 12:** Unnormalized data among `df_twenty_year_avgs`, `df_yearly_avgs`, and `df_quarter_avgs`\n",
    "\n",
    "**Define:** \n",
    "- Normalize features across all 3 DataFrames. \n",
    "- For `df_twenty_year_avgs`, melt **feature column names** (eps_fc, eps_act, eod_act, eps_fc_terms) into a single column called **feature**\n",
    "\n",
    "Desired output for each DataFrame:\n",
    "\n",
    "\n",
    "| firm_id     | average  | average_type | time_period   | feature|\n",
    "|:------------|:-------------:|:-----------:|:---------:|-------:|\n",
    "|43           | 3.14          | quarterly   | q1        | eps_fc |\n",
    "\n",
    "> ***Apply the above table format to all three DFs, then concatenate to create `all_avgs` .***\n",
    "\n",
    "**Note:** For `df_twenty_year_avgs`, it would be redundant to put *twenty_year* as the value under both **average_type** and **time_period** columns.\n",
    "\n",
    "To curb this, I will assign all **time_period** values as NaN for `df_twenty_year_avgs`."
   ]
  },
  {
   "cell_type": "code",
   "execution_count": 501,
   "metadata": {},
   "outputs": [],
   "source": [
    "#assign column order\n",
    "avgs_col_order = ['firm_id', 'average', 'average_type', 'time_period', 'feature']"
   ]
  },
  {
   "cell_type": "code",
   "execution_count": 502,
   "metadata": {},
   "outputs": [],
   "source": [
    "#create clean copies of dfs\n",
    "twenty_year_clean = df_twenty_year_avgs.copy()\n",
    "yearly_clean = df_yearly_avgs.copy()\n",
    "quarterly_clean = df_quarter_avgs.copy()"
   ]
  },
  {
   "cell_type": "markdown",
   "metadata": {},
   "source": [
    "- ### `twenty_year_clean`"
   ]
  },
  {
   "cell_type": "code",
   "execution_count": 503,
   "metadata": {},
   "outputs": [],
   "source": [
    "#isolate feature names\n",
    "feats_col_names = twenty_year_clean.columns.difference(['firm_id'])"
   ]
  },
  {
   "cell_type": "code",
   "execution_count": 504,
   "metadata": {},
   "outputs": [],
   "source": [
    "#move eps_fc . . . eps_fc_terms under \"average_type\"\n",
    "twenty_year_clean = pd.melt(twenty_year_clean,\n",
    "        id_vars = ['firm_id'],\n",
    "        value_vars = feats_col_names,\n",
    "        var_name = 'feature',\n",
    "        value_name = 'average')"
   ]
  },
  {
   "cell_type": "code",
   "execution_count": 505,
   "metadata": {},
   "outputs": [],
   "source": [
    "#add 'feature' and 'time_period' columns\n",
    "twenty_year_clean = twenty_year_clean.assign(average_type = 'twenty_year', time_period = np.nan)"
   ]
  },
  {
   "cell_type": "code",
   "execution_count": 506,
   "metadata": {},
   "outputs": [],
   "source": [
    "#reorder columns\n",
    "twenty_year_clean = twenty_year_clean[avgs_col_order]"
   ]
  },
  {
   "cell_type": "markdown",
   "metadata": {},
   "source": [
    "### Test"
   ]
  },
  {
   "cell_type": "code",
   "execution_count": 507,
   "metadata": {},
   "outputs": [
    {
     "data": {
      "text/html": [
       "<div>\n",
       "<style scoped>\n",
       "    .dataframe tbody tr th:only-of-type {\n",
       "        vertical-align: middle;\n",
       "    }\n",
       "\n",
       "    .dataframe tbody tr th {\n",
       "        vertical-align: top;\n",
       "    }\n",
       "\n",
       "    .dataframe thead th {\n",
       "        text-align: right;\n",
       "    }\n",
       "</style>\n",
       "<table border=\"1\" class=\"dataframe\">\n",
       "  <thead>\n",
       "    <tr style=\"text-align: right;\">\n",
       "      <th></th>\n",
       "      <th>firm_id</th>\n",
       "      <th>average</th>\n",
       "      <th>average_type</th>\n",
       "      <th>time_period</th>\n",
       "      <th>feature</th>\n",
       "    </tr>\n",
       "  </thead>\n",
       "  <tbody>\n",
       "    <tr>\n",
       "      <th>895</th>\n",
       "      <td>390</td>\n",
       "      <td>0.425149</td>\n",
       "      <td>twenty_year</td>\n",
       "      <td>NaN</td>\n",
       "      <td>eps_act</td>\n",
       "    </tr>\n",
       "    <tr>\n",
       "      <th>686</th>\n",
       "      <td>181</td>\n",
       "      <td>0.690857</td>\n",
       "      <td>twenty_year</td>\n",
       "      <td>NaN</td>\n",
       "      <td>eps_act</td>\n",
       "    </tr>\n",
       "    <tr>\n",
       "      <th>504</th>\n",
       "      <td>504</td>\n",
       "      <td>58.752963</td>\n",
       "      <td>twenty_year</td>\n",
       "      <td>NaN</td>\n",
       "      <td>eod_act</td>\n",
       "    </tr>\n",
       "    <tr>\n",
       "      <th>577</th>\n",
       "      <td>72</td>\n",
       "      <td>0.217348</td>\n",
       "      <td>twenty_year</td>\n",
       "      <td>NaN</td>\n",
       "      <td>eps_act</td>\n",
       "    </tr>\n",
       "    <tr>\n",
       "      <th>701</th>\n",
       "      <td>196</td>\n",
       "      <td>0.908108</td>\n",
       "      <td>twenty_year</td>\n",
       "      <td>NaN</td>\n",
       "      <td>eps_act</td>\n",
       "    </tr>\n",
       "  </tbody>\n",
       "</table>\n",
       "</div>"
      ],
      "text/plain": [
       "    firm_id    average average_type  time_period  feature\n",
       "895     390   0.425149  twenty_year          NaN  eps_act\n",
       "686     181   0.690857  twenty_year          NaN  eps_act\n",
       "504     504  58.752963  twenty_year          NaN  eod_act\n",
       "577      72   0.217348  twenty_year          NaN  eps_act\n",
       "701     196   0.908108  twenty_year          NaN  eps_act"
      ]
     },
     "execution_count": 507,
     "metadata": {},
     "output_type": "execute_result"
    }
   ],
   "source": [
    "#twenty_year\n",
    "twenty_year_clean.sample(5)"
   ]
  },
  {
   "cell_type": "code",
   "execution_count": 508,
   "metadata": {},
   "outputs": [
    {
     "data": {
      "text/plain": [
       "505"
      ]
     },
     "execution_count": 508,
     "metadata": {},
     "output_type": "execute_result"
    }
   ],
   "source": [
    "#verify 505 firm names\n",
    "twenty_year_clean.firm_id.nunique()"
   ]
  },
  {
   "cell_type": "code",
   "execution_count": 509,
   "metadata": {},
   "outputs": [
    {
     "data": {
      "text/plain": [
       "array([nan])"
      ]
     },
     "execution_count": 509,
     "metadata": {},
     "output_type": "execute_result"
    }
   ],
   "source": [
    "#verify all time_period values are NaN\n",
    "twenty_year_clean.time_period.unique()"
   ]
  },
  {
   "cell_type": "code",
   "execution_count": 510,
   "metadata": {},
   "outputs": [
    {
     "data": {
      "text/plain": [
       "array(['twenty_year'], dtype=object)"
      ]
     },
     "execution_count": 510,
     "metadata": {},
     "output_type": "execute_result"
    }
   ],
   "source": [
    "#verify average_type contains only twenty_year\n",
    "twenty_year_clean.average_type.unique()"
   ]
  },
  {
   "cell_type": "markdown",
   "metadata": {},
   "source": [
    "- ### `yearly_clean`"
   ]
  },
  {
   "cell_type": "code",
   "execution_count": 511,
   "metadata": {},
   "outputs": [],
   "source": [
    "#assign 'average_type' column\n",
    "yearly_clean = yearly_clean.assign(average_type = 'yearly')"
   ]
  },
  {
   "cell_type": "code",
   "execution_count": 512,
   "metadata": {},
   "outputs": [],
   "source": [
    "#rename 'year' column to 'time_period'\n",
    "yearly_clean.rename(columns = {'year' : 'time_period'}, inplace = True)"
   ]
  },
  {
   "cell_type": "code",
   "execution_count": 513,
   "metadata": {},
   "outputs": [],
   "source": [
    "#reorder columns\n",
    "yearly_clean = yearly_clean[avgs_col_order]"
   ]
  },
  {
   "cell_type": "markdown",
   "metadata": {},
   "source": [
    "### Test"
   ]
  },
  {
   "cell_type": "code",
   "execution_count": 514,
   "metadata": {},
   "outputs": [
    {
     "data": {
      "text/html": [
       "<div>\n",
       "<style scoped>\n",
       "    .dataframe tbody tr th:only-of-type {\n",
       "        vertical-align: middle;\n",
       "    }\n",
       "\n",
       "    .dataframe tbody tr th {\n",
       "        vertical-align: top;\n",
       "    }\n",
       "\n",
       "    .dataframe thead th {\n",
       "        text-align: right;\n",
       "    }\n",
       "</style>\n",
       "<table border=\"1\" class=\"dataframe\">\n",
       "  <thead>\n",
       "    <tr style=\"text-align: right;\">\n",
       "      <th></th>\n",
       "      <th>firm_id</th>\n",
       "      <th>average</th>\n",
       "      <th>average_type</th>\n",
       "      <th>time_period</th>\n",
       "      <th>feature</th>\n",
       "    </tr>\n",
       "  </thead>\n",
       "  <tbody>\n",
       "    <tr>\n",
       "      <th>6222</th>\n",
       "      <td>162</td>\n",
       "      <td>1.25350</td>\n",
       "      <td>yearly</td>\n",
       "      <td>2012</td>\n",
       "      <td>eps_fc_terms</td>\n",
       "    </tr>\n",
       "    <tr>\n",
       "      <th>2718</th>\n",
       "      <td>193</td>\n",
       "      <td>0.17425</td>\n",
       "      <td>yearly</td>\n",
       "      <td>2004</td>\n",
       "      <td>eps_fc</td>\n",
       "    </tr>\n",
       "    <tr>\n",
       "      <th>3467</th>\n",
       "      <td>437</td>\n",
       "      <td>0.66675</td>\n",
       "      <td>yearly</td>\n",
       "      <td>2006</td>\n",
       "      <td>eps_fc_terms</td>\n",
       "    </tr>\n",
       "    <tr>\n",
       "      <th>3418</th>\n",
       "      <td>388</td>\n",
       "      <td>0.80550</td>\n",
       "      <td>yearly</td>\n",
       "      <td>2006</td>\n",
       "      <td>eps_fc_terms</td>\n",
       "    </tr>\n",
       "    <tr>\n",
       "      <th>8047</th>\n",
       "      <td>472</td>\n",
       "      <td>0.69850</td>\n",
       "      <td>yearly</td>\n",
       "      <td>2015</td>\n",
       "      <td>eps_fc_terms</td>\n",
       "    </tr>\n",
       "    <tr>\n",
       "      <th>3981</th>\n",
       "      <td>446</td>\n",
       "      <td>13.41125</td>\n",
       "      <td>yearly</td>\n",
       "      <td>2006</td>\n",
       "      <td>eod_act</td>\n",
       "    </tr>\n",
       "    <tr>\n",
       "      <th>10264</th>\n",
       "      <td>164</td>\n",
       "      <td>1.15575</td>\n",
       "      <td>yearly</td>\n",
       "      <td>2019</td>\n",
       "      <td>eps_fc</td>\n",
       "    </tr>\n",
       "    <tr>\n",
       "      <th>6340</th>\n",
       "      <td>280</td>\n",
       "      <td>0.75750</td>\n",
       "      <td>yearly</td>\n",
       "      <td>2011</td>\n",
       "      <td>eps_act</td>\n",
       "    </tr>\n",
       "    <tr>\n",
       "      <th>1727</th>\n",
       "      <td>212</td>\n",
       "      <td>0.03675</td>\n",
       "      <td>yearly</td>\n",
       "      <td>2002</td>\n",
       "      <td>eps_fc</td>\n",
       "    </tr>\n",
       "    <tr>\n",
       "      <th>4479</th>\n",
       "      <td>439</td>\n",
       "      <td>7.01625</td>\n",
       "      <td>yearly</td>\n",
       "      <td>2007</td>\n",
       "      <td>eod_act</td>\n",
       "    </tr>\n",
       "  </tbody>\n",
       "</table>\n",
       "</div>"
      ],
      "text/plain": [
       "      firm_id   average average_type time_period       feature\n",
       "6222      162   1.25350       yearly        2012  eps_fc_terms\n",
       "2718      193   0.17425       yearly        2004        eps_fc\n",
       "3467      437   0.66675       yearly        2006  eps_fc_terms\n",
       "3418      388   0.80550       yearly        2006  eps_fc_terms\n",
       "8047      472   0.69850       yearly        2015  eps_fc_terms\n",
       "3981      446  13.41125       yearly        2006       eod_act\n",
       "10264     164   1.15575       yearly        2019        eps_fc\n",
       "6340      280   0.75750       yearly        2011       eps_act\n",
       "1727      212   0.03675       yearly        2002        eps_fc\n",
       "4479      439   7.01625       yearly        2007       eod_act"
      ]
     },
     "execution_count": 514,
     "metadata": {},
     "output_type": "execute_result"
    }
   ],
   "source": [
    "yearly_clean.sample(10)"
   ]
  },
  {
   "cell_type": "code",
   "execution_count": 515,
   "metadata": {},
   "outputs": [
    {
     "data": {
      "text/plain": [
       "505"
      ]
     },
     "execution_count": 515,
     "metadata": {},
     "output_type": "execute_result"
    }
   ],
   "source": [
    "#verify 505 firms\n",
    "yearly_clean.firm_id.nunique()"
   ]
  },
  {
   "cell_type": "code",
   "execution_count": 516,
   "metadata": {},
   "outputs": [
    {
     "data": {
      "text/plain": [
       "array(['yearly'], dtype=object)"
      ]
     },
     "execution_count": 516,
     "metadata": {},
     "output_type": "execute_result"
    }
   ],
   "source": [
    "#verify 'average_type' contains only 'yearly'\n",
    "yearly_clean.average_type.unique()"
   ]
  },
  {
   "cell_type": "code",
   "execution_count": 517,
   "metadata": {},
   "outputs": [
    {
     "data": {
      "text/plain": [
       "True"
      ]
     },
     "execution_count": 517,
     "metadata": {},
     "output_type": "execute_result"
    }
   ],
   "source": [
    "#verify 'feature' contains all features\n",
    "all(feat in feats_col_names for feat in yearly_clean.feature.unique())"
   ]
  },
  {
   "cell_type": "code",
   "execution_count": 518,
   "metadata": {},
   "outputs": [
    {
     "data": {
      "text/plain": [
       "21"
      ]
     },
     "execution_count": 518,
     "metadata": {},
     "output_type": "execute_result"
    }
   ],
   "source": [
    "#verify there are 21 years recorded (1999 - 2019)\n",
    "len(yearly_clean.time_period.unique())"
   ]
  },
  {
   "cell_type": "code",
   "execution_count": 519,
   "metadata": {},
   "outputs": [
    {
     "data": {
      "text/plain": [
       "(1999, 2019)"
      ]
     },
     "execution_count": 519,
     "metadata": {},
     "output_type": "execute_result"
    }
   ],
   "source": [
    "#examine lowest and highest year\n",
    "yearly_clean.time_period.min(), yearly_clean.time_period.max()"
   ]
  },
  {
   "cell_type": "markdown",
   "metadata": {},
   "source": [
    "- ### `quarterly_clean`"
   ]
  },
  {
   "cell_type": "code",
   "execution_count": 520,
   "metadata": {},
   "outputs": [],
   "source": [
    "#assign 'average_type' column\n",
    "quarterly_clean = quarterly_clean.assign(average_type = 'quarterly')"
   ]
  },
  {
   "cell_type": "code",
   "execution_count": 521,
   "metadata": {},
   "outputs": [],
   "source": [
    "#rename 'quarter' column to 'time_period'\n",
    "quarterly_clean.rename(columns = {'quarter' : 'time_period'}, inplace = True)"
   ]
  },
  {
   "cell_type": "code",
   "execution_count": 522,
   "metadata": {},
   "outputs": [],
   "source": [
    "#reorder columns\n",
    "quarterly_clean = quarterly_clean[avgs_col_order]"
   ]
  },
  {
   "cell_type": "markdown",
   "metadata": {},
   "source": [
    "### Test"
   ]
  },
  {
   "cell_type": "code",
   "execution_count": 523,
   "metadata": {},
   "outputs": [
    {
     "data": {
      "text/html": [
       "<div>\n",
       "<style scoped>\n",
       "    .dataframe tbody tr th:only-of-type {\n",
       "        vertical-align: middle;\n",
       "    }\n",
       "\n",
       "    .dataframe tbody tr th {\n",
       "        vertical-align: top;\n",
       "    }\n",
       "\n",
       "    .dataframe thead th {\n",
       "        text-align: right;\n",
       "    }\n",
       "</style>\n",
       "<table border=\"1\" class=\"dataframe\">\n",
       "  <thead>\n",
       "    <tr style=\"text-align: right;\">\n",
       "      <th></th>\n",
       "      <th>firm_id</th>\n",
       "      <th>average</th>\n",
       "      <th>average_type</th>\n",
       "      <th>time_period</th>\n",
       "      <th>feature</th>\n",
       "    </tr>\n",
       "  </thead>\n",
       "  <tbody>\n",
       "    <tr>\n",
       "      <th>640</th>\n",
       "      <td>135</td>\n",
       "      <td>0.996154</td>\n",
       "      <td>quarterly</td>\n",
       "      <td>q2</td>\n",
       "      <td>eps_fc</td>\n",
       "    </tr>\n",
       "    <tr>\n",
       "      <th>1116</th>\n",
       "      <td>106</td>\n",
       "      <td>1.954857</td>\n",
       "      <td>quarterly</td>\n",
       "      <td>q3</td>\n",
       "      <td>eps_fc</td>\n",
       "    </tr>\n",
       "    <tr>\n",
       "      <th>1454</th>\n",
       "      <td>444</td>\n",
       "      <td>0.757429</td>\n",
       "      <td>quarterly</td>\n",
       "      <td>q3</td>\n",
       "      <td>eps_fc</td>\n",
       "    </tr>\n",
       "    <tr>\n",
       "      <th>913</th>\n",
       "      <td>408</td>\n",
       "      <td>0.191350</td>\n",
       "      <td>quarterly</td>\n",
       "      <td>q2</td>\n",
       "      <td>eps_fc_terms</td>\n",
       "    </tr>\n",
       "    <tr>\n",
       "      <th>1375</th>\n",
       "      <td>365</td>\n",
       "      <td>0.721667</td>\n",
       "      <td>quarterly</td>\n",
       "      <td>q3</td>\n",
       "      <td>eps_act</td>\n",
       "    </tr>\n",
       "    <tr>\n",
       "      <th>581</th>\n",
       "      <td>76</td>\n",
       "      <td>18.854648</td>\n",
       "      <td>quarterly</td>\n",
       "      <td>q2</td>\n",
       "      <td>eod_act</td>\n",
       "    </tr>\n",
       "    <tr>\n",
       "      <th>1121</th>\n",
       "      <td>111</td>\n",
       "      <td>63.512500</td>\n",
       "      <td>quarterly</td>\n",
       "      <td>q3</td>\n",
       "      <td>eod_act</td>\n",
       "    </tr>\n",
       "    <tr>\n",
       "      <th>871</th>\n",
       "      <td>366</td>\n",
       "      <td>120.000000</td>\n",
       "      <td>quarterly</td>\n",
       "      <td>q2</td>\n",
       "      <td>eod_act</td>\n",
       "    </tr>\n",
       "    <tr>\n",
       "      <th>1407</th>\n",
       "      <td>397</td>\n",
       "      <td>33.538452</td>\n",
       "      <td>quarterly</td>\n",
       "      <td>q3</td>\n",
       "      <td>eod_act</td>\n",
       "    </tr>\n",
       "    <tr>\n",
       "      <th>123</th>\n",
       "      <td>123</td>\n",
       "      <td>0.600143</td>\n",
       "      <td>quarterly</td>\n",
       "      <td>q1</td>\n",
       "      <td>eps_fc</td>\n",
       "    </tr>\n",
       "  </tbody>\n",
       "</table>\n",
       "</div>"
      ],
      "text/plain": [
       "     firm_id     average average_type time_period       feature\n",
       "640      135    0.996154    quarterly          q2        eps_fc\n",
       "1116     106    1.954857    quarterly          q3        eps_fc\n",
       "1454     444    0.757429    quarterly          q3        eps_fc\n",
       "913      408    0.191350    quarterly          q2  eps_fc_terms\n",
       "1375     365    0.721667    quarterly          q3       eps_act\n",
       "581       76   18.854648    quarterly          q2       eod_act\n",
       "1121     111   63.512500    quarterly          q3       eod_act\n",
       "871      366  120.000000    quarterly          q2       eod_act\n",
       "1407     397   33.538452    quarterly          q3       eod_act\n",
       "123      123    0.600143    quarterly          q1        eps_fc"
      ]
     },
     "execution_count": 523,
     "metadata": {},
     "output_type": "execute_result"
    }
   ],
   "source": [
    "quarterly_clean.sample(10)"
   ]
  },
  {
   "cell_type": "code",
   "execution_count": 524,
   "metadata": {},
   "outputs": [
    {
     "data": {
      "text/plain": [
       "505"
      ]
     },
     "execution_count": 524,
     "metadata": {},
     "output_type": "execute_result"
    }
   ],
   "source": [
    "#verify 505 firms\n",
    "quarterly_clean.firm_id.nunique()"
   ]
  },
  {
   "cell_type": "code",
   "execution_count": 525,
   "metadata": {},
   "outputs": [
    {
     "data": {
      "text/plain": [
       "array(['quarterly'], dtype=object)"
      ]
     },
     "execution_count": 525,
     "metadata": {},
     "output_type": "execute_result"
    }
   ],
   "source": [
    "#verify 'average_type' contains only 'quarterly'\n",
    "quarterly_clean.average_type.unique()"
   ]
  },
  {
   "cell_type": "code",
   "execution_count": 526,
   "metadata": {},
   "outputs": [
    {
     "data": {
      "text/plain": [
       "array(['q1', 'q2', 'q3', 'q4'], dtype=object)"
      ]
     },
     "execution_count": 526,
     "metadata": {},
     "output_type": "execute_result"
    }
   ],
   "source": [
    "#verify 'time_period' contains only 'q1' till 'q4'\n",
    "quarterly_clean.time_period.unique()"
   ]
  },
  {
   "cell_type": "code",
   "execution_count": 527,
   "metadata": {},
   "outputs": [
    {
     "data": {
      "text/plain": [
       "True"
      ]
     },
     "execution_count": 527,
     "metadata": {},
     "output_type": "execute_result"
    }
   ],
   "source": [
    "#verify 'feature' contains all features\n",
    "all(feat in feats_col_names for feat in quarterly_clean.feature.unique())"
   ]
  },
  {
   "cell_type": "markdown",
   "metadata": {},
   "source": [
    "### Code\n",
    ">**ISSUE 13:** - 20-year, yearly, and quarterly averages contained in different DataFrames.\n",
    "\n",
    "**Define:** Concatenate the normalized `twenty_year_clean`, `yearly_clean`, and `quarterly_clean` into new CSV **all_avgs.csv**."
   ]
  },
  {
   "cell_type": "code",
   "execution_count": 528,
   "metadata": {},
   "outputs": [],
   "source": [
    "#put all average DFs in an array\n",
    "avgs_array = [twenty_year_clean, yearly_clean, quarterly_clean]"
   ]
  },
  {
   "cell_type": "code",
   "execution_count": 529,
   "metadata": {},
   "outputs": [],
   "source": [
    "all_avgs = pd.concat(avgs_array)"
   ]
  },
  {
   "cell_type": "markdown",
   "metadata": {},
   "source": [
    "### Test"
   ]
  },
  {
   "cell_type": "code",
   "execution_count": 530,
   "metadata": {},
   "outputs": [
    {
     "data": {
      "text/html": [
       "<div>\n",
       "<style scoped>\n",
       "    .dataframe tbody tr th:only-of-type {\n",
       "        vertical-align: middle;\n",
       "    }\n",
       "\n",
       "    .dataframe tbody tr th {\n",
       "        vertical-align: top;\n",
       "    }\n",
       "\n",
       "    .dataframe thead th {\n",
       "        text-align: right;\n",
       "    }\n",
       "</style>\n",
       "<table border=\"1\" class=\"dataframe\">\n",
       "  <thead>\n",
       "    <tr style=\"text-align: right;\">\n",
       "      <th></th>\n",
       "      <th>firm_id</th>\n",
       "      <th>average</th>\n",
       "      <th>average_type</th>\n",
       "      <th>time_period</th>\n",
       "      <th>feature</th>\n",
       "    </tr>\n",
       "  </thead>\n",
       "  <tbody>\n",
       "    <tr>\n",
       "      <th>9873</th>\n",
       "      <td>278</td>\n",
       "      <td>0.493250</td>\n",
       "      <td>yearly</td>\n",
       "      <td>2019</td>\n",
       "      <td>eps_fc_terms</td>\n",
       "    </tr>\n",
       "    <tr>\n",
       "      <th>772</th>\n",
       "      <td>267</td>\n",
       "      <td>0.127500</td>\n",
       "      <td>yearly</td>\n",
       "      <td>2001</td>\n",
       "      <td>eps_fc_terms</td>\n",
       "    </tr>\n",
       "    <tr>\n",
       "      <th>5390</th>\n",
       "      <td>340</td>\n",
       "      <td>0.093250</td>\n",
       "      <td>yearly</td>\n",
       "      <td>2010</td>\n",
       "      <td>eps_fc_terms</td>\n",
       "    </tr>\n",
       "    <tr>\n",
       "      <th>6693</th>\n",
       "      <td>128</td>\n",
       "      <td>0.973250</td>\n",
       "      <td>yearly</td>\n",
       "      <td>2013</td>\n",
       "      <td>eps_fc_terms</td>\n",
       "    </tr>\n",
       "    <tr>\n",
       "      <th>4764</th>\n",
       "      <td>219</td>\n",
       "      <td>0.084375</td>\n",
       "      <td>yearly</td>\n",
       "      <td>2008</td>\n",
       "      <td>eps_act</td>\n",
       "    </tr>\n",
       "    <tr>\n",
       "      <th>9670</th>\n",
       "      <td>75</td>\n",
       "      <td>NaN</td>\n",
       "      <td>yearly</td>\n",
       "      <td>2018</td>\n",
       "      <td>eps_act</td>\n",
       "    </tr>\n",
       "    <tr>\n",
       "      <th>1745</th>\n",
       "      <td>230</td>\n",
       "      <td>1.061619</td>\n",
       "      <td>quarterly</td>\n",
       "      <td>q4</td>\n",
       "      <td>eps_fc</td>\n",
       "    </tr>\n",
       "    <tr>\n",
       "      <th>1878</th>\n",
       "      <td>363</td>\n",
       "      <td>0.166885</td>\n",
       "      <td>twenty_year</td>\n",
       "      <td>NaN</td>\n",
       "      <td>eps_fc_terms</td>\n",
       "    </tr>\n",
       "    <tr>\n",
       "      <th>5643</th>\n",
       "      <td>88</td>\n",
       "      <td>0.700000</td>\n",
       "      <td>yearly</td>\n",
       "      <td>2011</td>\n",
       "      <td>eps_fc_terms</td>\n",
       "    </tr>\n",
       "    <tr>\n",
       "      <th>4036</th>\n",
       "      <td>501</td>\n",
       "      <td>0.349250</td>\n",
       "      <td>yearly</td>\n",
       "      <td>2006</td>\n",
       "      <td>eps_fc</td>\n",
       "    </tr>\n",
       "  </tbody>\n",
       "</table>\n",
       "</div>"
      ],
      "text/plain": [
       "     firm_id   average average_type time_period       feature\n",
       "9873     278  0.493250       yearly        2019  eps_fc_terms\n",
       "772      267  0.127500       yearly        2001  eps_fc_terms\n",
       "5390     340  0.093250       yearly        2010  eps_fc_terms\n",
       "6693     128  0.973250       yearly        2013  eps_fc_terms\n",
       "4764     219  0.084375       yearly        2008       eps_act\n",
       "9670      75       NaN       yearly        2018       eps_act\n",
       "1745     230  1.061619    quarterly          q4        eps_fc\n",
       "1878     363  0.166885  twenty_year         NaN  eps_fc_terms\n",
       "5643      88  0.700000       yearly        2011  eps_fc_terms\n",
       "4036     501  0.349250       yearly        2006        eps_fc"
      ]
     },
     "execution_count": 530,
     "metadata": {},
     "output_type": "execute_result"
    }
   ],
   "source": [
    "all_avgs.sample(10)"
   ]
  },
  {
   "cell_type": "code",
   "execution_count": 531,
   "metadata": {},
   "outputs": [
    {
     "data": {
      "text/plain": [
       "(52015, 5)"
      ]
     },
     "execution_count": 531,
     "metadata": {},
     "output_type": "execute_result"
    }
   ],
   "source": [
    "all_avgs.shape"
   ]
  },
  {
   "cell_type": "code",
   "execution_count": 532,
   "metadata": {},
   "outputs": [
    {
     "data": {
      "text/plain": [
       "505"
      ]
     },
     "execution_count": 532,
     "metadata": {},
     "output_type": "execute_result"
    }
   ],
   "source": [
    "#verify 505 firms, no duplicates\n",
    "all_avgs.firm_id.nunique()"
   ]
  },
  {
   "cell_type": "code",
   "execution_count": 533,
   "metadata": {},
   "outputs": [
    {
     "data": {
      "text/plain": [
       "array(['twenty_year', 'yearly', 'quarterly'], dtype=object)"
      ]
     },
     "execution_count": 533,
     "metadata": {},
     "output_type": "execute_result"
    }
   ],
   "source": [
    "#verify only 3 average_types\n",
    "all_avgs.average_type.unique()"
   ]
  },
  {
   "cell_type": "code",
   "execution_count": 534,
   "metadata": {},
   "outputs": [
    {
     "data": {
      "text/plain": [
       "array(['eod_act', 'eps_act', 'eps_fc', 'eps_fc_terms'], dtype=object)"
      ]
     },
     "execution_count": 534,
     "metadata": {},
     "output_type": "execute_result"
    }
   ],
   "source": [
    "#verify 4 features\n",
    "all_avgs.feature.unique()"
   ]
  },
  {
   "cell_type": "markdown",
   "metadata": {},
   "source": [
    "### Code\n",
    ">**ISSUE 14:** Unnormalized data among `eps_act`, `eps_fc`, `eod_act`, and `eps_fc_terms`\n",
    "\n",
    "**Define:**\n",
    "\n",
    "- Achieve desired `features.csv` output:\n",
    "\n",
    "| firm_id  | term_forecast     | value      | feature         |    date    |\n",
    "|:---------| :-------: | :-----------------:| :-------------: |----------: |\n",
    "| 44       |     2004Q1  |  3.55           |        eps_fc      |  NaN      |\n",
    "| 55       | 2004Q4     |  6.22       |  eps_fc_terms       | 2004-07-01 |\n",
    "| 202      | 2015Q1      | 6.28      |   eod_act         |   1999-03-31    |\n",
    "\n",
    "\n",
    "> **date** feature contains the **date column in `eod_act`** and **forecast_made in `eps_fc_terms`**. They are assigned to the same column because both columns are consistent: the same DateTime Object.\n",
    "\n",
    "> **date** feature will be NaN for `eps_fc` and `eps_act`.\n",
    "\n",
    "- ### `eps_fc` and `eps_act`\n",
    "\n",
    "> For both DataFrames, we don't have to worry about handling the **date** column. That will be resolved later when merging all the DataFrames with `eod_act` and `eps_fc_terms`"
   ]
  },
  {
   "cell_type": "code",
   "execution_count": 535,
   "metadata": {},
   "outputs": [],
   "source": [
    "fc_act_order = ['firm_id', 'feature', 'term', 'value']"
   ]
  },
  {
   "cell_type": "code",
   "execution_count": 536,
   "metadata": {},
   "outputs": [],
   "source": [
    "#melt firm names\n",
    "eps_fc_clean = eps_fc_clean.melt (id_vars = ['term'],\n",
    "                  var_name = 'firm_id')"
   ]
  },
  {
   "cell_type": "code",
   "execution_count": 537,
   "metadata": {},
   "outputs": [],
   "source": [
    "eps_act_clean = eps_act_clean.melt(id_vars = ['term'],\n",
    "                                  var_name = 'firm_id')"
   ]
  },
  {
   "cell_type": "code",
   "execution_count": 538,
   "metadata": {},
   "outputs": [],
   "source": [
    "#reassign all firms to firm_id\n",
    "eps_fc_clean['firm_id'] = eps_fc_clean['firm_id'].map(firm_names_ids)\n",
    "eps_act_clean['firm_id'] = eps_act_clean['firm_id'].map(firm_names_ids)"
   ]
  },
  {
   "cell_type": "code",
   "execution_count": 539,
   "metadata": {},
   "outputs": [],
   "source": [
    "#add feature column\n",
    "eps_fc_clean = eps_fc_clean.assign(feature = 'eps_fc')\n",
    "eps_act_clean = eps_act_clean.assign(feature = 'eps_act')"
   ]
  },
  {
   "cell_type": "code",
   "execution_count": 540,
   "metadata": {},
   "outputs": [],
   "source": [
    "#reorder columns\n",
    "eps_fc_clean = eps_fc_clean[fc_act_order]\n",
    "eps_act_clean = eps_act_clean[fc_act_order]"
   ]
  },
  {
   "cell_type": "markdown",
   "metadata": {},
   "source": [
    "### Test"
   ]
  },
  {
   "cell_type": "code",
   "execution_count": 541,
   "metadata": {},
   "outputs": [
    {
     "data": {
      "text/html": [
       "<div>\n",
       "<style scoped>\n",
       "    .dataframe tbody tr th:only-of-type {\n",
       "        vertical-align: middle;\n",
       "    }\n",
       "\n",
       "    .dataframe tbody tr th {\n",
       "        vertical-align: top;\n",
       "    }\n",
       "\n",
       "    .dataframe thead th {\n",
       "        text-align: right;\n",
       "    }\n",
       "</style>\n",
       "<table border=\"1\" class=\"dataframe\">\n",
       "  <thead>\n",
       "    <tr style=\"text-align: right;\">\n",
       "      <th></th>\n",
       "      <th>firm_id</th>\n",
       "      <th>feature</th>\n",
       "      <th>term</th>\n",
       "      <th>value</th>\n",
       "    </tr>\n",
       "  </thead>\n",
       "  <tbody>\n",
       "    <tr>\n",
       "      <th>25631</th>\n",
       "      <td>305</td>\n",
       "      <td>eps_fc</td>\n",
       "      <td>2001Q4</td>\n",
       "      <td>0.251</td>\n",
       "    </tr>\n",
       "    <tr>\n",
       "      <th>20630</th>\n",
       "      <td>245</td>\n",
       "      <td>eps_fc</td>\n",
       "      <td>2011Q3</td>\n",
       "      <td>0.222</td>\n",
       "    </tr>\n",
       "    <tr>\n",
       "      <th>23370</th>\n",
       "      <td>278</td>\n",
       "      <td>eps_fc</td>\n",
       "      <td>2003Q3</td>\n",
       "      <td>0.172</td>\n",
       "    </tr>\n",
       "    <tr>\n",
       "      <th>33943</th>\n",
       "      <td>404</td>\n",
       "      <td>eps_fc</td>\n",
       "      <td>2000Q4</td>\n",
       "      <td>0.067</td>\n",
       "    </tr>\n",
       "    <tr>\n",
       "      <th>22867</th>\n",
       "      <td>272</td>\n",
       "      <td>eps_fc</td>\n",
       "      <td>2003Q4</td>\n",
       "      <td>NaN</td>\n",
       "    </tr>\n",
       "    <tr>\n",
       "      <th>32115</th>\n",
       "      <td>382</td>\n",
       "      <td>eps_fc</td>\n",
       "      <td>2005Q4</td>\n",
       "      <td>0.180</td>\n",
       "    </tr>\n",
       "    <tr>\n",
       "      <th>36423</th>\n",
       "      <td>433</td>\n",
       "      <td>eps_fc</td>\n",
       "      <td>2011Q4</td>\n",
       "      <td>0.703</td>\n",
       "    </tr>\n",
       "    <tr>\n",
       "      <th>20677</th>\n",
       "      <td>246</td>\n",
       "      <td>eps_fc</td>\n",
       "      <td>2002Q2</td>\n",
       "      <td>-0.272</td>\n",
       "    </tr>\n",
       "    <tr>\n",
       "      <th>28548</th>\n",
       "      <td>339</td>\n",
       "      <td>eps_fc</td>\n",
       "      <td>2017Q1</td>\n",
       "      <td>0.215</td>\n",
       "    </tr>\n",
       "    <tr>\n",
       "      <th>25009</th>\n",
       "      <td>297</td>\n",
       "      <td>eps_fc</td>\n",
       "      <td>2014Q2</td>\n",
       "      <td>0.894</td>\n",
       "    </tr>\n",
       "  </tbody>\n",
       "</table>\n",
       "</div>"
      ],
      "text/plain": [
       "       firm_id feature    term  value\n",
       "25631      305  eps_fc  2001Q4  0.251\n",
       "20630      245  eps_fc  2011Q3  0.222\n",
       "23370      278  eps_fc  2003Q3  0.172\n",
       "33943      404  eps_fc  2000Q4  0.067\n",
       "22867      272  eps_fc  2003Q4    NaN\n",
       "32115      382  eps_fc  2005Q4  0.180\n",
       "36423      433  eps_fc  2011Q4  0.703\n",
       "20677      246  eps_fc  2002Q2 -0.272\n",
       "28548      339  eps_fc  2017Q1  0.215\n",
       "25009      297  eps_fc  2014Q2  0.894"
      ]
     },
     "execution_count": 541,
     "metadata": {},
     "output_type": "execute_result"
    }
   ],
   "source": [
    "eps_fc_clean.sample(10)"
   ]
  },
  {
   "cell_type": "code",
   "execution_count": 542,
   "metadata": {},
   "outputs": [
    {
     "data": {
      "text/plain": [
       "True"
      ]
     },
     "execution_count": 542,
     "metadata": {},
     "output_type": "execute_result"
    }
   ],
   "source": [
    "#verify 505 firms in both\n",
    "eps_fc_clean.firm_id.nunique() == 505 & eps_act_clean.firm_id.nunique() == 505"
   ]
  },
  {
   "cell_type": "code",
   "execution_count": 543,
   "metadata": {},
   "outputs": [
    {
     "data": {
      "text/plain": [
       "True"
      ]
     },
     "execution_count": 543,
     "metadata": {},
     "output_type": "execute_result"
    }
   ],
   "source": [
    "#examine 'feature' in both\n",
    "len(eps_fc_clean.feature.unique()) == 1 & len(eps_act_clean.feature.unique()) == 1"
   ]
  },
  {
   "cell_type": "code",
   "execution_count": 544,
   "metadata": {},
   "outputs": [
    {
     "data": {
      "text/plain": [
       "(84, 84)"
      ]
     },
     "execution_count": 544,
     "metadata": {},
     "output_type": "execute_result"
    }
   ],
   "source": [
    "#verify 84 unique term values: 21 years x 4 quarters\n",
    "len(eps_fc_clean.term.unique()), len(eps_act_clean.term.unique())"
   ]
  },
  {
   "cell_type": "markdown",
   "metadata": {},
   "source": [
    "- ### `eod_act`"
   ]
  },
  {
   "cell_type": "code",
   "execution_count": 545,
   "metadata": {},
   "outputs": [],
   "source": [
    "#define column order\n",
    "feats_col_order = ['firm_id', 'feature', 'date', 'term', 'value']"
   ]
  },
  {
   "cell_type": "code",
   "execution_count": 546,
   "metadata": {},
   "outputs": [],
   "source": [
    "#melt firm ids\n",
    "eod_act_clean = eod_act_clean.melt(id_vars = ['date', 'term'],\n",
    "                  var_name = 'firm_id')"
   ]
  },
  {
   "cell_type": "code",
   "execution_count": 547,
   "metadata": {},
   "outputs": [],
   "source": [
    "#reassign firm_ids\n",
    "eod_act_clean['firm_id'] = eod_act_clean['firm_id'].map(firm_names_ids)"
   ]
  },
  {
   "cell_type": "code",
   "execution_count": 548,
   "metadata": {},
   "outputs": [],
   "source": [
    "#add feature column\n",
    "eod_act_clean = eod_act_clean.assign(feature = 'eod_act')"
   ]
  },
  {
   "cell_type": "code",
   "execution_count": 549,
   "metadata": {},
   "outputs": [],
   "source": [
    "#reorder columns \n",
    "eod_act_clean = eod_act_clean[feats_col_order]"
   ]
  },
  {
   "cell_type": "markdown",
   "metadata": {},
   "source": [
    "### Test"
   ]
  },
  {
   "cell_type": "code",
   "execution_count": 550,
   "metadata": {},
   "outputs": [
    {
     "data": {
      "text/html": [
       "<div>\n",
       "<style scoped>\n",
       "    .dataframe tbody tr th:only-of-type {\n",
       "        vertical-align: middle;\n",
       "    }\n",
       "\n",
       "    .dataframe tbody tr th {\n",
       "        vertical-align: top;\n",
       "    }\n",
       "\n",
       "    .dataframe thead th {\n",
       "        text-align: right;\n",
       "    }\n",
       "</style>\n",
       "<table border=\"1\" class=\"dataframe\">\n",
       "  <thead>\n",
       "    <tr style=\"text-align: right;\">\n",
       "      <th></th>\n",
       "      <th>firm_id</th>\n",
       "      <th>feature</th>\n",
       "      <th>date</th>\n",
       "      <th>term</th>\n",
       "      <th>value</th>\n",
       "    </tr>\n",
       "  </thead>\n",
       "  <tbody>\n",
       "    <tr>\n",
       "      <th>39181</th>\n",
       "      <td>466</td>\n",
       "      <td>eod_act</td>\n",
       "      <td>2008-06-30</td>\n",
       "      <td>2008Q2</td>\n",
       "      <td>45.9153</td>\n",
       "    </tr>\n",
       "    <tr>\n",
       "      <th>36558</th>\n",
       "      <td>435</td>\n",
       "      <td>eod_act</td>\n",
       "      <td>2003-09-30</td>\n",
       "      <td>2003Q3</td>\n",
       "      <td>NaN</td>\n",
       "    </tr>\n",
       "    <tr>\n",
       "      <th>10255</th>\n",
       "      <td>122</td>\n",
       "      <td>eod_act</td>\n",
       "      <td>2000-12-29</td>\n",
       "      <td>2000Q4</td>\n",
       "      <td>NaN</td>\n",
       "    </tr>\n",
       "    <tr>\n",
       "      <th>20650</th>\n",
       "      <td>245</td>\n",
       "      <td>eod_act</td>\n",
       "      <td>2016-09-30</td>\n",
       "      <td>2016Q3</td>\n",
       "      <td>181.6600</td>\n",
       "    </tr>\n",
       "    <tr>\n",
       "      <th>971</th>\n",
       "      <td>11</td>\n",
       "      <td>eod_act</td>\n",
       "      <td>2010-12-31</td>\n",
       "      <td>2010Q4</td>\n",
       "      <td>30.0800</td>\n",
       "    </tr>\n",
       "  </tbody>\n",
       "</table>\n",
       "</div>"
      ],
      "text/plain": [
       "       firm_id  feature       date    term     value\n",
       "39181      466  eod_act 2008-06-30  2008Q2   45.9153\n",
       "36558      435  eod_act 2003-09-30  2003Q3       NaN\n",
       "10255      122  eod_act 2000-12-29  2000Q4       NaN\n",
       "20650      245  eod_act 2016-09-30  2016Q3  181.6600\n",
       "971         11  eod_act 2010-12-31  2010Q4   30.0800"
      ]
     },
     "execution_count": 550,
     "metadata": {},
     "output_type": "execute_result"
    }
   ],
   "source": [
    "eod_act_clean.sample(5)"
   ]
  },
  {
   "cell_type": "code",
   "execution_count": 551,
   "metadata": {},
   "outputs": [
    {
     "data": {
      "text/plain": [
       "True"
      ]
     },
     "execution_count": 551,
     "metadata": {},
     "output_type": "execute_result"
    }
   ],
   "source": [
    "#verify 505 firms \n",
    "eod_act_clean.firm_id.nunique() == 505 "
   ]
  },
  {
   "cell_type": "code",
   "execution_count": 552,
   "metadata": {},
   "outputs": [
    {
     "data": {
      "text/plain": [
       "array(['eod_act'], dtype=object)"
      ]
     },
     "execution_count": 552,
     "metadata": {},
     "output_type": "execute_result"
    }
   ],
   "source": [
    "#examine 'feature' column\n",
    "eod_act_clean.feature.unique()"
   ]
  },
  {
   "cell_type": "code",
   "execution_count": 553,
   "metadata": {},
   "outputs": [
    {
     "data": {
      "text/plain": [
       "(True, True)"
      ]
     },
     "execution_count": 553,
     "metadata": {},
     "output_type": "execute_result"
    }
   ],
   "source": [
    "#verify 84 unique dates and terms\n",
    "len(eod_act_clean.term.unique()) == 84, len(eod_act_clean.date.unique()) == 84"
   ]
  },
  {
   "cell_type": "markdown",
   "metadata": {},
   "source": [
    "- ### `eps_fc_terms`"
   ]
  },
  {
   "cell_type": "code",
   "execution_count": 554,
   "metadata": {},
   "outputs": [],
   "source": [
    "#melt firm ids\n",
    "eps_fc_terms_clean = eps_fc_terms_clean.melt(id_vars = ['forecast_made', 'term'],\n",
    "                       var_name = 'firm_id')"
   ]
  },
  {
   "cell_type": "code",
   "execution_count": 555,
   "metadata": {},
   "outputs": [],
   "source": [
    "#reassign firm ids\n",
    "eps_fc_terms_clean['firm_id'] = eps_fc_terms_clean['firm_id'].map(firm_names_ids)"
   ]
  },
  {
   "cell_type": "code",
   "execution_count": 556,
   "metadata": {},
   "outputs": [],
   "source": [
    "#rename forecast_made to date\n",
    "eps_fc_terms_clean = eps_fc_terms_clean.rename(columns = {'forecast_made' : 'date'})"
   ]
  },
  {
   "cell_type": "code",
   "execution_count": 557,
   "metadata": {},
   "outputs": [],
   "source": [
    "#add feature column\n",
    "eps_fc_terms_clean = eps_fc_terms_clean.assign(feature = 'eps_fc_terms')"
   ]
  },
  {
   "cell_type": "code",
   "execution_count": 558,
   "metadata": {},
   "outputs": [],
   "source": [
    "#reorder columns\n",
    "eps_fc_terms_clean = eps_fc_terms_clean[feats_col_order]"
   ]
  },
  {
   "cell_type": "markdown",
   "metadata": {},
   "source": [
    "### Test"
   ]
  },
  {
   "cell_type": "code",
   "execution_count": 559,
   "metadata": {},
   "outputs": [
    {
     "data": {
      "text/html": [
       "<div>\n",
       "<style scoped>\n",
       "    .dataframe tbody tr th:only-of-type {\n",
       "        vertical-align: middle;\n",
       "    }\n",
       "\n",
       "    .dataframe tbody tr th {\n",
       "        vertical-align: top;\n",
       "    }\n",
       "\n",
       "    .dataframe thead th {\n",
       "        text-align: right;\n",
       "    }\n",
       "</style>\n",
       "<table border=\"1\" class=\"dataframe\">\n",
       "  <thead>\n",
       "    <tr style=\"text-align: right;\">\n",
       "      <th></th>\n",
       "      <th>firm_id</th>\n",
       "      <th>feature</th>\n",
       "      <th>date</th>\n",
       "      <th>term</th>\n",
       "      <th>value</th>\n",
       "    </tr>\n",
       "  </thead>\n",
       "  <tbody>\n",
       "    <tr>\n",
       "      <th>37647</th>\n",
       "      <td>470</td>\n",
       "      <td>eps_fc_terms</td>\n",
       "      <td>2011-07-01</td>\n",
       "      <td>2011Q4</td>\n",
       "      <td>-0.259</td>\n",
       "    </tr>\n",
       "    <tr>\n",
       "      <th>8949</th>\n",
       "      <td>111</td>\n",
       "      <td>eps_fc_terms</td>\n",
       "      <td>2017-01-01</td>\n",
       "      <td>2017Q2</td>\n",
       "      <td>2.008</td>\n",
       "    </tr>\n",
       "    <tr>\n",
       "      <th>37288</th>\n",
       "      <td>466</td>\n",
       "      <td>eps_fc_terms</td>\n",
       "      <td>2001-10-01</td>\n",
       "      <td>2002Q1</td>\n",
       "      <td>0.083</td>\n",
       "    </tr>\n",
       "    <tr>\n",
       "      <th>6628</th>\n",
       "      <td>82</td>\n",
       "      <td>eps_fc_terms</td>\n",
       "      <td>2016-10-01</td>\n",
       "      <td>2017Q1</td>\n",
       "      <td>0.740</td>\n",
       "    </tr>\n",
       "    <tr>\n",
       "      <th>21801</th>\n",
       "      <td>272</td>\n",
       "      <td>eps_fc_terms</td>\n",
       "      <td>2010-01-01</td>\n",
       "      <td>2010Q2</td>\n",
       "      <td>0.070</td>\n",
       "    </tr>\n",
       "    <tr>\n",
       "      <th>31578</th>\n",
       "      <td>394</td>\n",
       "      <td>eps_fc_terms</td>\n",
       "      <td>2014-04-01</td>\n",
       "      <td>2014Q3</td>\n",
       "      <td>0.163</td>\n",
       "    </tr>\n",
       "    <tr>\n",
       "      <th>32964</th>\n",
       "      <td>412</td>\n",
       "      <td>eps_fc_terms</td>\n",
       "      <td>2000-09-01</td>\n",
       "      <td>2001Q1</td>\n",
       "      <td>0.668</td>\n",
       "    </tr>\n",
       "    <tr>\n",
       "      <th>26113</th>\n",
       "      <td>326</td>\n",
       "      <td>eps_fc_terms</td>\n",
       "      <td>2008-01-01</td>\n",
       "      <td>2008Q2</td>\n",
       "      <td>1.646</td>\n",
       "    </tr>\n",
       "    <tr>\n",
       "      <th>20345</th>\n",
       "      <td>254</td>\n",
       "      <td>eps_fc_terms</td>\n",
       "      <td>2006-01-01</td>\n",
       "      <td>2006Q2</td>\n",
       "      <td>0.900</td>\n",
       "    </tr>\n",
       "    <tr>\n",
       "      <th>14965</th>\n",
       "      <td>187</td>\n",
       "      <td>eps_fc_terms</td>\n",
       "      <td>2001-01-01</td>\n",
       "      <td>2001Q2</td>\n",
       "      <td>NaN</td>\n",
       "    </tr>\n",
       "  </tbody>\n",
       "</table>\n",
       "</div>"
      ],
      "text/plain": [
       "       firm_id       feature       date    term  value\n",
       "37647      470  eps_fc_terms 2011-07-01  2011Q4 -0.259\n",
       "8949       111  eps_fc_terms 2017-01-01  2017Q2  2.008\n",
       "37288      466  eps_fc_terms 2001-10-01  2002Q1  0.083\n",
       "6628        82  eps_fc_terms 2016-10-01  2017Q1  0.740\n",
       "21801      272  eps_fc_terms 2010-01-01  2010Q2  0.070\n",
       "31578      394  eps_fc_terms 2014-04-01  2014Q3  0.163\n",
       "32964      412  eps_fc_terms 2000-09-01  2001Q1  0.668\n",
       "26113      326  eps_fc_terms 2008-01-01  2008Q2  1.646\n",
       "20345      254  eps_fc_terms 2006-01-01  2006Q2  0.900\n",
       "14965      187  eps_fc_terms 2001-01-01  2001Q2    NaN"
      ]
     },
     "execution_count": 559,
     "metadata": {},
     "output_type": "execute_result"
    }
   ],
   "source": [
    "eps_fc_terms_clean.sample(10)"
   ]
  },
  {
   "cell_type": "code",
   "execution_count": 560,
   "metadata": {},
   "outputs": [
    {
     "data": {
      "text/plain": [
       "505"
      ]
     },
     "execution_count": 560,
     "metadata": {},
     "output_type": "execute_result"
    }
   ],
   "source": [
    "#verify 505 firms\n",
    "eps_fc_terms_clean.firm_id.nunique()"
   ]
  },
  {
   "cell_type": "code",
   "execution_count": 561,
   "metadata": {},
   "outputs": [
    {
     "data": {
      "text/plain": [
       "array(['eps_fc_terms'], dtype=object)"
      ]
     },
     "execution_count": 561,
     "metadata": {},
     "output_type": "execute_result"
    }
   ],
   "source": [
    "#examine 'feature' column\n",
    "eps_fc_terms_clean.feature.unique()"
   ]
  },
  {
   "cell_type": "code",
   "execution_count": 562,
   "metadata": {},
   "outputs": [
    {
     "data": {
      "text/plain": [
       "True"
      ]
     },
     "execution_count": 562,
     "metadata": {},
     "output_type": "execute_result"
    }
   ],
   "source": [
    "#verify 80 unique terms (1999 not recorded)\n",
    "eps_fc_terms_clean.term.nunique() == 80"
   ]
  },
  {
   "cell_type": "markdown",
   "metadata": {},
   "source": [
    "- ### `features.csv`\n",
    "\n",
    "Now's the time to bring everything together!"
   ]
  },
  {
   "cell_type": "code",
   "execution_count": 563,
   "metadata": {},
   "outputs": [],
   "source": [
    "feat_array = [eps_fc_clean, eps_act_clean, eod_act_clean, eps_fc_terms_clean]"
   ]
  },
  {
   "cell_type": "code",
   "execution_count": 564,
   "metadata": {},
   "outputs": [],
   "source": [
    "#concat to prepare for outer left merge\n",
    "eod_act_eps_terms = pd.concat([eod_act_clean, eps_fc_terms_clean], join = 'outer')"
   ]
  },
  {
   "cell_type": "code",
   "execution_count": 565,
   "metadata": {},
   "outputs": [],
   "source": [
    "#outer join\n",
    "features = pd.concat([eod_act_eps_terms, eps_fc_clean], join = 'outer', sort = False)\n",
    "features = pd.concat([features, eps_act_clean], join = 'outer', sort = False)"
   ]
  },
  {
   "cell_type": "code",
   "execution_count": 566,
   "metadata": {},
   "outputs": [
    {
     "data": {
      "text/html": [
       "<div>\n",
       "<style scoped>\n",
       "    .dataframe tbody tr th:only-of-type {\n",
       "        vertical-align: middle;\n",
       "    }\n",
       "\n",
       "    .dataframe tbody tr th {\n",
       "        vertical-align: top;\n",
       "    }\n",
       "\n",
       "    .dataframe thead th {\n",
       "        text-align: right;\n",
       "    }\n",
       "</style>\n",
       "<table border=\"1\" class=\"dataframe\">\n",
       "  <thead>\n",
       "    <tr style=\"text-align: right;\">\n",
       "      <th></th>\n",
       "      <th>firm_id</th>\n",
       "      <th>feature</th>\n",
       "      <th>date</th>\n",
       "      <th>term</th>\n",
       "      <th>value</th>\n",
       "    </tr>\n",
       "  </thead>\n",
       "  <tbody>\n",
       "    <tr>\n",
       "      <th>39342</th>\n",
       "      <td>468</td>\n",
       "      <td>eps_act</td>\n",
       "      <td>NaT</td>\n",
       "      <td>2006Q3</td>\n",
       "      <td>0.510</td>\n",
       "    </tr>\n",
       "    <tr>\n",
       "      <th>11238</th>\n",
       "      <td>133</td>\n",
       "      <td>eps_act</td>\n",
       "      <td>NaT</td>\n",
       "      <td>2015Q3</td>\n",
       "      <td>NaN</td>\n",
       "    </tr>\n",
       "    <tr>\n",
       "      <th>22651</th>\n",
       "      <td>283</td>\n",
       "      <td>eps_fc_terms</td>\n",
       "      <td>2002-07-01</td>\n",
       "      <td>2002Q4</td>\n",
       "      <td>NaN</td>\n",
       "    </tr>\n",
       "    <tr>\n",
       "      <th>13579</th>\n",
       "      <td>161</td>\n",
       "      <td>eps_fc</td>\n",
       "      <td>NaT</td>\n",
       "      <td>2012Q4</td>\n",
       "      <td>0.159</td>\n",
       "    </tr>\n",
       "    <tr>\n",
       "      <th>34621</th>\n",
       "      <td>412</td>\n",
       "      <td>eps_fc</td>\n",
       "      <td>NaT</td>\n",
       "      <td>2002Q2</td>\n",
       "      <td>0.326</td>\n",
       "    </tr>\n",
       "    <tr>\n",
       "      <th>31485</th>\n",
       "      <td>374</td>\n",
       "      <td>eod_act</td>\n",
       "      <td>2016-06-30</td>\n",
       "      <td>2016Q2</td>\n",
       "      <td>52.420</td>\n",
       "    </tr>\n",
       "    <tr>\n",
       "      <th>10997</th>\n",
       "      <td>137</td>\n",
       "      <td>eps_fc_terms</td>\n",
       "      <td>2009-01-01</td>\n",
       "      <td>2009Q2</td>\n",
       "      <td>0.920</td>\n",
       "    </tr>\n",
       "    <tr>\n",
       "      <th>31131</th>\n",
       "      <td>370</td>\n",
       "      <td>eod_act</td>\n",
       "      <td>2011-12-30</td>\n",
       "      <td>2011Q4</td>\n",
       "      <td>19.510</td>\n",
       "    </tr>\n",
       "    <tr>\n",
       "      <th>25951</th>\n",
       "      <td>308</td>\n",
       "      <td>eod_act</td>\n",
       "      <td>2018-12-31</td>\n",
       "      <td>2018Q4</td>\n",
       "      <td>110.470</td>\n",
       "    </tr>\n",
       "    <tr>\n",
       "      <th>14475</th>\n",
       "      <td>172</td>\n",
       "      <td>eod_act</td>\n",
       "      <td>2005-12-30</td>\n",
       "      <td>2005Q4</td>\n",
       "      <td>21.500</td>\n",
       "    </tr>\n",
       "  </tbody>\n",
       "</table>\n",
       "</div>"
      ],
      "text/plain": [
       "       firm_id       feature       date    term    value\n",
       "39342      468       eps_act        NaT  2006Q3    0.510\n",
       "11238      133       eps_act        NaT  2015Q3      NaN\n",
       "22651      283  eps_fc_terms 2002-07-01  2002Q4      NaN\n",
       "13579      161        eps_fc        NaT  2012Q4    0.159\n",
       "34621      412        eps_fc        NaT  2002Q2    0.326\n",
       "31485      374       eod_act 2016-06-30  2016Q2   52.420\n",
       "10997      137  eps_fc_terms 2009-01-01  2009Q2    0.920\n",
       "31131      370       eod_act 2011-12-30  2011Q4   19.510\n",
       "25951      308       eod_act 2018-12-31  2018Q4  110.470\n",
       "14475      172       eod_act 2005-12-30  2005Q4   21.500"
      ]
     },
     "execution_count": 566,
     "metadata": {},
     "output_type": "execute_result"
    }
   ],
   "source": [
    "features.sample(10)"
   ]
  },
  {
   "cell_type": "markdown",
   "metadata": {},
   "source": [
    "### Test"
   ]
  },
  {
   "cell_type": "code",
   "execution_count": 567,
   "metadata": {},
   "outputs": [
    {
     "data": {
      "text/html": [
       "<div>\n",
       "<style scoped>\n",
       "    .dataframe tbody tr th:only-of-type {\n",
       "        vertical-align: middle;\n",
       "    }\n",
       "\n",
       "    .dataframe tbody tr th {\n",
       "        vertical-align: top;\n",
       "    }\n",
       "\n",
       "    .dataframe thead th {\n",
       "        text-align: right;\n",
       "    }\n",
       "</style>\n",
       "<table border=\"1\" class=\"dataframe\">\n",
       "  <thead>\n",
       "    <tr style=\"text-align: right;\">\n",
       "      <th></th>\n",
       "      <th>firm_id</th>\n",
       "      <th>feature</th>\n",
       "      <th>date</th>\n",
       "      <th>term</th>\n",
       "      <th>value</th>\n",
       "    </tr>\n",
       "  </thead>\n",
       "  <tbody>\n",
       "    <tr>\n",
       "      <th>10344</th>\n",
       "      <td>123</td>\n",
       "      <td>eps_fc</td>\n",
       "      <td>NaT</td>\n",
       "      <td>2002Q1</td>\n",
       "      <td>0.332000</td>\n",
       "    </tr>\n",
       "    <tr>\n",
       "      <th>2996</th>\n",
       "      <td>35</td>\n",
       "      <td>eps_fc</td>\n",
       "      <td>NaT</td>\n",
       "      <td>2013Q1</td>\n",
       "      <td>2.027000</td>\n",
       "    </tr>\n",
       "    <tr>\n",
       "      <th>17271</th>\n",
       "      <td>205</td>\n",
       "      <td>eps_act</td>\n",
       "      <td>NaT</td>\n",
       "      <td>2011Q4</td>\n",
       "      <td>0.806667</td>\n",
       "    </tr>\n",
       "    <tr>\n",
       "      <th>6066</th>\n",
       "      <td>72</td>\n",
       "      <td>eps_fc</td>\n",
       "      <td>NaT</td>\n",
       "      <td>2003Q3</td>\n",
       "      <td>0.162000</td>\n",
       "    </tr>\n",
       "    <tr>\n",
       "      <th>17518</th>\n",
       "      <td>208</td>\n",
       "      <td>eps_act</td>\n",
       "      <td>NaT</td>\n",
       "      <td>2010Q3</td>\n",
       "      <td>NaN</td>\n",
       "    </tr>\n",
       "  </tbody>\n",
       "</table>\n",
       "</div>"
      ],
      "text/plain": [
       "       firm_id  feature date    term     value\n",
       "10344      123   eps_fc  NaT  2002Q1  0.332000\n",
       "2996        35   eps_fc  NaT  2013Q1  2.027000\n",
       "17271      205  eps_act  NaT  2011Q4  0.806667\n",
       "6066        72   eps_fc  NaT  2003Q3  0.162000\n",
       "17518      208  eps_act  NaT  2010Q3       NaN"
      ]
     },
     "execution_count": 567,
     "metadata": {},
     "output_type": "execute_result"
    }
   ],
   "source": [
    "features.sample(5)"
   ]
  },
  {
   "cell_type": "code",
   "execution_count": 568,
   "metadata": {},
   "outputs": [
    {
     "data": {
      "text/plain": [
       "True"
      ]
     },
     "execution_count": 568,
     "metadata": {},
     "output_type": "execute_result"
    }
   ],
   "source": [
    "#verify 505 terms\n",
    "features.firm_id.nunique() == 505"
   ]
  },
  {
   "cell_type": "code",
   "execution_count": 569,
   "metadata": {},
   "outputs": [
    {
     "data": {
      "text/plain": [
       "array(['eod_act', 'eps_fc_terms', 'eps_fc', 'eps_act'], dtype=object)"
      ]
     },
     "execution_count": 569,
     "metadata": {},
     "output_type": "execute_result"
    }
   ],
   "source": [
    "#examine 'feature' column\n",
    "features.feature.unique()"
   ]
  },
  {
   "cell_type": "code",
   "execution_count": 570,
   "metadata": {},
   "outputs": [
    {
     "data": {
      "text/plain": [
       "(True,)"
      ]
     },
     "execution_count": 570,
     "metadata": {},
     "output_type": "execute_result"
    }
   ],
   "source": [
    "#verify 84 term ranges\n",
    "features.term.nunique() == 84, "
   ]
  },
  {
   "cell_type": "code",
   "execution_count": 571,
   "metadata": {},
   "outputs": [
    {
     "data": {
      "text/plain": [
       "164"
      ]
     },
     "execution_count": 571,
     "metadata": {},
     "output_type": "execute_result"
    }
   ],
   "source": [
    "#verify 164 date values: 84 ones from eod_act, and 80 from eps_fc_terms\n",
    "features.date.nunique()"
   ]
  },
  {
   "cell_type": "markdown",
   "metadata": {},
   "source": [
    "# III) Store Data <a id = \"store\"></a>\n",
    "\n",
    "**Disclaimer:** I decided to put the following CSVs under the ***./data/clean/averages/components*** directory because they form *part* of the main CSVs under the ***./data/clean/averages*** directory:\n",
    "- `quarter-avgs-eod-act.csv`\n",
    "- `quarter-avgs-eps-act.csv`\n",
    "- `quarter-avgs-eps-fc.csv`\n",
    "- `quarter-avgs-eps-fc-terms.csv`\n",
    "\n",
    "> The above are all components of the `quarter-avgs.csv` under **/averages/**\n",
    "\n",
    "- `yearly-avgs-eod-act.csv`\n",
    "- `yearly-avgs-eps-act.csv`\n",
    "- `yearly-avgs-eps-fc.csv`\n",
    "- `yearly-avgs-eps-fc-terms.csv`\n",
    "\n",
    "> The above are all components of the `yearly-avgs.csv` under **/averages/**\n",
    "\n",
    "**Additionally, I decided to keep `avgs.csv` under the *./data/clean/averages/* directory.** Although this CSV containing all averages would be highly inefficient for the data exploration stage, I decided it would be best to keep it on hand for convenience.\n",
    "\n",
    "Using `avgs.csv` would mean having the parse through the column names to isolate 20-year, yearly, and quarterly averages, but all of that redundance can be avoided by simply focusing on the `twenty-year-avgs`, `yearly-avgs`, and `quarter-avgs` CSVs alone.\n",
    "\n",
    "## Firms"
   ]
  },
  {
   "cell_type": "code",
   "execution_count": 576,
   "metadata": {},
   "outputs": [],
   "source": [
    "firm_ids.to_csv(PATH_CLEAN + 'firms.csv', encoding = 'utf-8', index = False)"
   ]
  },
  {
   "cell_type": "markdown",
   "metadata": {},
   "source": [
    "## Averages"
   ]
  },
  {
   "cell_type": "code",
   "execution_count": 577,
   "metadata": {},
   "outputs": [],
   "source": [
    "#twenty-year-averages\n",
    "df_twenty_year_avgs.to_csv(PATH_CLEAN_AVGS + 'twenty-year-avgs.csv', encoding = 'utf-8', index = False)"
   ]
  },
  {
   "cell_type": "code",
   "execution_count": 578,
   "metadata": {},
   "outputs": [],
   "source": [
    "#yearly averagas\n",
    "df_yearly_avgs.to_csv(PATH_CLEAN_AVGS + 'yearly-avgs.csv', encoding = 'utf-8', index = False)"
   ]
  },
  {
   "cell_type": "code",
   "execution_count": 579,
   "metadata": {},
   "outputs": [],
   "source": [
    "#quarterly averages\n",
    "df_quarter_avgs.to_csv(PATH_CLEAN_AVGS + 'quarter-avgs.csv', encoding = 'utf-8', index = False)"
   ]
  },
  {
   "cell_type": "code",
   "execution_count": 580,
   "metadata": {},
   "outputs": [],
   "source": [
    "#all averages\n",
    "all_avgs.to_csv(PATH_CLEAN_AVGS + 'avgs.csv', encoding = 'utf-8', index = False)"
   ]
  },
  {
   "cell_type": "markdown",
   "metadata": {},
   "source": [
    "**NOTE:** For the twenty year, yearly, and quarterly datasets, I stored their old `df_` version instead of their new clean versions. \n",
    "> This is because their old versions are stored more efficiently as ***standalone*** CSVs, and were only modified to fit the larger `all_avgs` DataFrame.\n",
    "\n",
    "## Average Components"
   ]
  },
  {
   "cell_type": "code",
   "execution_count": 581,
   "metadata": {},
   "outputs": [],
   "source": [
    "#quarterly averages\n",
    "store_df(PATH_CLEAN_AVGS_SUB, df_eps_fc_quarter_avgs, 'quarter-avgs-eps-fc.csv')\n",
    "store_df(PATH_CLEAN_AVGS_SUB, df_eps_act_quarter_avgs, 'quarter-avgs-eps-act.csv')\n",
    "store_df(PATH_CLEAN_AVGS_SUB, df_eod_act_quarter_avgs, 'quarter-avgs-eod-act.csv')\n",
    "store_df(PATH_CLEAN_AVGS_SUB, df_eps_fc_terms_quarter_avgs, 'quarter-avgs-eps-fc-terms.csv')"
   ]
  },
  {
   "cell_type": "code",
   "execution_count": 582,
   "metadata": {},
   "outputs": [],
   "source": [
    "#store yearly averages\n",
    "store_df(PATH_CLEAN_AVGS_SUB, df_eps_fc_yearly_avgs, 'yearly-avgs-eps-fc.csv')\n",
    "store_df(PATH_CLEAN_AVGS_SUB, df_eps_act_yearly_avgs, 'yearly-avgs-eps-act.csv')\n",
    "store_df(PATH_CLEAN_AVGS_SUB, df_eod_act_yearly_avgs, 'yearly-avgs-eod-act.csv')\n",
    "store_df(PATH_CLEAN_AVGS_SUB, df_eps_fc_terms_yearly_avgs, 'yearly-avgs-eps-fc-terms.csv')"
   ]
  },
  {
   "cell_type": "markdown",
   "metadata": {},
   "source": [
    "## Features"
   ]
  },
  {
   "cell_type": "code",
   "execution_count": null,
   "metadata": {},
   "outputs": [],
   "source": [
    "eps_fc_clean.to_csv(PATH_CLEAN + 'eps-fc.csv')\n",
    "eps_act_clean.to_csv(PATH_CLEAN + 'eps-act.csv')\n",
    "eod_act_clean.to_csv(PATH_CLEAN + 'eod-act.csv')\n",
    "eps_fc_terms_clean.to_csv(PATH_CLEAN + 'eps-fc-terms.csv')\n",
    "\n",
    "features.to_csv(PATH_CLEAN + 'features.csv')"
   ]
  },
  {
   "cell_type": "markdown",
   "metadata": {},
   "source": [
    "# IV) Notes\n",
    "\n",
    "\n",
    "\n",
    "- When dealing with the CSVs depicting averages, we need to keep in mind **missing data** in our interpretations.\n",
    "- I decided to put the years as columns under yearly average DF generation because: the amount of columns generated here, TK, would be less than the amount of \n",
    "\tfirms there are, 505. [TK link to a study showing how having too many columns take up memory vs rows]\n",
    "    \n",
    "- keep in mind that `eod_act` is based on **calendar years** not fiscal years."
   ]
  },
  {
   "cell_type": "code",
   "execution_count": 136,
   "metadata": {},
   "outputs": [],
   "source": [
    "\n",
    "#convert notebook to HTML"
   ]
  }
 ],
 "metadata": {
  "kernelspec": {
   "display_name": "Python 3",
   "language": "python",
   "name": "python3"
  },
  "language_info": {
   "codemirror_mode": {
    "name": "ipython",
    "version": 3
   },
   "file_extension": ".py",
   "mimetype": "text/x-python",
   "name": "python",
   "nbconvert_exporter": "python",
   "pygments_lexer": "ipython3",
   "version": "3.7.3"
  }
 },
 "nbformat": 4,
 "nbformat_minor": 2
}
