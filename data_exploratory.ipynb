{
 "cells": [
  {
   "cell_type": "markdown",
   "metadata": {},
   "source": [
    "# S&P 2019 Data Exploration Stage\n",
    "\n",
    "**by Marc Angelo Acebedo**\n",
    "\n",
    "# Table of Contents\n",
    "- [Introduction](#introduction)\n",
    "- [Data Setup & Overview](#setup)\n",
    "- [Exploration](#explore)\n",
    "    - [Univariate](#uni)\n",
    "    - [Bivariate](#bi)\n",
    "    - [Multivariate](#multi)\n",
    "\n",
    "\n",
    "# I) Introduction <a id = \"introduction\"> </a>\n",
    "\n",
    "\n",
    "- I kept features in separate CSVs because date formats differ. `eps_fc` and `eps_act` "
   ]
  },
  {
   "cell_type": "markdown",
   "metadata": {},
   "source": [
    "### After cleaning the original dataset as documented in my data wrangling process [here](TK) tk, I isolated the following columns:\n",
    "\n",
    "`features.csv`\n",
    "- **firm_id**\n",
    "\n",
    "`avgs.csv`"
   ]
  },
  {
   "cell_type": "markdown",
   "metadata": {},
   "source": [
    "## II) Data Setup & Overview<a id = \"setup\"></a> "
   ]
  },
  {
   "cell_type": "code",
   "execution_count": 30,
   "metadata": {},
   "outputs": [],
   "source": [
    "#import all packages and set plots to be embedded inline\n",
    "import numpy as np\n",
    "import pandas as pd\n",
    "import matplotlib.pyplot as plt\n",
    "import seaborn as sb\n",
    "\n",
    "%matplotlib inline\n",
    "plt.style.use('bmh')"
   ]
  },
  {
   "cell_type": "code",
   "execution_count": 24,
   "metadata": {},
   "outputs": [],
   "source": [
    "#define data directories\n",
    "PATH_CLEAN = './data/clean/'\n",
    "PATH_CLEAN_AVGS = './data/clean/averages/'"
   ]
  },
  {
   "cell_type": "code",
   "execution_count": 26,
   "metadata": {},
   "outputs": [],
   "source": [
    "#define visuals destination\n",
    "PATH_UNIVARIATE = './visuals/univariate/'\n",
    "PATH_BIVARIATE = './visuals/bivariate'\n",
    "PATH_MULTIVARIATE = './visuals/multivariate'"
   ]
  },
  {
   "cell_type": "markdown",
   "metadata": {},
   "source": [
    "**Import features and all averages**"
   ]
  },
  {
   "cell_type": "code",
   "execution_count": 19,
   "metadata": {},
   "outputs": [],
   "source": [
    "features = pd.read_csv(PATH_CLEAN + 'features.csv', low_memory = False)\n",
    "avgs = pd.read_csv(PATH_CLEAN_AVGS + 'avgs.csv')"
   ]
  },
  {
   "cell_type": "code",
   "execution_count": 6,
   "metadata": {},
   "outputs": [],
   "source": [
    "#import firm_ids for foreign key references\n",
    "firm_ids = pd.read_csv(PATH_CLEAN + 'firms.csv')"
   ]
  },
  {
   "cell_type": "markdown",
   "metadata": {},
   "source": [
    "### Describe Datasets"
   ]
  },
  {
   "cell_type": "code",
   "execution_count": 31,
   "metadata": {},
   "outputs": [
    {
     "data": {
      "text/html": [
       "<div>\n",
       "<style scoped>\n",
       "    .dataframe tbody tr th:only-of-type {\n",
       "        vertical-align: middle;\n",
       "    }\n",
       "\n",
       "    .dataframe tbody tr th {\n",
       "        vertical-align: top;\n",
       "    }\n",
       "\n",
       "    .dataframe thead th {\n",
       "        text-align: right;\n",
       "    }\n",
       "</style>\n",
       "<table border=\"1\" class=\"dataframe\">\n",
       "  <thead>\n",
       "    <tr style=\"text-align: right;\">\n",
       "      <th></th>\n",
       "      <th>firm_id</th>\n",
       "      <th>feature</th>\n",
       "      <th>date</th>\n",
       "      <th>term</th>\n",
       "      <th>value</th>\n",
       "    </tr>\n",
       "  </thead>\n",
       "  <tbody>\n",
       "    <tr>\n",
       "      <th>138670</th>\n",
       "      <td>159</td>\n",
       "      <td>eps_act</td>\n",
       "      <td>NaN</td>\n",
       "      <td>2017Q3</td>\n",
       "      <td>0.80000</td>\n",
       "    </tr>\n",
       "    <tr>\n",
       "      <th>22455</th>\n",
       "      <td>267</td>\n",
       "      <td>eod_act</td>\n",
       "      <td>2005-12-30</td>\n",
       "      <td>2005Q4</td>\n",
       "      <td>37.40000</td>\n",
       "    </tr>\n",
       "    <tr>\n",
       "      <th>35681</th>\n",
       "      <td>424</td>\n",
       "      <td>eod_act</td>\n",
       "      <td>2015-06-30</td>\n",
       "      <td>2015Q2</td>\n",
       "      <td>47.50000</td>\n",
       "    </tr>\n",
       "    <tr>\n",
       "      <th>166095</th>\n",
       "      <td>486</td>\n",
       "      <td>eps_act</td>\n",
       "      <td>NaN</td>\n",
       "      <td>2006Q4</td>\n",
       "      <td>2.51655</td>\n",
       "    </tr>\n",
       "    <tr>\n",
       "      <th>70320</th>\n",
       "      <td>348</td>\n",
       "      <td>eps_fc_terms</td>\n",
       "      <td>2014-10-01</td>\n",
       "      <td>2015Q1</td>\n",
       "      <td>0.57000</td>\n",
       "    </tr>\n",
       "  </tbody>\n",
       "</table>\n",
       "</div>"
      ],
      "text/plain": [
       "        firm_id       feature        date    term     value\n",
       "138670      159       eps_act         NaN  2017Q3   0.80000\n",
       "22455       267       eod_act  2005-12-30  2005Q4  37.40000\n",
       "35681       424       eod_act  2015-06-30  2015Q2  47.50000\n",
       "166095      486       eps_act         NaN  2006Q4   2.51655\n",
       "70320       348  eps_fc_terms  2014-10-01  2015Q1   0.57000"
      ]
     },
     "execution_count": 31,
     "metadata": {},
     "output_type": "execute_result"
    }
   ],
   "source": [
    "#look at 5 random entries\n",
    "features.sample(5)"
   ]
  },
  {
   "cell_type": "code",
   "execution_count": 32,
   "metadata": {},
   "outputs": [
    {
     "data": {
      "text/html": [
       "<div>\n",
       "<style scoped>\n",
       "    .dataframe tbody tr th:only-of-type {\n",
       "        vertical-align: middle;\n",
       "    }\n",
       "\n",
       "    .dataframe tbody tr th {\n",
       "        vertical-align: top;\n",
       "    }\n",
       "\n",
       "    .dataframe thead th {\n",
       "        text-align: right;\n",
       "    }\n",
       "</style>\n",
       "<table border=\"1\" class=\"dataframe\">\n",
       "  <thead>\n",
       "    <tr style=\"text-align: right;\">\n",
       "      <th></th>\n",
       "      <th>firm_id</th>\n",
       "      <th>average</th>\n",
       "      <th>average_type</th>\n",
       "      <th>time_period</th>\n",
       "      <th>feature</th>\n",
       "    </tr>\n",
       "  </thead>\n",
       "  <tbody>\n",
       "    <tr>\n",
       "      <th>42608</th>\n",
       "      <td>188</td>\n",
       "      <td>0.631500</td>\n",
       "      <td>yearly</td>\n",
       "      <td>2017</td>\n",
       "      <td>eps_fc_terms</td>\n",
       "    </tr>\n",
       "    <tr>\n",
       "      <th>35219</th>\n",
       "      <td>374</td>\n",
       "      <td>0.274000</td>\n",
       "      <td>yearly</td>\n",
       "      <td>2002</td>\n",
       "      <td>eps_fc_terms</td>\n",
       "    </tr>\n",
       "    <tr>\n",
       "      <th>35870</th>\n",
       "      <td>15</td>\n",
       "      <td>0.747500</td>\n",
       "      <td>yearly</td>\n",
       "      <td>2004</td>\n",
       "      <td>eps_fc_terms</td>\n",
       "    </tr>\n",
       "    <tr>\n",
       "      <th>43981</th>\n",
       "      <td>46</td>\n",
       "      <td>1.074190</td>\n",
       "      <td>quarterly</td>\n",
       "      <td>q1</td>\n",
       "      <td>eps_fc</td>\n",
       "    </tr>\n",
       "    <tr>\n",
       "      <th>46327</th>\n",
       "      <td>372</td>\n",
       "      <td>0.018929</td>\n",
       "      <td>quarterly</td>\n",
       "      <td>q1</td>\n",
       "      <td>eps_act</td>\n",
       "    </tr>\n",
       "  </tbody>\n",
       "</table>\n",
       "</div>"
      ],
      "text/plain": [
       "       firm_id   average average_type time_period       feature\n",
       "42608      188  0.631500       yearly        2017  eps_fc_terms\n",
       "35219      374  0.274000       yearly        2002  eps_fc_terms\n",
       "35870       15  0.747500       yearly        2004  eps_fc_terms\n",
       "43981       46  1.074190    quarterly          q1        eps_fc\n",
       "46327      372  0.018929    quarterly          q1       eps_act"
      ]
     },
     "execution_count": 32,
     "metadata": {},
     "output_type": "execute_result"
    }
   ],
   "source": [
    "avgs.sample(5)"
   ]
  },
  {
   "cell_type": "code",
   "execution_count": 36,
   "metadata": {},
   "outputs": [
    {
     "name": "stdout",
     "output_type": "stream",
     "text": [
      "FEATURES rows, columns = (167660, 5) \n",
      " AVERAGES rows, columns = (52015, 5)\n"
     ]
    }
   ],
   "source": [
    "print('FEATURES rows, columns = {}'.format(features.shape), '\\n',\n",
    "      'AVERAGES rows, columns = {}'.format(avgs.shape))"
   ]
  },
  {
   "cell_type": "markdown",
   "metadata": {},
   "source": [
    "# III) Exploration <a id=\"explore\"> </a>\n",
    "\n",
    "## A) Univariate <a id = \"uni\"></a>\n",
    "\n",
    "### MISSING VALUES (Features)\n",
    "\n",
    "***Total***"
   ]
  },
  {
   "cell_type": "code",
   "execution_count": 46,
   "metadata": {},
   "outputs": [],
   "source": [
    "def generate_missing_total(df, title_name, save_path, csv_name):\n",
    "    plt.figure(figsize = [10, 5])\n",
    "    plt.title('Missing Values per Column under ' + title_name, size = 20)\n",
    "    na_counts = df.isna().sum().sort_values(ascending = True)\n",
    "    \n",
    "    na_counts.plot.barh(x = na_counts.values, y = na_counts.index);\n",
    "    plt.xlabel('Count', size = 10)\n",
    "    plt.ylabel('Column Name', size = 10)\n",
    "    plt.savefig(save_path + csv_name)"
   ]
  },
  {
   "cell_type": "code",
   "execution_count": 43,
   "metadata": {},
   "outputs": [
    {
     "data": {
      "text/plain": [
       "firm_id    False\n",
       "feature    False\n",
       "date        True\n",
       "term       False\n",
       "value       True\n",
       "dtype: bool"
      ]
     },
     "execution_count": 43,
     "metadata": {},
     "output_type": "execute_result"
    }
   ],
   "source": [
    "features.isna().any()"
   ]
  },
  {
   "cell_type": "code",
   "execution_count": 49,
   "metadata": {},
   "outputs": [
    {
     "data": {
      "image/png": "[encoded data removed]",
      "text/plain": [
       "<Figure size 720x360 with 1 Axes>"
      ]
     },
     "metadata": {
      "needs_background": "light"
     },
     "output_type": "display_data"
    }
   ],
   "source": [
    "generate_missing_total(features, 'Features', PATH_UNIVARIATE, 'features-missing-total.png')"
   ]
  },
  {
   "cell_type": "markdown",
   "metadata": {},
   "source": [
    "***firm_id***"
   ]
  },
  {
   "cell_type": "markdown",
   "metadata": {},
   "source": [
    "***feature***"
   ]
  },
  {
   "cell_type": "markdown",
   "metadata": {},
   "source": [
    "***date***"
   ]
  },
  {
   "cell_type": "markdown",
   "metadata": {},
   "source": [
    "***term***"
   ]
  },
  {
   "cell_type": "markdown",
   "metadata": {},
   "source": [
    "***value***"
   ]
  },
  {
   "cell_type": "markdown",
   "metadata": {},
   "source": [
    "### Missing Values (Averages)"
   ]
  },
  {
   "cell_type": "markdown",
   "metadata": {},
   "source": [
    "***Total***"
   ]
  },
  {
   "cell_type": "markdown",
   "metadata": {},
   "source": [
    "***firm_id***"
   ]
  },
  {
   "cell_type": "markdown",
   "metadata": {},
   "source": [
    "***average***"
   ]
  },
  {
   "cell_type": "markdown",
   "metadata": {},
   "source": [
    "***average_type***"
   ]
  },
  {
   "cell_type": "markdown",
   "metadata": {},
   "source": [
    "***time_period***"
   ]
  },
  {
   "cell_type": "markdown",
   "metadata": {},
   "source": [
    "***feature***"
   ]
  },
  {
   "cell_type": "code",
   "execution_count": 48,
   "metadata": {},
   "outputs": [
    {
     "data": {
      "image/png": "[encoded data removed]",
      "text/plain": [
       "<Figure size 720x360 with 1 Axes>"
      ]
     },
     "metadata": {
      "needs_background": "light"
     },
     "output_type": "display_data"
    }
   ],
   "source": [
    "#averages\n",
    "generate_missing_total(avgs, 'Averages', PATH_UNIVARIATE, 'avgs-missing-total.png')"
   ]
  },
  {
   "cell_type": "markdown",
   "metadata": {},
   "source": [
    "**Missing Values (averages)**"
   ]
  },
  {
   "cell_type": "markdown",
   "metadata": {},
   "source": [
    "## IV) Bivariate Exploration<a id = \"bi\"></a>"
   ]
  },
  {
   "cell_type": "markdown",
   "metadata": {},
   "source": [
    "## V) Multivariate Exploration <a id=\"multi\"></a>"
   ]
  }
 ],
 "metadata": {
  "kernelspec": {
   "display_name": "Python 3",
   "language": "python",
   "name": "python3"
  },
  "language_info": {
   "codemirror_mode": {
    "name": "ipython",
    "version": 3
   },
   "file_extension": ".py",
   "mimetype": "text/x-python",
   "name": "python",
   "nbconvert_exporter": "python",
   "pygments_lexer": "ipython3",
   "version": "3.7.3"
  }
 },
 "nbformat": 4,
 "nbformat_minor": 2
}
