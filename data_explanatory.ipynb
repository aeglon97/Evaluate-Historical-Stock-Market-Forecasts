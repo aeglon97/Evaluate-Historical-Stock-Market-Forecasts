{
 "cells": [
  {
   "cell_type": "markdown",
   "metadata": {
    "slideshow": {
     "slide_type": "slide"
    }
   },
   "source": [
    "# Exploring the Stock Market through Bloomberg Terminals: An Analysis of Historical Forecast Accuracy for All Firms in the 2019 S&P 500 Index\n",
    "\n",
    "### by Marc Angelo Acebedo"
   ]
  },
  {
   "cell_type": "markdown",
   "metadata": {
    "slideshow": {
     "slide_type": "slide"
    }
   },
   "source": [
    "## Investigation Overview"
   ]
  },
  {
   "cell_type": "markdown",
   "metadata": {
    "slideshow": {
     "slide_type": "subslide"
    }
   },
   "source": [
    "> Through using Bloomberg Excel functions, I gathered the following 4 stock price data for all firms in the 2019 S&P Index from 1999 - 2019:\n",
    "\n",
    "- Actual EPS\n",
    "- Forecasted EPS\n",
    "- EOD Price\n",
    "- Forecasted EPS (made 3 months prior)\n",
    "\n",
    "For a general picture, I wanted to see how accurate **forecasted EPS** values were to their corresponding **actual EPS** values."
   ]
  },
  {
   "cell_type": "markdown",
   "metadata": {
    "slideshow": {
     "slide_type": "slide"
    }
   },
   "source": [
    "## Dataset Overview"
   ]
  },
  {
   "cell_type": "markdown",
   "metadata": {},
   "source": [
    "The main dataset in question, **features.csv**, consists of 167,660 entries with 5 columns. \n",
    "\n",
    "The other dataset in question, **avgs.csv**, contains 52,015 with 5 columns. The quantitative values in this dataset consist of yearly, quarterly, and twenty-year *averages* extracted from the previous *features.csv* dataset.\n",
    "\n",
    "Lastly, **firms.csv** assigns each firm abbreviation with firm ID as the primary key. "
   ]
  },
  {
   "cell_type": "code",
   "execution_count": 1,
   "metadata": {
    "slideshow": {
     "slide_type": "slide"
    }
   },
   "outputs": [],
   "source": [
    "import pandas as pd\n",
    "import numpy as np\n",
    "import matplotlib.pyplot as plt\n",
    "import seaborn as sb\n",
    "\n",
    "#display png files\n",
    "from IPython.display import Image\n",
    "\n",
    "import warnings\n",
    "warnings.simplefilter('ignore')"
   ]
  },
  {
   "cell_type": "markdown",
   "metadata": {
    "slideshow": {
     "slide_type": "slide"
    }
   },
   "source": [
    "## Question 1\n",
    "> Does average EPS prediction error depict any differences in trends among a yearly, quarterly, and full-term basis?"
   ]
  },
  {
   "cell_type": "markdown",
   "metadata": {},
   "source": [
    "## Question 2\n",
    "> I generate \"dumb EPS forecasts\" by calculating the rolling mean of the 2 actual EPS values from the past 2 quarters. How do my forecasted EPS forecasts compare to Bloomberg's EPS forecasts?"
   ]
  },
  {
   "cell_type": "markdown",
   "metadata": {},
   "source": [
    "## Question 3:\n",
    "\n",
    "> What differences/similarities emerge when analyzing the prediction error and percentage error of EPS forecasts?"
   ]
  },
  {
   "cell_type": "markdown",
   "metadata": {},
   "source": [
    "## Question 4:\n",
    "\n",
    "> Does statistical significance stay true in the relationship between actual and forecasted EPS, regardless of forecasted EPS type (yearly, quarterly, twenty-year, and raw data)?"
   ]
  },
  {
   "cell_type": "markdown",
   "metadata": {},
   "source": [
    "## Question 5\n",
    "\n",
    "> How do EOD prices trend across all firms from 1999 - 2019?"
   ]
  }
 ],
 "metadata": {
  "celltoolbar": "Slideshow",
  "kernelspec": {
   "display_name": "Python 3",
   "language": "python",
   "name": "python3"
  },
  "language_info": {
   "codemirror_mode": {
    "name": "ipython",
    "version": 3
   },
   "file_extension": ".py",
   "mimetype": "text/x-python",
   "name": "python",
   "nbconvert_exporter": "python",
   "pygments_lexer": "ipython3",
   "version": "3.7.3"
  }
 },
 "nbformat": 4,
 "nbformat_minor": 2
}
